{
  "nbformat": 4,
  "nbformat_minor": 0,
  "metadata": {
    "colab": {
      "name": "[Estatística04] Trabalho Final.ipynb",
      "provenance": [],
      "collapsed_sections": [],
      "toc_visible": true,
      "authorship_tag": "ABX9TyMpCCL1NUKorgPiapvYwsDe",
      "include_colab_link": true
    },
    "kernelspec": {
      "name": "python3",
      "display_name": "Python 3"
    }
  },
  "cells": [
    {
      "cell_type": "markdown",
      "metadata": {
        "id": "view-in-github",
        "colab_type": "text"
      },
      "source": [
        "<a href=\"https://colab.research.google.com/github/bmnds/uea-data-science-03-statistics/blob/main/%5BEstat%C3%ADstica04%5D_Trabalho_Final.ipynb\" target=\"_parent\"><img src=\"https://colab.research.google.com/assets/colab-badge.svg\" alt=\"Open In Colab\"/></a>"
      ]
    },
    {
      "cell_type": "markdown",
      "metadata": {
        "id": "sR3D_q5Q-Cdt"
      },
      "source": [
        "# Trabalho Final da Disciplina de Estatística do Curso de Pós-Graduação em Ciência de Dados da UEA-AM\n",
        "**Grupo:** Alberto, Bruno, Lelson e Levi\n",
        "\n",
        "## O Trabalho\n",
        "* Definir um tema e os objetivos a serem analisados \n",
        "* Escolheru m dataframe com no mínimo cinco campos e 25 linhas, dos quais pelo menos dois devem ser numéricos\n",
        "* Realizar um levantamento amostral atendendo a todos os critérios de avaliação\n",
        "\n",
        "## A Avaliação\n",
        "1. [ ] Construir tabelas e gráficos apropriados para cada variável do data frame\n",
        "2. [ ] Calcular a média, mediana, moda, desvio-padrão, coeficiente de variação\n",
        "e simetria das variáveis quantitativas\n",
        "3. [ ] Analisar a normalidade dos dados numéricos e se existe a presença de\n",
        "outliers\n",
        "4. [ ] Comparar as variáveis quantitativas e descrever qual é mais homogênea\n",
        "5. [ ] Calcular os respectivos Intervalos de Confiança ao nível de 95% para cada\n",
        "campo do data frame\n",
        "6. [ ] Comparar a média de um campo numérico em relação a um campo\n",
        "categórico e responder se existe diferença estatística ao nível de 5% de significância\n",
        "7. [ ] Realizar um cruzamento de dois campos categóricos e responder se existe\n",
        "diferença estatística ao nível de 5% de significância.\n"
      ]
    },
    {
      "cell_type": "code",
      "metadata": {
        "id": "0QYLklCn97Iq"
      },
      "source": [
        "# Pacotes necessários\n",
        "from six.moves import urllib\n",
        "from scipy import stats\n",
        "from scipy.stats import binom, nbinom, poisson, uniform, expon, norm \n",
        "import pandas as pd\n",
        "import statsmodels.stats.proportion as smp\n",
        "import numpy as np\n",
        "import matplotlib.pyplot as plt\n",
        "import seaborn as sea\n",
        "import statistics as st"
      ],
      "execution_count": 2,
      "outputs": []
    },
    {
      "cell_type": "code",
      "metadata": {
        "id": "LTRIjN9GEyVG"
      },
      "source": [
        "# Mudança da semente aleatória randômica para manter os resultados em várias execuções\n",
        "np.random.seed(20201109)"
      ],
      "execution_count": 6,
      "outputs": []
    },
    {
      "cell_type": "markdown",
      "metadata": {
        "id": "ijjzHRnhDeS3"
      },
      "source": [
        "# Dataset de Ocorrências Aeronáuticas da Aviação Civil Brasileira\n",
        "Dados fornecidos pelo [CENIPA](https://dados.gov.br/dataset/ocorrencias-aeronauticas-da-aviacao-civil-brasileira)"
      ]
    },
    {
      "cell_type": "code",
      "metadata": {
        "id": "ZFbOjHYWRt12",
        "outputId": "8587069a-b9dc-4148-804d-4a7018e25d0c",
        "colab": {
          "base_uri": "https://localhost:8080/"
        }
      },
      "source": [
        "# Download do dataset\n",
        "urllib.request.urlretrieve('https://drive.google.com/uc?export=download&id=1jHYzLvKBRcoBWMbDgKqsU969sep-N8sq','cenipa.tar.gz')\n",
        "!tar -zxvf cenipa.tar.gz\n",
        "!rm cenipa.tar.gz"
      ],
      "execution_count": 38,
      "outputs": [
        {
          "output_type": "stream",
          "text": [
            "cenipa/\n",
            "cenipa/aeronave.csv\n",
            "cenipa/fator_contribuinte.csv\n",
            "cenipa/ocorrencia.csv\n",
            "cenipa/recomendacao.csv\n"
          ],
          "name": "stdout"
        }
      ]
    },
    {
      "cell_type": "code",
      "metadata": {
        "id": "RR4BLpXvCvx7",
        "outputId": "22ca56e1-5f95-4ee5-fb25-3853e29af49d",
        "colab": {
          "base_uri": "https://localhost:8080/"
        }
      },
      "source": [
        "bd_aeronave = pd.read_csv('cenipa/aeronave.csv',sep=';',decimal='.',encoding='iso-8859-1')\n",
        "bd_aeronave.info()"
      ],
      "execution_count": 39,
      "outputs": [
        {
          "output_type": "stream",
          "text": [
            "<class 'pandas.core.frame.DataFrame'>\n",
            "RangeIndex: 5307 entries, 0 to 5306\n",
            "Data columns (total 23 columns):\n",
            " #   Column                       Non-Null Count  Dtype  \n",
            "---  ------                       --------------  -----  \n",
            " 0   codigo_ocorrencia2           5307 non-null   int64  \n",
            " 1   aeronave_matricula           5307 non-null   object \n",
            " 2   aeronave_operador_categoria  5307 non-null   object \n",
            " 3   aeronave_tipo_veiculo        5307 non-null   object \n",
            " 4   aeronave_fabricante          5307 non-null   object \n",
            " 5   aeronave_modelo              5307 non-null   object \n",
            " 6   aeronave_tipo_icao           5307 non-null   object \n",
            " 7   aeronave_motor_tipo          5307 non-null   object \n",
            " 8   aeronave_motor_quantidade    5307 non-null   object \n",
            " 9   aeronave_pmd                 5307 non-null   int64  \n",
            " 10  aeronave_pmd_categoria       5307 non-null   int64  \n",
            " 11  aeronave_assentos            5182 non-null   float64\n",
            " 12  aeronave_ano_fabricacao      5189 non-null   float64\n",
            " 13  aeronave_pais_fabricante     5307 non-null   object \n",
            " 14  aeronave_pais_registro       5307 non-null   object \n",
            " 15  aeronave_registro_categoria  5307 non-null   object \n",
            " 16  aeronave_registro_segmento   5307 non-null   object \n",
            " 17  aeronave_voo_origem          5307 non-null   object \n",
            " 18  aeronave_voo_destino         5307 non-null   object \n",
            " 19  aeronave_fase_operacao       5307 non-null   object \n",
            " 20  aeronave_tipo_operacao       5307 non-null   object \n",
            " 21  aeronave_nivel_dano          5307 non-null   object \n",
            " 22  aeronave_fatalidades_total   5307 non-null   int64  \n",
            "dtypes: float64(2), int64(4), object(17)\n",
            "memory usage: 953.7+ KB\n"
          ],
          "name": "stdout"
        }
      ]
    },
    {
      "cell_type": "code",
      "metadata": {
        "id": "m7olgqqBJqez",
        "outputId": "d7855a8a-6b27-415b-cec4-c5ffedaaacec",
        "colab": {
          "base_uri": "https://localhost:8080/"
        }
      },
      "source": [
        "bd_fator_contribuinte = pd.read_csv('cenipa/fator_contribuinte.csv',sep=';',decimal='.',encoding='iso-8859-1')\n",
        "bd_fator_contribuinte.info()"
      ],
      "execution_count": 40,
      "outputs": [
        {
          "output_type": "stream",
          "text": [
            "<class 'pandas.core.frame.DataFrame'>\n",
            "RangeIndex: 3717 entries, 0 to 3716\n",
            "Data columns (total 5 columns):\n",
            " #   Column               Non-Null Count  Dtype \n",
            "---  ------               --------------  ----- \n",
            " 0   codigo_ocorrencia3   3717 non-null   int64 \n",
            " 1   fator_nome           3717 non-null   object\n",
            " 2   fator_aspecto        3717 non-null   object\n",
            " 3   fator_condicionante  3717 non-null   object\n",
            " 4   fator_area           3717 non-null   object\n",
            "dtypes: int64(1), object(4)\n",
            "memory usage: 145.3+ KB\n"
          ],
          "name": "stdout"
        }
      ]
    },
    {
      "cell_type": "code",
      "metadata": {
        "id": "CoiwmsiLJyEp",
        "outputId": "874823bf-b66a-4f31-a614-6396b3cf3ef3",
        "colab": {
          "base_uri": "https://localhost:8080/"
        }
      },
      "source": [
        "bd_ocorrencia = pd.read_csv('cenipa/ocorrencia.csv',sep=';',decimal='.',encoding='iso-8859-1')\n",
        "bd_ocorrencia.info()\n"
      ],
      "execution_count": 41,
      "outputs": [
        {
          "output_type": "stream",
          "text": [
            "<class 'pandas.core.frame.DataFrame'>\n",
            "RangeIndex: 5245 entries, 0 to 5244\n",
            "Data columns (total 22 columns):\n",
            " #   Column                          Non-Null Count  Dtype \n",
            "---  ------                          --------------  ----- \n",
            " 0   codigo_ocorrencia               5245 non-null   int64 \n",
            " 1   codigo_ocorrencia1              5245 non-null   int64 \n",
            " 2   codigo_ocorrencia2              5245 non-null   int64 \n",
            " 3   codigo_ocorrencia3              5245 non-null   int64 \n",
            " 4   codigo_ocorrencia4              5245 non-null   int64 \n",
            " 5   ocorrencia_classificacao        5245 non-null   object\n",
            " 6   ocorrencia_latitude             3549 non-null   object\n",
            " 7   ocorrencia_longitude            3548 non-null   object\n",
            " 8   ocorrencia_cidade               5245 non-null   object\n",
            " 9   ocorrencia_uf                   5245 non-null   object\n",
            " 10  ocorrencia_pais                 5245 non-null   object\n",
            " 11  ocorrencia_aerodromo            5245 non-null   object\n",
            " 12  ocorrencia_dia                  5245 non-null   object\n",
            " 13  ocorrencia_hora                 5236 non-null   object\n",
            " 14  investigacao_aeronave_liberada  4520 non-null   object\n",
            " 15  investigacao_status             4887 non-null   object\n",
            " 16  divulgacao_relatorio_numero     4332 non-null   object\n",
            " 17  divulgacao_relatorio_publicado  5245 non-null   object\n",
            " 18  divulgacao_dia_publicacao       1099 non-null   object\n",
            " 19  total_recomendacoes             5245 non-null   int64 \n",
            " 20  total_aeronaves_envolvidas      5245 non-null   int64 \n",
            " 21  ocorrencia_saida_pista          5245 non-null   object\n",
            "dtypes: int64(7), object(15)\n",
            "memory usage: 901.6+ KB\n"
          ],
          "name": "stdout"
        }
      ]
    },
    {
      "cell_type": "code",
      "metadata": {
        "id": "2_LM4hstJzww",
        "outputId": "6c7da210-ab3e-4836-fd9c-6400ded32844",
        "colab": {
          "base_uri": "https://localhost:8080/"
        }
      },
      "source": [
        "bd_recomendacao = pd.read_csv('cenipa/recomendacao.csv',sep=';',decimal='.',encoding='iso-8859-1')\n",
        "bd_recomendacao.info()"
      ],
      "execution_count": 42,
      "outputs": [
        {
          "output_type": "stream",
          "text": [
            "<class 'pandas.core.frame.DataFrame'>\n",
            "RangeIndex: 8241 entries, 0 to 8240\n",
            "Data columns (total 9 columns):\n",
            " #   Column                  Non-Null Count  Dtype  \n",
            "---  ------                  --------------  -----  \n",
            " 0   codigo_ocorrencia       8226 non-null   float64\n",
            " 1   rec_numero              8241 non-null   object \n",
            " 2   rec_dia_assinatura      8232 non-null   object \n",
            " 3   rec_dia_encaminhamento  2636 non-null   object \n",
            " 4   rec_dia_feedback        5499 non-null   object \n",
            " 5   rec_status              8241 non-null   object \n",
            " 6   rec_dest_sigla          8241 non-null   object \n",
            " 7   rec_dest_nome           8241 non-null   object \n",
            " 8   rec_conteudo            8240 non-null   object \n",
            "dtypes: float64(1), object(8)\n",
            "memory usage: 579.6+ KB\n"
          ],
          "name": "stdout"
        }
      ]
    },
    {
      "cell_type": "markdown",
      "metadata": {
        "id": "2kg1W1HvQz5n"
      },
      "source": [
        "# Dataset das Eleições Presidenciais dos Estados Unidos 2020\n",
        "Fontes dos dados:\n",
        "* https://www.kaggle.com/daithibhard/us-electoral-college-votes-per-state-17882020\n",
        "* https://www.kaggle.com/unanimad/us-election-2020\n",
        "\n",
        "Explicação sobre o funcionamento do processo eleitoral dos EUA:\n",
        "* https://www.usa.gov/election\n",
        "\n",
        "Sugestões de análises:\n",
        "* https://www.nbcnews.com/politics/2020-elections/president-results\n",
        "* https://www.kaggle.com/amitkumarmanjhi/us-election-2020-result-analysis"
      ]
    },
    {
      "cell_type": "code",
      "metadata": {
        "id": "lAe0mFiQQzHc",
        "outputId": "0e7a0b4e-398a-40bc-a22e-5fdab19ffe4a",
        "colab": {
          "base_uri": "https://localhost:8080/"
        }
      },
      "source": [
        "# Download do dataset\n",
        "urllib.request.urlretrieve('https://drive.google.com/uc?export=download&id=1I4Hvc3wEsYuRNkinkAyY7LqcpVOLF9-O','us_elections.tar.gz')\n",
        "!tar -zxvf us_elections.tar.gz\n",
        "!rm us_elections.tar.gz"
      ],
      "execution_count": 37,
      "outputs": [
        {
          "output_type": "stream",
          "text": [
            "us_elections/\n",
            "us_elections/Electoral_College.csv\n",
            "us_elections/fontes.txt\n",
            "us_elections/governors_county.csv\n",
            "us_elections/governors_county_candidate.csv\n",
            "us_elections/governors_state.csv\n",
            "us_elections/house_county.csv\n",
            "us_elections/house_county_candidate.csv\n",
            "us_elections/house_state.csv\n",
            "us_elections/president_county.csv\n",
            "us_elections/president_county_candidate.csv\n",
            "us_elections/president_state.csv\n",
            "us_elections/senate_county.csv\n",
            "us_elections/senate_county_candidate.csv\n",
            "us_elections/senate_state.csv\n"
          ],
          "name": "stdout"
        }
      ]
    },
    {
      "cell_type": "code",
      "metadata": {
        "id": "JkAd6kXVSxot",
        "outputId": "000c1391-ce1a-4439-ca43-b49a976f9dc2",
        "colab": {
          "base_uri": "https://localhost:8080/"
        }
      },
      "source": [
        "# Nos EUA, cada Estado possui um 'Peso' na votação representado pela quantidade de 'Ellectors' do colégio eleitoral\n",
        "db_electoral = pd.read_csv('us_elections/Electoral_College.csv')\n",
        "# Define a representatividade de cada Estado em percentual\n",
        "db_electoral['Pct'] = (100* db_electoral.Votes / db_electoral.groupby('Year').Votes.transform(sum))\n",
        "# O nosso interesse é nos valores de 2020\n",
        "db_electoral_2020 = db_electoral[db_electoral.Year.eq(2020)]\n",
        "db_electoral_2020.info()"
      ],
      "execution_count": 70,
      "outputs": [
        {
          "output_type": "stream",
          "text": [
            "<class 'pandas.core.frame.DataFrame'>\n",
            "Int64Index: 51 entries, 58 to 3008\n",
            "Data columns (total 4 columns):\n",
            " #   Column  Non-Null Count  Dtype  \n",
            "---  ------  --------------  -----  \n",
            " 0   Year    51 non-null     int64  \n",
            " 1   State   51 non-null     object \n",
            " 2   Votes   51 non-null     float64\n",
            " 3   Pct     51 non-null     float64\n",
            "dtypes: float64(2), int64(1), object(1)\n",
            "memory usage: 2.0+ KB\n"
          ],
          "name": "stdout"
        }
      ]
    },
    {
      "cell_type": "code",
      "metadata": {
        "id": "XbdMnY0qT8gM",
        "outputId": "68d96820-c9ff-4d11-c8a0-59cdfefcb034",
        "colab": {
          "base_uri": "https://localhost:8080/",
          "height": 270
        }
      },
      "source": [
        "print('Estados com maior representatividade em 2020')\n",
        "db_electoral_2020.sort_values('Votes', ascending=False).head(7)"
      ],
      "execution_count": 77,
      "outputs": [
        {
          "output_type": "stream",
          "text": [
            "Estados com maior representatividade em 2020\n"
          ],
          "name": "stdout"
        },
        {
          "output_type": "execute_result",
          "data": {
            "text/html": [
              "<div>\n",
              "<style scoped>\n",
              "    .dataframe tbody tr th:only-of-type {\n",
              "        vertical-align: middle;\n",
              "    }\n",
              "\n",
              "    .dataframe tbody tr th {\n",
              "        vertical-align: top;\n",
              "    }\n",
              "\n",
              "    .dataframe thead th {\n",
              "        text-align: right;\n",
              "    }\n",
              "</style>\n",
              "<table border=\"1\" class=\"dataframe\">\n",
              "  <thead>\n",
              "    <tr style=\"text-align: right;\">\n",
              "      <th></th>\n",
              "      <th>Year</th>\n",
              "      <th>State</th>\n",
              "      <th>Votes</th>\n",
              "      <th>Pct</th>\n",
              "    </tr>\n",
              "  </thead>\n",
              "  <tbody>\n",
              "    <tr>\n",
              "      <th>294</th>\n",
              "      <td>2020</td>\n",
              "      <td>California</td>\n",
              "      <td>55.0</td>\n",
              "      <td>10.223048</td>\n",
              "    </tr>\n",
              "    <tr>\n",
              "      <th>2595</th>\n",
              "      <td>2020</td>\n",
              "      <td>Texas</td>\n",
              "      <td>38.0</td>\n",
              "      <td>7.063197</td>\n",
              "    </tr>\n",
              "    <tr>\n",
              "      <th>589</th>\n",
              "      <td>2020</td>\n",
              "      <td>Florida</td>\n",
              "      <td>29.0</td>\n",
              "      <td>5.390335</td>\n",
              "    </tr>\n",
              "    <tr>\n",
              "      <th>1946</th>\n",
              "      <td>2020</td>\n",
              "      <td>New York</td>\n",
              "      <td>29.0</td>\n",
              "      <td>5.390335</td>\n",
              "    </tr>\n",
              "    <tr>\n",
              "      <th>825</th>\n",
              "      <td>2020</td>\n",
              "      <td>Illinois</td>\n",
              "      <td>20.0</td>\n",
              "      <td>3.717472</td>\n",
              "    </tr>\n",
              "    <tr>\n",
              "      <th>2300</th>\n",
              "      <td>2020</td>\n",
              "      <td>Pennsylvania</td>\n",
              "      <td>20.0</td>\n",
              "      <td>3.717472</td>\n",
              "    </tr>\n",
              "    <tr>\n",
              "      <th>2123</th>\n",
              "      <td>2020</td>\n",
              "      <td>Ohio</td>\n",
              "      <td>18.0</td>\n",
              "      <td>3.345725</td>\n",
              "    </tr>\n",
              "  </tbody>\n",
              "</table>\n",
              "</div>"
            ],
            "text/plain": [
              "      Year         State  Votes        Pct\n",
              "294   2020    California   55.0  10.223048\n",
              "2595  2020         Texas   38.0   7.063197\n",
              "589   2020       Florida   29.0   5.390335\n",
              "1946  2020      New York   29.0   5.390335\n",
              "825   2020      Illinois   20.0   3.717472\n",
              "2300  2020  Pennsylvania   20.0   3.717472\n",
              "2123  2020          Ohio   18.0   3.345725"
            ]
          },
          "metadata": {
            "tags": []
          },
          "execution_count": 77
        }
      ]
    }
  ]
}