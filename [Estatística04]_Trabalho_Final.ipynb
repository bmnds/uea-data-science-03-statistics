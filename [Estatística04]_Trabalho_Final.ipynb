{
  "nbformat": 4,
  "nbformat_minor": 0,
  "metadata": {
    "colab": {
      "name": "[Estatística04]_Trabalho_Final (1).ipynb",
      "provenance": [],
      "collapsed_sections": [],
      "toc_visible": true,
      "include_colab_link": true
    },
    "kernelspec": {
      "name": "python3",
      "display_name": "Python 3"
    }
  },
  "cells": [
    {
      "cell_type": "markdown",
      "metadata": {
        "id": "view-in-github",
        "colab_type": "text"
      },
      "source": [
        "<a href=\"https://colab.research.google.com/github/bmnds/uea-data-science-03-statistics/blob/main/%5BEstat%C3%ADstica04%5D_Trabalho_Final.ipynb\" target=\"_parent\"><img src=\"https://colab.research.google.com/assets/colab-badge.svg\" alt=\"Open In Colab\"/></a>"
      ]
    },
    {
      "cell_type": "markdown",
      "metadata": {
        "id": "sR3D_q5Q-Cdt"
      },
      "source": [
        "# Trabalho Final da Disciplina de Estatística do Curso de Pós-Graduação em Ciência de Dados da UEA-AM\n",
        "**Grupo:** Alberto, Bruno, Lelson e Levi\n",
        "\n",
        "## O Trabalho\n",
        "* Definir um tema e os objetivos a serem analisados \n",
        "* Escolher um dataframe com no mínimo cinco campos e 25 linhas, dos quais pelo menos dois devem ser numéricos\n",
        "* Realizar um levantamento amostral atendendo a todos os critérios de avaliação\n",
        "\n",
        "## A Avaliação\n",
        "1. [ ] Construir tabelas e gráficos apropriados para cada variável do data frame\n",
        "2. [ ] Calcular a média, mediana, moda, desvio-padrão, coeficiente de variação\n",
        "e simetria das variáveis quantitativas\n",
        "3. [ ] Analisar a normalidade dos dados numéricos e se existe a presença de\n",
        "outliers\n",
        "4. [ ] Comparar as variáveis quantitativas e descrever qual é mais homogênea\n",
        "5. [ ] Calcular os respectivos Intervalos de Confiança ao nível de 95% para cada\n",
        "campo do data frame\n",
        "6. [ ] Comparar a média de um campo numérico em relação a um campo\n",
        "categórico e responder se existe diferença estatística ao nível de 5% de significância\n",
        "7. [ ] Realizar um cruzamento de dois campos categóricos e responder se existe\n",
        "diferença estatística ao nível de 5% de significância.\n"
      ]
    },
    {
      "cell_type": "code",
      "metadata": {
        "id": "0QYLklCn97Iq",
        "outputId": "218274ce-a318-4dab-c448-9c69fda8e6eb",
        "colab": {
          "base_uri": "https://localhost:8080/"
        }
      },
      "source": [
        "# Pacotes necessários\n",
        "from six.moves import urllib\n",
        "from scipy import stats\n",
        "from scipy.stats import binom, nbinom, poisson, uniform, expon, t,norm\n",
        "import pandas as pd\n",
        "import statsmodels.stats.proportion as smp\n",
        "import numpy as np\n",
        "import matplotlib.pyplot as plt\n",
        "import seaborn as sea\n",
        "import statistics as st\n",
        "!pip install plotly_express\n",
        "import plotly_express as px\n",
        "from collections import Counter"
      ],
      "execution_count": 1,
      "outputs": [
        {
          "output_type": "stream",
          "text": [
            "/usr/local/lib/python3.6/dist-packages/statsmodels/tools/_testing.py:19: FutureWarning: pandas.util.testing is deprecated. Use the functions in the public API at pandas.testing instead.\n",
            "  import pandas.util.testing as tm\n"
          ],
          "name": "stderr"
        },
        {
          "output_type": "stream",
          "text": [
            "Requirement already satisfied: plotly_express in /usr/local/lib/python3.6/dist-packages (0.4.1)\n",
            "Requirement already satisfied: plotly>=4.1.0 in /usr/local/lib/python3.6/dist-packages (from plotly_express) (4.4.1)\n",
            "Requirement already satisfied: patsy>=0.5 in /usr/local/lib/python3.6/dist-packages (from plotly_express) (0.5.1)\n",
            "Requirement already satisfied: numpy>=1.11 in /usr/local/lib/python3.6/dist-packages (from plotly_express) (1.18.5)\n",
            "Requirement already satisfied: pandas>=0.20.0 in /usr/local/lib/python3.6/dist-packages (from plotly_express) (1.1.4)\n",
            "Requirement already satisfied: statsmodels>=0.9.0 in /usr/local/lib/python3.6/dist-packages (from plotly_express) (0.10.2)\n",
            "Requirement already satisfied: scipy>=0.18 in /usr/local/lib/python3.6/dist-packages (from plotly_express) (1.4.1)\n",
            "Requirement already satisfied: retrying>=1.3.3 in /usr/local/lib/python3.6/dist-packages (from plotly>=4.1.0->plotly_express) (1.3.3)\n",
            "Requirement already satisfied: six in /usr/local/lib/python3.6/dist-packages (from plotly>=4.1.0->plotly_express) (1.15.0)\n",
            "Requirement already satisfied: pytz>=2017.2 in /usr/local/lib/python3.6/dist-packages (from pandas>=0.20.0->plotly_express) (2018.9)\n",
            "Requirement already satisfied: python-dateutil>=2.7.3 in /usr/local/lib/python3.6/dist-packages (from pandas>=0.20.0->plotly_express) (2.8.1)\n"
          ],
          "name": "stdout"
        }
      ]
    },
    {
      "cell_type": "code",
      "metadata": {
        "id": "LTRIjN9GEyVG"
      },
      "source": [
        "# Mudança da semente aleatória randômica para manter os resultados em várias execuções\n",
        "np.random.seed(20201109)"
      ],
      "execution_count": 2,
      "outputs": []
    },
    {
      "cell_type": "markdown",
      "metadata": {
        "id": "2kg1W1HvQz5n"
      },
      "source": [
        "# Dataset das Eleições Presidenciais dos Estados Unidos 2020\n",
        "Fontes dos dados:\n",
        "* https://www.kaggle.com/daithibhard/us-electoral-college-votes-per-state-17882020\n",
        "* https://www.kaggle.com/unanimad/us-election-2020\n",
        "\n",
        "Explicação sobre o funcionamento do processo eleitoral dos EUA:\n",
        "* https://www.usa.gov/election\n",
        "\n",
        "Sugestões de análises:\n",
        "* https://www.nbcnews.com/politics/2020-elections/president-results\n",
        "* https://www.kaggle.com/amitkumarmanjhi/us-election-2020-result-analysis"
      ]
    },
    {
      "cell_type": "code",
      "metadata": {
        "id": "lAe0mFiQQzHc",
        "outputId": "c514265f-7219-4733-ce34-4599e51ea3f4",
        "colab": {
          "base_uri": "https://localhost:8080/"
        }
      },
      "source": [
        "# Download do dataset\n",
        "urllib.request.urlretrieve('https://drive.google.com/uc?export=download&id=1Sc1fEj9FL5G-xateXydh-CLN7vuRx8fT','us_elections.tar.gz')\n",
        "!tar -zxvf us_elections.tar.gz\n",
        "!rm us_elections.tar.gz"
      ],
      "execution_count": 49,
      "outputs": [
        {
          "output_type": "stream",
          "text": [
            "us_elections/\n",
            "us_elections/demografico-estados-unidos.csv\n",
            "us_elections/fontes.txt\n",
            "us_elections/president_county.csv\n",
            "us_elections/president_county_candidate.csv\n",
            "us_elections/president_state.csv\n",
            "us_elections/president_state_results.csv\n",
            "us_elections/sc-est2019-alldata6.csv\n"
          ],
          "name": "stdout"
        }
      ]
    },
    {
      "cell_type": "markdown",
      "metadata": {
        "id": "KH3HRi5xouLy"
      },
      "source": [
        "# Introdução"
      ]
    },
    {
      "cell_type": "markdown",
      "metadata": {
        "id": "ahqWiSkuh1Wp"
      },
      "source": [
        "Nos Estados Unidos, as eleições ocorrem de forma **indireta**. Os eleitores votam e delegam a escolha do presidente para os representantes de seu colégio eleitoral. Os representantes do colégio eleitoral, doravante denominados apenas como **delegados**, são quem, de fato, votam para presidente e definem o resultado das eleições. \n",
        "\n",
        "Os colégios eleitorais são compostos por cinquenta estados mais o distrito federal, _District of Columbia_, **totalizando 51 colégios eleitorais**. Cada colégio eleitoral possui uma quantidade de representantes definida com base na quantidade de congressistas, **totalizando, em 2020, 538 delegados**.\n",
        "\n",
        "Conforme explicado na [página oficial das eleições nos Estados Unidos](https://www.usa.gov/election), a metodologia para definição do novo presidente consiste, em:\n",
        "* Para cada estado, verificar o candidato que obteve a maioria simples dos votos dos eleitores;\n",
        "* Depois, somar a quantidade de delegados daquele estado ao total de votos do candidato.\n",
        "* A exceção são os estados de Maine e Nebraska, onde, além dos dois delegados que votam conforme a maioria simples, também há um delegado adicional para cada distrito eleitoral, sendo dois distritos em Maine e três em Nebraska, que devem ser contabilizados separadamente.\n",
        "\n",
        "Devido a natureza indireta das eleições, é possível que o candidato mais popular, ou seja, aquele que obteve a maioria dos votos da população, não seja o vencedor da eleição. Vide [imagem ilustrativa](https://imgk.timesnownews.com/media/Electoral_College_Votes_explainer.jpg)\n",
        "\n",
        "Em 2016, por exemplo, a candidata democrata Hillary Clinton obteve 2.8 milhões de votos de eleitores a mais do que o candidato republicano Donalt Trump. Mas Trump venceu as eleições por totalizar 304 votos de delegados, contra apenas 227 de Hillary. Fonte: [Os 5 candidatos mais populares que não foram eleitos](https://www.history.com/news/presidents-electoral-college-popular-vote)\n",
        "\n"
      ]
    },
    {
      "cell_type": "markdown",
      "metadata": {
        "id": "0eFI4UmKoyo6"
      },
      "source": [
        "# Visão geral dos dados"
      ]
    },
    {
      "cell_type": "markdown",
      "metadata": {
        "id": "AAop875wbqx_"
      },
      "source": [
        "Os dados escolhidos para a análise da votação presidencial dos Estados Unidos de 2020 estão disponíveis, em: [link para o dataset](https://www.kaggle.com/unanimad/us-election-2020).\n",
        "\n",
        "Eles foram baixados em 09/11 e representam o resultado parcial da eleição até 08/11.\n",
        "\n",
        "O conjunto de dados da eleição consiste em 3 arquivos, são eles:\n",
        "* **president_state.csv**, representando uma visão estadual da votação para presidente, com a base de delegados e o total de votos do estado;\n",
        "* **president_county.csv**, representando a visão a nível de condado da votação para presidente; \n",
        "* **president_county_candidate.csv**, representando o quantitativo de votos de cada candidato que estava concorrendo à presidência dentro de cada condado, bem como o seu partido eleitoral."
      ]
    },
    {
      "cell_type": "markdown",
      "metadata": {
        "id": "nLF3VlQnU7-S"
      },
      "source": [
        "O dataset **president_state.csv** consiste das colunas **votes**, totalizando a quantidade de votos daquele estado e  **electoral_vote**, indicando a quantidade de delegados daquele colégio eleitoral, bem como das colunas **party** representando o partido do governador atual do estado e **population** indicando a população estimada do estado."
      ]
    },
    {
      "cell_type": "code",
      "metadata": {
        "id": "cLZf5G7OLFiZ",
        "outputId": "ab77dd31-71e6-464b-9c40-f1c13e079f5c",
        "colab": {
          "base_uri": "https://localhost:8080/"
        }
      },
      "source": [
        "db_president_state = pd.read_csv('us_elections/president_state.csv')\n",
        "db_president_state.info()"
      ],
      "execution_count": 4,
      "outputs": [
        {
          "output_type": "stream",
          "text": [
            "<class 'pandas.core.frame.DataFrame'>\n",
            "RangeIndex: 51 entries, 0 to 50\n",
            "Data columns (total 6 columns):\n",
            " #   Column           Non-Null Count  Dtype \n",
            "---  ------           --------------  ----- \n",
            " 0   state            51 non-null     object\n",
            " 1   state_code       51 non-null     object\n",
            " 2   population       51 non-null     int64 \n",
            " 3   votes            51 non-null     int64 \n",
            " 4   party            51 non-null     object\n",
            " 5   electoral_votes  51 non-null     int64 \n",
            "dtypes: int64(3), object(3)\n",
            "memory usage: 2.5+ KB\n"
          ],
          "name": "stdout"
        }
      ]
    },
    {
      "cell_type": "markdown",
      "metadata": {
        "id": "T6Cp2m5LZrZ4"
      },
      "source": [
        "O dataset **president_county.csv** descreve a quantidade de votos por estado, **state**, e condado, **county**. Representa a quantidade total de votos por condado na coluna **total_votes** e a quantidade atual de votos já computados na coluna **current_votes**, bem como a porcentagem de votos apurados em relação ao total na coluna **percent**."
      ]
    },
    {
      "cell_type": "code",
      "metadata": {
        "id": "mpDRtC9-QAbC",
        "outputId": "f1543391-cdad-4a08-8782-bd9229eb61fe",
        "colab": {
          "base_uri": "https://localhost:8080/"
        }
      },
      "source": [
        "db_president_county = pd.read_csv('us_elections/president_county.csv')\n",
        "db_president_county.info()"
      ],
      "execution_count": 5,
      "outputs": [
        {
          "output_type": "stream",
          "text": [
            "<class 'pandas.core.frame.DataFrame'>\n",
            "RangeIndex: 4633 entries, 0 to 4632\n",
            "Data columns (total 5 columns):\n",
            " #   Column         Non-Null Count  Dtype \n",
            "---  ------         --------------  ----- \n",
            " 0   state          4633 non-null   object\n",
            " 1   county         4633 non-null   object\n",
            " 2   current_votes  4633 non-null   int64 \n",
            " 3   total_votes    4633 non-null   int64 \n",
            " 4   percent        4633 non-null   int64 \n",
            "dtypes: int64(3), object(2)\n",
            "memory usage: 181.1+ KB\n"
          ],
          "name": "stdout"
        }
      ]
    },
    {
      "cell_type": "markdown",
      "metadata": {
        "id": "lLUeRBk5VxLn"
      },
      "source": [
        "Esse dataset possui três colunas numéricas, **total_votes**, **current_votes**  e **percent**. Porém, também apresentou inconsistências, pois, a quantidade de votos computados foi maior do que a quantidade total de votos em alguns condados:"
      ]
    },
    {
      "cell_type": "code",
      "metadata": {
        "id": "YruteXiUWO1_",
        "outputId": "0336645e-f1d5-4eab-c330-1f5f25335a17",
        "colab": {
          "base_uri": "https://localhost:8080/"
        }
      },
      "source": [
        "db_inconsistent_president_county = db_president_county[db_president_county.apply(lambda row: row['current_votes'] > row['total_votes'], axis=1)].sort_values('percent', ascending=False)\n",
        "inconsistency = db_inconsistent_president_county.county.count() / db_president_county.county.count()\n",
        "print('Em ' + str(round(100*inconsistency,2)) + '% dos condados a quantidade atual de votos é maior que o total')"
      ],
      "execution_count": 6,
      "outputs": [
        {
          "output_type": "stream",
          "text": [
            "Em 35.23% dos condados a quantidade atual de votos é maior que o total\n"
          ],
          "name": "stdout"
        }
      ]
    },
    {
      "cell_type": "code",
      "metadata": {
        "id": "JrT3U4h-rS1m"
      },
      "source": [
        "#TODO projetar até quanto esse valor pode crescer até o final da eleição"
      ],
      "execution_count": 7,
      "outputs": []
    },
    {
      "cell_type": "markdown",
      "metadata": {
        "id": "Fda_UpyYp7c9"
      },
      "source": [
        "Para simplificar a análise, quando o valor de **current_votes** for maior uqe  **total_votes**, iremos modificar o total para ser igual ao valor corrente, caso contrário, não será possível estimar o vencedor da eleição."
      ]
    },
    {
      "cell_type": "code",
      "metadata": {
        "id": "XU3fopcdVrmZ",
        "outputId": "a5cf80a8-2bcf-43d2-ffba-41be4ee22d35",
        "colab": {
          "base_uri": "https://localhost:8080/",
          "height": 0
        }
      },
      "source": [
        "db_president_state_votes = db_president_county.groupby('state').sum().reset_index()\n",
        "db_president_state_votes.total_votes = db_president_state_votes.apply(lambda row: row['total_votes'] if row['total_votes'] > row['current_votes'] else row['current_votes'], axis=1)\n",
        "db_president_state_votes.percent = db_president_state_votes.apply(lambda row: 100 * row['current_votes'] / row['total_votes'], axis=1)\n",
        "db_president_state_votes.head()"
      ],
      "execution_count": 8,
      "outputs": [
        {
          "output_type": "execute_result",
          "data": {
            "text/html": [
              "<div>\n",
              "<style scoped>\n",
              "    .dataframe tbody tr th:only-of-type {\n",
              "        vertical-align: middle;\n",
              "    }\n",
              "\n",
              "    .dataframe tbody tr th {\n",
              "        vertical-align: top;\n",
              "    }\n",
              "\n",
              "    .dataframe thead th {\n",
              "        text-align: right;\n",
              "    }\n",
              "</style>\n",
              "<table border=\"1\" class=\"dataframe\">\n",
              "  <thead>\n",
              "    <tr style=\"text-align: right;\">\n",
              "      <th></th>\n",
              "      <th>state</th>\n",
              "      <th>current_votes</th>\n",
              "      <th>total_votes</th>\n",
              "      <th>percent</th>\n",
              "    </tr>\n",
              "  </thead>\n",
              "  <tbody>\n",
              "    <tr>\n",
              "      <th>0</th>\n",
              "      <td>Alabama</td>\n",
              "      <td>2309900</td>\n",
              "      <td>2309900</td>\n",
              "      <td>100.000000</td>\n",
              "    </tr>\n",
              "    <tr>\n",
              "      <th>1</th>\n",
              "      <td>Alaska</td>\n",
              "      <td>131885</td>\n",
              "      <td>366006</td>\n",
              "      <td>36.033562</td>\n",
              "    </tr>\n",
              "    <tr>\n",
              "      <th>2</th>\n",
              "      <td>Arizona</td>\n",
              "      <td>3322535</td>\n",
              "      <td>3403744</td>\n",
              "      <td>97.614127</td>\n",
              "    </tr>\n",
              "    <tr>\n",
              "      <th>3</th>\n",
              "      <td>Arkansas</td>\n",
              "      <td>1216818</td>\n",
              "      <td>1250053</td>\n",
              "      <td>97.341313</td>\n",
              "    </tr>\n",
              "    <tr>\n",
              "      <th>4</th>\n",
              "      <td>California</td>\n",
              "      <td>14414296</td>\n",
              "      <td>15813337</td>\n",
              "      <td>91.152778</td>\n",
              "    </tr>\n",
              "  </tbody>\n",
              "</table>\n",
              "</div>"
            ],
            "text/plain": [
              "        state  current_votes  total_votes     percent\n",
              "0     Alabama        2309900      2309900  100.000000\n",
              "1      Alaska         131885       366006   36.033562\n",
              "2     Arizona        3322535      3403744   97.614127\n",
              "3    Arkansas        1216818      1250053   97.341313\n",
              "4  California       14414296     15813337   91.152778"
            ]
          },
          "metadata": {
            "tags": []
          },
          "execution_count": 8
        }
      ]
    },
    {
      "cell_type": "markdown",
      "metadata": {
        "id": "iCjbCjsctPrF"
      },
      "source": [
        "Precisamos adicionar a coluna **remaining_votes** ao dataset para podermos verificar se ainda há chance do segundo colocado alcançar a maioria dos votos nos estados em que o primeiro colocado ainda não atingiu 50% ou mais de votos."
      ]
    },
    {
      "cell_type": "code",
      "metadata": {
        "id": "7a29MvOXtPBn",
        "outputId": "e2301dd9-ba36-4df6-a30b-7d7ac87c5703",
        "colab": {
          "base_uri": "https://localhost:8080/",
          "height": 0
        }
      },
      "source": [
        "db_president_state_votes['remaining_votes'] = db_president_state_votes.total_votes - db_president_state_votes.current_votes\n",
        "db_president_state_votes.sort_values('percent').head(5)"
      ],
      "execution_count": 9,
      "outputs": [
        {
          "output_type": "execute_result",
          "data": {
            "text/html": [
              "<div>\n",
              "<style scoped>\n",
              "    .dataframe tbody tr th:only-of-type {\n",
              "        vertical-align: middle;\n",
              "    }\n",
              "\n",
              "    .dataframe tbody tr th {\n",
              "        vertical-align: top;\n",
              "    }\n",
              "\n",
              "    .dataframe thead th {\n",
              "        text-align: right;\n",
              "    }\n",
              "</style>\n",
              "<table border=\"1\" class=\"dataframe\">\n",
              "  <thead>\n",
              "    <tr style=\"text-align: right;\">\n",
              "      <th></th>\n",
              "      <th>state</th>\n",
              "      <th>current_votes</th>\n",
              "      <th>total_votes</th>\n",
              "      <th>percent</th>\n",
              "      <th>remaining_votes</th>\n",
              "    </tr>\n",
              "  </thead>\n",
              "  <tbody>\n",
              "    <tr>\n",
              "      <th>1</th>\n",
              "      <td>Alaska</td>\n",
              "      <td>131885</td>\n",
              "      <td>366006</td>\n",
              "      <td>36.033562</td>\n",
              "      <td>234121</td>\n",
              "    </tr>\n",
              "    <tr>\n",
              "      <th>32</th>\n",
              "      <td>New York</td>\n",
              "      <td>6641544</td>\n",
              "      <td>8904800</td>\n",
              "      <td>74.583865</td>\n",
              "      <td>2263256</td>\n",
              "    </tr>\n",
              "    <tr>\n",
              "      <th>8</th>\n",
              "      <td>District of Columbia</td>\n",
              "      <td>279152</td>\n",
              "      <td>348619</td>\n",
              "      <td>80.073662</td>\n",
              "      <td>69467</td>\n",
              "    </tr>\n",
              "    <tr>\n",
              "      <th>30</th>\n",
              "      <td>New Jersey</td>\n",
              "      <td>3610021</td>\n",
              "      <td>4349127</td>\n",
              "      <td>83.005647</td>\n",
              "      <td>739106</td>\n",
              "    </tr>\n",
              "    <tr>\n",
              "      <th>20</th>\n",
              "      <td>Maryland</td>\n",
              "      <td>2497959</td>\n",
              "      <td>3002298</td>\n",
              "      <td>83.201568</td>\n",
              "      <td>504339</td>\n",
              "    </tr>\n",
              "  </tbody>\n",
              "</table>\n",
              "</div>"
            ],
            "text/plain": [
              "                   state  current_votes  ...    percent  remaining_votes\n",
              "1                 Alaska         131885  ...  36.033562           234121\n",
              "32              New York        6641544  ...  74.583865          2263256\n",
              "8   District of Columbia         279152  ...  80.073662            69467\n",
              "30            New Jersey        3610021  ...  83.005647           739106\n",
              "20              Maryland        2497959  ...  83.201568           504339\n",
              "\n",
              "[5 rows x 5 columns]"
            ]
          },
          "metadata": {
            "tags": []
          },
          "execution_count": 9
        }
      ]
    },
    {
      "cell_type": "markdown",
      "metadata": {
        "id": "GcfZyNN4udKc"
      },
      "source": [
        "O dataset **president_county_candidate.csv** possui 4 colunas categóricas e 1 coluna numérica. São elas: o estado, **state**; o condado, **county**; o candidato, **candidate**; o partido ao qual ele está filiado, **party**; e a quantidade de votos que o candidato já recebeu naquele condado, **votes**."
      ]
    },
    {
      "cell_type": "code",
      "metadata": {
        "id": "aSE1DPyAK2u8",
        "outputId": "2e232591-2fd8-4f82-c79f-0cdb1130905f",
        "colab": {
          "base_uri": "https://localhost:8080/"
        }
      },
      "source": [
        "db_president_county_candidate = pd.read_csv('us_elections/president_county_candidate.csv')\n",
        "db_president_county_candidate.info()"
      ],
      "execution_count": 10,
      "outputs": [
        {
          "output_type": "stream",
          "text": [
            "<class 'pandas.core.frame.DataFrame'>\n",
            "RangeIndex: 31167 entries, 0 to 31166\n",
            "Data columns (total 5 columns):\n",
            " #   Column     Non-Null Count  Dtype \n",
            "---  ------     --------------  ----- \n",
            " 0   state      31167 non-null  object\n",
            " 1   county     31167 non-null  object\n",
            " 2   candidate  31167 non-null  object\n",
            " 3   party      31167 non-null  object\n",
            " 4   votes      31167 non-null  int64 \n",
            "dtypes: int64(1), object(4)\n",
            "memory usage: 1.2+ MB\n"
          ],
          "name": "stdout"
        }
      ]
    },
    {
      "cell_type": "markdown",
      "metadata": {
        "id": "tNNh8JnFwlch"
      },
      "source": [
        "A distribuição de partidos por condado onde obtiveram pelo menos 1 voto para seu candidato se assemelha a uma distribuição exponencial."
      ]
    },
    {
      "cell_type": "code",
      "metadata": {
        "id": "S5bUU7oUwt-j",
        "outputId": "bbaf5284-de25-433a-add4-0398608ec16f",
        "colab": {
          "base_uri": "https://localhost:8080/",
          "height": 0
        }
      },
      "source": [
        "db_president_county_candidate.party.value_counts().plot(kind='bar')"
      ],
      "execution_count": 11,
      "outputs": [
        {
          "output_type": "execute_result",
          "data": {
            "text/plain": [
              "<matplotlib.axes._subplots.AxesSubplot at 0x7fea2ef58898>"
            ]
          },
          "metadata": {
            "tags": []
          },
          "execution_count": 11
        },
        {
          "output_type": "display_data",
          "data": {
            "image/png": "[encoded data removed]",
            "text/plain": [
              "<Figure size 432x288 with 1 Axes>"
            ]
          },
          "metadata": {
            "tags": [],
            "needs_background": "light"
          }
        }
      ]
    },
    {
      "cell_type": "markdown",
      "metadata": {
        "id": "1Gy36csmVWnT"
      },
      "source": [
        "# a) Construir tabelas e gráficos apropriados para cada variável do data frame"
      ]
    },
    {
      "cell_type": "code",
      "metadata": {
        "id": "VP5oIoETqAW_",
        "outputId": "b5e28f36-7b3c-4654-e943-25019cc90f2f",
        "colab": {
          "base_uri": "https://localhost:8080/",
          "height": 542
        }
      },
      "source": [
        "df = db_president_state[['state_code', 'state', 'electoral_votes']]\n",
        "df.columns = ['Abreviação', 'Estado', 'Delegados']\n",
        "fig = px.choropleth(df, \n",
        "                    locations=\"Abreviação\", \n",
        "                    color = \"Delegados\",\n",
        "                    locationmode = 'USA-states', \n",
        "                    hover_name=\"Estado\",\n",
        "                    #range_color=[3,55],\n",
        "                    color_continuous_scale = ['lightblue', 'red'],\n",
        "                    scope=\"usa\",\n",
        "                    title='Eleições EUA 2020: Delegados por Estado')\n",
        "fig.show()"
      ],
      "execution_count": 12,
      "outputs": [
        {
          "output_type": "display_data",
          "data": {
            "text/html": [
              "<html>\n",
              "<head><meta charset=\"utf-8\" /></head>\n",
              "<body>\n",
              "    <div>\n",
              "            <script src=\"https://cdnjs.cloudflare.com/ajax/libs/mathjax/2.7.5/MathJax.js?config=TeX-AMS-MML_SVG\"></script><script type=\"text/javascript\">if (window.MathJax) {MathJax.Hub.Config({SVG: {font: \"STIX-Web\"}});}</script>\n",
              "                <script type=\"text/javascript\">window.PlotlyConfig = {MathJaxConfig: 'local'};</script>\n",
              "        <script src=\"https://cdn.plot.ly/plotly-latest.min.js\"></script>    \n",
              "            <div id=\"a35e1e89-badf-45c0-9a7a-16cfaa331780\" class=\"plotly-graph-div\" style=\"height:525px; width:100%;\"></div>\n",
              "            <script type=\"text/javascript\">\n",
              "                \n",
              "                    window.PLOTLYENV=window.PLOTLYENV || {};\n",
              "                    \n",
              "                if (document.getElementById(\"a35e1e89-badf-45c0-9a7a-16cfaa331780\")) {\n",
              "                    Plotly.newPlot(\n",
              "                        'a35e1e89-badf-45c0-9a7a-16cfaa331780',\n",
              "                        [{\"coloraxis\": \"coloraxis\", \"geo\": \"geo\", \"hoverlabel\": {\"namelength\": 0}, \"hovertemplate\": \"<b>%{hovertext}</b><br><br>Abrevia\\u00e7\\u00e3o=%{location}<br>Delegados=%{z}\", \"hovertext\": [\"Alabama\", \"Alaska\", \"Arizona\", \"Arkansas\", \"California\", \"Colorado\", \"Connecticut\", \"Delaware\", \"District of Columbia\", \"Florida\", \"Georgia\", \"Hawaii\", \"Idaho\", \"Illinois\", \"Indiana\", \"Iowa\", \"Kansas\", \"Kentucky\", \"Louisiana\", \"Maine\", \"Maryland\", \"Massachusetts\", \"Michigan\", \"Minnesota\", \"Mississippi\", \"Missouri\", \"Montana\", \"Nebraska\", \"Nevada\", \"New Hampshire\", \"New Jersey\", \"New Mexico\", \"New York\", \"North Carolina\", \"North Dakota\", \"Ohio\", \"Oklahoma\", \"Oregon\", \"Pennsylvania\", \"Rhode Island\", \"South Carolina\", \"South Dakota\", \"Tennessee\", \"Texas\", \"Utah\", \"Vermont\", \"Virginia\", \"Washington\", \"West Virginia\", \"Wisconsin\", \"Wyoming\"], \"locationmode\": \"USA-states\", \"locations\": [\"AL\", \"AK\", \"AZ\", \"AR\", \"CA\", \"CO\", \"CT\", \"DC\", \"DE\", \"FL\", \"GA\", \"HI\", \"ID\", \"IL\", \"IN\", \"IA\", \"KS\", \"KY\", \"LA\", \"MA\", \"MD\", \"ME\", \"MI\", \"MN\", \"MO\", \"MS\", \"MT\", \"NE\", \"NV\", \"NH\", \"NJ\", \"NM\", \"NY\", \"NC\", \"ND\", \"OH\", \"OK\", \"OR\", \"PA\", \"RI\", \"SC\", \"SD\", \"TN\", \"TX\", \"UT\", \"VT\", \"VA\", \"WA\", \"WV\", \"WI\", \"WY\"], \"name\": \"\", \"type\": \"choropleth\", \"z\": [9, 3, 11, 6, 55, 9, 7, 3, 3, 29, 16, 4, 4, 20, 11, 6, 6, 8, 8, 4, 10, 11, 16, 10, 6, 10, 3, 5, 6, 4, 14, 5, 29, 15, 3, 18, 7, 7, 20, 4, 9, 3, 11, 38, 6, 3, 13, 12, 5, 10, 3]}],\n",
              "                        {\"coloraxis\": {\"colorbar\": {\"title\": {\"text\": \"Delegados\"}}, \"colorscale\": [[0.0, \"lightblue\"], [1.0, \"red\"]]}, \"geo\": {\"center\": {}, \"domain\": {\"x\": [0.0, 1.0], \"y\": [0.0, 1.0]}, \"scope\": \"usa\"}, \"legend\": {\"tracegroupgap\": 0}, \"template\": {\"data\": {\"bar\": [{\"error_x\": {\"color\": \"#2a3f5f\"}, \"error_y\": {\"color\": \"#2a3f5f\"}, \"marker\": {\"line\": {\"color\": \"#E5ECF6\", \"width\": 0.5}}, \"type\": \"bar\"}], \"barpolar\": [{\"marker\": {\"line\": {\"color\": \"#E5ECF6\", \"width\": 0.5}}, \"type\": \"barpolar\"}], \"carpet\": [{\"aaxis\": {\"endlinecolor\": \"#2a3f5f\", \"gridcolor\": \"white\", \"linecolor\": \"white\", \"minorgridcolor\": \"white\", \"startlinecolor\": \"#2a3f5f\"}, \"baxis\": {\"endlinecolor\": \"#2a3f5f\", \"gridcolor\": \"white\", \"linecolor\": \"white\", \"minorgridcolor\": \"white\", \"startlinecolor\": \"#2a3f5f\"}, \"type\": \"carpet\"}], \"choropleth\": [{\"colorbar\": {\"outlinewidth\": 0, \"ticks\": \"\"}, \"type\": \"choropleth\"}], \"contour\": [{\"colorbar\": {\"outlinewidth\": 0, \"ticks\": \"\"}, \"colorscale\": [[0.0, \"#0d0887\"], [0.1111111111111111, \"#46039f\"], [0.2222222222222222, \"#7201a8\"], [0.3333333333333333, \"#9c179e\"], [0.4444444444444444, \"#bd3786\"], [0.5555555555555556, \"#d8576b\"], [0.6666666666666666, \"#ed7953\"], [0.7777777777777778, \"#fb9f3a\"], [0.8888888888888888, \"#fdca26\"], [1.0, \"#f0f921\"]], \"type\": \"contour\"}], \"contourcarpet\": [{\"colorbar\": {\"outlinewidth\": 0, \"ticks\": \"\"}, \"type\": \"contourcarpet\"}], \"heatmap\": [{\"colorbar\": {\"outlinewidth\": 0, \"ticks\": \"\"}, \"colorscale\": [[0.0, \"#0d0887\"], [0.1111111111111111, \"#46039f\"], [0.2222222222222222, \"#7201a8\"], [0.3333333333333333, \"#9c179e\"], [0.4444444444444444, \"#bd3786\"], [0.5555555555555556, \"#d8576b\"], [0.6666666666666666, \"#ed7953\"], [0.7777777777777778, \"#fb9f3a\"], [0.8888888888888888, \"#fdca26\"], [1.0, \"#f0f921\"]], \"type\": \"heatmap\"}], \"heatmapgl\": [{\"colorbar\": {\"outlinewidth\": 0, \"ticks\": \"\"}, \"colorscale\": [[0.0, \"#0d0887\"], [0.1111111111111111, \"#46039f\"], [0.2222222222222222, \"#7201a8\"], [0.3333333333333333, \"#9c179e\"], [0.4444444444444444, \"#bd3786\"], [0.5555555555555556, \"#d8576b\"], [0.6666666666666666, \"#ed7953\"], [0.7777777777777778, \"#fb9f3a\"], [0.8888888888888888, \"#fdca26\"], [1.0, \"#f0f921\"]], \"type\": \"heatmapgl\"}], \"histogram\": [{\"marker\": {\"colorbar\": {\"outlinewidth\": 0, \"ticks\": \"\"}}, \"type\": \"histogram\"}], \"histogram2d\": [{\"colorbar\": {\"outlinewidth\": 0, \"ticks\": \"\"}, \"colorscale\": [[0.0, \"#0d0887\"], [0.1111111111111111, \"#46039f\"], [0.2222222222222222, \"#7201a8\"], [0.3333333333333333, \"#9c179e\"], [0.4444444444444444, \"#bd3786\"], [0.5555555555555556, \"#d8576b\"], [0.6666666666666666, \"#ed7953\"], [0.7777777777777778, \"#fb9f3a\"], [0.8888888888888888, \"#fdca26\"], [1.0, \"#f0f921\"]], \"type\": \"histogram2d\"}], \"histogram2dcontour\": [{\"colorbar\": {\"outlinewidth\": 0, \"ticks\": \"\"}, \"colorscale\": [[0.0, \"#0d0887\"], [0.1111111111111111, \"#46039f\"], [0.2222222222222222, \"#7201a8\"], [0.3333333333333333, \"#9c179e\"], [0.4444444444444444, \"#bd3786\"], [0.5555555555555556, \"#d8576b\"], [0.6666666666666666, \"#ed7953\"], [0.7777777777777778, \"#fb9f3a\"], [0.8888888888888888, \"#fdca26\"], [1.0, \"#f0f921\"]], \"type\": \"histogram2dcontour\"}], \"mesh3d\": [{\"colorbar\": {\"outlinewidth\": 0, \"ticks\": \"\"}, \"type\": \"mesh3d\"}], \"parcoords\": [{\"line\": {\"colorbar\": {\"outlinewidth\": 0, \"ticks\": \"\"}}, \"type\": \"parcoords\"}], \"pie\": [{\"automargin\": true, \"type\": \"pie\"}], \"scatter\": [{\"marker\": {\"colorbar\": {\"outlinewidth\": 0, \"ticks\": \"\"}}, \"type\": \"scatter\"}], \"scatter3d\": [{\"line\": {\"colorbar\": {\"outlinewidth\": 0, \"ticks\": \"\"}}, \"marker\": {\"colorbar\": {\"outlinewidth\": 0, \"ticks\": \"\"}}, \"type\": \"scatter3d\"}], \"scattercarpet\": [{\"marker\": {\"colorbar\": {\"outlinewidth\": 0, \"ticks\": \"\"}}, \"type\": \"scattercarpet\"}], \"scattergeo\": [{\"marker\": {\"colorbar\": {\"outlinewidth\": 0, \"ticks\": \"\"}}, \"type\": \"scattergeo\"}], \"scattergl\": [{\"marker\": {\"colorbar\": {\"outlinewidth\": 0, \"ticks\": \"\"}}, \"type\": \"scattergl\"}], \"scattermapbox\": [{\"marker\": {\"colorbar\": {\"outlinewidth\": 0, \"ticks\": \"\"}}, \"type\": \"scattermapbox\"}], \"scatterpolar\": [{\"marker\": {\"colorbar\": {\"outlinewidth\": 0, \"ticks\": \"\"}}, \"type\": \"scatterpolar\"}], \"scatterpolargl\": [{\"marker\": {\"colorbar\": {\"outlinewidth\": 0, \"ticks\": \"\"}}, \"type\": \"scatterpolargl\"}], \"scatterternary\": [{\"marker\": {\"colorbar\": {\"outlinewidth\": 0, \"ticks\": \"\"}}, \"type\": \"scatterternary\"}], \"surface\": [{\"colorbar\": {\"outlinewidth\": 0, \"ticks\": \"\"}, \"colorscale\": [[0.0, \"#0d0887\"], [0.1111111111111111, \"#46039f\"], [0.2222222222222222, \"#7201a8\"], [0.3333333333333333, \"#9c179e\"], [0.4444444444444444, \"#bd3786\"], [0.5555555555555556, \"#d8576b\"], [0.6666666666666666, \"#ed7953\"], [0.7777777777777778, \"#fb9f3a\"], [0.8888888888888888, \"#fdca26\"], [1.0, \"#f0f921\"]], \"type\": \"surface\"}], \"table\": [{\"cells\": {\"fill\": {\"color\": \"#EBF0F8\"}, \"line\": {\"color\": \"white\"}}, \"header\": {\"fill\": {\"color\": \"#C8D4E3\"}, \"line\": {\"color\": \"white\"}}, \"type\": \"table\"}]}, \"layout\": {\"annotationdefaults\": {\"arrowcolor\": \"#2a3f5f\", \"arrowhead\": 0, \"arrowwidth\": 1}, \"coloraxis\": {\"colorbar\": {\"outlinewidth\": 0, \"ticks\": \"\"}}, \"colorscale\": {\"diverging\": [[0, \"#8e0152\"], [0.1, \"#c51b7d\"], [0.2, \"#de77ae\"], [0.3, \"#f1b6da\"], [0.4, \"#fde0ef\"], [0.5, \"#f7f7f7\"], [0.6, \"#e6f5d0\"], [0.7, \"#b8e186\"], [0.8, \"#7fbc41\"], [0.9, \"#4d9221\"], [1, \"#276419\"]], \"sequential\": [[0.0, \"#0d0887\"], [0.1111111111111111, \"#46039f\"], [0.2222222222222222, \"#7201a8\"], [0.3333333333333333, \"#9c179e\"], [0.4444444444444444, \"#bd3786\"], [0.5555555555555556, \"#d8576b\"], [0.6666666666666666, \"#ed7953\"], [0.7777777777777778, \"#fb9f3a\"], [0.8888888888888888, \"#fdca26\"], [1.0, \"#f0f921\"]], \"sequentialminus\": [[0.0, \"#0d0887\"], [0.1111111111111111, \"#46039f\"], [0.2222222222222222, \"#7201a8\"], [0.3333333333333333, \"#9c179e\"], [0.4444444444444444, \"#bd3786\"], [0.5555555555555556, \"#d8576b\"], [0.6666666666666666, \"#ed7953\"], [0.7777777777777778, \"#fb9f3a\"], [0.8888888888888888, \"#fdca26\"], [1.0, \"#f0f921\"]]}, \"colorway\": [\"#636efa\", \"#EF553B\", \"#00cc96\", \"#ab63fa\", \"#FFA15A\", \"#19d3f3\", \"#FF6692\", \"#B6E880\", \"#FF97FF\", \"#FECB52\"], \"font\": {\"color\": \"#2a3f5f\"}, \"geo\": {\"bgcolor\": \"white\", \"lakecolor\": \"white\", \"landcolor\": \"#E5ECF6\", \"showlakes\": true, \"showland\": true, \"subunitcolor\": \"white\"}, \"hoverlabel\": {\"align\": \"left\"}, \"hovermode\": \"closest\", \"mapbox\": {\"style\": \"light\"}, \"paper_bgcolor\": \"white\", \"plot_bgcolor\": \"#E5ECF6\", \"polar\": {\"angularaxis\": {\"gridcolor\": \"white\", \"linecolor\": \"white\", \"ticks\": \"\"}, \"bgcolor\": \"#E5ECF6\", \"radialaxis\": {\"gridcolor\": \"white\", \"linecolor\": \"white\", \"ticks\": \"\"}}, \"scene\": {\"xaxis\": {\"backgroundcolor\": \"#E5ECF6\", \"gridcolor\": \"white\", \"gridwidth\": 2, \"linecolor\": \"white\", \"showbackground\": true, \"ticks\": \"\", \"zerolinecolor\": \"white\"}, \"yaxis\": {\"backgroundcolor\": \"#E5ECF6\", \"gridcolor\": \"white\", \"gridwidth\": 2, \"linecolor\": \"white\", \"showbackground\": true, \"ticks\": \"\", \"zerolinecolor\": \"white\"}, \"zaxis\": {\"backgroundcolor\": \"#E5ECF6\", \"gridcolor\": \"white\", \"gridwidth\": 2, \"linecolor\": \"white\", \"showbackground\": true, \"ticks\": \"\", \"zerolinecolor\": \"white\"}}, \"shapedefaults\": {\"line\": {\"color\": \"#2a3f5f\"}}, \"ternary\": {\"aaxis\": {\"gridcolor\": \"white\", \"linecolor\": \"white\", \"ticks\": \"\"}, \"baxis\": {\"gridcolor\": \"white\", \"linecolor\": \"white\", \"ticks\": \"\"}, \"bgcolor\": \"#E5ECF6\", \"caxis\": {\"gridcolor\": \"white\", \"linecolor\": \"white\", \"ticks\": \"\"}}, \"title\": {\"x\": 0.05}, \"xaxis\": {\"automargin\": true, \"gridcolor\": \"white\", \"linecolor\": \"white\", \"ticks\": \"\", \"title\": {\"standoff\": 15}, \"zerolinecolor\": \"white\", \"zerolinewidth\": 2}, \"yaxis\": {\"automargin\": true, \"gridcolor\": \"white\", \"linecolor\": \"white\", \"ticks\": \"\", \"title\": {\"standoff\": 15}, \"zerolinecolor\": \"white\", \"zerolinewidth\": 2}}}, \"title\": {\"text\": \"Elei\\u00e7\\u00f5es EUA 2020: Delegados por Estado\"}},\n",
              "                        {\"responsive\": true}\n",
              "                    ).then(function(){\n",
              "                            \n",
              "var gd = document.getElementById('a35e1e89-badf-45c0-9a7a-16cfaa331780');\n",
              "var x = new MutationObserver(function (mutations, observer) {{\n",
              "        var display = window.getComputedStyle(gd).display;\n",
              "        if (!display || display === 'none') {{\n",
              "            console.log([gd, 'removed!']);\n",
              "            Plotly.purge(gd);\n",
              "            observer.disconnect();\n",
              "        }}\n",
              "}});\n",
              "\n",
              "// Listen for the removal of the full notebook cells\n",
              "var notebookContainer = gd.closest('#notebook-container');\n",
              "if (notebookContainer) {{\n",
              "    x.observe(notebookContainer, {childList: true});\n",
              "}}\n",
              "\n",
              "// Listen for the clearing of the current output cell\n",
              "var outputEl = gd.closest('.output');\n",
              "if (outputEl) {{\n",
              "    x.observe(outputEl, {childList: true});\n",
              "}}\n",
              "\n",
              "                        })\n",
              "                };\n",
              "                \n",
              "            </script>\n",
              "        </div>\n",
              "</body>\n",
              "</html>"
            ]
          },
          "metadata": {
            "tags": []
          }
        }
      ]
    },
    {
      "cell_type": "markdown",
      "metadata": {
        "id": "tT9yDjr7DwoS"
      },
      "source": [
        "### Calculando o total de votos computados por Candidato em cada Estado"
      ]
    },
    {
      "cell_type": "code",
      "metadata": {
        "id": "BUdmUSiP2gSW",
        "outputId": "0363d5ef-e841-42c4-ecc5-c3b8e53e792e",
        "colab": {
          "base_uri": "https://localhost:8080/",
          "height": 164
        }
      },
      "source": [
        "# totalizando os votos por estado e candidato, já em ordem descrescente pela quantidade de votos\n",
        "db_president_state_candidate = db_president_county_candidate.groupby(['state', 'candidate', 'party']).sum('votes').sort_values(by = ['state', 'votes'], ascending = [True, False]).reset_index()\n",
        "db_president_state_candidate.head(4)"
      ],
      "execution_count": 13,
      "outputs": [
        {
          "output_type": "execute_result",
          "data": {
            "text/html": [
              "<div>\n",
              "<style scoped>\n",
              "    .dataframe tbody tr th:only-of-type {\n",
              "        vertical-align: middle;\n",
              "    }\n",
              "\n",
              "    .dataframe tbody tr th {\n",
              "        vertical-align: top;\n",
              "    }\n",
              "\n",
              "    .dataframe thead th {\n",
              "        text-align: right;\n",
              "    }\n",
              "</style>\n",
              "<table border=\"1\" class=\"dataframe\">\n",
              "  <thead>\n",
              "    <tr style=\"text-align: right;\">\n",
              "      <th></th>\n",
              "      <th>state</th>\n",
              "      <th>candidate</th>\n",
              "      <th>party</th>\n",
              "      <th>votes</th>\n",
              "    </tr>\n",
              "  </thead>\n",
              "  <tbody>\n",
              "    <tr>\n",
              "      <th>0</th>\n",
              "      <td>Alabama</td>\n",
              "      <td>Donald Trump</td>\n",
              "      <td>REP</td>\n",
              "      <td>1434159</td>\n",
              "    </tr>\n",
              "    <tr>\n",
              "      <th>1</th>\n",
              "      <td>Alabama</td>\n",
              "      <td>Joe Biden</td>\n",
              "      <td>DEM</td>\n",
              "      <td>843473</td>\n",
              "    </tr>\n",
              "    <tr>\n",
              "      <th>2</th>\n",
              "      <td>Alabama</td>\n",
              "      <td>Jo Jorgensen</td>\n",
              "      <td>LIB</td>\n",
              "      <td>24994</td>\n",
              "    </tr>\n",
              "    <tr>\n",
              "      <th>3</th>\n",
              "      <td>Alabama</td>\n",
              "      <td>Write-ins</td>\n",
              "      <td>WRI</td>\n",
              "      <td>7274</td>\n",
              "    </tr>\n",
              "  </tbody>\n",
              "</table>\n",
              "</div>"
            ],
            "text/plain": [
              "     state     candidate party    votes\n",
              "0  Alabama  Donald Trump   REP  1434159\n",
              "1  Alabama     Joe Biden   DEM   843473\n",
              "2  Alabama  Jo Jorgensen   LIB    24994\n",
              "3  Alabama     Write-ins   WRI     7274"
            ]
          },
          "metadata": {
            "tags": []
          },
          "execution_count": 13
        }
      ]
    },
    {
      "cell_type": "code",
      "metadata": {
        "id": "VyeXelX6RT0w",
        "outputId": "12d4b034-a1d6-42f6-a042-d3df04d816ec",
        "colab": {
          "base_uri": "https://localhost:8080/",
          "height": 194
        }
      },
      "source": [
        "# define primeiro mais votado em cada Estado\n",
        "db_1st_place_by_state = db_president_state_candidate.groupby('state').nth(0).reset_index()\n",
        "db_1st_place_by_state.columns = ['state', '1st_candidate', '1st_party', '1st_votes']\n",
        "db_1st_place_by_state.head()"
      ],
      "execution_count": 14,
      "outputs": [
        {
          "output_type": "execute_result",
          "data": {
            "text/html": [
              "<div>\n",
              "<style scoped>\n",
              "    .dataframe tbody tr th:only-of-type {\n",
              "        vertical-align: middle;\n",
              "    }\n",
              "\n",
              "    .dataframe tbody tr th {\n",
              "        vertical-align: top;\n",
              "    }\n",
              "\n",
              "    .dataframe thead th {\n",
              "        text-align: right;\n",
              "    }\n",
              "</style>\n",
              "<table border=\"1\" class=\"dataframe\">\n",
              "  <thead>\n",
              "    <tr style=\"text-align: right;\">\n",
              "      <th></th>\n",
              "      <th>state</th>\n",
              "      <th>1st_candidate</th>\n",
              "      <th>1st_party</th>\n",
              "      <th>1st_votes</th>\n",
              "    </tr>\n",
              "  </thead>\n",
              "  <tbody>\n",
              "    <tr>\n",
              "      <th>0</th>\n",
              "      <td>Alabama</td>\n",
              "      <td>Donald Trump</td>\n",
              "      <td>REP</td>\n",
              "      <td>1434159</td>\n",
              "    </tr>\n",
              "    <tr>\n",
              "      <th>1</th>\n",
              "      <td>Alaska</td>\n",
              "      <td>Donald Trump</td>\n",
              "      <td>REP</td>\n",
              "      <td>80999</td>\n",
              "    </tr>\n",
              "    <tr>\n",
              "      <th>2</th>\n",
              "      <td>Arizona</td>\n",
              "      <td>Joe Biden</td>\n",
              "      <td>DEM</td>\n",
              "      <td>1643664</td>\n",
              "    </tr>\n",
              "    <tr>\n",
              "      <th>3</th>\n",
              "      <td>Arkansas</td>\n",
              "      <td>Donald Trump</td>\n",
              "      <td>REP</td>\n",
              "      <td>761251</td>\n",
              "    </tr>\n",
              "    <tr>\n",
              "      <th>4</th>\n",
              "      <td>California</td>\n",
              "      <td>Joe Biden</td>\n",
              "      <td>DEM</td>\n",
              "      <td>9315259</td>\n",
              "    </tr>\n",
              "  </tbody>\n",
              "</table>\n",
              "</div>"
            ],
            "text/plain": [
              "        state 1st_candidate 1st_party  1st_votes\n",
              "0     Alabama  Donald Trump       REP    1434159\n",
              "1      Alaska  Donald Trump       REP      80999\n",
              "2     Arizona     Joe Biden       DEM    1643664\n",
              "3    Arkansas  Donald Trump       REP     761251\n",
              "4  California     Joe Biden       DEM    9315259"
            ]
          },
          "metadata": {
            "tags": []
          },
          "execution_count": 14
        }
      ]
    },
    {
      "cell_type": "code",
      "metadata": {
        "id": "c6avyKZuTpoE",
        "outputId": "3dc47b6a-7805-4b8a-8d05-933aeb75cd91",
        "colab": {
          "base_uri": "https://localhost:8080/",
          "height": 194
        }
      },
      "source": [
        "# combina com o dataset de resultados\n",
        "db_1st_results = pd.merge(db_president_state_votes, db_1st_place_by_state , how='left', on='state', )\n",
        "db_1st_results['1st_percent'] = 100* db_1st_results['1st_votes'] / db_1st_results.current_votes\n",
        "db_1st_results.head()"
      ],
      "execution_count": 15,
      "outputs": [
        {
          "output_type": "execute_result",
          "data": {
            "text/html": [
              "<div>\n",
              "<style scoped>\n",
              "    .dataframe tbody tr th:only-of-type {\n",
              "        vertical-align: middle;\n",
              "    }\n",
              "\n",
              "    .dataframe tbody tr th {\n",
              "        vertical-align: top;\n",
              "    }\n",
              "\n",
              "    .dataframe thead th {\n",
              "        text-align: right;\n",
              "    }\n",
              "</style>\n",
              "<table border=\"1\" class=\"dataframe\">\n",
              "  <thead>\n",
              "    <tr style=\"text-align: right;\">\n",
              "      <th></th>\n",
              "      <th>state</th>\n",
              "      <th>current_votes</th>\n",
              "      <th>total_votes</th>\n",
              "      <th>percent</th>\n",
              "      <th>remaining_votes</th>\n",
              "      <th>1st_candidate</th>\n",
              "      <th>1st_party</th>\n",
              "      <th>1st_votes</th>\n",
              "      <th>1st_percent</th>\n",
              "    </tr>\n",
              "  </thead>\n",
              "  <tbody>\n",
              "    <tr>\n",
              "      <th>0</th>\n",
              "      <td>Alabama</td>\n",
              "      <td>2309900</td>\n",
              "      <td>2309900</td>\n",
              "      <td>100.000000</td>\n",
              "      <td>0</td>\n",
              "      <td>Donald Trump</td>\n",
              "      <td>REP</td>\n",
              "      <td>1434159</td>\n",
              "      <td>62.087493</td>\n",
              "    </tr>\n",
              "    <tr>\n",
              "      <th>1</th>\n",
              "      <td>Alaska</td>\n",
              "      <td>131885</td>\n",
              "      <td>366006</td>\n",
              "      <td>36.033562</td>\n",
              "      <td>234121</td>\n",
              "      <td>Donald Trump</td>\n",
              "      <td>REP</td>\n",
              "      <td>80999</td>\n",
              "      <td>61.416385</td>\n",
              "    </tr>\n",
              "    <tr>\n",
              "      <th>2</th>\n",
              "      <td>Arizona</td>\n",
              "      <td>3322535</td>\n",
              "      <td>3403744</td>\n",
              "      <td>97.614127</td>\n",
              "      <td>81209</td>\n",
              "      <td>Joe Biden</td>\n",
              "      <td>DEM</td>\n",
              "      <td>1643664</td>\n",
              "      <td>49.470179</td>\n",
              "    </tr>\n",
              "    <tr>\n",
              "      <th>3</th>\n",
              "      <td>Arkansas</td>\n",
              "      <td>1216818</td>\n",
              "      <td>1250053</td>\n",
              "      <td>97.341313</td>\n",
              "      <td>33235</td>\n",
              "      <td>Donald Trump</td>\n",
              "      <td>REP</td>\n",
              "      <td>761251</td>\n",
              "      <td>62.560794</td>\n",
              "    </tr>\n",
              "    <tr>\n",
              "      <th>4</th>\n",
              "      <td>California</td>\n",
              "      <td>14414296</td>\n",
              "      <td>15813337</td>\n",
              "      <td>91.152778</td>\n",
              "      <td>1399041</td>\n",
              "      <td>Joe Biden</td>\n",
              "      <td>DEM</td>\n",
              "      <td>9315259</td>\n",
              "      <td>64.625140</td>\n",
              "    </tr>\n",
              "  </tbody>\n",
              "</table>\n",
              "</div>"
            ],
            "text/plain": [
              "        state  current_votes  total_votes  ...  1st_party  1st_votes 1st_percent\n",
              "0     Alabama        2309900      2309900  ...        REP    1434159   62.087493\n",
              "1      Alaska         131885       366006  ...        REP      80999   61.416385\n",
              "2     Arizona        3322535      3403744  ...        DEM    1643664   49.470179\n",
              "3    Arkansas        1216818      1250053  ...        REP     761251   62.560794\n",
              "4  California       14414296     15813337  ...        DEM    9315259   64.625140\n",
              "\n",
              "[5 rows x 9 columns]"
            ]
          },
          "metadata": {
            "tags": []
          },
          "execution_count": 15
        }
      ]
    },
    {
      "cell_type": "code",
      "metadata": {
        "id": "VN73X5bs03BJ",
        "outputId": "2ef4c1d4-9688-4ae3-f521-e389d45ea3df",
        "colab": {
          "base_uri": "https://localhost:8080/",
          "height": 194
        }
      },
      "source": [
        "# define o segundo mais votado em cada Estado\n",
        "db_2nd_place_by_state = db_president_state_candidate.groupby('state').nth(1).reset_index()\n",
        "db_2nd_place_by_state.columns = ['state', '2nd_candidate', '2nd_party', '2nd_votes']\n",
        "db_2nd_place_by_state.head()"
      ],
      "execution_count": 16,
      "outputs": [
        {
          "output_type": "execute_result",
          "data": {
            "text/html": [
              "<div>\n",
              "<style scoped>\n",
              "    .dataframe tbody tr th:only-of-type {\n",
              "        vertical-align: middle;\n",
              "    }\n",
              "\n",
              "    .dataframe tbody tr th {\n",
              "        vertical-align: top;\n",
              "    }\n",
              "\n",
              "    .dataframe thead th {\n",
              "        text-align: right;\n",
              "    }\n",
              "</style>\n",
              "<table border=\"1\" class=\"dataframe\">\n",
              "  <thead>\n",
              "    <tr style=\"text-align: right;\">\n",
              "      <th></th>\n",
              "      <th>state</th>\n",
              "      <th>2nd_candidate</th>\n",
              "      <th>2nd_party</th>\n",
              "      <th>2nd_votes</th>\n",
              "    </tr>\n",
              "  </thead>\n",
              "  <tbody>\n",
              "    <tr>\n",
              "      <th>0</th>\n",
              "      <td>Alabama</td>\n",
              "      <td>Joe Biden</td>\n",
              "      <td>DEM</td>\n",
              "      <td>843473</td>\n",
              "    </tr>\n",
              "    <tr>\n",
              "      <th>1</th>\n",
              "      <td>Alaska</td>\n",
              "      <td>Joe Biden</td>\n",
              "      <td>DEM</td>\n",
              "      <td>45758</td>\n",
              "    </tr>\n",
              "    <tr>\n",
              "      <th>2</th>\n",
              "      <td>Arizona</td>\n",
              "      <td>Donald Trump</td>\n",
              "      <td>REP</td>\n",
              "      <td>1626679</td>\n",
              "    </tr>\n",
              "    <tr>\n",
              "      <th>3</th>\n",
              "      <td>Arkansas</td>\n",
              "      <td>Joe Biden</td>\n",
              "      <td>DEM</td>\n",
              "      <td>420985</td>\n",
              "    </tr>\n",
              "    <tr>\n",
              "      <th>4</th>\n",
              "      <td>California</td>\n",
              "      <td>Donald Trump</td>\n",
              "      <td>REP</td>\n",
              "      <td>4812735</td>\n",
              "    </tr>\n",
              "  </tbody>\n",
              "</table>\n",
              "</div>"
            ],
            "text/plain": [
              "        state 2nd_candidate 2nd_party  2nd_votes\n",
              "0     Alabama     Joe Biden       DEM     843473\n",
              "1      Alaska     Joe Biden       DEM      45758\n",
              "2     Arizona  Donald Trump       REP    1626679\n",
              "3    Arkansas     Joe Biden       DEM     420985\n",
              "4  California  Donald Trump       REP    4812735"
            ]
          },
          "metadata": {
            "tags": []
          },
          "execution_count": 16
        }
      ]
    },
    {
      "cell_type": "code",
      "metadata": {
        "id": "VxWxbX2oh4tb",
        "outputId": "845187d6-9651-4413-d4ec-331eb72355a8",
        "colab": {
          "base_uri": "https://localhost:8080/",
          "height": 214
        }
      },
      "source": [
        "# combina com o dataset de resultados\n",
        "db_results_by_state = pd.merge(db_1st_results, db_2nd_place_by_state , how='left', on='state', )\n",
        "db_results_by_state['2nd_percent'] = 100* db_results_by_state['2nd_votes'] / db_results_by_state.current_votes\n",
        "db_results_by_state.head()"
      ],
      "execution_count": 17,
      "outputs": [
        {
          "output_type": "execute_result",
          "data": {
            "text/html": [
              "<div>\n",
              "<style scoped>\n",
              "    .dataframe tbody tr th:only-of-type {\n",
              "        vertical-align: middle;\n",
              "    }\n",
              "\n",
              "    .dataframe tbody tr th {\n",
              "        vertical-align: top;\n",
              "    }\n",
              "\n",
              "    .dataframe thead th {\n",
              "        text-align: right;\n",
              "    }\n",
              "</style>\n",
              "<table border=\"1\" class=\"dataframe\">\n",
              "  <thead>\n",
              "    <tr style=\"text-align: right;\">\n",
              "      <th></th>\n",
              "      <th>state</th>\n",
              "      <th>current_votes</th>\n",
              "      <th>total_votes</th>\n",
              "      <th>percent</th>\n",
              "      <th>remaining_votes</th>\n",
              "      <th>1st_candidate</th>\n",
              "      <th>1st_party</th>\n",
              "      <th>1st_votes</th>\n",
              "      <th>1st_percent</th>\n",
              "      <th>2nd_candidate</th>\n",
              "      <th>2nd_party</th>\n",
              "      <th>2nd_votes</th>\n",
              "      <th>2nd_percent</th>\n",
              "    </tr>\n",
              "  </thead>\n",
              "  <tbody>\n",
              "    <tr>\n",
              "      <th>0</th>\n",
              "      <td>Alabama</td>\n",
              "      <td>2309900</td>\n",
              "      <td>2309900</td>\n",
              "      <td>100.000000</td>\n",
              "      <td>0</td>\n",
              "      <td>Donald Trump</td>\n",
              "      <td>REP</td>\n",
              "      <td>1434159</td>\n",
              "      <td>62.087493</td>\n",
              "      <td>Joe Biden</td>\n",
              "      <td>DEM</td>\n",
              "      <td>843473</td>\n",
              "      <td>36.515563</td>\n",
              "    </tr>\n",
              "    <tr>\n",
              "      <th>1</th>\n",
              "      <td>Alaska</td>\n",
              "      <td>131885</td>\n",
              "      <td>366006</td>\n",
              "      <td>36.033562</td>\n",
              "      <td>234121</td>\n",
              "      <td>Donald Trump</td>\n",
              "      <td>REP</td>\n",
              "      <td>80999</td>\n",
              "      <td>61.416385</td>\n",
              "      <td>Joe Biden</td>\n",
              "      <td>DEM</td>\n",
              "      <td>45758</td>\n",
              "      <td>34.695379</td>\n",
              "    </tr>\n",
              "    <tr>\n",
              "      <th>2</th>\n",
              "      <td>Arizona</td>\n",
              "      <td>3322535</td>\n",
              "      <td>3403744</td>\n",
              "      <td>97.614127</td>\n",
              "      <td>81209</td>\n",
              "      <td>Joe Biden</td>\n",
              "      <td>DEM</td>\n",
              "      <td>1643664</td>\n",
              "      <td>49.470179</td>\n",
              "      <td>Donald Trump</td>\n",
              "      <td>REP</td>\n",
              "      <td>1626679</td>\n",
              "      <td>48.958973</td>\n",
              "    </tr>\n",
              "    <tr>\n",
              "      <th>3</th>\n",
              "      <td>Arkansas</td>\n",
              "      <td>1216818</td>\n",
              "      <td>1250053</td>\n",
              "      <td>97.341313</td>\n",
              "      <td>33235</td>\n",
              "      <td>Donald Trump</td>\n",
              "      <td>REP</td>\n",
              "      <td>761251</td>\n",
              "      <td>62.560794</td>\n",
              "      <td>Joe Biden</td>\n",
              "      <td>DEM</td>\n",
              "      <td>420985</td>\n",
              "      <td>34.597204</td>\n",
              "    </tr>\n",
              "    <tr>\n",
              "      <th>4</th>\n",
              "      <td>California</td>\n",
              "      <td>14414296</td>\n",
              "      <td>15813337</td>\n",
              "      <td>91.152778</td>\n",
              "      <td>1399041</td>\n",
              "      <td>Joe Biden</td>\n",
              "      <td>DEM</td>\n",
              "      <td>9315259</td>\n",
              "      <td>64.625140</td>\n",
              "      <td>Donald Trump</td>\n",
              "      <td>REP</td>\n",
              "      <td>4812735</td>\n",
              "      <td>33.388623</td>\n",
              "    </tr>\n",
              "  </tbody>\n",
              "</table>\n",
              "</div>"
            ],
            "text/plain": [
              "        state  current_votes  total_votes  ...  2nd_party  2nd_votes 2nd_percent\n",
              "0     Alabama        2309900      2309900  ...        DEM     843473   36.515563\n",
              "1      Alaska         131885       366006  ...        DEM      45758   34.695379\n",
              "2     Arizona        3322535      3403744  ...        REP    1626679   48.958973\n",
              "3    Arkansas        1216818      1250053  ...        DEM     420985   34.597204\n",
              "4  California       14414296     15813337  ...        REP    4812735   33.388623\n",
              "\n",
              "[5 rows x 13 columns]"
            ]
          },
          "metadata": {
            "tags": []
          },
          "execution_count": 17
        }
      ]
    },
    {
      "cell_type": "markdown",
      "metadata": {
        "id": "M4fT0M6_EAOF"
      },
      "source": [
        "Consolidando todos os dados de interesse em um único dataframe de resultados a nível estadual"
      ]
    },
    {
      "cell_type": "code",
      "metadata": {
        "id": "9UCpmZx5m04l",
        "outputId": "42cedb7c-4361-407d-e578-059553ab40df",
        "colab": {
          "base_uri": "https://localhost:8080/",
          "height": 289
        }
      },
      "source": [
        "# calcula se o 2o colocado ainda tem chances de passar o 1o colocado\n",
        "db_results_by_state['is_election_defined'] = db_results_by_state.apply(lambda row: True if (row['2nd_votes'] + row['remaining_votes'] < row['1st_votes']) else False, axis=1)\n",
        "db_results_by_state[db_results_by_state['is_election_defined'].eq(False)]\n"
      ],
      "execution_count": 18,
      "outputs": [
        {
          "output_type": "execute_result",
          "data": {
            "text/html": [
              "<div>\n",
              "<style scoped>\n",
              "    .dataframe tbody tr th:only-of-type {\n",
              "        vertical-align: middle;\n",
              "    }\n",
              "\n",
              "    .dataframe tbody tr th {\n",
              "        vertical-align: top;\n",
              "    }\n",
              "\n",
              "    .dataframe thead th {\n",
              "        text-align: right;\n",
              "    }\n",
              "</style>\n",
              "<table border=\"1\" class=\"dataframe\">\n",
              "  <thead>\n",
              "    <tr style=\"text-align: right;\">\n",
              "      <th></th>\n",
              "      <th>state</th>\n",
              "      <th>current_votes</th>\n",
              "      <th>total_votes</th>\n",
              "      <th>percent</th>\n",
              "      <th>remaining_votes</th>\n",
              "      <th>1st_candidate</th>\n",
              "      <th>1st_party</th>\n",
              "      <th>1st_votes</th>\n",
              "      <th>1st_percent</th>\n",
              "      <th>2nd_candidate</th>\n",
              "      <th>2nd_party</th>\n",
              "      <th>2nd_votes</th>\n",
              "      <th>2nd_percent</th>\n",
              "      <th>is_election_defined</th>\n",
              "    </tr>\n",
              "  </thead>\n",
              "  <tbody>\n",
              "    <tr>\n",
              "      <th>1</th>\n",
              "      <td>Alaska</td>\n",
              "      <td>131885</td>\n",
              "      <td>366006</td>\n",
              "      <td>36.033562</td>\n",
              "      <td>234121</td>\n",
              "      <td>Donald Trump</td>\n",
              "      <td>REP</td>\n",
              "      <td>80999</td>\n",
              "      <td>61.416385</td>\n",
              "      <td>Joe Biden</td>\n",
              "      <td>DEM</td>\n",
              "      <td>45758</td>\n",
              "      <td>34.695379</td>\n",
              "      <td>False</td>\n",
              "    </tr>\n",
              "    <tr>\n",
              "      <th>2</th>\n",
              "      <td>Arizona</td>\n",
              "      <td>3322535</td>\n",
              "      <td>3403744</td>\n",
              "      <td>97.614127</td>\n",
              "      <td>81209</td>\n",
              "      <td>Joe Biden</td>\n",
              "      <td>DEM</td>\n",
              "      <td>1643664</td>\n",
              "      <td>49.470179</td>\n",
              "      <td>Donald Trump</td>\n",
              "      <td>REP</td>\n",
              "      <td>1626679</td>\n",
              "      <td>48.958973</td>\n",
              "      <td>False</td>\n",
              "    </tr>\n",
              "    <tr>\n",
              "      <th>28</th>\n",
              "      <td>Nevada</td>\n",
              "      <td>1323719</td>\n",
              "      <td>1400801</td>\n",
              "      <td>94.497291</td>\n",
              "      <td>77082</td>\n",
              "      <td>Joe Biden</td>\n",
              "      <td>DEM</td>\n",
              "      <td>664162</td>\n",
              "      <td>50.173942</td>\n",
              "      <td>Donald Trump</td>\n",
              "      <td>REP</td>\n",
              "      <td>629879</td>\n",
              "      <td>47.584042</td>\n",
              "      <td>False</td>\n",
              "    </tr>\n",
              "    <tr>\n",
              "      <th>30</th>\n",
              "      <td>New Jersey</td>\n",
              "      <td>3610021</td>\n",
              "      <td>4349127</td>\n",
              "      <td>83.005647</td>\n",
              "      <td>739106</td>\n",
              "      <td>Joe Biden</td>\n",
              "      <td>DEM</td>\n",
              "      <td>2108110</td>\n",
              "      <td>58.396059</td>\n",
              "      <td>Donald Trump</td>\n",
              "      <td>REP</td>\n",
              "      <td>1449928</td>\n",
              "      <td>40.163977</td>\n",
              "      <td>False</td>\n",
              "    </tr>\n",
              "    <tr>\n",
              "      <th>32</th>\n",
              "      <td>New York</td>\n",
              "      <td>6641544</td>\n",
              "      <td>8904800</td>\n",
              "      <td>74.583865</td>\n",
              "      <td>2263256</td>\n",
              "      <td>Joe Biden</td>\n",
              "      <td>DEM</td>\n",
              "      <td>3699332</td>\n",
              "      <td>55.699879</td>\n",
              "      <td>Donald Trump</td>\n",
              "      <td>REP</td>\n",
              "      <td>2850352</td>\n",
              "      <td>42.917008</td>\n",
              "      <td>False</td>\n",
              "    </tr>\n",
              "    <tr>\n",
              "      <th>33</th>\n",
              "      <td>North Carolina</td>\n",
              "      <td>5464097</td>\n",
              "      <td>5652431</td>\n",
              "      <td>96.668088</td>\n",
              "      <td>188334</td>\n",
              "      <td>Donald Trump</td>\n",
              "      <td>REP</td>\n",
              "      <td>2733687</td>\n",
              "      <td>50.029987</td>\n",
              "      <td>Joe Biden</td>\n",
              "      <td>DEM</td>\n",
              "      <td>2658280</td>\n",
              "      <td>48.649942</td>\n",
              "      <td>False</td>\n",
              "    </tr>\n",
              "    <tr>\n",
              "      <th>38</th>\n",
              "      <td>Pennsylvania</td>\n",
              "      <td>6765139</td>\n",
              "      <td>6827967</td>\n",
              "      <td>99.079843</td>\n",
              "      <td>62828</td>\n",
              "      <td>Joe Biden</td>\n",
              "      <td>DEM</td>\n",
              "      <td>3361668</td>\n",
              "      <td>49.691041</td>\n",
              "      <td>Donald Trump</td>\n",
              "      <td>REP</td>\n",
              "      <td>3315998</td>\n",
              "      <td>49.015963</td>\n",
              "      <td>False</td>\n",
              "    </tr>\n",
              "  </tbody>\n",
              "</table>\n",
              "</div>"
            ],
            "text/plain": [
              "             state  current_votes  ...  2nd_percent  is_election_defined\n",
              "1           Alaska         131885  ...    34.695379                False\n",
              "2          Arizona        3322535  ...    48.958973                False\n",
              "28          Nevada        1323719  ...    47.584042                False\n",
              "30      New Jersey        3610021  ...    40.163977                False\n",
              "32        New York        6641544  ...    42.917008                False\n",
              "33  North Carolina        5464097  ...    48.649942                False\n",
              "38    Pennsylvania        6765139  ...    49.015963                False\n",
              "\n",
              "[7 rows x 14 columns]"
            ]
          },
          "metadata": {
            "tags": []
          },
          "execution_count": 18
        }
      ]
    },
    {
      "cell_type": "code",
      "metadata": {
        "id": "edRvpafmLHR7",
        "outputId": "5d9d3807-442f-41be-d586-b7bc57908bb3",
        "colab": {
          "base_uri": "https://localhost:8080/",
          "height": 214
        }
      },
      "source": [
        "db_president_state_results = pd.merge(db_president_state, db_results_by_state)\n",
        "#db_president_state_results.to_csv('us_elections/president_state_results.csv')\n",
        "db_president_state_results.head()"
      ],
      "execution_count": 19,
      "outputs": [
        {
          "output_type": "execute_result",
          "data": {
            "text/html": [
              "<div>\n",
              "<style scoped>\n",
              "    .dataframe tbody tr th:only-of-type {\n",
              "        vertical-align: middle;\n",
              "    }\n",
              "\n",
              "    .dataframe tbody tr th {\n",
              "        vertical-align: top;\n",
              "    }\n",
              "\n",
              "    .dataframe thead th {\n",
              "        text-align: right;\n",
              "    }\n",
              "</style>\n",
              "<table border=\"1\" class=\"dataframe\">\n",
              "  <thead>\n",
              "    <tr style=\"text-align: right;\">\n",
              "      <th></th>\n",
              "      <th>state</th>\n",
              "      <th>state_code</th>\n",
              "      <th>population</th>\n",
              "      <th>votes</th>\n",
              "      <th>party</th>\n",
              "      <th>electoral_votes</th>\n",
              "      <th>current_votes</th>\n",
              "      <th>total_votes</th>\n",
              "      <th>percent</th>\n",
              "      <th>remaining_votes</th>\n",
              "      <th>1st_candidate</th>\n",
              "      <th>1st_party</th>\n",
              "      <th>1st_votes</th>\n",
              "      <th>1st_percent</th>\n",
              "      <th>2nd_candidate</th>\n",
              "      <th>2nd_party</th>\n",
              "      <th>2nd_votes</th>\n",
              "      <th>2nd_percent</th>\n",
              "      <th>is_election_defined</th>\n",
              "    </tr>\n",
              "  </thead>\n",
              "  <tbody>\n",
              "    <tr>\n",
              "      <th>0</th>\n",
              "      <td>Alabama</td>\n",
              "      <td>AL</td>\n",
              "      <td>4908621</td>\n",
              "      <td>2309900</td>\n",
              "      <td>REP</td>\n",
              "      <td>9</td>\n",
              "      <td>2309900</td>\n",
              "      <td>2309900</td>\n",
              "      <td>100.000000</td>\n",
              "      <td>0</td>\n",
              "      <td>Donald Trump</td>\n",
              "      <td>REP</td>\n",
              "      <td>1434159</td>\n",
              "      <td>62.087493</td>\n",
              "      <td>Joe Biden</td>\n",
              "      <td>DEM</td>\n",
              "      <td>843473</td>\n",
              "      <td>36.515563</td>\n",
              "      <td>True</td>\n",
              "    </tr>\n",
              "    <tr>\n",
              "      <th>1</th>\n",
              "      <td>Alaska</td>\n",
              "      <td>AK</td>\n",
              "      <td>734002</td>\n",
              "      <td>172031</td>\n",
              "      <td>REP</td>\n",
              "      <td>3</td>\n",
              "      <td>131885</td>\n",
              "      <td>366006</td>\n",
              "      <td>36.033562</td>\n",
              "      <td>234121</td>\n",
              "      <td>Donald Trump</td>\n",
              "      <td>REP</td>\n",
              "      <td>80999</td>\n",
              "      <td>61.416385</td>\n",
              "      <td>Joe Biden</td>\n",
              "      <td>DEM</td>\n",
              "      <td>45758</td>\n",
              "      <td>34.695379</td>\n",
              "      <td>False</td>\n",
              "    </tr>\n",
              "    <tr>\n",
              "      <th>2</th>\n",
              "      <td>Arizona</td>\n",
              "      <td>AZ</td>\n",
              "      <td>7378494</td>\n",
              "      <td>3322535</td>\n",
              "      <td>REP</td>\n",
              "      <td>11</td>\n",
              "      <td>3322535</td>\n",
              "      <td>3403744</td>\n",
              "      <td>97.614127</td>\n",
              "      <td>81209</td>\n",
              "      <td>Joe Biden</td>\n",
              "      <td>DEM</td>\n",
              "      <td>1643664</td>\n",
              "      <td>49.470179</td>\n",
              "      <td>Donald Trump</td>\n",
              "      <td>REP</td>\n",
              "      <td>1626679</td>\n",
              "      <td>48.958973</td>\n",
              "      <td>False</td>\n",
              "    </tr>\n",
              "    <tr>\n",
              "      <th>3</th>\n",
              "      <td>Arkansas</td>\n",
              "      <td>AR</td>\n",
              "      <td>3038999</td>\n",
              "      <td>1216818</td>\n",
              "      <td>REP</td>\n",
              "      <td>6</td>\n",
              "      <td>1216818</td>\n",
              "      <td>1250053</td>\n",
              "      <td>97.341313</td>\n",
              "      <td>33235</td>\n",
              "      <td>Donald Trump</td>\n",
              "      <td>REP</td>\n",
              "      <td>761251</td>\n",
              "      <td>62.560794</td>\n",
              "      <td>Joe Biden</td>\n",
              "      <td>DEM</td>\n",
              "      <td>420985</td>\n",
              "      <td>34.597204</td>\n",
              "      <td>True</td>\n",
              "    </tr>\n",
              "    <tr>\n",
              "      <th>4</th>\n",
              "      <td>California</td>\n",
              "      <td>CA</td>\n",
              "      <td>39937489</td>\n",
              "      <td>14414296</td>\n",
              "      <td>DEM</td>\n",
              "      <td>55</td>\n",
              "      <td>14414296</td>\n",
              "      <td>15813337</td>\n",
              "      <td>91.152778</td>\n",
              "      <td>1399041</td>\n",
              "      <td>Joe Biden</td>\n",
              "      <td>DEM</td>\n",
              "      <td>9315259</td>\n",
              "      <td>64.625140</td>\n",
              "      <td>Donald Trump</td>\n",
              "      <td>REP</td>\n",
              "      <td>4812735</td>\n",
              "      <td>33.388623</td>\n",
              "      <td>True</td>\n",
              "    </tr>\n",
              "  </tbody>\n",
              "</table>\n",
              "</div>"
            ],
            "text/plain": [
              "        state state_code  ...  2nd_percent  is_election_defined\n",
              "0     Alabama         AL  ...    36.515563                 True\n",
              "1      Alaska         AK  ...    34.695379                False\n",
              "2     Arizona         AZ  ...    48.958973                False\n",
              "3    Arkansas         AR  ...    34.597204                 True\n",
              "4  California         CA  ...    33.388623                 True\n",
              "\n",
              "[5 rows x 19 columns]"
            ]
          },
          "metadata": {
            "tags": []
          },
          "execution_count": 19
        }
      ]
    },
    {
      "cell_type": "code",
      "metadata": {
        "id": "fVPYUnR96PcU",
        "outputId": "b8dce47a-fc4e-49ae-d57a-e465e0b56f31",
        "colab": {
          "base_uri": "https://localhost:8080/",
          "height": 542
        }
      },
      "source": [
        "db_president_state_results['tendency'] = db_president_state_results.apply(lambda row: 1 if (row['party'] == row['1st_party']) else 0, axis=1)\n",
        "\n",
        "df = db_president_state_results[['state', 'state_code', 'tendency']]\n",
        "df.columns = ['Estado', 'Abreviação', 'Tendência']\n",
        "\n",
        "fig = px.choropleth(df, \n",
        "                    locations=\"Abreviação\", \n",
        "                    color = \"Tendência\",\n",
        "                    locationmode = 'USA-states', \n",
        "                    hover_name=\"Estado\",\n",
        "                    color_continuous_scale = ['white', 'red'],\n",
        "                    scope=\"usa\",\n",
        "                    title='Eleições EUA 2020: Tendência de se eleger um candidato do mesmo partido do governador em ' + df['Tendência'].sum().astype(str) + ' estados')\n",
        "fig.show()"
      ],
      "execution_count": 20,
      "outputs": [
        {
          "output_type": "display_data",
          "data": {
            "text/html": [
              "<html>\n",
              "<head><meta charset=\"utf-8\" /></head>\n",
              "<body>\n",
              "    <div>\n",
              "            <script src=\"https://cdnjs.cloudflare.com/ajax/libs/mathjax/2.7.5/MathJax.js?config=TeX-AMS-MML_SVG\"></script><script type=\"text/javascript\">if (window.MathJax) {MathJax.Hub.Config({SVG: {font: \"STIX-Web\"}});}</script>\n",
              "                <script type=\"text/javascript\">window.PlotlyConfig = {MathJaxConfig: 'local'};</script>\n",
              "        <script src=\"https://cdn.plot.ly/plotly-latest.min.js\"></script>    \n",
              "            <div id=\"b62c6d88-3674-4c51-ade0-4fd860e041bf\" class=\"plotly-graph-div\" style=\"height:525px; width:100%;\"></div>\n",
              "            <script type=\"text/javascript\">\n",
              "                \n",
              "                    window.PLOTLYENV=window.PLOTLYENV || {};\n",
              "                    \n",
              "                if (document.getElementById(\"b62c6d88-3674-4c51-ade0-4fd860e041bf\")) {\n",
              "                    Plotly.newPlot(\n",
              "                        'b62c6d88-3674-4c51-ade0-4fd860e041bf',\n",
              "                        [{\"coloraxis\": \"coloraxis\", \"geo\": \"geo\", \"hoverlabel\": {\"namelength\": 0}, \"hovertemplate\": \"<b>%{hovertext}</b><br><br>Abrevia\\u00e7\\u00e3o=%{location}<br>Tend\\u00eancia=%{z}\", \"hovertext\": [\"Alabama\", \"Alaska\", \"Arizona\", \"Arkansas\", \"California\", \"Colorado\", \"Connecticut\", \"Delaware\", \"District of Columbia\", \"Florida\", \"Georgia\", \"Hawaii\", \"Idaho\", \"Illinois\", \"Indiana\", \"Iowa\", \"Kansas\", \"Kentucky\", \"Louisiana\", \"Maine\", \"Maryland\", \"Massachusetts\", \"Michigan\", \"Minnesota\", \"Mississippi\", \"Missouri\", \"Montana\", \"Nebraska\", \"Nevada\", \"New Hampshire\", \"New Jersey\", \"New Mexico\", \"New York\", \"North Carolina\", \"North Dakota\", \"Ohio\", \"Oklahoma\", \"Oregon\", \"Pennsylvania\", \"Rhode Island\", \"South Carolina\", \"South Dakota\", \"Tennessee\", \"Texas\", \"Utah\", \"Vermont\", \"Virginia\", \"Washington\", \"West Virginia\", \"Wisconsin\", \"Wyoming\"], \"locationmode\": \"USA-states\", \"locations\": [\"AL\", \"AK\", \"AZ\", \"AR\", \"CA\", \"CO\", \"CT\", \"DC\", \"DE\", \"FL\", \"GA\", \"HI\", \"ID\", \"IL\", \"IN\", \"IA\", \"KS\", \"KY\", \"LA\", \"MA\", \"MD\", \"ME\", \"MI\", \"MN\", \"MO\", \"MS\", \"MT\", \"NE\", \"NV\", \"NH\", \"NJ\", \"NM\", \"NY\", \"NC\", \"ND\", \"OH\", \"OK\", \"OR\", \"PA\", \"RI\", \"SC\", \"SD\", \"TN\", \"TX\", \"UT\", \"VT\", \"VA\", \"WA\", \"WV\", \"WI\", \"WY\"], \"name\": \"\", \"type\": \"choropleth\", \"z\": [1, 1, 0, 1, 1, 1, 1, 1, 1, 1, 0, 1, 1, 1, 1, 1, 0, 0, 0, 1, 0, 0, 1, 1, 1, 1, 0, 1, 1, 0, 1, 1, 1, 0, 1, 1, 1, 1, 1, 1, 1, 1, 1, 1, 0, 0, 1, 1, 1, 1, 1]}],\n",
              "                        {\"coloraxis\": {\"colorbar\": {\"title\": {\"text\": \"Tend\\u00eancia\"}}, \"colorscale\": [[0.0, \"white\"], [1.0, \"red\"]]}, \"geo\": {\"center\": {}, \"domain\": {\"x\": [0.0, 1.0], \"y\": [0.0, 1.0]}, \"scope\": \"usa\"}, \"legend\": {\"tracegroupgap\": 0}, \"template\": {\"data\": {\"bar\": [{\"error_x\": {\"color\": \"#2a3f5f\"}, \"error_y\": {\"color\": \"#2a3f5f\"}, \"marker\": {\"line\": {\"color\": \"#E5ECF6\", \"width\": 0.5}}, \"type\": \"bar\"}], \"barpolar\": [{\"marker\": {\"line\": {\"color\": \"#E5ECF6\", \"width\": 0.5}}, \"type\": \"barpolar\"}], \"carpet\": [{\"aaxis\": {\"endlinecolor\": \"#2a3f5f\", \"gridcolor\": \"white\", \"linecolor\": \"white\", \"minorgridcolor\": \"white\", \"startlinecolor\": \"#2a3f5f\"}, \"baxis\": {\"endlinecolor\": \"#2a3f5f\", \"gridcolor\": \"white\", \"linecolor\": \"white\", \"minorgridcolor\": \"white\", \"startlinecolor\": \"#2a3f5f\"}, \"type\": \"carpet\"}], \"choropleth\": [{\"colorbar\": {\"outlinewidth\": 0, \"ticks\": \"\"}, \"type\": \"choropleth\"}], \"contour\": [{\"colorbar\": {\"outlinewidth\": 0, \"ticks\": \"\"}, \"colorscale\": [[0.0, \"#0d0887\"], [0.1111111111111111, \"#46039f\"], [0.2222222222222222, \"#7201a8\"], [0.3333333333333333, \"#9c179e\"], [0.4444444444444444, \"#bd3786\"], [0.5555555555555556, \"#d8576b\"], [0.6666666666666666, \"#ed7953\"], [0.7777777777777778, \"#fb9f3a\"], [0.8888888888888888, \"#fdca26\"], [1.0, \"#f0f921\"]], \"type\": \"contour\"}], \"contourcarpet\": [{\"colorbar\": {\"outlinewidth\": 0, \"ticks\": \"\"}, \"type\": \"contourcarpet\"}], \"heatmap\": [{\"colorbar\": {\"outlinewidth\": 0, \"ticks\": \"\"}, \"colorscale\": [[0.0, \"#0d0887\"], [0.1111111111111111, \"#46039f\"], [0.2222222222222222, \"#7201a8\"], [0.3333333333333333, \"#9c179e\"], [0.4444444444444444, \"#bd3786\"], [0.5555555555555556, \"#d8576b\"], [0.6666666666666666, \"#ed7953\"], [0.7777777777777778, \"#fb9f3a\"], [0.8888888888888888, \"#fdca26\"], [1.0, \"#f0f921\"]], \"type\": \"heatmap\"}], \"heatmapgl\": [{\"colorbar\": {\"outlinewidth\": 0, \"ticks\": \"\"}, \"colorscale\": [[0.0, \"#0d0887\"], [0.1111111111111111, \"#46039f\"], [0.2222222222222222, \"#7201a8\"], [0.3333333333333333, \"#9c179e\"], [0.4444444444444444, \"#bd3786\"], [0.5555555555555556, \"#d8576b\"], [0.6666666666666666, \"#ed7953\"], [0.7777777777777778, \"#fb9f3a\"], [0.8888888888888888, \"#fdca26\"], [1.0, \"#f0f921\"]], \"type\": \"heatmapgl\"}], \"histogram\": [{\"marker\": {\"colorbar\": {\"outlinewidth\": 0, \"ticks\": \"\"}}, \"type\": \"histogram\"}], \"histogram2d\": [{\"colorbar\": {\"outlinewidth\": 0, \"ticks\": \"\"}, \"colorscale\": [[0.0, \"#0d0887\"], [0.1111111111111111, \"#46039f\"], [0.2222222222222222, \"#7201a8\"], [0.3333333333333333, \"#9c179e\"], [0.4444444444444444, \"#bd3786\"], [0.5555555555555556, \"#d8576b\"], [0.6666666666666666, \"#ed7953\"], [0.7777777777777778, \"#fb9f3a\"], [0.8888888888888888, \"#fdca26\"], [1.0, \"#f0f921\"]], \"type\": \"histogram2d\"}], \"histogram2dcontour\": [{\"colorbar\": {\"outlinewidth\": 0, \"ticks\": \"\"}, \"colorscale\": [[0.0, \"#0d0887\"], [0.1111111111111111, \"#46039f\"], [0.2222222222222222, \"#7201a8\"], [0.3333333333333333, \"#9c179e\"], [0.4444444444444444, \"#bd3786\"], [0.5555555555555556, \"#d8576b\"], [0.6666666666666666, \"#ed7953\"], [0.7777777777777778, \"#fb9f3a\"], [0.8888888888888888, \"#fdca26\"], [1.0, \"#f0f921\"]], \"type\": \"histogram2dcontour\"}], \"mesh3d\": [{\"colorbar\": {\"outlinewidth\": 0, \"ticks\": \"\"}, \"type\": \"mesh3d\"}], \"parcoords\": [{\"line\": {\"colorbar\": {\"outlinewidth\": 0, \"ticks\": \"\"}}, \"type\": \"parcoords\"}], \"pie\": [{\"automargin\": true, \"type\": \"pie\"}], \"scatter\": [{\"marker\": {\"colorbar\": {\"outlinewidth\": 0, \"ticks\": \"\"}}, \"type\": \"scatter\"}], \"scatter3d\": [{\"line\": {\"colorbar\": {\"outlinewidth\": 0, \"ticks\": \"\"}}, \"marker\": {\"colorbar\": {\"outlinewidth\": 0, \"ticks\": \"\"}}, \"type\": \"scatter3d\"}], \"scattercarpet\": [{\"marker\": {\"colorbar\": {\"outlinewidth\": 0, \"ticks\": \"\"}}, \"type\": \"scattercarpet\"}], \"scattergeo\": [{\"marker\": {\"colorbar\": {\"outlinewidth\": 0, \"ticks\": \"\"}}, \"type\": \"scattergeo\"}], \"scattergl\": [{\"marker\": {\"colorbar\": {\"outlinewidth\": 0, \"ticks\": \"\"}}, \"type\": \"scattergl\"}], \"scattermapbox\": [{\"marker\": {\"colorbar\": {\"outlinewidth\": 0, \"ticks\": \"\"}}, \"type\": \"scattermapbox\"}], \"scatterpolar\": [{\"marker\": {\"colorbar\": {\"outlinewidth\": 0, \"ticks\": \"\"}}, \"type\": \"scatterpolar\"}], \"scatterpolargl\": [{\"marker\": {\"colorbar\": {\"outlinewidth\": 0, \"ticks\": \"\"}}, \"type\": \"scatterpolargl\"}], \"scatterternary\": [{\"marker\": {\"colorbar\": {\"outlinewidth\": 0, \"ticks\": \"\"}}, \"type\": \"scatterternary\"}], \"surface\": [{\"colorbar\": {\"outlinewidth\": 0, \"ticks\": \"\"}, \"colorscale\": [[0.0, \"#0d0887\"], [0.1111111111111111, \"#46039f\"], [0.2222222222222222, \"#7201a8\"], [0.3333333333333333, \"#9c179e\"], [0.4444444444444444, \"#bd3786\"], [0.5555555555555556, \"#d8576b\"], [0.6666666666666666, \"#ed7953\"], [0.7777777777777778, \"#fb9f3a\"], [0.8888888888888888, \"#fdca26\"], [1.0, \"#f0f921\"]], \"type\": \"surface\"}], \"table\": [{\"cells\": {\"fill\": {\"color\": \"#EBF0F8\"}, \"line\": {\"color\": \"white\"}}, \"header\": {\"fill\": {\"color\": \"#C8D4E3\"}, \"line\": {\"color\": \"white\"}}, \"type\": \"table\"}]}, \"layout\": {\"annotationdefaults\": {\"arrowcolor\": \"#2a3f5f\", \"arrowhead\": 0, \"arrowwidth\": 1}, \"coloraxis\": {\"colorbar\": {\"outlinewidth\": 0, \"ticks\": \"\"}}, \"colorscale\": {\"diverging\": [[0, \"#8e0152\"], [0.1, \"#c51b7d\"], [0.2, \"#de77ae\"], [0.3, \"#f1b6da\"], [0.4, \"#fde0ef\"], [0.5, \"#f7f7f7\"], [0.6, \"#e6f5d0\"], [0.7, \"#b8e186\"], [0.8, \"#7fbc41\"], [0.9, \"#4d9221\"], [1, \"#276419\"]], \"sequential\": [[0.0, \"#0d0887\"], [0.1111111111111111, \"#46039f\"], [0.2222222222222222, \"#7201a8\"], [0.3333333333333333, \"#9c179e\"], [0.4444444444444444, \"#bd3786\"], [0.5555555555555556, \"#d8576b\"], [0.6666666666666666, \"#ed7953\"], [0.7777777777777778, \"#fb9f3a\"], [0.8888888888888888, \"#fdca26\"], [1.0, \"#f0f921\"]], \"sequentialminus\": [[0.0, \"#0d0887\"], [0.1111111111111111, \"#46039f\"], [0.2222222222222222, \"#7201a8\"], [0.3333333333333333, \"#9c179e\"], [0.4444444444444444, \"#bd3786\"], [0.5555555555555556, \"#d8576b\"], [0.6666666666666666, \"#ed7953\"], [0.7777777777777778, \"#fb9f3a\"], [0.8888888888888888, \"#fdca26\"], [1.0, \"#f0f921\"]]}, \"colorway\": [\"#636efa\", \"#EF553B\", \"#00cc96\", \"#ab63fa\", \"#FFA15A\", \"#19d3f3\", \"#FF6692\", \"#B6E880\", \"#FF97FF\", \"#FECB52\"], \"font\": {\"color\": \"#2a3f5f\"}, \"geo\": {\"bgcolor\": \"white\", \"lakecolor\": \"white\", \"landcolor\": \"#E5ECF6\", \"showlakes\": true, \"showland\": true, \"subunitcolor\": \"white\"}, \"hoverlabel\": {\"align\": \"left\"}, \"hovermode\": \"closest\", \"mapbox\": {\"style\": \"light\"}, \"paper_bgcolor\": \"white\", \"plot_bgcolor\": \"#E5ECF6\", \"polar\": {\"angularaxis\": {\"gridcolor\": \"white\", \"linecolor\": \"white\", \"ticks\": \"\"}, \"bgcolor\": \"#E5ECF6\", \"radialaxis\": {\"gridcolor\": \"white\", \"linecolor\": \"white\", \"ticks\": \"\"}}, \"scene\": {\"xaxis\": {\"backgroundcolor\": \"#E5ECF6\", \"gridcolor\": \"white\", \"gridwidth\": 2, \"linecolor\": \"white\", \"showbackground\": true, \"ticks\": \"\", \"zerolinecolor\": \"white\"}, \"yaxis\": {\"backgroundcolor\": \"#E5ECF6\", \"gridcolor\": \"white\", \"gridwidth\": 2, \"linecolor\": \"white\", \"showbackground\": true, \"ticks\": \"\", \"zerolinecolor\": \"white\"}, \"zaxis\": {\"backgroundcolor\": \"#E5ECF6\", \"gridcolor\": \"white\", \"gridwidth\": 2, \"linecolor\": \"white\", \"showbackground\": true, \"ticks\": \"\", \"zerolinecolor\": \"white\"}}, \"shapedefaults\": {\"line\": {\"color\": \"#2a3f5f\"}}, \"ternary\": {\"aaxis\": {\"gridcolor\": \"white\", \"linecolor\": \"white\", \"ticks\": \"\"}, \"baxis\": {\"gridcolor\": \"white\", \"linecolor\": \"white\", \"ticks\": \"\"}, \"bgcolor\": \"#E5ECF6\", \"caxis\": {\"gridcolor\": \"white\", \"linecolor\": \"white\", \"ticks\": \"\"}}, \"title\": {\"x\": 0.05}, \"xaxis\": {\"automargin\": true, \"gridcolor\": \"white\", \"linecolor\": \"white\", \"ticks\": \"\", \"title\": {\"standoff\": 15}, \"zerolinecolor\": \"white\", \"zerolinewidth\": 2}, \"yaxis\": {\"automargin\": true, \"gridcolor\": \"white\", \"linecolor\": \"white\", \"ticks\": \"\", \"title\": {\"standoff\": 15}, \"zerolinecolor\": \"white\", \"zerolinewidth\": 2}}}, \"title\": {\"text\": \"Elei\\u00e7\\u00f5es EUA 2020: Tend\\u00eancia de se eleger um candidato do mesmo partido do governador em 39 estados\"}},\n",
              "                        {\"responsive\": true}\n",
              "                    ).then(function(){\n",
              "                            \n",
              "var gd = document.getElementById('b62c6d88-3674-4c51-ade0-4fd860e041bf');\n",
              "var x = new MutationObserver(function (mutations, observer) {{\n",
              "        var display = window.getComputedStyle(gd).display;\n",
              "        if (!display || display === 'none') {{\n",
              "            console.log([gd, 'removed!']);\n",
              "            Plotly.purge(gd);\n",
              "            observer.disconnect();\n",
              "        }}\n",
              "}});\n",
              "\n",
              "// Listen for the removal of the full notebook cells\n",
              "var notebookContainer = gd.closest('#notebook-container');\n",
              "if (notebookContainer) {{\n",
              "    x.observe(notebookContainer, {childList: true});\n",
              "}}\n",
              "\n",
              "// Listen for the clearing of the current output cell\n",
              "var outputEl = gd.closest('.output');\n",
              "if (outputEl) {{\n",
              "    x.observe(outputEl, {childList: true});\n",
              "}}\n",
              "\n",
              "                        })\n",
              "                };\n",
              "                \n",
              "            </script>\n",
              "        </div>\n",
              "</body>\n",
              "</html>"
            ]
          },
          "metadata": {
            "tags": []
          }
        }
      ]
    },
    {
      "cell_type": "markdown",
      "metadata": {
        "id": "ChZJFc0O2YL2"
      },
      "source": [
        "### Calculando o total de votos por Candidato (nível nacional)"
      ]
    },
    {
      "cell_type": "code",
      "metadata": {
        "id": "JhTq43gZ3YRc",
        "outputId": "f1e7b2df-fb13-45f1-f18f-cef9e4b6e84d",
        "colab": {
          "base_uri": "https://localhost:8080/"
        }
      },
      "source": [
        "# tabela de totais da votação\n",
        "db_totals = pd.merge(db_president_state, db_president_state_votes, how=\"inner\").sum()[['current_votes', 'total_votes', 'remaining_votes', 'electoral_votes']]\n",
        "db_totals['percent'] = 100 * db_totals.current_votes / db_totals.total_votes\n",
        "db_totals"
      ],
      "execution_count": 21,
      "outputs": [
        {
          "output_type": "execute_result",
          "data": {
            "text/plain": [
              "current_votes      150361237\n",
              "total_votes        158725744\n",
              "remaining_votes      8364507\n",
              "electoral_votes          538\n",
              "percent              94.7302\n",
              "dtype: object"
            ]
          },
          "metadata": {
            "tags": []
          },
          "execution_count": 21
        }
      ]
    },
    {
      "cell_type": "code",
      "metadata": {
        "id": "dPZabRp6Ytbp",
        "outputId": "4c804236-eca8-4afb-ccc2-6d83aed5206d",
        "colab": {
          "base_uri": "https://localhost:8080/",
          "height": 194
        }
      },
      "source": [
        "# total geral de votos computados para cada candidato\n",
        "db_president_candidate = db_president_state_candidate.groupby(['candidate', 'party']).sum().sort_values('votes', ascending=False).reset_index()\n",
        "db_president_candidate.columns = ['candidate', 'party', 'total_candidate_votes']\n",
        "db_president_candidate.head(5)"
      ],
      "execution_count": 22,
      "outputs": [
        {
          "output_type": "execute_result",
          "data": {
            "text/html": [
              "<div>\n",
              "<style scoped>\n",
              "    .dataframe tbody tr th:only-of-type {\n",
              "        vertical-align: middle;\n",
              "    }\n",
              "\n",
              "    .dataframe tbody tr th {\n",
              "        vertical-align: top;\n",
              "    }\n",
              "\n",
              "    .dataframe thead th {\n",
              "        text-align: right;\n",
              "    }\n",
              "</style>\n",
              "<table border=\"1\" class=\"dataframe\">\n",
              "  <thead>\n",
              "    <tr style=\"text-align: right;\">\n",
              "      <th></th>\n",
              "      <th>candidate</th>\n",
              "      <th>party</th>\n",
              "      <th>total_candidate_votes</th>\n",
              "    </tr>\n",
              "  </thead>\n",
              "  <tbody>\n",
              "    <tr>\n",
              "      <th>0</th>\n",
              "      <td>Joe Biden</td>\n",
              "      <td>DEM</td>\n",
              "      <td>76193955</td>\n",
              "    </tr>\n",
              "    <tr>\n",
              "      <th>1</th>\n",
              "      <td>Donald Trump</td>\n",
              "      <td>REP</td>\n",
              "      <td>71500110</td>\n",
              "    </tr>\n",
              "    <tr>\n",
              "      <th>2</th>\n",
              "      <td>Jo Jorgensen</td>\n",
              "      <td>LIB</td>\n",
              "      <td>1756245</td>\n",
              "    </tr>\n",
              "    <tr>\n",
              "      <th>3</th>\n",
              "      <td>Howie Hawkins</td>\n",
              "      <td>GRN</td>\n",
              "      <td>358496</td>\n",
              "    </tr>\n",
              "    <tr>\n",
              "      <th>4</th>\n",
              "      <td>Write-ins</td>\n",
              "      <td>WRI</td>\n",
              "      <td>160572</td>\n",
              "    </tr>\n",
              "  </tbody>\n",
              "</table>\n",
              "</div>"
            ],
            "text/plain": [
              "       candidate party  total_candidate_votes\n",
              "0      Joe Biden   DEM               76193955\n",
              "1   Donald Trump   REP               71500110\n",
              "2   Jo Jorgensen   LIB                1756245\n",
              "3  Howie Hawkins   GRN                 358496\n",
              "4      Write-ins   WRI                 160572"
            ]
          },
          "metadata": {
            "tags": []
          },
          "execution_count": 22
        }
      ]
    },
    {
      "cell_type": "code",
      "metadata": {
        "id": "RnuecsZPVggE",
        "outputId": "87ded181-2b8a-4cb2-af54-78e358b395dc",
        "colab": {
          "base_uri": "https://localhost:8080/",
          "height": 106
        }
      },
      "source": [
        "# resultado estimado do somatório do voto dos delegados nos estados onde o resultado da votação já está definido\n",
        "db_electoral_results = db_president_state_results[db_president_state_results.is_election_defined].groupby(['1st_candidate', '1st_party']).sum().sort_values('electoral_votes', ascending=False).reset_index()[['1st_candidate', '1st_party', 'electoral_votes']]\n",
        "db_electoral_results.columns = ['candidate', 'party', 'candidate_electoral_votes']\n",
        "db_electoral_results"
      ],
      "execution_count": 23,
      "outputs": [
        {
          "output_type": "execute_result",
          "data": {
            "text/html": [
              "<div>\n",
              "<style scoped>\n",
              "    .dataframe tbody tr th:only-of-type {\n",
              "        vertical-align: middle;\n",
              "    }\n",
              "\n",
              "    .dataframe tbody tr th {\n",
              "        vertical-align: top;\n",
              "    }\n",
              "\n",
              "    .dataframe thead th {\n",
              "        text-align: right;\n",
              "    }\n",
              "</style>\n",
              "<table border=\"1\" class=\"dataframe\">\n",
              "  <thead>\n",
              "    <tr style=\"text-align: right;\">\n",
              "      <th></th>\n",
              "      <th>candidate</th>\n",
              "      <th>party</th>\n",
              "      <th>candidate_electoral_votes</th>\n",
              "    </tr>\n",
              "  </thead>\n",
              "  <tbody>\n",
              "    <tr>\n",
              "      <th>0</th>\n",
              "      <td>Joe Biden</td>\n",
              "      <td>DEM</td>\n",
              "      <td>226</td>\n",
              "    </tr>\n",
              "    <tr>\n",
              "      <th>1</th>\n",
              "      <td>Donald Trump</td>\n",
              "      <td>REP</td>\n",
              "      <td>214</td>\n",
              "    </tr>\n",
              "  </tbody>\n",
              "</table>\n",
              "</div>"
            ],
            "text/plain": [
              "      candidate party  candidate_electoral_votes\n",
              "0     Joe Biden   DEM                        226\n",
              "1  Donald Trump   REP                        214"
            ]
          },
          "metadata": {
            "tags": []
          },
          "execution_count": 23
        }
      ]
    },
    {
      "cell_type": "code",
      "metadata": {
        "id": "QWpmBEUELvIl",
        "outputId": "ec2ded96-d927-4c36-9d7e-8126142a508f",
        "colab": {
          "base_uri": "https://localhost:8080/",
          "height": 106
        }
      },
      "source": [
        "db_results = pd.merge(db_electoral_results, db_president_candidate, how='inner')\n",
        "db_results['votes_percent'] = 100 * db_results.total_candidate_votes / db_totals.current_votes\n",
        "db_results['electoral_percent'] = 100 * db_results.candidate_electoral_votes / db_totals.electoral_votes\n",
        "db_results"
      ],
      "execution_count": 24,
      "outputs": [
        {
          "output_type": "execute_result",
          "data": {
            "text/html": [
              "<div>\n",
              "<style scoped>\n",
              "    .dataframe tbody tr th:only-of-type {\n",
              "        vertical-align: middle;\n",
              "    }\n",
              "\n",
              "    .dataframe tbody tr th {\n",
              "        vertical-align: top;\n",
              "    }\n",
              "\n",
              "    .dataframe thead th {\n",
              "        text-align: right;\n",
              "    }\n",
              "</style>\n",
              "<table border=\"1\" class=\"dataframe\">\n",
              "  <thead>\n",
              "    <tr style=\"text-align: right;\">\n",
              "      <th></th>\n",
              "      <th>candidate</th>\n",
              "      <th>party</th>\n",
              "      <th>candidate_electoral_votes</th>\n",
              "      <th>total_candidate_votes</th>\n",
              "      <th>votes_percent</th>\n",
              "      <th>electoral_percent</th>\n",
              "    </tr>\n",
              "  </thead>\n",
              "  <tbody>\n",
              "    <tr>\n",
              "      <th>0</th>\n",
              "      <td>Joe Biden</td>\n",
              "      <td>DEM</td>\n",
              "      <td>226</td>\n",
              "      <td>76193955</td>\n",
              "      <td>50.673935</td>\n",
              "      <td>42.007435</td>\n",
              "    </tr>\n",
              "    <tr>\n",
              "      <th>1</th>\n",
              "      <td>Donald Trump</td>\n",
              "      <td>REP</td>\n",
              "      <td>214</td>\n",
              "      <td>71500110</td>\n",
              "      <td>47.552223</td>\n",
              "      <td>39.776952</td>\n",
              "    </tr>\n",
              "  </tbody>\n",
              "</table>\n",
              "</div>"
            ],
            "text/plain": [
              "      candidate party  ...  votes_percent  electoral_percent\n",
              "0     Joe Biden   DEM  ...      50.673935          42.007435\n",
              "1  Donald Trump   REP  ...      47.552223          39.776952\n",
              "\n",
              "[2 rows x 6 columns]"
            ]
          },
          "metadata": {
            "tags": []
          },
          "execution_count": 24
        }
      ]
    },
    {
      "cell_type": "code",
      "metadata": {
        "id": "OT_r1FDgZFU6"
      },
      "source": [
        "# TODO plotar gráfico com os partidos vencedores em cada estado, DEM em azul, REP em vermelho\n",
        "\n",
        "#df = db_president_state_results[['state', 'state_code', 'tendency']]\n",
        "#df.columns = ['Estado', 'Abreviação', 'Tendência']\n",
        "#\n",
        "#fig = px.choropleth(df, \n",
        "#                    locations=\"Abreviação\", \n",
        "#                    color = \"Tendência\",\n",
        "#                    locationmode = 'USA-states', \n",
        "#                    hover_name=\"Estado\",\n",
        "#                    color_continuous_scale = ['white', 'red'],\n",
        "#                    scope=\"usa\",\n",
        "#                    title='Eleições EUA 2020: Tendência de se eleger um candidato do mesmo partido do governador em ' + df['Tendência'].sum().astype(str) + ' estados')\n",
        "#fig.show()"
      ],
      "execution_count": 25,
      "outputs": []
    },
    {
      "cell_type": "code",
      "metadata": {
        "id": "CGeTvCEHZ99u",
        "outputId": "5cf31f13-9ba0-45b5-b4d3-513ae65964a7",
        "colab": {
          "base_uri": "https://localhost:8080/",
          "height": 280
        }
      },
      "source": [
        "# TODO renomear o eixo X com o nome dos candidatos\n",
        "db_results.candidate_electoral_votes.plot(kind = 'bar')"
      ],
      "execution_count": 26,
      "outputs": [
        {
          "output_type": "execute_result",
          "data": {
            "text/plain": [
              "<matplotlib.axes._subplots.AxesSubplot at 0x7fea2d4bceb8>"
            ]
          },
          "metadata": {
            "tags": []
          },
          "execution_count": 26
        },
        {
          "output_type": "display_data",
          "data": {
            "image/png": "[encoded data removed]",
            "text/plain": [
              "<Figure size 432x288 with 1 Axes>"
            ]
          },
          "metadata": {
            "tags": [],
            "needs_background": "light"
          }
        }
      ]
    },
    {
      "cell_type": "markdown",
      "metadata": {
        "id": "bargFbGTPqUo"
      },
      "source": [
        "# b) Calcular a média, mediana, moda, desvio-padrão, coeficiente de variação e simetria das variáveis quantitativas"
      ]
    },
    {
      "cell_type": "code",
      "metadata": {
        "id": "gO_37eqocxUX"
      },
      "source": [
        "# Funções utilitárias para análise descritiva \n",
        "\n",
        "def analisar_medias(idx, sequence):\n",
        "  print(\"Analisando \" + str(idx) + \" >>>\")\n",
        "  print(\"\\tMédia aritmética:\", st.mean(sequence))\n",
        "  print(\"\\tMédia harmônica:\", round(st.harmonic_mean(sequence),2))\n",
        "  print(\"\\tMediana:\", st.median(sequence))\n",
        "  try:\n",
        "    print(\"\\tModa:\", st.mode(sequence))\n",
        "  except st.StatisticsError:\n",
        "    print(\"\\tNÃO tem Moda!\")\n",
        "    #print(\"\\tContagem:\", Counter(sequence))\n",
        "\n",
        "def calcular_coeficiente_variacao(n):\n",
        "  num = 100*st.stdev(n)/st.mean(n)\n",
        "  return round(num,2)\n",
        "\n",
        "def analisar_variacao(idx, sequence):\n",
        "  print(\"Analisando \" + str(idx) + \" >>>\")\n",
        "  print(\"\\tVariância amostral:\", st.variance(sequence))\n",
        "  print(\"\\tDesvio-padrão amostral:\", st.stdev(sequence))\n",
        "  print(\"\\tVariância populacional:\", st.pvariance(sequence))\n",
        "  print(\"\\tDesvio-padrão populacional:\", st.pstdev(sequence))\n",
        "  print(\"\\tCV(%):\", calcular_coeficiente_variacao(sequence))\n",
        "\n",
        "def analisar_quartis(idx, sequence):\n",
        "  print(\"Time \" + str(idx) + \" >>>\")\n",
        "  print(\"\\tQuartis:\", np.quantile(sequence, [0, 0.25, 0.5, 0.75, 1]))\n",
        "\n",
        "def analisar_de_forma_descritiva(idx, sequence):\n",
        "  print(\"Analisando \"+str(idx)+\" >>>\")\n",
        "  print(\"\\t\" + str(stats.describe(sequence)))"
      ],
      "execution_count": 27,
      "outputs": []
    },
    {
      "cell_type": "code",
      "metadata": {
        "id": "lcbMeEJoQSzV",
        "outputId": "7bb37cb5-24f6-4f22-b911-268316974271",
        "colab": {
          "base_uri": "https://localhost:8080/",
          "height": 377
        }
      },
      "source": [
        "db_president_state_results.head(10)"
      ],
      "execution_count": 28,
      "outputs": [
        {
          "output_type": "execute_result",
          "data": {
            "text/html": [
              "<div>\n",
              "<style scoped>\n",
              "    .dataframe tbody tr th:only-of-type {\n",
              "        vertical-align: middle;\n",
              "    }\n",
              "\n",
              "    .dataframe tbody tr th {\n",
              "        vertical-align: top;\n",
              "    }\n",
              "\n",
              "    .dataframe thead th {\n",
              "        text-align: right;\n",
              "    }\n",
              "</style>\n",
              "<table border=\"1\" class=\"dataframe\">\n",
              "  <thead>\n",
              "    <tr style=\"text-align: right;\">\n",
              "      <th></th>\n",
              "      <th>state</th>\n",
              "      <th>state_code</th>\n",
              "      <th>population</th>\n",
              "      <th>votes</th>\n",
              "      <th>party</th>\n",
              "      <th>electoral_votes</th>\n",
              "      <th>current_votes</th>\n",
              "      <th>total_votes</th>\n",
              "      <th>percent</th>\n",
              "      <th>remaining_votes</th>\n",
              "      <th>1st_candidate</th>\n",
              "      <th>1st_party</th>\n",
              "      <th>1st_votes</th>\n",
              "      <th>1st_percent</th>\n",
              "      <th>2nd_candidate</th>\n",
              "      <th>2nd_party</th>\n",
              "      <th>2nd_votes</th>\n",
              "      <th>2nd_percent</th>\n",
              "      <th>is_election_defined</th>\n",
              "      <th>tendency</th>\n",
              "    </tr>\n",
              "  </thead>\n",
              "  <tbody>\n",
              "    <tr>\n",
              "      <th>0</th>\n",
              "      <td>Alabama</td>\n",
              "      <td>AL</td>\n",
              "      <td>4908621</td>\n",
              "      <td>2309900</td>\n",
              "      <td>REP</td>\n",
              "      <td>9</td>\n",
              "      <td>2309900</td>\n",
              "      <td>2309900</td>\n",
              "      <td>100.000000</td>\n",
              "      <td>0</td>\n",
              "      <td>Donald Trump</td>\n",
              "      <td>REP</td>\n",
              "      <td>1434159</td>\n",
              "      <td>62.087493</td>\n",
              "      <td>Joe Biden</td>\n",
              "      <td>DEM</td>\n",
              "      <td>843473</td>\n",
              "      <td>36.515563</td>\n",
              "      <td>True</td>\n",
              "      <td>1</td>\n",
              "    </tr>\n",
              "    <tr>\n",
              "      <th>1</th>\n",
              "      <td>Alaska</td>\n",
              "      <td>AK</td>\n",
              "      <td>734002</td>\n",
              "      <td>172031</td>\n",
              "      <td>REP</td>\n",
              "      <td>3</td>\n",
              "      <td>131885</td>\n",
              "      <td>366006</td>\n",
              "      <td>36.033562</td>\n",
              "      <td>234121</td>\n",
              "      <td>Donald Trump</td>\n",
              "      <td>REP</td>\n",
              "      <td>80999</td>\n",
              "      <td>61.416385</td>\n",
              "      <td>Joe Biden</td>\n",
              "      <td>DEM</td>\n",
              "      <td>45758</td>\n",
              "      <td>34.695379</td>\n",
              "      <td>False</td>\n",
              "      <td>1</td>\n",
              "    </tr>\n",
              "    <tr>\n",
              "      <th>2</th>\n",
              "      <td>Arizona</td>\n",
              "      <td>AZ</td>\n",
              "      <td>7378494</td>\n",
              "      <td>3322535</td>\n",
              "      <td>REP</td>\n",
              "      <td>11</td>\n",
              "      <td>3322535</td>\n",
              "      <td>3403744</td>\n",
              "      <td>97.614127</td>\n",
              "      <td>81209</td>\n",
              "      <td>Joe Biden</td>\n",
              "      <td>DEM</td>\n",
              "      <td>1643664</td>\n",
              "      <td>49.470179</td>\n",
              "      <td>Donald Trump</td>\n",
              "      <td>REP</td>\n",
              "      <td>1626679</td>\n",
              "      <td>48.958973</td>\n",
              "      <td>False</td>\n",
              "      <td>0</td>\n",
              "    </tr>\n",
              "    <tr>\n",
              "      <th>3</th>\n",
              "      <td>Arkansas</td>\n",
              "      <td>AR</td>\n",
              "      <td>3038999</td>\n",
              "      <td>1216818</td>\n",
              "      <td>REP</td>\n",
              "      <td>6</td>\n",
              "      <td>1216818</td>\n",
              "      <td>1250053</td>\n",
              "      <td>97.341313</td>\n",
              "      <td>33235</td>\n",
              "      <td>Donald Trump</td>\n",
              "      <td>REP</td>\n",
              "      <td>761251</td>\n",
              "      <td>62.560794</td>\n",
              "      <td>Joe Biden</td>\n",
              "      <td>DEM</td>\n",
              "      <td>420985</td>\n",
              "      <td>34.597204</td>\n",
              "      <td>True</td>\n",
              "      <td>1</td>\n",
              "    </tr>\n",
              "    <tr>\n",
              "      <th>4</th>\n",
              "      <td>California</td>\n",
              "      <td>CA</td>\n",
              "      <td>39937489</td>\n",
              "      <td>14414296</td>\n",
              "      <td>DEM</td>\n",
              "      <td>55</td>\n",
              "      <td>14414296</td>\n",
              "      <td>15813337</td>\n",
              "      <td>91.152778</td>\n",
              "      <td>1399041</td>\n",
              "      <td>Joe Biden</td>\n",
              "      <td>DEM</td>\n",
              "      <td>9315259</td>\n",
              "      <td>64.625140</td>\n",
              "      <td>Donald Trump</td>\n",
              "      <td>REP</td>\n",
              "      <td>4812735</td>\n",
              "      <td>33.388623</td>\n",
              "      <td>True</td>\n",
              "      <td>1</td>\n",
              "    </tr>\n",
              "    <tr>\n",
              "      <th>5</th>\n",
              "      <td>Colorado</td>\n",
              "      <td>CO</td>\n",
              "      <td>5845526</td>\n",
              "      <td>3173127</td>\n",
              "      <td>DEM</td>\n",
              "      <td>9</td>\n",
              "      <td>3173127</td>\n",
              "      <td>3222600</td>\n",
              "      <td>98.464811</td>\n",
              "      <td>49473</td>\n",
              "      <td>Joe Biden</td>\n",
              "      <td>DEM</td>\n",
              "      <td>1753416</td>\n",
              "      <td>55.258299</td>\n",
              "      <td>Donald Trump</td>\n",
              "      <td>REP</td>\n",
              "      <td>1335253</td>\n",
              "      <td>42.080037</td>\n",
              "      <td>True</td>\n",
              "      <td>1</td>\n",
              "    </tr>\n",
              "    <tr>\n",
              "      <th>6</th>\n",
              "      <td>Connecticut</td>\n",
              "      <td>CT</td>\n",
              "      <td>3563077</td>\n",
              "      <td>1786557</td>\n",
              "      <td>DEM</td>\n",
              "      <td>7</td>\n",
              "      <td>1786557</td>\n",
              "      <td>1839726</td>\n",
              "      <td>97.109950</td>\n",
              "      <td>53169</td>\n",
              "      <td>Joe Biden</td>\n",
              "      <td>DEM</td>\n",
              "      <td>1059252</td>\n",
              "      <td>59.290132</td>\n",
              "      <td>Donald Trump</td>\n",
              "      <td>REP</td>\n",
              "      <td>699079</td>\n",
              "      <td>39.129958</td>\n",
              "      <td>True</td>\n",
              "      <td>1</td>\n",
              "    </tr>\n",
              "    <tr>\n",
              "      <th>7</th>\n",
              "      <td>Delaware</td>\n",
              "      <td>DC</td>\n",
              "      <td>982895</td>\n",
              "      <td>502384</td>\n",
              "      <td>DEM</td>\n",
              "      <td>3</td>\n",
              "      <td>502384</td>\n",
              "      <td>506878</td>\n",
              "      <td>99.113396</td>\n",
              "      <td>4494</td>\n",
              "      <td>Joe Biden</td>\n",
              "      <td>DEM</td>\n",
              "      <td>295413</td>\n",
              "      <td>58.802231</td>\n",
              "      <td>Donald Trump</td>\n",
              "      <td>REP</td>\n",
              "      <td>199857</td>\n",
              "      <td>39.781721</td>\n",
              "      <td>True</td>\n",
              "      <td>1</td>\n",
              "    </tr>\n",
              "    <tr>\n",
              "      <th>8</th>\n",
              "      <td>District of Columbia</td>\n",
              "      <td>DE</td>\n",
              "      <td>720687</td>\n",
              "      <td>279152</td>\n",
              "      <td>DEM</td>\n",
              "      <td>3</td>\n",
              "      <td>279152</td>\n",
              "      <td>348619</td>\n",
              "      <td>80.073662</td>\n",
              "      <td>69467</td>\n",
              "      <td>Joe Biden</td>\n",
              "      <td>DEM</td>\n",
              "      <td>258561</td>\n",
              "      <td>92.623732</td>\n",
              "      <td>Donald Trump</td>\n",
              "      <td>REP</td>\n",
              "      <td>14449</td>\n",
              "      <td>5.176033</td>\n",
              "      <td>True</td>\n",
              "      <td>1</td>\n",
              "    </tr>\n",
              "    <tr>\n",
              "      <th>9</th>\n",
              "      <td>Florida</td>\n",
              "      <td>FL</td>\n",
              "      <td>21992985</td>\n",
              "      <td>11075706</td>\n",
              "      <td>REP</td>\n",
              "      <td>29</td>\n",
              "      <td>11075706</td>\n",
              "      <td>11321757</td>\n",
              "      <td>97.826742</td>\n",
              "      <td>246051</td>\n",
              "      <td>Donald Trump</td>\n",
              "      <td>REP</td>\n",
              "      <td>5667834</td>\n",
              "      <td>51.173569</td>\n",
              "      <td>Joe Biden</td>\n",
              "      <td>DEM</td>\n",
              "      <td>5294767</td>\n",
              "      <td>47.805232</td>\n",
              "      <td>True</td>\n",
              "      <td>1</td>\n",
              "    </tr>\n",
              "  </tbody>\n",
              "</table>\n",
              "</div>"
            ],
            "text/plain": [
              "                  state state_code  ...  is_election_defined  tendency\n",
              "0               Alabama         AL  ...                 True         1\n",
              "1                Alaska         AK  ...                False         1\n",
              "2               Arizona         AZ  ...                False         0\n",
              "3              Arkansas         AR  ...                 True         1\n",
              "4            California         CA  ...                 True         1\n",
              "5              Colorado         CO  ...                 True         1\n",
              "6           Connecticut         CT  ...                 True         1\n",
              "7              Delaware         DC  ...                 True         1\n",
              "8  District of Columbia         DE  ...                 True         1\n",
              "9               Florida         FL  ...                 True         1\n",
              "\n",
              "[10 rows x 20 columns]"
            ]
          },
          "metadata": {
            "tags": []
          },
          "execution_count": 28
        }
      ]
    },
    {
      "cell_type": "code",
      "metadata": {
        "id": "PuRgTfalSoLF",
        "outputId": "951381eb-d1cf-46b1-bed0-66ac8cb7e7c5",
        "colab": {
          "base_uri": "https://localhost:8080/"
        }
      },
      "source": [
        "analisar_medias('Porcentagem de votos computados por estado', db_president_state_results.percent)\n",
        "\n",
        "analisar_variacao('Porcentagem de votos computados por estado', db_president_state_results.percent)"
      ],
      "execution_count": 29,
      "outputs": [
        {
          "output_type": "stream",
          "text": [
            "Analisando Porcentagem de votos computados por estado >>>\n",
            "\tMédia aritmética: 95.16680097173028\n",
            "\tMédia harmônica: 92.96\n",
            "\tMediana: 97.82674190940504\n",
            "\tModa: 100.0\n",
            "Analisando Porcentagem de votos computados por estado >>>\n",
            "\tVariância amostral: 100.90240265152865\n",
            "\tDesvio-padrão amostral: 10.04501879796791\n",
            "\tVariância populacional: 98.92392416816533\n",
            "\tDesvio-padrão populacional: 9.946050681962431\n",
            "\tCV(%): 10.56\n"
          ],
          "name": "stdout"
        }
      ]
    },
    {
      "cell_type": "code",
      "metadata": {
        "id": "PY6lO1IVTuRC",
        "outputId": "2ff6d084-af82-4d22-a205-f3e6784bc2de",
        "colab": {
          "base_uri": "https://localhost:8080/"
        }
      },
      "source": [
        "analisar_medias('Porcentagem de votos do primeiro colocado por estado', db_president_state_results['1st_percent'])\n",
        "\n",
        "analisar_variacao('Porcentagem de votos do primeiro colocado por estado', db_president_state_results['1st_percent'])"
      ],
      "execution_count": 30,
      "outputs": [
        {
          "output_type": "stream",
          "text": [
            "Analisando Porcentagem de votos do primeiro colocado por estado >>>\n",
            "\tMédia aritmética: 58.42670032788861\n",
            "\tMédia harmônica: 57.68\n",
            "\tMediana: 58.39605919189944\n",
            "\tNÃO tem Moda!\n",
            "Analisando Porcentagem de votos do primeiro colocado por estado >>>\n",
            "\tVariância amostral: 52.507161405001675\n",
            "\tDesvio-padrão amostral: 7.246182540138061\n",
            "\tVariância populacional: 51.477609220589876\n",
            "\tDesvio-padrão populacional: 7.174789838078177\n",
            "\tCV(%): 12.4\n"
          ],
          "name": "stdout"
        }
      ]
    },
    {
      "cell_type": "code",
      "metadata": {
        "id": "f3YSGLZNcF4g",
        "outputId": "0454069d-8e51-43c3-c656-0c7f9f9ebc99",
        "colab": {
          "base_uri": "https://localhost:8080/"
        }
      },
      "source": [
        "analisar_medias('Quantidade de delegados', db_president_state_results['electoral_votes'])\n",
        "\n",
        "analisar_variacao('Quantidade de delegados', db_president_state_results['electoral_votes'])"
      ],
      "execution_count": 31,
      "outputs": [
        {
          "output_type": "stream",
          "text": [
            "Analisando Quantidade de delegados >>>\n",
            "\tMédia aritmética: 10.549019607843137\n",
            "\tMédia harmônica: 6.39\n",
            "\tMediana: 8\n",
            "\tModa: 3\n",
            "Analisando Quantidade de delegados >>>\n",
            "\tVariância amostral: 93.81254901960786\n",
            "\tDesvio-padrão amostral: 9.685687844423226\n",
            "\tVariância populacional: 91.97308727412535\n",
            "\tDesvio-padrão populacional: 9.590260021194698\n",
            "\tCV(%): 91.82\n"
          ],
          "name": "stdout"
        }
      ]
    },
    {
      "cell_type": "code",
      "metadata": {
        "id": "FlnR3gmxdxq6",
        "outputId": "2ff208db-0dae-4dce-c426-5a2678250c56",
        "colab": {
          "base_uri": "https://localhost:8080/",
          "height": 387
        }
      },
      "source": [
        "sea.displot(db_president_state_results.percent, kind=\"kde\")"
      ],
      "execution_count": 32,
      "outputs": [
        {
          "output_type": "execute_result",
          "data": {
            "text/plain": [
              "<seaborn.axisgrid.FacetGrid at 0x7fea2ce8a208>"
            ]
          },
          "metadata": {
            "tags": []
          },
          "execution_count": 32
        },
        {
          "output_type": "display_data",
          "data": {
            "image/png": "[encoded data removed]",
            "text/plain": [
              "<Figure size 360x360 with 1 Axes>"
            ]
          },
          "metadata": {
            "tags": [],
            "needs_background": "light"
          }
        }
      ]
    },
    {
      "cell_type": "code",
      "metadata": {
        "id": "VJrtImLFerXt",
        "outputId": "1e3824fc-9167-42a8-8e38-3bf23b4b5ad8",
        "colab": {
          "base_uri": "https://localhost:8080/"
        }
      },
      "source": [
        "stats.shapiro(db_president_state_results.percent)"
      ],
      "execution_count": 33,
      "outputs": [
        {
          "output_type": "execute_result",
          "data": {
            "text/plain": [
              "(0.48221850395202637, 3.696455034424284e-12)"
            ]
          },
          "metadata": {
            "tags": []
          },
          "execution_count": 33
        }
      ]
    },
    {
      "cell_type": "markdown",
      "metadata": {
        "id": "1gOdb5b2fuuE"
      },
      "source": [
        "O único estado que apresentou valores acima de 70% foi o *District of Columbia* com 92,6% dos votos."
      ]
    },
    {
      "cell_type": "code",
      "metadata": {
        "id": "8f6GUVRlfMUF",
        "outputId": "488cb45a-8586-4fb5-abf6-e7431b04d768",
        "colab": {
          "base_uri": "https://localhost:8080/",
          "height": 387
        }
      },
      "source": [
        "sea.displot(db_president_state_results['1st_percent'], kind=\"kde\")"
      ],
      "execution_count": 34,
      "outputs": [
        {
          "output_type": "execute_result",
          "data": {
            "text/plain": [
              "<seaborn.axisgrid.FacetGrid at 0x7fea2d4db860>"
            ]
          },
          "metadata": {
            "tags": []
          },
          "execution_count": 34
        },
        {
          "output_type": "display_data",
          "data": {
            "image/png": "[encoded data removed]",
            "text/plain": [
              "<Figure size 360x360 with 1 Axes>"
            ]
          },
          "metadata": {
            "tags": [],
            "needs_background": "light"
          }
        }
      ]
    },
    {
      "cell_type": "code",
      "metadata": {
        "id": "3AG2SGNUfW-J",
        "outputId": "331766da-08d0-42a7-e610-8363fb0122e5",
        "colab": {
          "base_uri": "https://localhost:8080/"
        }
      },
      "source": [
        "stats.shapiro(db_president_state_results['1st_percent'])"
      ],
      "execution_count": 35,
      "outputs": [
        {
          "output_type": "execute_result",
          "data": {
            "text/plain": [
              "(0.838142454624176, 6.296790161286481e-06)"
            ]
          },
          "metadata": {
            "tags": []
          },
          "execution_count": 35
        }
      ]
    },
    {
      "cell_type": "markdown",
      "metadata": {
        "id": "dYaFTRqgSA6Z"
      },
      "source": [
        "# c) Analisar a normalidade dos dados numéricos e se existe a presença de outliers\n",
        "# c) Comparar as variáveis quantitativas e descrever qual é mais homogênea"
      ]
    },
    {
      "cell_type": "code",
      "metadata": {
        "id": "fVuv_CO1QlaS"
      },
      "source": [
        "import pandas as pd\n",
        "import numpy as np "
      ],
      "execution_count": 36,
      "outputs": []
    },
    {
      "cell_type": "code",
      "metadata": {
        "id": "wtEc7M3iQ9Bt",
        "outputId": "e0087894-db85-47aa-d319-ff06060b97d3",
        "colab": {
          "base_uri": "https://localhost:8080/",
          "height": 214
        }
      },
      "source": [
        "data = pd.read_csv('us_elections/president_state_results.csv', index_col=0)\n",
        "data.sort_values('electoral_votes', ascending=False).head(5)\n",
        "# Votação de delegados => Quantitativa Discreta"
      ],
      "execution_count": 37,
      "outputs": [
        {
          "output_type": "execute_result",
          "data": {
            "text/html": [
              "<div>\n",
              "<style scoped>\n",
              "    .dataframe tbody tr th:only-of-type {\n",
              "        vertical-align: middle;\n",
              "    }\n",
              "\n",
              "    .dataframe tbody tr th {\n",
              "        vertical-align: top;\n",
              "    }\n",
              "\n",
              "    .dataframe thead th {\n",
              "        text-align: right;\n",
              "    }\n",
              "</style>\n",
              "<table border=\"1\" class=\"dataframe\">\n",
              "  <thead>\n",
              "    <tr style=\"text-align: right;\">\n",
              "      <th></th>\n",
              "      <th>state</th>\n",
              "      <th>votes</th>\n",
              "      <th>electoral_votes</th>\n",
              "      <th>party</th>\n",
              "      <th>population</th>\n",
              "      <th>current_votes</th>\n",
              "      <th>total_votes</th>\n",
              "      <th>percent</th>\n",
              "      <th>remaining_votes</th>\n",
              "      <th>1st_candidate</th>\n",
              "      <th>1st_party</th>\n",
              "      <th>1st_votes</th>\n",
              "      <th>1st_percent</th>\n",
              "      <th>2nd_candidate</th>\n",
              "      <th>2nd_party</th>\n",
              "      <th>2nd_votes</th>\n",
              "      <th>2nd_percent</th>\n",
              "      <th>is_election_defined</th>\n",
              "    </tr>\n",
              "  </thead>\n",
              "  <tbody>\n",
              "    <tr>\n",
              "      <th>4</th>\n",
              "      <td>California</td>\n",
              "      <td>14414296</td>\n",
              "      <td>55</td>\n",
              "      <td>DEM</td>\n",
              "      <td>39937489</td>\n",
              "      <td>14414296</td>\n",
              "      <td>15813337</td>\n",
              "      <td>91.152778</td>\n",
              "      <td>1399041</td>\n",
              "      <td>Joe Biden</td>\n",
              "      <td>DEM</td>\n",
              "      <td>9315259</td>\n",
              "      <td>64.625140</td>\n",
              "      <td>Donald Trump</td>\n",
              "      <td>REP</td>\n",
              "      <td>4812735</td>\n",
              "      <td>33.388623</td>\n",
              "      <td>True</td>\n",
              "    </tr>\n",
              "    <tr>\n",
              "      <th>43</th>\n",
              "      <td>Texas</td>\n",
              "      <td>11259148</td>\n",
              "      <td>38</td>\n",
              "      <td>REP</td>\n",
              "      <td>6897576</td>\n",
              "      <td>11259148</td>\n",
              "      <td>11477729</td>\n",
              "      <td>98.095608</td>\n",
              "      <td>218581</td>\n",
              "      <td>Donald Trump</td>\n",
              "      <td>REP</td>\n",
              "      <td>5872348</td>\n",
              "      <td>52.156238</td>\n",
              "      <td>Joe Biden</td>\n",
              "      <td>DEM</td>\n",
              "      <td>5216321</td>\n",
              "      <td>46.329625</td>\n",
              "      <td>True</td>\n",
              "    </tr>\n",
              "    <tr>\n",
              "      <th>9</th>\n",
              "      <td>Florida</td>\n",
              "      <td>11075706</td>\n",
              "      <td>29</td>\n",
              "      <td>REP</td>\n",
              "      <td>21992985</td>\n",
              "      <td>11075706</td>\n",
              "      <td>11321757</td>\n",
              "      <td>97.826742</td>\n",
              "      <td>246051</td>\n",
              "      <td>Donald Trump</td>\n",
              "      <td>REP</td>\n",
              "      <td>5667834</td>\n",
              "      <td>51.173569</td>\n",
              "      <td>Joe Biden</td>\n",
              "      <td>DEM</td>\n",
              "      <td>5294767</td>\n",
              "      <td>47.805232</td>\n",
              "      <td>True</td>\n",
              "    </tr>\n",
              "    <tr>\n",
              "      <th>32</th>\n",
              "      <td>New York</td>\n",
              "      <td>6641544</td>\n",
              "      <td>29</td>\n",
              "      <td>DEM</td>\n",
              "      <td>19440469</td>\n",
              "      <td>6641544</td>\n",
              "      <td>8904800</td>\n",
              "      <td>74.583865</td>\n",
              "      <td>2263256</td>\n",
              "      <td>Joe Biden</td>\n",
              "      <td>DEM</td>\n",
              "      <td>3699332</td>\n",
              "      <td>55.699879</td>\n",
              "      <td>Donald Trump</td>\n",
              "      <td>REP</td>\n",
              "      <td>2850352</td>\n",
              "      <td>42.917008</td>\n",
              "      <td>False</td>\n",
              "    </tr>\n",
              "    <tr>\n",
              "      <th>13</th>\n",
              "      <td>Illinois</td>\n",
              "      <td>5501352</td>\n",
              "      <td>20</td>\n",
              "      <td>DEM</td>\n",
              "      <td>12659682</td>\n",
              "      <td>6467031</td>\n",
              "      <td>7258430</td>\n",
              "      <td>89.096829</td>\n",
              "      <td>791399</td>\n",
              "      <td>Joe Biden</td>\n",
              "      <td>DEM</td>\n",
              "      <td>3675573</td>\n",
              "      <td>56.835556</td>\n",
              "      <td>Donald Trump</td>\n",
              "      <td>REP</td>\n",
              "      <td>2669999</td>\n",
              "      <td>41.286318</td>\n",
              "      <td>True</td>\n",
              "    </tr>\n",
              "  </tbody>\n",
              "</table>\n",
              "</div>"
            ],
            "text/plain": [
              "         state     votes  ...  2nd_percent is_election_defined\n",
              "4   California  14414296  ...    33.388623                True\n",
              "43       Texas  11259148  ...    46.329625                True\n",
              "9      Florida  11075706  ...    47.805232                True\n",
              "32    New York   6641544  ...    42.917008               False\n",
              "13    Illinois   5501352  ...    41.286318                True\n",
              "\n",
              "[5 rows x 18 columns]"
            ]
          },
          "metadata": {
            "tags": []
          },
          "execution_count": 37
        }
      ]
    },
    {
      "cell_type": "code",
      "metadata": {
        "id": "qWW2L46qQ93N",
        "outputId": "7137f742-d2f8-4f01-b5fb-d019d0e4cd01",
        "colab": {
          "base_uri": "https://localhost:8080/",
          "height": 266
        }
      },
      "source": [
        "boxplot = data.boxplot(column=['electoral_votes'])"
      ],
      "execution_count": 38,
      "outputs": [
        {
          "output_type": "display_data",
          "data": {
            "image/png": "[encoded data removed]",
            "text/plain": [
              "<Figure size 432x288 with 1 Axes>"
            ]
          },
          "metadata": {
            "tags": [],
            "needs_background": "light"
          }
        }
      ]
    },
    {
      "cell_type": "markdown",
      "metadata": {
        "id": "qeIdB_K5RB1M"
      },
      "source": [
        "## Análise da distribuição do número de delegados por Estado."
      ]
    },
    {
      "cell_type": "markdown",
      "metadata": {
        "id": "h19IpG29RMQ2"
      },
      "source": [
        "\n",
        "## Distribuição da participação dos Estados e sua representatividade por candidato."
      ]
    },
    {
      "cell_type": "code",
      "metadata": {
        "id": "0RLgs4dORHK2",
        "outputId": "83a7ddb0-b730-43cf-82cf-d03f4a3d6cea",
        "colab": {
          "base_uri": "https://localhost:8080/",
          "height": 542
        }
      },
      "source": [
        "import plotly.express as px\n",
        "dados =data\n",
        "fig = px.scatter(dados, x=\"electoral_votes\", y=\"total_votes\", color=\"1st_candidate\",\n",
        "                 size='current_votes', hover_data=['current_votes'])\n",
        "fig.show()"
      ],
      "execution_count": 39,
      "outputs": [
        {
          "output_type": "display_data",
          "data": {
            "text/html": [
              "<html>\n",
              "<head><meta charset=\"utf-8\" /></head>\n",
              "<body>\n",
              "    <div>\n",
              "            <script src=\"https://cdnjs.cloudflare.com/ajax/libs/mathjax/2.7.5/MathJax.js?config=TeX-AMS-MML_SVG\"></script><script type=\"text/javascript\">if (window.MathJax) {MathJax.Hub.Config({SVG: {font: \"STIX-Web\"}});}</script>\n",
              "                <script type=\"text/javascript\">window.PlotlyConfig = {MathJaxConfig: 'local'};</script>\n",
              "        <script src=\"https://cdn.plot.ly/plotly-latest.min.js\"></script>    \n",
              "            <div id=\"464aed94-b70c-4d8b-957f-a63db6034145\" class=\"plotly-graph-div\" style=\"height:525px; width:100%;\"></div>\n",
              "            <script type=\"text/javascript\">\n",
              "                \n",
              "                    window.PLOTLYENV=window.PLOTLYENV || {};\n",
              "                    \n",
              "                if (document.getElementById(\"464aed94-b70c-4d8b-957f-a63db6034145\")) {\n",
              "                    Plotly.newPlot(\n",
              "                        '464aed94-b70c-4d8b-957f-a63db6034145',\n",
              "                        [{\"customdata\": [[2309900], [131885], [1216818], [11075706], [867971], [3031629], [1686591], [1334330], [2158802], [2147395], [1148432], [3010315], [602777], [940210], [5464097], [361279], [5769689], [1560699], [2515926], [422678], [3049471], [11259148], [1300030], [786188], [276528]], \"hoverlabel\": {\"namelength\": 0}, \"hovertemplate\": \"1st_candidate=Donald Trump<br>electoral_votes=%{x}<br>total_votes=%{y}<br>current_votes=%{customdata[0]}\", \"legendgroup\": \"1st_candidate=Donald Trump\", \"marker\": {\"color\": \"#636efa\", \"size\": [2309900, 131885, 1216818, 11075706, 867971, 3031629, 1686591, 1334330, 2158802, 2147395, 1148432, 3010315, 602777, 940210, 5464097, 361279, 5769689, 1560699, 2515926, 422678, 3049471, 11259148, 1300030, 786188, 276528], \"sizemode\": \"area\", \"sizeref\": 36035.74, \"symbol\": \"circle\"}, \"mode\": \"markers\", \"name\": \"1st_candidate=Donald Trump\", \"showlegend\": true, \"type\": \"scatter\", \"x\": [9, 3, 6, 29, 4, 11, 6, 6, 8, 8, 6, 10, 3, 5, 15, 3, 18, 7, 9, 3, 11, 38, 6, 5, 3], \"xaxis\": \"x\", \"y\": [2309900, 366006, 1250053, 11321757, 867971, 3031629, 1755090, 1344214, 2160178, 2243288, 1220616, 3063662, 602777, 945477, 5652431, 381701, 6209548, 1572973, 2515926, 422678, 3049471, 11477729, 1342573, 789954, 283098], \"yaxis\": \"y\"}, {\"customdata\": [[3322535], [14414296], [3173127], [1786557], [502384], [279152], [4983735], [573854], [6467031], [783776], [2497959], [3453974], [5530390], [3271288], [1323719], [803195], [3610021], [919261], [6641544], [2334762], [6765139], [505201], [350178], [4424408], [3917784], [3297473]], \"hoverlabel\": {\"namelength\": 0}, \"hovertemplate\": \"1st_candidate=Joe Biden<br>electoral_votes=%{x}<br>total_votes=%{y}<br>current_votes=%{customdata[0]}\", \"legendgroup\": \"1st_candidate=Joe Biden\", \"marker\": {\"color\": \"#EF553B\", \"size\": [3322535, 14414296, 3173127, 1786557, 502384, 279152, 4983735, 573854, 6467031, 783776, 2497959, 3453974, 5530390, 3271288, 1323719, 803195, 3610021, 919261, 6641544, 2334762, 6765139, 505201, 350178, 4424408, 3917784, 3297473], \"sizemode\": \"area\", \"sizeref\": 36035.74, \"symbol\": \"circle\"}, \"mode\": \"markers\", \"name\": \"1st_candidate=Joe Biden\", \"showlegend\": true, \"type\": \"scatter\", \"x\": [11, 55, 9, 7, 3, 3, 16, 4, 20, 4, 10, 11, 16, 10, 6, 4, 14, 5, 29, 7, 20, 4, 3, 13, 12, 10], \"xaxis\": \"x\", \"y\": [3403744, 15813337, 3222600, 1839726, 506878, 348619, 4983735, 573854, 7258430, 818764, 3002298, 3666417, 5530390, 3352818, 1400801, 808641, 4349127, 919261, 8904800, 2334762, 6827967, 519954, 363600, 4579264, 3917784, 3297473], \"yaxis\": \"y\"}],\n",
              "                        {\"legend\": {\"itemsizing\": \"constant\", \"tracegroupgap\": 0}, \"margin\": {\"t\": 60}, \"template\": {\"data\": {\"bar\": [{\"error_x\": {\"color\": \"#2a3f5f\"}, \"error_y\": {\"color\": \"#2a3f5f\"}, \"marker\": {\"line\": {\"color\": \"#E5ECF6\", \"width\": 0.5}}, \"type\": \"bar\"}], \"barpolar\": [{\"marker\": {\"line\": {\"color\": \"#E5ECF6\", \"width\": 0.5}}, \"type\": \"barpolar\"}], \"carpet\": [{\"aaxis\": {\"endlinecolor\": \"#2a3f5f\", \"gridcolor\": \"white\", \"linecolor\": \"white\", \"minorgridcolor\": \"white\", \"startlinecolor\": \"#2a3f5f\"}, \"baxis\": {\"endlinecolor\": \"#2a3f5f\", \"gridcolor\": \"white\", \"linecolor\": \"white\", \"minorgridcolor\": \"white\", \"startlinecolor\": \"#2a3f5f\"}, \"type\": \"carpet\"}], \"choropleth\": [{\"colorbar\": {\"outlinewidth\": 0, \"ticks\": \"\"}, \"type\": \"choropleth\"}], \"contour\": [{\"colorbar\": {\"outlinewidth\": 0, \"ticks\": \"\"}, \"colorscale\": [[0.0, \"#0d0887\"], [0.1111111111111111, \"#46039f\"], [0.2222222222222222, \"#7201a8\"], [0.3333333333333333, \"#9c179e\"], [0.4444444444444444, \"#bd3786\"], [0.5555555555555556, \"#d8576b\"], [0.6666666666666666, \"#ed7953\"], [0.7777777777777778, \"#fb9f3a\"], [0.8888888888888888, \"#fdca26\"], [1.0, \"#f0f921\"]], \"type\": \"contour\"}], \"contourcarpet\": [{\"colorbar\": {\"outlinewidth\": 0, \"ticks\": \"\"}, \"type\": \"contourcarpet\"}], \"heatmap\": [{\"colorbar\": {\"outlinewidth\": 0, \"ticks\": \"\"}, \"colorscale\": [[0.0, \"#0d0887\"], [0.1111111111111111, \"#46039f\"], [0.2222222222222222, \"#7201a8\"], [0.3333333333333333, \"#9c179e\"], [0.4444444444444444, \"#bd3786\"], [0.5555555555555556, \"#d8576b\"], [0.6666666666666666, \"#ed7953\"], [0.7777777777777778, \"#fb9f3a\"], [0.8888888888888888, \"#fdca26\"], [1.0, \"#f0f921\"]], \"type\": \"heatmap\"}], \"heatmapgl\": [{\"colorbar\": {\"outlinewidth\": 0, \"ticks\": \"\"}, \"colorscale\": [[0.0, \"#0d0887\"], [0.1111111111111111, \"#46039f\"], [0.2222222222222222, \"#7201a8\"], [0.3333333333333333, \"#9c179e\"], [0.4444444444444444, \"#bd3786\"], [0.5555555555555556, \"#d8576b\"], [0.6666666666666666, \"#ed7953\"], [0.7777777777777778, \"#fb9f3a\"], [0.8888888888888888, \"#fdca26\"], [1.0, \"#f0f921\"]], \"type\": \"heatmapgl\"}], \"histogram\": [{\"marker\": {\"colorbar\": {\"outlinewidth\": 0, \"ticks\": \"\"}}, \"type\": \"histogram\"}], \"histogram2d\": [{\"colorbar\": {\"outlinewidth\": 0, \"ticks\": \"\"}, \"colorscale\": [[0.0, \"#0d0887\"], [0.1111111111111111, \"#46039f\"], [0.2222222222222222, \"#7201a8\"], [0.3333333333333333, \"#9c179e\"], [0.4444444444444444, \"#bd3786\"], [0.5555555555555556, \"#d8576b\"], [0.6666666666666666, \"#ed7953\"], [0.7777777777777778, \"#fb9f3a\"], [0.8888888888888888, \"#fdca26\"], [1.0, \"#f0f921\"]], \"type\": \"histogram2d\"}], \"histogram2dcontour\": [{\"colorbar\": {\"outlinewidth\": 0, \"ticks\": \"\"}, \"colorscale\": [[0.0, \"#0d0887\"], [0.1111111111111111, \"#46039f\"], [0.2222222222222222, \"#7201a8\"], [0.3333333333333333, \"#9c179e\"], [0.4444444444444444, \"#bd3786\"], [0.5555555555555556, \"#d8576b\"], [0.6666666666666666, \"#ed7953\"], [0.7777777777777778, \"#fb9f3a\"], [0.8888888888888888, \"#fdca26\"], [1.0, \"#f0f921\"]], \"type\": \"histogram2dcontour\"}], \"mesh3d\": [{\"colorbar\": {\"outlinewidth\": 0, \"ticks\": \"\"}, \"type\": \"mesh3d\"}], \"parcoords\": [{\"line\": {\"colorbar\": {\"outlinewidth\": 0, \"ticks\": \"\"}}, \"type\": \"parcoords\"}], \"pie\": [{\"automargin\": true, \"type\": \"pie\"}], \"scatter\": [{\"marker\": {\"colorbar\": {\"outlinewidth\": 0, \"ticks\": \"\"}}, \"type\": \"scatter\"}], \"scatter3d\": [{\"line\": {\"colorbar\": {\"outlinewidth\": 0, \"ticks\": \"\"}}, \"marker\": {\"colorbar\": {\"outlinewidth\": 0, \"ticks\": \"\"}}, \"type\": \"scatter3d\"}], \"scattercarpet\": [{\"marker\": {\"colorbar\": {\"outlinewidth\": 0, \"ticks\": \"\"}}, \"type\": \"scattercarpet\"}], \"scattergeo\": [{\"marker\": {\"colorbar\": {\"outlinewidth\": 0, \"ticks\": \"\"}}, \"type\": \"scattergeo\"}], \"scattergl\": [{\"marker\": {\"colorbar\": {\"outlinewidth\": 0, \"ticks\": \"\"}}, \"type\": \"scattergl\"}], \"scattermapbox\": [{\"marker\": {\"colorbar\": {\"outlinewidth\": 0, \"ticks\": \"\"}}, \"type\": \"scattermapbox\"}], \"scatterpolar\": [{\"marker\": {\"colorbar\": {\"outlinewidth\": 0, \"ticks\": \"\"}}, \"type\": \"scatterpolar\"}], \"scatterpolargl\": [{\"marker\": {\"colorbar\": {\"outlinewidth\": 0, \"ticks\": \"\"}}, \"type\": \"scatterpolargl\"}], \"scatterternary\": [{\"marker\": {\"colorbar\": {\"outlinewidth\": 0, \"ticks\": \"\"}}, \"type\": \"scatterternary\"}], \"surface\": [{\"colorbar\": {\"outlinewidth\": 0, \"ticks\": \"\"}, \"colorscale\": [[0.0, \"#0d0887\"], [0.1111111111111111, \"#46039f\"], [0.2222222222222222, \"#7201a8\"], [0.3333333333333333, \"#9c179e\"], [0.4444444444444444, \"#bd3786\"], [0.5555555555555556, \"#d8576b\"], [0.6666666666666666, \"#ed7953\"], [0.7777777777777778, \"#fb9f3a\"], [0.8888888888888888, \"#fdca26\"], [1.0, \"#f0f921\"]], \"type\": \"surface\"}], \"table\": [{\"cells\": {\"fill\": {\"color\": \"#EBF0F8\"}, \"line\": {\"color\": \"white\"}}, \"header\": {\"fill\": {\"color\": \"#C8D4E3\"}, \"line\": {\"color\": \"white\"}}, \"type\": \"table\"}]}, \"layout\": {\"annotationdefaults\": {\"arrowcolor\": \"#2a3f5f\", \"arrowhead\": 0, \"arrowwidth\": 1}, \"coloraxis\": {\"colorbar\": {\"outlinewidth\": 0, \"ticks\": \"\"}}, \"colorscale\": {\"diverging\": [[0, \"#8e0152\"], [0.1, \"#c51b7d\"], [0.2, \"#de77ae\"], [0.3, \"#f1b6da\"], [0.4, \"#fde0ef\"], [0.5, \"#f7f7f7\"], [0.6, \"#e6f5d0\"], [0.7, \"#b8e186\"], [0.8, \"#7fbc41\"], [0.9, \"#4d9221\"], [1, \"#276419\"]], \"sequential\": [[0.0, \"#0d0887\"], [0.1111111111111111, \"#46039f\"], [0.2222222222222222, \"#7201a8\"], [0.3333333333333333, \"#9c179e\"], [0.4444444444444444, \"#bd3786\"], [0.5555555555555556, \"#d8576b\"], [0.6666666666666666, \"#ed7953\"], [0.7777777777777778, \"#fb9f3a\"], [0.8888888888888888, \"#fdca26\"], [1.0, \"#f0f921\"]], \"sequentialminus\": [[0.0, \"#0d0887\"], [0.1111111111111111, \"#46039f\"], [0.2222222222222222, \"#7201a8\"], [0.3333333333333333, \"#9c179e\"], [0.4444444444444444, \"#bd3786\"], [0.5555555555555556, \"#d8576b\"], [0.6666666666666666, \"#ed7953\"], [0.7777777777777778, \"#fb9f3a\"], [0.8888888888888888, \"#fdca26\"], [1.0, \"#f0f921\"]]}, \"colorway\": [\"#636efa\", \"#EF553B\", \"#00cc96\", \"#ab63fa\", \"#FFA15A\", \"#19d3f3\", \"#FF6692\", \"#B6E880\", \"#FF97FF\", \"#FECB52\"], \"font\": {\"color\": \"#2a3f5f\"}, \"geo\": {\"bgcolor\": \"white\", \"lakecolor\": \"white\", \"landcolor\": \"#E5ECF6\", \"showlakes\": true, \"showland\": true, \"subunitcolor\": \"white\"}, \"hoverlabel\": {\"align\": \"left\"}, \"hovermode\": \"closest\", \"mapbox\": {\"style\": \"light\"}, \"paper_bgcolor\": \"white\", \"plot_bgcolor\": \"#E5ECF6\", \"polar\": {\"angularaxis\": {\"gridcolor\": \"white\", \"linecolor\": \"white\", \"ticks\": \"\"}, \"bgcolor\": \"#E5ECF6\", \"radialaxis\": {\"gridcolor\": \"white\", \"linecolor\": \"white\", \"ticks\": \"\"}}, \"scene\": {\"xaxis\": {\"backgroundcolor\": \"#E5ECF6\", \"gridcolor\": \"white\", \"gridwidth\": 2, \"linecolor\": \"white\", \"showbackground\": true, \"ticks\": \"\", \"zerolinecolor\": \"white\"}, \"yaxis\": {\"backgroundcolor\": \"#E5ECF6\", \"gridcolor\": \"white\", \"gridwidth\": 2, \"linecolor\": \"white\", \"showbackground\": true, \"ticks\": \"\", \"zerolinecolor\": \"white\"}, \"zaxis\": {\"backgroundcolor\": \"#E5ECF6\", \"gridcolor\": \"white\", \"gridwidth\": 2, \"linecolor\": \"white\", \"showbackground\": true, \"ticks\": \"\", \"zerolinecolor\": \"white\"}}, \"shapedefaults\": {\"line\": {\"color\": \"#2a3f5f\"}}, \"ternary\": {\"aaxis\": {\"gridcolor\": \"white\", \"linecolor\": \"white\", \"ticks\": \"\"}, \"baxis\": {\"gridcolor\": \"white\", \"linecolor\": \"white\", \"ticks\": \"\"}, \"bgcolor\": \"#E5ECF6\", \"caxis\": {\"gridcolor\": \"white\", \"linecolor\": \"white\", \"ticks\": \"\"}}, \"title\": {\"x\": 0.05}, \"xaxis\": {\"automargin\": true, \"gridcolor\": \"white\", \"linecolor\": \"white\", \"ticks\": \"\", \"title\": {\"standoff\": 15}, \"zerolinecolor\": \"white\", \"zerolinewidth\": 2}, \"yaxis\": {\"automargin\": true, \"gridcolor\": \"white\", \"linecolor\": \"white\", \"ticks\": \"\", \"title\": {\"standoff\": 15}, \"zerolinecolor\": \"white\", \"zerolinewidth\": 2}}}, \"xaxis\": {\"anchor\": \"y\", \"domain\": [0.0, 1.0], \"title\": {\"text\": \"electoral_votes\"}}, \"yaxis\": {\"anchor\": \"x\", \"domain\": [0.0, 1.0], \"title\": {\"text\": \"total_votes\"}}},\n",
              "                        {\"responsive\": true}\n",
              "                    ).then(function(){\n",
              "                            \n",
              "var gd = document.getElementById('464aed94-b70c-4d8b-957f-a63db6034145');\n",
              "var x = new MutationObserver(function (mutations, observer) {{\n",
              "        var display = window.getComputedStyle(gd).display;\n",
              "        if (!display || display === 'none') {{\n",
              "            console.log([gd, 'removed!']);\n",
              "            Plotly.purge(gd);\n",
              "            observer.disconnect();\n",
              "        }}\n",
              "}});\n",
              "\n",
              "// Listen for the removal of the full notebook cells\n",
              "var notebookContainer = gd.closest('#notebook-container');\n",
              "if (notebookContainer) {{\n",
              "    x.observe(notebookContainer, {childList: true});\n",
              "}}\n",
              "\n",
              "// Listen for the clearing of the current output cell\n",
              "var outputEl = gd.closest('.output');\n",
              "if (outputEl) {{\n",
              "    x.observe(outputEl, {childList: true});\n",
              "}}\n",
              "\n",
              "                        })\n",
              "                };\n",
              "                \n",
              "            </script>\n",
              "        </div>\n",
              "</body>\n",
              "</html>"
            ]
          },
          "metadata": {
            "tags": []
          }
        }
      ]
    },
    {
      "cell_type": "markdown",
      "metadata": {
        "id": "vc_rCWddRUlJ"
      },
      "source": [
        "## Distribuição da probabilidade da perspectiva de votos por estado"
      ]
    },
    {
      "cell_type": "code",
      "metadata": {
        "id": "jitPhHllRXs-",
        "outputId": "3ef279fe-c88f-4ef0-8e10-67bc49a2428c",
        "colab": {
          "base_uri": "https://localhost:8080/",
          "height": 295
        }
      },
      "source": [
        "import matplotlib.pyplot as plt\n",
        "import seaborn as sns\n",
        "from scipy import stats\n",
        "\n",
        "fig, ax = plt.subplots()\n",
        "stats.probplot(data['votes'], fit=True,   plot=ax)\n",
        "plt.show()"
      ],
      "execution_count": 40,
      "outputs": [
        {
          "output_type": "display_data",
          "data": {
            "image/png": "[encoded data removed]",
            "text/plain": [
              "<Figure size 432x288 with 1 Axes>"
            ]
          },
          "metadata": {
            "tags": [],
            "needs_background": "light"
          }
        }
      ]
    },
    {
      "cell_type": "markdown",
      "metadata": {
        "id": "Ce6d2c9oRcge"
      },
      "source": [
        "## Distribuição Uniforme da densidade por delegação"
      ]
    },
    {
      "cell_type": "code",
      "metadata": {
        "id": "XGqXFChYRdgi",
        "outputId": "5ef63294-f080-4ce8-8997-559d944407ff",
        "colab": {
          "base_uri": "https://localhost:8080/",
          "height": 385
        }
      },
      "source": [
        "sns.displot(data['electoral_votes'], kde=True)\n",
        "plt.title('Distribuição Unifome')\n",
        "plt.show()"
      ],
      "execution_count": 41,
      "outputs": [
        {
          "output_type": "display_data",
          "data": {
            "image/png": "[encoded data removed]",
            "text/plain": [
              "<Figure size 360x360 with 1 Axes>"
            ]
          },
          "metadata": {
            "tags": [],
            "needs_background": "light"
          }
        }
      ]
    },
    {
      "cell_type": "markdown",
      "metadata": {
        "id": "dv50cWIe3CGq"
      },
      "source": [
        "# d) Calcular os respectivos Intervalos de Confiança ao nível de 95% para cada campo do data frame"
      ]
    },
    {
      "cell_type": "markdown",
      "metadata": {
        "id": "nwoL62fh3Smn"
      },
      "source": [
        "### Intervalo de Confiança do Percentual de Apuração ao nível de 95%"
      ]
    },
    {
      "cell_type": "code",
      "metadata": {
        "id": "FJuYIotm3fXy"
      },
      "source": [
        "# Pacote necessário\n",
        "from scipy.stats import t,norm"
      ],
      "execution_count": 42,
      "outputs": []
    },
    {
      "cell_type": "code",
      "metadata": {
        "id": "yZTNVVCS3hgi",
        "outputId": "aaea200a-3d4e-4f07-bc3e-88626494c8e5",
        "colab": {
          "base_uri": "https://localhost:8080/"
        }
      },
      "source": [
        "db_results_by_state['percent'].mean()"
      ],
      "execution_count": 43,
      "outputs": [
        {
          "output_type": "execute_result",
          "data": {
            "text/plain": [
              "95.16680097173028"
            ]
          },
          "metadata": {
            "tags": []
          },
          "execution_count": 43
        }
      ]
    },
    {
      "cell_type": "code",
      "metadata": {
        "id": "jYzSr7MI3j7z",
        "outputId": "aa16e8e9-34eb-4f69-e86b-b1c0dfdc93ff",
        "colab": {
          "base_uri": "https://localhost:8080/"
        }
      },
      "source": [
        "# a) Intervalo de Confiança do Percentual de Apuração ao nível de 95%;\n",
        "print(\"Intervalo de Confiança do percentual de apuração ao nível de 95% \")\n",
        "inf,sup = t.interval(0.95, db_results_by_state['percent'].count()-1, loc=db_results_by_state['percent'].mean(), scale= st.stdev(db_results_by_state['percent'])/np.sqrt(db_results_by_state['percent'].count()))\n",
        "print ('Limite inferior 95%:', round(inf,3))\n",
        "print ('Limite superior 95%:', round(sup,3))"
      ],
      "execution_count": 44,
      "outputs": [
        {
          "output_type": "stream",
          "text": [
            "Intervalo de Confiança do percentual de apuração ao nível de 95% \n",
            "Limite inferior 95%: 92.342\n",
            "Limite superior 95%: 97.992\n"
          ],
          "name": "stdout"
        }
      ]
    },
    {
      "cell_type": "markdown",
      "metadata": {
        "id": "dbrX_ErI3VYB"
      },
      "source": [
        "### Intervalo de Confiança do Percentual do Primeiro colocado em média ao nível de 95%"
      ]
    },
    {
      "cell_type": "code",
      "metadata": {
        "id": "czn4iCcH3pcL",
        "outputId": "37bcd2a9-32eb-497c-8c21-f413198a9734",
        "colab": {
          "base_uri": "https://localhost:8080/"
        }
      },
      "source": [
        "print(\"Intervalo de Confiança do Percentual do Primeiro colocado ao nível de 95% \")\n",
        "inf,sup = t.interval(0.95, db_results_by_state['1st_percent'].count()-1, loc=db_results_by_state['1st_percent'].mean(), scale= st.stdev(db_results_by_state['1st_percent'])/np.sqrt(db_results_by_state['1st_percent'].count()))\n",
        "print ('Limite inferior 95%:', round(inf,3))\n",
        "print ('Limite superior 95%:', round(sup,3))"
      ],
      "execution_count": 45,
      "outputs": [
        {
          "output_type": "stream",
          "text": [
            "Intervalo de Confiança do Percentual do Primeiro colocado ao nível de 95% \n",
            "Limite inferior 95%: 56.389\n",
            "Limite superior 95%: 60.465\n"
          ],
          "name": "stdout"
        }
      ]
    },
    {
      "cell_type": "markdown",
      "metadata": {
        "id": "6mVUFdEn3WYO"
      },
      "source": [
        "### Intervalo de Confiança do Percentual do Segundo colocado  em média ao nível de 95%;"
      ]
    },
    {
      "cell_type": "code",
      "metadata": {
        "id": "QGIvNo0f3t_4",
        "outputId": "9a65454f-5945-4e31-ebb7-a04b4dab94c6",
        "colab": {
          "base_uri": "https://localhost:8080/"
        }
      },
      "source": [
        "print(\"Intervalo de Confiança do Percentual do Segundo colocado ao nível de 95% \")\n",
        "inf,sup = t.interval(0.95, db_results_by_state['2nd_percent'].count()-1, loc=db_results_by_state['2nd_percent'].mean(), scale= st.stdev(db_results_by_state['2nd_percent'])/np.sqrt(db_results_by_state['2nd_percent'].count()))\n",
        "print ('Limite inferior 95%:', round(inf,3))\n",
        "print ('Limite superior 95%:', round(sup,3))"
      ],
      "execution_count": 46,
      "outputs": [
        {
          "output_type": "stream",
          "text": [
            "Intervalo de Confiança do Percentual do Segundo colocado ao nível de 95% \n",
            "Limite inferior 95%: 37.352\n",
            "Limite superior 95%: 41.579\n"
          ],
          "name": "stdout"
        }
      ]
    },
    {
      "cell_type": "markdown",
      "metadata": {
        "id": "3vj4UsNh3YmW"
      },
      "source": [
        "### Intervalo de confiança das médias percentuais dos condados e uma análise de possibilidade de vitória do Biden com base em média ponderada\n"
      ]
    },
    {
      "cell_type": "markdown",
      "metadata": {
        "id": "GCJpV14w3399"
      },
      "source": [
        "Nesta análise tentaremos avaliar as chances do candidato Biden confirmar a vitória com base na manutenção dos delegados referentes aos estados nos quais ele está ganhando. \n",
        "\n",
        "Nesta situação, avaliaremos os votos que faltam ser contados nos condados dos estados pendentes em favor de Biden.\n",
        "\n",
        "Para isso, em cada estado é feita uma média ponderada dos votos restantes em relação ao percentual de votos obtidas pelo candidato Biden naquele condado. É importante observar que, mesmo em estados dominados por um partido, o outro partido consegue vitórias expressivas em determinados condados. Assim, a ponderação por condados foi adotada para cálculo da possibilidade de vitória em cada cada estado.\n"
      ]
    },
    {
      "cell_type": "code",
      "metadata": {
        "id": "k71GMEbN36Ee",
        "outputId": "1f267182-8667-4b51-cb8f-9af9c066442a",
        "colab": {
          "base_uri": "https://localhost:8080/"
        }
      },
      "source": [
        "# filtra os estados sem vencedor definido, com o candidato Biden na frente (Arizona, Nevada, New Jersey, New York, Pennsylvania)\n",
        "estados_pendentes = db_results_by_state[db_results_by_state['is_election_defined'].eq(False)]\n",
        "estados_pendentes = estados_pendentes[estados_pendentes['1st_candidate'].eq('Joe Biden')]\n",
        "# Para cada um dos 5 estados é feito o mesmo processo\n",
        "for estado in estados_pendentes['state']:\n",
        "  print(\"  \")\n",
        "  print(\"----------------------- \")\n",
        "  print(\"ESTADO: \",estado)\n",
        "  lista_perc = []\n",
        "  lista_tot = []\n",
        "\n",
        "  # recupera os dados do estado\n",
        "  dados_estado = db_results_by_state[db_results_by_state['state'] == estado]\n",
        "  total_votos = int(dados_estado['remaining_votes'])\n",
        "\n",
        "  # filtra os condados deste estado\n",
        "  dados_condado = db_president_county[db_president_county['state'] == estado]\n",
        "\n",
        "  # zera o total de votos projetados para o Biden no estado\n",
        "  total_votos_projetados = 0.0\n",
        "  percentual_final = 0.0\n",
        "\n",
        "  # Para cada condado, verifica os votos que faltam e \n",
        "  # qual o percentual de votos do Biden confirmados até ali\n",
        "  # projeta o percentual do Biden até final com base na manutenção dos percentuais atuais\n",
        "  for condado in dados_condado['county']:\n",
        "    # seleciona o condado\n",
        "    db_condado = dados_condado[dados_condado['county'] == condado]\n",
        "\n",
        "    # votos restantes no condado\n",
        "    votos_restantes = int(db_condado['total_votes']) - int(db_condado['current_votes'])\n",
        "\n",
        "    # verifica o total de votos do Biden no condado e total que falta apurar\n",
        "    db_condado_estado = db_president_county_candidate[db_president_county_candidate['state'] == estado]\n",
        "    db_condado_estado = db_condado_estado[db_condado_estado['county'] == condado]\n",
        "    db_biden_condado = db_condado_estado[db_condado_estado['candidate'] == 'Joe Biden']\n",
        "\n",
        "    #calcula o percentual do Biden\n",
        "    tvotos = int(db_biden_condado['votes'])\n",
        "    cvotos = int(db_condado['current_votes'])\n",
        "    percentual_biden = 0.0 + (tvotos / cvotos)\n",
        "\n",
        "    # votos projetados \n",
        "    votos_projetados = votos_restantes * percentual_biden\n",
        "\n",
        "    # separa os percentuais individuais dos condados\n",
        "    if votos_restantes > 0:\n",
        "      lista_perc.append(percentual_biden * 100)\n",
        "      lista_tot.append(votos_restantes)\n",
        "    #totaliza os votos projetados para o Biden no estado\n",
        "    total_votos_projetados = total_votos_projetados + votos_projetados\n",
        "  \n",
        "  #calcula o percentual de votos do Biden em relação ao total que falta\n",
        "  percentual_final = total_votos_projetados / total_votos\n",
        "  print('Percentual que o Biden teria dos votos restantes: ' + str(round(((total_votos_projetados / total_votos) * 100) , 2)))\n",
        "\n",
        "  # ###########\n",
        "  # Cálculo da média dos percentuais de votação do Biden nos condados \n",
        "  print(\"  \")\n",
        "  print(\"Média dos pencentuais previstos pro Biden nos condados que faltam: \" + str(st.mean(lista_perc)))\n",
        "\n",
        "  # Cálculo dos intervalos de confiança \n",
        "  print(\"Intervalo de Confiança do percentual previsto ao nível de 95% \")\n",
        "  tam_lista = len(lista_perc)\n",
        "  inf,sup = t.interval(0.95, tam_lista - 1, loc=st.mean(lista_perc), scale= st.stdev(lista_perc)/np.sqrt(tam_lista))\n",
        "  print ('   Limite inferior 95%:', round(inf,3))\n",
        "  print ('   Limite superior 95%:', round(sup,3))\n",
        "  print ('Quantidade de condados:', len(lista_perc))\n",
        "  print(\" Percentuais dos condados \")\n",
        "  print (lista_perc)\n",
        "  print (lista_tot)\n",
        "  # #############\n",
        "    "
      ],
      "execution_count": 47,
      "outputs": [
        {
          "output_type": "stream",
          "text": [
            "  \n",
            "----------------------- \n",
            "ESTADO:  Arizona\n",
            "Percentual que o Biden teria dos votos restantes: 49.89\n",
            "  \n",
            "Média dos pencentuais previstos pro Biden nos condados que faltam: 42.174081326702215\n",
            "Intervalo de Confiança do percentual previsto ao nível de 95% \n",
            "   Limite inferior 95%: 34.467\n",
            "   Limite superior 95%: 49.881\n",
            "Quantidade de condados: 14\n",
            " Percentuais dos condados \n",
            "[45.17316898269279, 58.88519891908721, 40.4922307943062, 67.20790862060134, 34.72288015158693, 46.12506759027869, 40.527334746934635, 61.066383108005475, 32.33188720173536, 26.905889415060365, 32.07598371777476, 30.730025483435767, 50.38517150996257, 23.80800833236894]\n",
            "[1103, 25936, 5900, 77, 2563, 2105, 6765, 1587, 113, 2, 5, 829, 33168, 2308]\n",
            "  \n",
            "----------------------- \n",
            "ESTADO:  Nevada\n",
            "Percentual que o Biden teria dos votos restantes: 50.74\n",
            "  \n",
            "Média dos pencentuais previstos pro Biden nos condados que faltam: 28.861797390249233\n",
            "Intervalo de Confiança do percentual previsto ao nível de 95% \n",
            "   Limite inferior 95%: 22.472\n",
            "   Limite superior 95%: 35.251\n",
            "Quantidade de condados: 16\n",
            " Percentuais dos condados \n",
            "[23.72230664640486, 53.94166622309753, 33.96248919104273, 20.771020272515788, 15.18987341772152, 21.955215729109774, 18.017338861666037, 13.754325259515571, 28.116494284158954, 34.83249196879302, 28.933016943507766, 23.521505376344088, 31.32404181184669, 50.86712686838932, 20.01436437634666, 42.865481013527436]\n",
            "[1060, 63224, 1040, 1950, 51, 653, 339, 332, 73, 297, 277, 226, 302, 4862, 502, 1894]\n",
            "  \n",
            "----------------------- \n",
            "ESTADO:  New Jersey\n",
            "Percentual que o Biden teria dos votos restantes: 61.79\n",
            "  \n",
            "Média dos pencentuais previstos pro Biden nos condados que faltam: 56.743259128998425\n",
            "Intervalo de Confiança do percentual previsto ao nível de 95% \n",
            "   Limite inferior 95%: 51.244\n",
            "   Limite superior 95%: 62.242\n",
            "Quantidade de condados: 18\n",
            " Percentuais dos condados \n",
            "[52.26552430055349, 57.808923273754196, 61.2238041241443, 66.00538829615795, 41.31138595853037, 52.975739951400236, 77.15944418680544, 74.24501733636494, 47.36702194992278, 69.20228496322322, 66.07633187854634, 50.193402447941935, 55.97375620970833, 60.310037610651115, 42.75539207490387, 60.52035776929105, 42.04487245159307, 43.93997953847903]\n",
            "[2995, 33543, 37485, 18575, 1050, 13380, 66469, 49528, 2463, 21756, 161240, 68880, 139219, 84168, 4021, 19882, 16918, 12636]\n",
            "  \n",
            "----------------------- \n",
            "ESTADO:  New York\n",
            "Percentual que o Biden teria dos votos restantes: 61.31\n",
            "  \n",
            "Média dos pencentuais previstos pro Biden nos condados que faltam: 42.212271563559085\n",
            "Intervalo de Confiança do percentual previsto ao nível de 95% \n",
            "   Limite inferior 95%: 38.8\n",
            "   Limite superior 95%: 45.625\n",
            "Quantidade de condados: 62\n",
            " Percentuais dos condados \n",
            "[60.223485752371865, 24.24874066354004, 82.4647037052767, 44.579313781124135, 30.4216165851386, 39.586083971481386, 33.45172214421409, 36.57018264551602, 29.731454091990024, 46.1941683957628, 51.378145767512805, 40.89221556886228, 34.216276714811066, 48.285496783476525, 51.77938909030295, 45.90055976292394, 42.77456647398844, 28.799682429414975, 28.18749000159975, 36.75414232353223, 30.548672566371682, 29.403214083824597, 33.92344497607655, 74.08929052637343, 25.44585401728259, 34.74727528196559, 37.60921366163622, 52.99828772702098, 32.619926199262, 48.94099241146417, 84.501668304014, 39.636305667209434, 36.316721958643974, 53.08317967397821, 43.443445536274304, 44.20532167252565, 26.124799999999997, 32.947963902482826, 40.904207699194274, 39.17913011612194, 68.97034425549565, 46.64164815807613, 37.6070623381128, 43.89264290146866, 36.70148371294237, 46.194101298532296, 52.29324487135053, 29.953641393749063, 34.76885644768856, 39.18480778138027, 29.123385828801197, 43.13567808950912, 40.826556756154616, 32.712235465823404, 70.15331755858806, 54.857275290663985, 42.75475113122172, 36.163002499258695, 34.19906479625919, 62.99747112607591, 22.375014567066774, 34.54689803788136]\n",
            "[35073, 3664, 117827, 24150, 4849, 6857, 12314, 8807, 5338, 8487, 7073, 5973, 3404, 20461, 90508, 4099, 3589, 3607, 4600, 3814, 787, 4640, 7294, 208341, 1806, 7302, 5974, 113284, 2385, 77294, 302352, 15669, 17831, 56655, 10699, 30308, 2721, 9416, 6408, 10730, 352072, 14864, 23940, 35258, 7893, 20202, 14763, 2362, 1605, 2582, 8245, 164875, 6619, 4420, 16948, 17858, 7552, 3864, 7024, 279251, 2212, 2457]\n",
            "  \n",
            "----------------------- \n",
            "ESTADO:  Pennsylvania\n",
            "Percentual que o Biden teria dos votos restantes: 55.58\n",
            "  \n",
            "Média dos pencentuais previstos pro Biden nos condados que faltam: 39.08998346727888\n",
            "Intervalo de Confiança do percentual previsto ao nível de 95% \n",
            "   Limite inferior 95%: 35.118\n",
            "   Limite superior 95%: 43.062\n",
            "Quantidade de condados: 44\n",
            " Percentuais dos condados \n",
            "[32.159009332376165, 59.346066549612445, 40.30420300322313, 45.157873499445174, 27.75388634046891, 51.58105114208544, 32.9253785147801, 30.765945938251747, 51.708739633646225, 57.642040882021575, 24.020194659865716, 31.261203955357658, 33.65828126533416, 30.627692457468296, 43.87979827688864, 53.575409325348744, 62.57194289415986, 49.73646770900138, 32.53794646584401, 27.632552249846416, 23.902075198525864, 19.76187337990422, 53.629304672077204, 34.40520158347524, 33.31009461478267, 42.24126945802566, 28.62522895732407, 36.20347394540943, 52.36697430284335, 62.51343306198049, 38.40195678760701, 49.67149342101379, 29.939224387420417, 80.93951579718083, 29.3791893213659, 21.324447106984174, 28.52989449003517, 36.74170734136866, 28.53271242079548, 29.346600656830546, 38.0900455765217, 35.052649835236984, 31.543897798314756, 36.66132435022107]\n",
            "[280, 24470, 483, 1740, 910, 726, 640, 147, 189, 350, 87, 142, 231, 1376, 1201, 555, 1512, 743, 1009, 439, 40, 139, 1025, 783, 215, 1897, 583, 580, 514, 2676, 113, 597, 14, 10254, 1683, 454, 39, 185, 246, 477, 3615, 195, 171, 6211]\n"
          ],
          "name": "stdout"
        }
      ]
    },
    {
      "cell_type": "code",
      "metadata": {
        "id": "65tzQRYzkYqf"
      },
      "source": [
        "#TODO tentar transformar os resultados obtidos do Arizona numa visão geográfica"
      ],
      "execution_count": 48,
      "outputs": []
    }
  ]
}