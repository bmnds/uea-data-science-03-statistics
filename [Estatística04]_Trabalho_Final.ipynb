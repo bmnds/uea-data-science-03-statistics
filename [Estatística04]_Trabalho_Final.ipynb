{
  "nbformat": 4,
  "nbformat_minor": 0,
  "metadata": {
    "colab": {
      "name": "[Estatística04]_Trabalho_Final (1).ipynb",
      "provenance": [],
      "collapsed_sections": [],
      "include_colab_link": true
    },
    "kernelspec": {
      "name": "python3",
      "display_name": "Python 3"
    }
  },
  "cells": [
    {
      "cell_type": "markdown",
      "metadata": {
        "id": "view-in-github",
        "colab_type": "text"
      },
      "source": [
        "<a href=\"https://colab.research.google.com/github/bmnds/uea-data-science-03-statistics/blob/main/%5BEstat%C3%ADstica04%5D_Trabalho_Final.ipynb\" target=\"_parent\"><img src=\"https://colab.research.google.com/assets/colab-badge.svg\" alt=\"Open In Colab\"/></a>"
      ]
    },
    {
      "cell_type": "markdown",
      "metadata": {
        "id": "sR3D_q5Q-Cdt"
      },
      "source": [
        "# Trabalho Final da Disciplina de Estatística do Curso de Pós-Graduação em Ciência de Dados da UEA-AM\n",
        "**Grupo:** Alberto, Bruno, Lelson e Levi\n",
        "\n",
        "## O Trabalho\n",
        "* Definir um tema e os objetivos a serem analisados \n",
        "* Escolher um dataframe com no mínimo cinco campos e 25 linhas, dos quais pelo menos dois devem ser numéricos\n",
        "* Realizar um levantamento amostral atendendo a todos os critérios de avaliação\n",
        "\n",
        "## A Avaliação\n",
        "1. [ ] Construir tabelas e gráficos apropriados para cada variável do data frame\n",
        "2. [ ] Calcular a média, mediana, moda, desvio-padrão, coeficiente de variação\n",
        "e simetria das variáveis quantitativas\n",
        "3. [ ] Analisar a normalidade dos dados numéricos e se existe a presença de\n",
        "outliers\n",
        "4. [ ] Comparar as variáveis quantitativas e descrever qual é mais homogênea\n",
        "5. [ ] Calcular os respectivos Intervalos de Confiança ao nível de 95% para cada\n",
        "campo do data frame\n",
        "6. [ ] Comparar a média de um campo numérico em relação a um campo\n",
        "categórico e responder se existe diferença estatística ao nível de 5% de significância\n",
        "7. [ ] Realizar um cruzamento de dois campos categóricos e responder se existe\n",
        "diferença estatística ao nível de 5% de significância.\n"
      ]
    },
    {
      "cell_type": "code",
      "metadata": {
        "id": "0QYLklCn97Iq",
        "outputId": "ce93b5d4-3d97-4469-8b86-0bb3a5883a28",
        "colab": {
          "base_uri": "https://localhost:8080/"
        }
      },
      "source": [
        "# Pacotes necessários\n",
        "from six.moves import urllib\n",
        "from scipy import stats\n",
        "from scipy.stats import binom, nbinom, poisson, uniform, expon, norm \n",
        "import pandas as pd\n",
        "import statsmodels.stats.proportion as smp\n",
        "import numpy as np\n",
        "import matplotlib.pyplot as plt\n",
        "import seaborn as sea\n",
        "import statistics as st"
      ],
      "execution_count": 2,
      "outputs": [
        {
          "output_type": "stream",
          "text": [
            "/usr/local/lib/python3.6/dist-packages/statsmodels/tools/_testing.py:19: FutureWarning: pandas.util.testing is deprecated. Use the functions in the public API at pandas.testing instead.\n",
            "  import pandas.util.testing as tm\n"
          ],
          "name": "stderr"
        }
      ]
    },
    {
      "cell_type": "code",
      "metadata": {
        "id": "LTRIjN9GEyVG"
      },
      "source": [
        "# Mudança da semente aleatória randômica para manter os resultados em várias execuções\n",
        "np.random.seed(20201109)"
      ],
      "execution_count": 3,
      "outputs": []
    },
    {
      "cell_type": "markdown",
      "metadata": {
        "id": "2kg1W1HvQz5n"
      },
      "source": [
        "# Dataset das Eleições Presidenciais dos Estados Unidos 2020\n",
        "Fontes dos dados:\n",
        "* https://www.kaggle.com/daithibhard/us-electoral-college-votes-per-state-17882020\n",
        "* https://www.kaggle.com/unanimad/us-election-2020\n",
        "\n",
        "Explicação sobre o funcionamento do processo eleitoral dos EUA:\n",
        "* https://www.usa.gov/election\n",
        "\n",
        "Sugestões de análises:\n",
        "* https://www.nbcnews.com/politics/2020-elections/president-results\n",
        "* https://www.kaggle.com/amitkumarmanjhi/us-election-2020-result-analysis"
      ]
    },
    {
      "cell_type": "code",
      "metadata": {
        "id": "lAe0mFiQQzHc",
        "outputId": "4f5f377d-7f2a-4112-bf84-b8d5f6f1c6ca",
        "colab": {
          "base_uri": "https://localhost:8080/"
        }
      },
      "source": [
        "# Download do dataset\n",
        "urllib.request.urlretrieve('https://drive.google.com/uc?export=download&id=1I4Hvc3wEsYuRNkinkAyY7LqcpVOLF9-O','us_elections.tar.gz')\n",
        "!tar -zxvf us_elections.tar.gz\n",
        "!rm us_elections.tar.gz"
      ],
      "execution_count": 4,
      "outputs": [
        {
          "output_type": "stream",
          "text": [
            "us_elections/\n",
            "us_elections/Electoral_College.csv\n",
            "us_elections/fontes.txt\n",
            "us_elections/governors_county.csv\n",
            "us_elections/governors_county_candidate.csv\n",
            "us_elections/governors_state.csv\n",
            "us_elections/house_county.csv\n",
            "us_elections/house_county_candidate.csv\n",
            "us_elections/house_state.csv\n",
            "us_elections/president_county.csv\n",
            "us_elections/president_county_candidate.csv\n",
            "us_elections/president_state.csv\n",
            "us_elections/senate_county.csv\n",
            "us_elections/senate_county_candidate.csv\n",
            "us_elections/senate_state.csv\n"
          ],
          "name": "stdout"
        }
      ]
    },
    {
      "cell_type": "markdown",
      "metadata": {
        "id": "Fs8zWy7thmBn"
      },
      "source": [
        "# Bruno"
      ]
    },
    {
      "cell_type": "markdown",
      "metadata": {
        "id": "KH3HRi5xouLy"
      },
      "source": [
        "## Introdução"
      ]
    },
    {
      "cell_type": "markdown",
      "metadata": {
        "id": "ahqWiSkuh1Wp"
      },
      "source": [
        "Nos Estados Unidos, as eleições ocorrem de forma **indireta**. Os eleitores votam e delegam a escolha do presidente para os representantes de seu colégio eleitoral. Os representantes do colégio eleitoral, doravante denominados apenas como **delegados**, são quem, de fato, votam para presidente e definem o resultado das eleições. \n",
        "\n",
        "Os colégios eleitorais são compostos por cinquenta estados mais o distrito federal, _District of Columbia_, **totalizando 51 colégios eleitorais**. Cada colégio eleitoral possui uma quantidade de representantes definida com base na quantidade de congressistas, **totalizando, em 2020, 538 delegados**.\n",
        "\n",
        "Conforme explicado na [página oficial das eleições nos Estados Unidos](https://www.usa.gov/election), a metodologia para definição do novo presidente consiste, em:\n",
        "* Para cada estado, verificar o candidato que obteve a maioria simples dos votos dos eleitores;\n",
        "* Depois, somar a quantidade de delegados daquele estado ao total de votos do candidato.\n",
        "* A exceção são os estados de Maine e Nebraska, onde, além dos dois delegados que votam conforme a maioria simples, também há um delegado adicional para cada distrito eleitoral, sendo dois distritos em Maine e três em Nebraska, que devem ser contabilizados separadamente.\n",
        "\n",
        "Devido a natureza indireta das eleições, é possível que o candidato mais popular, ou seja, aquele que obteve a maioria dos votos da população, não seja o vencedor da eleição. Vide [imagem ilustrativa](https://imgk.timesnownews.com/media/Electoral_College_Votes_explainer.jpg)\n",
        "\n",
        "Em 2016, por exemplo, a candidata democrata Hillary Clinton obteve 2.8 milhões de votos de eleitores a mais do que o candidato republicano Donalt Trump. Mas Trump venceu as eleições por totalizar 304 votos de delegados, contra apenas 227 de Hillary. Fonte: [Os 5 candidatos mais populares que não foram eleitos](https://www.history.com/news/presidents-electoral-college-popular-vote)\n",
        "\n"
      ]
    },
    {
      "cell_type": "markdown",
      "metadata": {
        "id": "0eFI4UmKoyo6"
      },
      "source": [
        "## Visão geral dos dados"
      ]
    },
    {
      "cell_type": "markdown",
      "metadata": {
        "id": "AAop875wbqx_"
      },
      "source": [
        "Os dados escolhidos para a análise da votação presidencial dos Estados Unidos de 2020 estão disponíveis, em: [link para o dataset](https://www.kaggle.com/unanimad/us-election-2020).\n",
        "\n",
        "Eles foram baixados em 09/11 e representam o resultado parcial da eleição até 08/11.\n",
        "\n",
        "O conjunto de dados da eleição consiste em 3 arquivos, são eles:\n",
        "* **president_state.csv**, representando uma visão estadual da votação para presidente, com a base de delegados e o total de votos do estado;\n",
        "* **president_county.csv**, representando a visão a nível de condado da votação para presidente; \n",
        "* **president_county_candidate.csv**, representando o quantitativo de votos de cada candidato que estava concorrendo à presidência dentro de cada condado, bem como o seu partido eleitoral."
      ]
    },
    {
      "cell_type": "markdown",
      "metadata": {
        "id": "nLF3VlQnU7-S"
      },
      "source": [
        "O dataset **president_state.csv** consiste das colunas **votes**, totalizando a quantidade de votos daquele estado e  **electoral_vote**, indicando a quantidade de delegados daquele colégio eleitoral."
      ]
    },
    {
      "cell_type": "code",
      "metadata": {
        "id": "cLZf5G7OLFiZ",
        "outputId": "6ff27fd5-2081-451f-b23a-e8aa72d0bf75",
        "colab": {
          "base_uri": "https://localhost:8080/"
        }
      },
      "source": [
        "db_president_state = pd.read_csv('us_elections/president_state.csv')\n",
        "db_president_state.info()"
      ],
      "execution_count": 5,
      "outputs": [
        {
          "output_type": "stream",
          "text": [
            "<class 'pandas.core.frame.DataFrame'>\n",
            "RangeIndex: 52 entries, 0 to 51\n",
            "Data columns (total 3 columns):\n",
            " #   Column          Non-Null Count  Dtype  \n",
            "---  ------          --------------  -----  \n",
            " 0   state           52 non-null     object \n",
            " 1   votes           52 non-null     int64  \n",
            " 2   electoral_vote  51 non-null     float64\n",
            "dtypes: float64(1), int64(1), object(1)\n",
            "memory usage: 1.3+ KB\n"
          ],
          "name": "stdout"
        }
      ]
    },
    {
      "cell_type": "markdown",
      "metadata": {
        "id": "an2Yp6QihUZX"
      },
      "source": [
        "Porém, foi constatado que apenas 1 estado possui a quantidade de delegados preenchida e, portanto, será necessário buscar outro dataset que tenha a informação completa."
      ]
    },
    {
      "cell_type": "code",
      "metadata": {
        "id": "zOOQVb2ia9zE",
        "outputId": "3dbe4938-9476-410a-c4f0-1adc88a6df2e",
        "colab": {
          "base_uri": "https://localhost:8080/",
          "height": 0
        }
      },
      "source": [
        "db_president_state.electoral_vote.hist()"
      ],
      "execution_count": 6,
      "outputs": [
        {
          "output_type": "execute_result",
          "data": {
            "text/plain": [
              "<matplotlib.axes._subplots.AxesSubplot at 0x7f117ef13160>"
            ]
          },
          "metadata": {
            "tags": []
          },
          "execution_count": 6
        },
        {
          "output_type": "display_data",
          "data": {
            "image/png": "[encoded data removed]",
            "text/plain": [
              "<Figure size 432x288 with 1 Axes>"
            ]
          },
          "metadata": {
            "tags": [],
            "needs_background": "light"
          }
        }
      ]
    },
    {
      "cell_type": "markdown",
      "metadata": {
        "id": "fWGQ7Rbfm6Ag"
      },
      "source": [
        "Para identificar a quantidade de delegados por estado, encontramos o dataset com a base de colégios eleitorais, em: [link do segundo dataset](https://www.kaggle.com/daithibhard/us-electoral-college-votes-per-state-17882020).\n",
        "O arquivo **Electoral_College.csv** possui a quantidade de delegados por estado desde 1788, indicando o estado e a quantidade de delegados."
      ]
    },
    {
      "cell_type": "code",
      "metadata": {
        "id": "JkAd6kXVSxot",
        "outputId": "4f480cf7-a5b0-4ae6-95b3-3fc3e2f14c05",
        "colab": {
          "base_uri": "https://localhost:8080/",
          "height": 0
        }
      },
      "source": [
        "# Nos EUA, cada Estado possui um 'Peso' na votação representado pela quantidade de 'Ellectors' do colégio eleitoral\n",
        "db_electoral = pd.read_csv('us_elections/Electoral_College.csv')\n",
        "db_electoral.columns = ['year', 'state', 'electoral_votes']\n",
        "db_electoral.head()\n",
        "# Define a representatividade de cada Estado em percentual\n",
        "#db_electoral['Pct'] = (100* db_electoral.Votes / db_electoral.groupby('Year').Votes.transform(sum))"
      ],
      "execution_count": 7,
      "outputs": [
        {
          "output_type": "execute_result",
          "data": {
            "text/html": [
              "<div>\n",
              "<style scoped>\n",
              "    .dataframe tbody tr th:only-of-type {\n",
              "        vertical-align: middle;\n",
              "    }\n",
              "\n",
              "    .dataframe tbody tr th {\n",
              "        vertical-align: top;\n",
              "    }\n",
              "\n",
              "    .dataframe thead th {\n",
              "        text-align: right;\n",
              "    }\n",
              "</style>\n",
              "<table border=\"1\" class=\"dataframe\">\n",
              "  <thead>\n",
              "    <tr style=\"text-align: right;\">\n",
              "      <th></th>\n",
              "      <th>year</th>\n",
              "      <th>state</th>\n",
              "      <th>electoral_votes</th>\n",
              "    </tr>\n",
              "  </thead>\n",
              "  <tbody>\n",
              "    <tr>\n",
              "      <th>0</th>\n",
              "      <td>1788</td>\n",
              "      <td>Alabama</td>\n",
              "      <td>NaN</td>\n",
              "    </tr>\n",
              "    <tr>\n",
              "      <th>1</th>\n",
              "      <td>1792</td>\n",
              "      <td>Alabama</td>\n",
              "      <td>NaN</td>\n",
              "    </tr>\n",
              "    <tr>\n",
              "      <th>2</th>\n",
              "      <td>1796</td>\n",
              "      <td>Alabama</td>\n",
              "      <td>NaN</td>\n",
              "    </tr>\n",
              "    <tr>\n",
              "      <th>3</th>\n",
              "      <td>1800</td>\n",
              "      <td>Alabama</td>\n",
              "      <td>NaN</td>\n",
              "    </tr>\n",
              "    <tr>\n",
              "      <th>4</th>\n",
              "      <td>1804</td>\n",
              "      <td>Alabama</td>\n",
              "      <td>NaN</td>\n",
              "    </tr>\n",
              "  </tbody>\n",
              "</table>\n",
              "</div>"
            ],
            "text/plain": [
              "   year    state  electoral_votes\n",
              "0  1788  Alabama              NaN\n",
              "1  1792  Alabama              NaN\n",
              "2  1796  Alabama              NaN\n",
              "3  1800  Alabama              NaN\n",
              "4  1804  Alabama              NaN"
            ]
          },
          "metadata": {
            "tags": []
          },
          "execution_count": 7
        }
      ]
    },
    {
      "cell_type": "markdown",
      "metadata": {
        "id": "5Q7oorgWnyUp"
      },
      "source": [
        "Para nossa análise, é suficiente manter apenas os dados do ano de 2020."
      ]
    },
    {
      "cell_type": "code",
      "metadata": {
        "id": "bRL_hP2sgjE1",
        "outputId": "444d5a2d-a8bf-4456-8dea-14ec387efe84",
        "colab": {
          "base_uri": "https://localhost:8080/",
          "height": 0
        }
      },
      "source": [
        "# Padroniza o nome do Distrito de Columbia\n",
        "db_electoral.loc[471,'state'] = 'District of Columbia'\n",
        "# O nosso interesse é nos valores de 2020\n",
        "db_electoral_2020 = db_electoral[db_electoral.year.eq(2020)].sort_values('state').reset_index(drop=True)\n",
        "db_electoral_2020.head()"
      ],
      "execution_count": 8,
      "outputs": [
        {
          "output_type": "execute_result",
          "data": {
            "text/html": [
              "<div>\n",
              "<style scoped>\n",
              "    .dataframe tbody tr th:only-of-type {\n",
              "        vertical-align: middle;\n",
              "    }\n",
              "\n",
              "    .dataframe tbody tr th {\n",
              "        vertical-align: top;\n",
              "    }\n",
              "\n",
              "    .dataframe thead th {\n",
              "        text-align: right;\n",
              "    }\n",
              "</style>\n",
              "<table border=\"1\" class=\"dataframe\">\n",
              "  <thead>\n",
              "    <tr style=\"text-align: right;\">\n",
              "      <th></th>\n",
              "      <th>year</th>\n",
              "      <th>state</th>\n",
              "      <th>electoral_votes</th>\n",
              "    </tr>\n",
              "  </thead>\n",
              "  <tbody>\n",
              "    <tr>\n",
              "      <th>0</th>\n",
              "      <td>2020</td>\n",
              "      <td>Alabama</td>\n",
              "      <td>9.0</td>\n",
              "    </tr>\n",
              "    <tr>\n",
              "      <th>1</th>\n",
              "      <td>2020</td>\n",
              "      <td>Alaska</td>\n",
              "      <td>3.0</td>\n",
              "    </tr>\n",
              "    <tr>\n",
              "      <th>2</th>\n",
              "      <td>2020</td>\n",
              "      <td>Arizona</td>\n",
              "      <td>11.0</td>\n",
              "    </tr>\n",
              "    <tr>\n",
              "      <th>3</th>\n",
              "      <td>2020</td>\n",
              "      <td>Arkansas</td>\n",
              "      <td>6.0</td>\n",
              "    </tr>\n",
              "    <tr>\n",
              "      <th>4</th>\n",
              "      <td>2020</td>\n",
              "      <td>California</td>\n",
              "      <td>55.0</td>\n",
              "    </tr>\n",
              "  </tbody>\n",
              "</table>\n",
              "</div>"
            ],
            "text/plain": [
              "   year       state  electoral_votes\n",
              "0  2020     Alabama              9.0\n",
              "1  2020      Alaska              3.0\n",
              "2  2020     Arizona             11.0\n",
              "3  2020    Arkansas              6.0\n",
              "4  2020  California             55.0"
            ]
          },
          "metadata": {
            "tags": []
          },
          "execution_count": 8
        }
      ]
    },
    {
      "cell_type": "code",
      "metadata": {
        "id": "kh5M7imUoQ8p"
      },
      "source": [
        "#TODO plotar o mapa dos EUA indicando o \"peso\" de cada estado com cores"
      ],
      "execution_count": 9,
      "outputs": []
    },
    {
      "cell_type": "markdown",
      "metadata": {
        "id": "T6Cp2m5LZrZ4"
      },
      "source": [
        "O dataset **president_county.csv** descreve a quantidade de votos por estado, **state**, e condado, **county**. Representa a quantidade total de votos por condado na coluna **total_votes** e a quantidade atual de votos já computados na coluna **current_votes**, bem como a porcentagem de votos apurados em relação ao total na coluna **percent**."
      ]
    },
    {
      "cell_type": "code",
      "metadata": {
        "id": "mpDRtC9-QAbC",
        "outputId": "63d4bc4d-2392-4042-c0ea-201da2309890",
        "colab": {
          "base_uri": "https://localhost:8080/"
        }
      },
      "source": [
        "db_president_county = pd.read_csv('us_elections/president_county.csv')\n",
        "db_president_county.info()"
      ],
      "execution_count": 10,
      "outputs": [
        {
          "output_type": "stream",
          "text": [
            "<class 'pandas.core.frame.DataFrame'>\n",
            "RangeIndex: 4633 entries, 0 to 4632\n",
            "Data columns (total 5 columns):\n",
            " #   Column         Non-Null Count  Dtype \n",
            "---  ------         --------------  ----- \n",
            " 0   state          4633 non-null   object\n",
            " 1   county         4633 non-null   object\n",
            " 2   current_votes  4633 non-null   int64 \n",
            " 3   total_votes    4633 non-null   int64 \n",
            " 4   percent        4633 non-null   int64 \n",
            "dtypes: int64(3), object(2)\n",
            "memory usage: 181.1+ KB\n"
          ],
          "name": "stdout"
        }
      ]
    },
    {
      "cell_type": "markdown",
      "metadata": {
        "id": "lLUeRBk5VxLn"
      },
      "source": [
        "Esse dataset possui três colunas numéricas, **total_votes**, **current_votes**  e **percent**. Porém, também apresentou inconsistências, pois, a quantidade de votos computados foi maior do que a quantidade total de votos em alguns condados:"
      ]
    },
    {
      "cell_type": "code",
      "metadata": {
        "id": "YruteXiUWO1_",
        "outputId": "422ab3d1-0890-4d93-e855-f868e9c17f54",
        "colab": {
          "base_uri": "https://localhost:8080/"
        }
      },
      "source": [
        "db_inconsistent_president_county = db_president_county[db_president_county.apply(lambda row: row['current_votes'] > row['total_votes'], axis=1)].sort_values('percent', ascending=False)\n",
        "inconsistency = db_inconsistent_president_county.county.count() / db_president_county.county.count()\n",
        "print('Em ' + str(round(100*inconsistency,2)) + '% dos condados a quantidade atual de votos é maior que o total')"
      ],
      "execution_count": 11,
      "outputs": [
        {
          "output_type": "stream",
          "text": [
            "Em 35.23% dos condados a quantidade atual de votos é maior que o total\n"
          ],
          "name": "stdout"
        }
      ]
    },
    {
      "cell_type": "code",
      "metadata": {
        "id": "JrT3U4h-rS1m"
      },
      "source": [
        "#TODO projetar até quanto esse valor pode crescer até o final da eleição"
      ],
      "execution_count": 12,
      "outputs": []
    },
    {
      "cell_type": "markdown",
      "metadata": {
        "id": "Fda_UpyYp7c9"
      },
      "source": [
        "Para simplificar a análise, quando o valor de **current_votes** for maior uqe  **total_votes**, iremos modificar o total para ser igual ao valor corrente, caso contrário, não será possível estimar o vencedor da eleição."
      ]
    },
    {
      "cell_type": "code",
      "metadata": {
        "id": "XU3fopcdVrmZ",
        "outputId": "c02cb437-3dd7-4fcb-c7b6-6d1dc89cee9b",
        "colab": {
          "base_uri": "https://localhost:8080/",
          "height": 0
        }
      },
      "source": [
        "db_president_state = db_president_county.groupby('state').sum().reset_index()\n",
        "db_president_state.total_votes = db_president_state.apply(lambda row: row['total_votes'] if row['total_votes'] > row['current_votes'] else row['current_votes'], axis=1)\n",
        "db_president_state.percent = db_president_state.apply(lambda row: 100 * row['current_votes'] / row['total_votes'], axis=1)\n",
        "db_president_state.head()"
      ],
      "execution_count": 13,
      "outputs": [
        {
          "output_type": "execute_result",
          "data": {
            "text/html": [
              "<div>\n",
              "<style scoped>\n",
              "    .dataframe tbody tr th:only-of-type {\n",
              "        vertical-align: middle;\n",
              "    }\n",
              "\n",
              "    .dataframe tbody tr th {\n",
              "        vertical-align: top;\n",
              "    }\n",
              "\n",
              "    .dataframe thead th {\n",
              "        text-align: right;\n",
              "    }\n",
              "</style>\n",
              "<table border=\"1\" class=\"dataframe\">\n",
              "  <thead>\n",
              "    <tr style=\"text-align: right;\">\n",
              "      <th></th>\n",
              "      <th>state</th>\n",
              "      <th>current_votes</th>\n",
              "      <th>total_votes</th>\n",
              "      <th>percent</th>\n",
              "    </tr>\n",
              "  </thead>\n",
              "  <tbody>\n",
              "    <tr>\n",
              "      <th>0</th>\n",
              "      <td>Alabama</td>\n",
              "      <td>2309900</td>\n",
              "      <td>2309900</td>\n",
              "      <td>100.000000</td>\n",
              "    </tr>\n",
              "    <tr>\n",
              "      <th>1</th>\n",
              "      <td>Alaska</td>\n",
              "      <td>131885</td>\n",
              "      <td>366006</td>\n",
              "      <td>36.033562</td>\n",
              "    </tr>\n",
              "    <tr>\n",
              "      <th>2</th>\n",
              "      <td>Arizona</td>\n",
              "      <td>3322535</td>\n",
              "      <td>3403744</td>\n",
              "      <td>97.614127</td>\n",
              "    </tr>\n",
              "    <tr>\n",
              "      <th>3</th>\n",
              "      <td>Arkansas</td>\n",
              "      <td>1216818</td>\n",
              "      <td>1250053</td>\n",
              "      <td>97.341313</td>\n",
              "    </tr>\n",
              "    <tr>\n",
              "      <th>4</th>\n",
              "      <td>California</td>\n",
              "      <td>14414296</td>\n",
              "      <td>15813337</td>\n",
              "      <td>91.152778</td>\n",
              "    </tr>\n",
              "  </tbody>\n",
              "</table>\n",
              "</div>"
            ],
            "text/plain": [
              "        state  current_votes  total_votes     percent\n",
              "0     Alabama        2309900      2309900  100.000000\n",
              "1      Alaska         131885       366006   36.033562\n",
              "2     Arizona        3322535      3403744   97.614127\n",
              "3    Arkansas        1216818      1250053   97.341313\n",
              "4  California       14414296     15813337   91.152778"
            ]
          },
          "metadata": {
            "tags": []
          },
          "execution_count": 13
        }
      ]
    },
    {
      "cell_type": "markdown",
      "metadata": {
        "id": "iCjbCjsctPrF"
      },
      "source": [
        "Precisamos adicionar a coluna **remaining_votes** ao dataset para podermos verificar se ainda há chance do segundo colocado alcançar a maioria dos votos nos estados em que o primeiro colocado ainda não atingiu 50% ou mais de votos."
      ]
    },
    {
      "cell_type": "code",
      "metadata": {
        "id": "7a29MvOXtPBn",
        "outputId": "44552ca2-d512-45ec-900a-9c082eff3c44",
        "colab": {
          "base_uri": "https://localhost:8080/",
          "height": 0
        }
      },
      "source": [
        "db_president_state['remaining_votes'] = db_president_state.total_votes - db_president_state.current_votes\n",
        "db_president_state.sort_values('percent').head(5)"
      ],
      "execution_count": 14,
      "outputs": [
        {
          "output_type": "execute_result",
          "data": {
            "text/html": [
              "<div>\n",
              "<style scoped>\n",
              "    .dataframe tbody tr th:only-of-type {\n",
              "        vertical-align: middle;\n",
              "    }\n",
              "\n",
              "    .dataframe tbody tr th {\n",
              "        vertical-align: top;\n",
              "    }\n",
              "\n",
              "    .dataframe thead th {\n",
              "        text-align: right;\n",
              "    }\n",
              "</style>\n",
              "<table border=\"1\" class=\"dataframe\">\n",
              "  <thead>\n",
              "    <tr style=\"text-align: right;\">\n",
              "      <th></th>\n",
              "      <th>state</th>\n",
              "      <th>current_votes</th>\n",
              "      <th>total_votes</th>\n",
              "      <th>percent</th>\n",
              "      <th>remaining_votes</th>\n",
              "    </tr>\n",
              "  </thead>\n",
              "  <tbody>\n",
              "    <tr>\n",
              "      <th>1</th>\n",
              "      <td>Alaska</td>\n",
              "      <td>131885</td>\n",
              "      <td>366006</td>\n",
              "      <td>36.033562</td>\n",
              "      <td>234121</td>\n",
              "    </tr>\n",
              "    <tr>\n",
              "      <th>32</th>\n",
              "      <td>New York</td>\n",
              "      <td>6641544</td>\n",
              "      <td>8904800</td>\n",
              "      <td>74.583865</td>\n",
              "      <td>2263256</td>\n",
              "    </tr>\n",
              "    <tr>\n",
              "      <th>8</th>\n",
              "      <td>District of Columbia</td>\n",
              "      <td>279152</td>\n",
              "      <td>348619</td>\n",
              "      <td>80.073662</td>\n",
              "      <td>69467</td>\n",
              "    </tr>\n",
              "    <tr>\n",
              "      <th>30</th>\n",
              "      <td>New Jersey</td>\n",
              "      <td>3610021</td>\n",
              "      <td>4349127</td>\n",
              "      <td>83.005647</td>\n",
              "      <td>739106</td>\n",
              "    </tr>\n",
              "    <tr>\n",
              "      <th>20</th>\n",
              "      <td>Maryland</td>\n",
              "      <td>2497959</td>\n",
              "      <td>3002298</td>\n",
              "      <td>83.201568</td>\n",
              "      <td>504339</td>\n",
              "    </tr>\n",
              "  </tbody>\n",
              "</table>\n",
              "</div>"
            ],
            "text/plain": [
              "                   state  current_votes  ...    percent  remaining_votes\n",
              "1                 Alaska         131885  ...  36.033562           234121\n",
              "32              New York        6641544  ...  74.583865          2263256\n",
              "8   District of Columbia         279152  ...  80.073662            69467\n",
              "30            New Jersey        3610021  ...  83.005647           739106\n",
              "20              Maryland        2497959  ...  83.201568           504339\n",
              "\n",
              "[5 rows x 5 columns]"
            ]
          },
          "metadata": {
            "tags": []
          },
          "execution_count": 14
        }
      ]
    },
    {
      "cell_type": "code",
      "metadata": {
        "id": "ZDH-U3mqvVK2",
        "outputId": "574c9b47-3ba5-4ac9-8bec-30cfc8539e24",
        "colab": {
          "base_uri": "https://localhost:8080/",
          "height": 0
        }
      },
      "source": [
        "db_president_state.percent.hist()"
      ],
      "execution_count": 15,
      "outputs": [
        {
          "output_type": "execute_result",
          "data": {
            "text/plain": [
              "<matplotlib.axes._subplots.AxesSubplot at 0x7f117d6f6710>"
            ]
          },
          "metadata": {
            "tags": []
          },
          "execution_count": 15
        },
        {
          "output_type": "display_data",
          "data": {
            "image/png": "[encoded data removed]",
            "text/plain": [
              "<Figure size 432x288 with 1 Axes>"
            ]
          },
          "metadata": {
            "tags": [],
            "needs_background": "light"
          }
        }
      ]
    },
    {
      "cell_type": "code",
      "metadata": {
        "id": "GXwOPH48MM6s",
        "outputId": "7f9c104a-0b13-4c2b-eeeb-033cc7baa119",
        "colab": {
          "base_uri": "https://localhost:8080/",
          "height": 0
        }
      },
      "source": [
        "db_state_electoral_votes = pd.merge(db_president_state, db_electoral_2020, how='left', on='state', )\n",
        "del db_state_electoral_votes['year']\n",
        "db_state_electoral_votes.head()"
      ],
      "execution_count": 16,
      "outputs": [
        {
          "output_type": "execute_result",
          "data": {
            "text/html": [
              "<div>\n",
              "<style scoped>\n",
              "    .dataframe tbody tr th:only-of-type {\n",
              "        vertical-align: middle;\n",
              "    }\n",
              "\n",
              "    .dataframe tbody tr th {\n",
              "        vertical-align: top;\n",
              "    }\n",
              "\n",
              "    .dataframe thead th {\n",
              "        text-align: right;\n",
              "    }\n",
              "</style>\n",
              "<table border=\"1\" class=\"dataframe\">\n",
              "  <thead>\n",
              "    <tr style=\"text-align: right;\">\n",
              "      <th></th>\n",
              "      <th>state</th>\n",
              "      <th>current_votes</th>\n",
              "      <th>total_votes</th>\n",
              "      <th>percent</th>\n",
              "      <th>remaining_votes</th>\n",
              "      <th>electoral_votes</th>\n",
              "    </tr>\n",
              "  </thead>\n",
              "  <tbody>\n",
              "    <tr>\n",
              "      <th>0</th>\n",
              "      <td>Alabama</td>\n",
              "      <td>2309900</td>\n",
              "      <td>2309900</td>\n",
              "      <td>100.000000</td>\n",
              "      <td>0</td>\n",
              "      <td>9.0</td>\n",
              "    </tr>\n",
              "    <tr>\n",
              "      <th>1</th>\n",
              "      <td>Alaska</td>\n",
              "      <td>131885</td>\n",
              "      <td>366006</td>\n",
              "      <td>36.033562</td>\n",
              "      <td>234121</td>\n",
              "      <td>3.0</td>\n",
              "    </tr>\n",
              "    <tr>\n",
              "      <th>2</th>\n",
              "      <td>Arizona</td>\n",
              "      <td>3322535</td>\n",
              "      <td>3403744</td>\n",
              "      <td>97.614127</td>\n",
              "      <td>81209</td>\n",
              "      <td>11.0</td>\n",
              "    </tr>\n",
              "    <tr>\n",
              "      <th>3</th>\n",
              "      <td>Arkansas</td>\n",
              "      <td>1216818</td>\n",
              "      <td>1250053</td>\n",
              "      <td>97.341313</td>\n",
              "      <td>33235</td>\n",
              "      <td>6.0</td>\n",
              "    </tr>\n",
              "    <tr>\n",
              "      <th>4</th>\n",
              "      <td>California</td>\n",
              "      <td>14414296</td>\n",
              "      <td>15813337</td>\n",
              "      <td>91.152778</td>\n",
              "      <td>1399041</td>\n",
              "      <td>55.0</td>\n",
              "    </tr>\n",
              "  </tbody>\n",
              "</table>\n",
              "</div>"
            ],
            "text/plain": [
              "        state  current_votes  ...  remaining_votes  electoral_votes\n",
              "0     Alabama        2309900  ...                0              9.0\n",
              "1      Alaska         131885  ...           234121              3.0\n",
              "2     Arizona        3322535  ...            81209             11.0\n",
              "3    Arkansas        1216818  ...            33235              6.0\n",
              "4  California       14414296  ...          1399041             55.0\n",
              "\n",
              "[5 rows x 6 columns]"
            ]
          },
          "metadata": {
            "tags": []
          },
          "execution_count": 16
        }
      ]
    },
    {
      "cell_type": "markdown",
      "metadata": {
        "id": "GcfZyNN4udKc"
      },
      "source": [
        "O dataset **president_county_candidate.csv** possui 4 colunas categóricas e 1 coluna numérica. São elas: o estado, **state**; o condado, **county**; o candidato, **candidate**; o partido ao qual ele está filiado, **party**; e a quantidade de votos que o candidato já recebeu naquele condado, **votes**."
      ]
    },
    {
      "cell_type": "code",
      "metadata": {
        "id": "aSE1DPyAK2u8",
        "outputId": "2c61ecec-0a34-4c3f-8951-0a30ec874ce6",
        "colab": {
          "base_uri": "https://localhost:8080/"
        }
      },
      "source": [
        "db_president_county_candidate = pd.read_csv('us_elections/president_county_candidate.csv')\n",
        "db_president_county_candidate.info()"
      ],
      "execution_count": 17,
      "outputs": [
        {
          "output_type": "stream",
          "text": [
            "<class 'pandas.core.frame.DataFrame'>\n",
            "RangeIndex: 31167 entries, 0 to 31166\n",
            "Data columns (total 5 columns):\n",
            " #   Column     Non-Null Count  Dtype \n",
            "---  ------     --------------  ----- \n",
            " 0   state      31167 non-null  object\n",
            " 1   county     31167 non-null  object\n",
            " 2   candidate  31167 non-null  object\n",
            " 3   party      31167 non-null  object\n",
            " 4   votes      31167 non-null  int64 \n",
            "dtypes: int64(1), object(4)\n",
            "memory usage: 1.2+ MB\n"
          ],
          "name": "stdout"
        }
      ]
    },
    {
      "cell_type": "markdown",
      "metadata": {
        "id": "tNNh8JnFwlch"
      },
      "source": [
        "A distribuição de partidos por condado onde obtiveram pelo menos 1 voto para seu candidato se assemelha a uma distribuição exponencial."
      ]
    },
    {
      "cell_type": "code",
      "metadata": {
        "id": "S5bUU7oUwt-j",
        "outputId": "853011c8-0ce1-4cb2-f890-878c46a46a94",
        "colab": {
          "base_uri": "https://localhost:8080/",
          "height": 0
        }
      },
      "source": [
        "db_president_county_candidate.party.value_counts().plot(kind='bar')"
      ],
      "execution_count": 18,
      "outputs": [
        {
          "output_type": "execute_result",
          "data": {
            "text/plain": [
              "<matplotlib.axes._subplots.AxesSubplot at 0x7f117d5ffa20>"
            ]
          },
          "metadata": {
            "tags": []
          },
          "execution_count": 18
        },
        {
          "output_type": "display_data",
          "data": {
            "image/png": "[encoded data removed]",
            "text/plain": [
              "<Figure size 432x288 with 1 Axes>"
            ]
          },
          "metadata": {
            "tags": [],
            "needs_background": "light"
          }
        }
      ]
    },
    {
      "cell_type": "markdown",
      "metadata": {
        "id": "6E-zlv9a1zb5"
      },
      "source": [
        "## Preparação dos dados"
      ]
    },
    {
      "cell_type": "markdown",
      "metadata": {
        "id": "tT9yDjr7DwoS"
      },
      "source": [
        "### Calculando o total de votos computados por Candidato em cada Estado"
      ]
    },
    {
      "cell_type": "code",
      "metadata": {
        "id": "BUdmUSiP2gSW",
        "outputId": "304a97eb-c686-42d6-9843-896309715a24",
        "colab": {
          "base_uri": "https://localhost:8080/",
          "height": 164
        }
      },
      "source": [
        "# totalizando os votos por estado e candidato, já em ordem descrescente pela quantidade de votos\n",
        "db_president_state_candidate = db_president_county_candidate.groupby(['state', 'candidate', 'party']).sum('votes').sort_values(by = ['state', 'votes'], ascending = [True, False]).reset_index()\n",
        "db_president_state_candidate.head(4)"
      ],
      "execution_count": 19,
      "outputs": [
        {
          "output_type": "execute_result",
          "data": {
            "text/html": [
              "<div>\n",
              "<style scoped>\n",
              "    .dataframe tbody tr th:only-of-type {\n",
              "        vertical-align: middle;\n",
              "    }\n",
              "\n",
              "    .dataframe tbody tr th {\n",
              "        vertical-align: top;\n",
              "    }\n",
              "\n",
              "    .dataframe thead th {\n",
              "        text-align: right;\n",
              "    }\n",
              "</style>\n",
              "<table border=\"1\" class=\"dataframe\">\n",
              "  <thead>\n",
              "    <tr style=\"text-align: right;\">\n",
              "      <th></th>\n",
              "      <th>state</th>\n",
              "      <th>candidate</th>\n",
              "      <th>party</th>\n",
              "      <th>votes</th>\n",
              "    </tr>\n",
              "  </thead>\n",
              "  <tbody>\n",
              "    <tr>\n",
              "      <th>0</th>\n",
              "      <td>Alabama</td>\n",
              "      <td>Donald Trump</td>\n",
              "      <td>REP</td>\n",
              "      <td>1434159</td>\n",
              "    </tr>\n",
              "    <tr>\n",
              "      <th>1</th>\n",
              "      <td>Alabama</td>\n",
              "      <td>Joe Biden</td>\n",
              "      <td>DEM</td>\n",
              "      <td>843473</td>\n",
              "    </tr>\n",
              "    <tr>\n",
              "      <th>2</th>\n",
              "      <td>Alabama</td>\n",
              "      <td>Jo Jorgensen</td>\n",
              "      <td>LIB</td>\n",
              "      <td>24994</td>\n",
              "    </tr>\n",
              "    <tr>\n",
              "      <th>3</th>\n",
              "      <td>Alabama</td>\n",
              "      <td>Write-ins</td>\n",
              "      <td>WRI</td>\n",
              "      <td>7274</td>\n",
              "    </tr>\n",
              "  </tbody>\n",
              "</table>\n",
              "</div>"
            ],
            "text/plain": [
              "     state     candidate party    votes\n",
              "0  Alabama  Donald Trump   REP  1434159\n",
              "1  Alabama     Joe Biden   DEM   843473\n",
              "2  Alabama  Jo Jorgensen   LIB    24994\n",
              "3  Alabama     Write-ins   WRI     7274"
            ]
          },
          "metadata": {
            "tags": []
          },
          "execution_count": 19
        }
      ]
    },
    {
      "cell_type": "code",
      "metadata": {
        "id": "VyeXelX6RT0w",
        "outputId": "b810a894-efa2-4bbb-a155-83945ad353e1",
        "colab": {
          "base_uri": "https://localhost:8080/",
          "height": 194
        }
      },
      "source": [
        "# define primeiro mais votado em cada Estado\n",
        "db_1st_place_by_state = db_president_state_candidate.groupby('state').nth(0).reset_index()\n",
        "db_1st_place_by_state.columns = ['state', '1st_candidate', '1st_party', '1st_votes']\n",
        "db_1st_place_by_state.head()"
      ],
      "execution_count": 20,
      "outputs": [
        {
          "output_type": "execute_result",
          "data": {
            "text/html": [
              "<div>\n",
              "<style scoped>\n",
              "    .dataframe tbody tr th:only-of-type {\n",
              "        vertical-align: middle;\n",
              "    }\n",
              "\n",
              "    .dataframe tbody tr th {\n",
              "        vertical-align: top;\n",
              "    }\n",
              "\n",
              "    .dataframe thead th {\n",
              "        text-align: right;\n",
              "    }\n",
              "</style>\n",
              "<table border=\"1\" class=\"dataframe\">\n",
              "  <thead>\n",
              "    <tr style=\"text-align: right;\">\n",
              "      <th></th>\n",
              "      <th>state</th>\n",
              "      <th>1st_candidate</th>\n",
              "      <th>1st_party</th>\n",
              "      <th>1st_votes</th>\n",
              "    </tr>\n",
              "  </thead>\n",
              "  <tbody>\n",
              "    <tr>\n",
              "      <th>0</th>\n",
              "      <td>Alabama</td>\n",
              "      <td>Donald Trump</td>\n",
              "      <td>REP</td>\n",
              "      <td>1434159</td>\n",
              "    </tr>\n",
              "    <tr>\n",
              "      <th>1</th>\n",
              "      <td>Alaska</td>\n",
              "      <td>Donald Trump</td>\n",
              "      <td>REP</td>\n",
              "      <td>80999</td>\n",
              "    </tr>\n",
              "    <tr>\n",
              "      <th>2</th>\n",
              "      <td>Arizona</td>\n",
              "      <td>Joe Biden</td>\n",
              "      <td>DEM</td>\n",
              "      <td>1643664</td>\n",
              "    </tr>\n",
              "    <tr>\n",
              "      <th>3</th>\n",
              "      <td>Arkansas</td>\n",
              "      <td>Donald Trump</td>\n",
              "      <td>REP</td>\n",
              "      <td>761251</td>\n",
              "    </tr>\n",
              "    <tr>\n",
              "      <th>4</th>\n",
              "      <td>California</td>\n",
              "      <td>Joe Biden</td>\n",
              "      <td>DEM</td>\n",
              "      <td>9315259</td>\n",
              "    </tr>\n",
              "  </tbody>\n",
              "</table>\n",
              "</div>"
            ],
            "text/plain": [
              "        state 1st_candidate 1st_party  1st_votes\n",
              "0     Alabama  Donald Trump       REP    1434159\n",
              "1      Alaska  Donald Trump       REP      80999\n",
              "2     Arizona     Joe Biden       DEM    1643664\n",
              "3    Arkansas  Donald Trump       REP     761251\n",
              "4  California     Joe Biden       DEM    9315259"
            ]
          },
          "metadata": {
            "tags": []
          },
          "execution_count": 20
        }
      ]
    },
    {
      "cell_type": "code",
      "metadata": {
        "id": "c6avyKZuTpoE",
        "outputId": "648feb3e-82fb-42d9-97dc-658d59e16371",
        "colab": {
          "base_uri": "https://localhost:8080/",
          "height": 194
        }
      },
      "source": [
        "# combina com o dataset de resultados\n",
        "db_1st_results = pd.merge(db_state_electoral_votes, db_1st_place_by_state , how='left', on='state', )\n",
        "db_1st_results['1st_percent'] = 100* db_1st_results['1st_votes'] / db_1st_results.current_votes\n",
        "db_1st_results.head()"
      ],
      "execution_count": 43,
      "outputs": [
        {
          "output_type": "execute_result",
          "data": {
            "text/html": [
              "<div>\n",
              "<style scoped>\n",
              "    .dataframe tbody tr th:only-of-type {\n",
              "        vertical-align: middle;\n",
              "    }\n",
              "\n",
              "    .dataframe tbody tr th {\n",
              "        vertical-align: top;\n",
              "    }\n",
              "\n",
              "    .dataframe thead th {\n",
              "        text-align: right;\n",
              "    }\n",
              "</style>\n",
              "<table border=\"1\" class=\"dataframe\">\n",
              "  <thead>\n",
              "    <tr style=\"text-align: right;\">\n",
              "      <th></th>\n",
              "      <th>state</th>\n",
              "      <th>current_votes</th>\n",
              "      <th>total_votes</th>\n",
              "      <th>percent</th>\n",
              "      <th>remaining_votes</th>\n",
              "      <th>electoral_votes</th>\n",
              "      <th>1st_candidate</th>\n",
              "      <th>1st_party</th>\n",
              "      <th>1st_votes</th>\n",
              "      <th>1st_percent</th>\n",
              "    </tr>\n",
              "  </thead>\n",
              "  <tbody>\n",
              "    <tr>\n",
              "      <th>0</th>\n",
              "      <td>Alabama</td>\n",
              "      <td>2309900</td>\n",
              "      <td>2309900</td>\n",
              "      <td>100.000000</td>\n",
              "      <td>0</td>\n",
              "      <td>9.0</td>\n",
              "      <td>Donald Trump</td>\n",
              "      <td>REP</td>\n",
              "      <td>1434159</td>\n",
              "      <td>62.087493</td>\n",
              "    </tr>\n",
              "    <tr>\n",
              "      <th>1</th>\n",
              "      <td>Alaska</td>\n",
              "      <td>131885</td>\n",
              "      <td>366006</td>\n",
              "      <td>36.033562</td>\n",
              "      <td>234121</td>\n",
              "      <td>3.0</td>\n",
              "      <td>Donald Trump</td>\n",
              "      <td>REP</td>\n",
              "      <td>80999</td>\n",
              "      <td>61.416385</td>\n",
              "    </tr>\n",
              "    <tr>\n",
              "      <th>2</th>\n",
              "      <td>Arizona</td>\n",
              "      <td>3322535</td>\n",
              "      <td>3403744</td>\n",
              "      <td>97.614127</td>\n",
              "      <td>81209</td>\n",
              "      <td>11.0</td>\n",
              "      <td>Joe Biden</td>\n",
              "      <td>DEM</td>\n",
              "      <td>1643664</td>\n",
              "      <td>49.470179</td>\n",
              "    </tr>\n",
              "    <tr>\n",
              "      <th>3</th>\n",
              "      <td>Arkansas</td>\n",
              "      <td>1216818</td>\n",
              "      <td>1250053</td>\n",
              "      <td>97.341313</td>\n",
              "      <td>33235</td>\n",
              "      <td>6.0</td>\n",
              "      <td>Donald Trump</td>\n",
              "      <td>REP</td>\n",
              "      <td>761251</td>\n",
              "      <td>62.560794</td>\n",
              "    </tr>\n",
              "    <tr>\n",
              "      <th>4</th>\n",
              "      <td>California</td>\n",
              "      <td>14414296</td>\n",
              "      <td>15813337</td>\n",
              "      <td>91.152778</td>\n",
              "      <td>1399041</td>\n",
              "      <td>55.0</td>\n",
              "      <td>Joe Biden</td>\n",
              "      <td>DEM</td>\n",
              "      <td>9315259</td>\n",
              "      <td>64.625140</td>\n",
              "    </tr>\n",
              "  </tbody>\n",
              "</table>\n",
              "</div>"
            ],
            "text/plain": [
              "        state  current_votes  total_votes  ...  1st_party  1st_votes  1st_percent\n",
              "0     Alabama        2309900      2309900  ...        REP    1434159    62.087493\n",
              "1      Alaska         131885       366006  ...        REP      80999    61.416385\n",
              "2     Arizona        3322535      3403744  ...        DEM    1643664    49.470179\n",
              "3    Arkansas        1216818      1250053  ...        REP     761251    62.560794\n",
              "4  California       14414296     15813337  ...        DEM    9315259    64.625140\n",
              "\n",
              "[5 rows x 10 columns]"
            ]
          },
          "metadata": {
            "tags": []
          },
          "execution_count": 43
        }
      ]
    },
    {
      "cell_type": "code",
      "metadata": {
        "id": "VN73X5bs03BJ",
        "outputId": "53fde23c-2b70-4a7d-9f2a-ebfc29932974",
        "colab": {
          "base_uri": "https://localhost:8080/",
          "height": 194
        }
      },
      "source": [
        "# define o segundo mais votado em cada Estado\n",
        "db_2nd_place_by_state = db_president_state_candidate.groupby('state').nth(1).reset_index()\n",
        "db_2nd_place_by_state.columns = ['state', '2nd_candidate', '2nd_party', '2nd_votes']\n",
        "db_2nd_place_by_state.head()"
      ],
      "execution_count": 44,
      "outputs": [
        {
          "output_type": "execute_result",
          "data": {
            "text/html": [
              "<div>\n",
              "<style scoped>\n",
              "    .dataframe tbody tr th:only-of-type {\n",
              "        vertical-align: middle;\n",
              "    }\n",
              "\n",
              "    .dataframe tbody tr th {\n",
              "        vertical-align: top;\n",
              "    }\n",
              "\n",
              "    .dataframe thead th {\n",
              "        text-align: right;\n",
              "    }\n",
              "</style>\n",
              "<table border=\"1\" class=\"dataframe\">\n",
              "  <thead>\n",
              "    <tr style=\"text-align: right;\">\n",
              "      <th></th>\n",
              "      <th>state</th>\n",
              "      <th>2nd_candidate</th>\n",
              "      <th>2nd_party</th>\n",
              "      <th>2nd_votes</th>\n",
              "    </tr>\n",
              "  </thead>\n",
              "  <tbody>\n",
              "    <tr>\n",
              "      <th>0</th>\n",
              "      <td>Alabama</td>\n",
              "      <td>Joe Biden</td>\n",
              "      <td>DEM</td>\n",
              "      <td>843473</td>\n",
              "    </tr>\n",
              "    <tr>\n",
              "      <th>1</th>\n",
              "      <td>Alaska</td>\n",
              "      <td>Joe Biden</td>\n",
              "      <td>DEM</td>\n",
              "      <td>45758</td>\n",
              "    </tr>\n",
              "    <tr>\n",
              "      <th>2</th>\n",
              "      <td>Arizona</td>\n",
              "      <td>Donald Trump</td>\n",
              "      <td>REP</td>\n",
              "      <td>1626679</td>\n",
              "    </tr>\n",
              "    <tr>\n",
              "      <th>3</th>\n",
              "      <td>Arkansas</td>\n",
              "      <td>Joe Biden</td>\n",
              "      <td>DEM</td>\n",
              "      <td>420985</td>\n",
              "    </tr>\n",
              "    <tr>\n",
              "      <th>4</th>\n",
              "      <td>California</td>\n",
              "      <td>Donald Trump</td>\n",
              "      <td>REP</td>\n",
              "      <td>4812735</td>\n",
              "    </tr>\n",
              "  </tbody>\n",
              "</table>\n",
              "</div>"
            ],
            "text/plain": [
              "        state 2nd_candidate 2nd_party  2nd_votes\n",
              "0     Alabama     Joe Biden       DEM     843473\n",
              "1      Alaska     Joe Biden       DEM      45758\n",
              "2     Arizona  Donald Trump       REP    1626679\n",
              "3    Arkansas     Joe Biden       DEM     420985\n",
              "4  California  Donald Trump       REP    4812735"
            ]
          },
          "metadata": {
            "tags": []
          },
          "execution_count": 44
        }
      ]
    },
    {
      "cell_type": "code",
      "metadata": {
        "id": "VxWxbX2oh4tb",
        "outputId": "7d6bcb41-e262-4714-9ac2-9865555a0d6b",
        "colab": {
          "base_uri": "https://localhost:8080/",
          "height": 194
        }
      },
      "source": [
        "# combina com o dataset de resultados\n",
        "db_results_by_state = pd.merge(db_1st_results, db_2nd_place_by_state , how='left', on='state', )\n",
        "db_results_by_state['2nd_percent'] = 100* db_results_by_state['2nd_votes'] / db_results_by_state.current_votes\n",
        "db_results_by_state.head()"
      ],
      "execution_count": 48,
      "outputs": [
        {
          "output_type": "execute_result",
          "data": {
            "text/html": [
              "<div>\n",
              "<style scoped>\n",
              "    .dataframe tbody tr th:only-of-type {\n",
              "        vertical-align: middle;\n",
              "    }\n",
              "\n",
              "    .dataframe tbody tr th {\n",
              "        vertical-align: top;\n",
              "    }\n",
              "\n",
              "    .dataframe thead th {\n",
              "        text-align: right;\n",
              "    }\n",
              "</style>\n",
              "<table border=\"1\" class=\"dataframe\">\n",
              "  <thead>\n",
              "    <tr style=\"text-align: right;\">\n",
              "      <th></th>\n",
              "      <th>state</th>\n",
              "      <th>current_votes</th>\n",
              "      <th>total_votes</th>\n",
              "      <th>percent</th>\n",
              "      <th>remaining_votes</th>\n",
              "      <th>electoral_votes</th>\n",
              "      <th>1st_candidate</th>\n",
              "      <th>1st_party</th>\n",
              "      <th>1st_votes</th>\n",
              "      <th>1st_percent</th>\n",
              "      <th>2nd_candidate</th>\n",
              "      <th>2nd_party</th>\n",
              "      <th>2nd_votes</th>\n",
              "      <th>2nd_percent</th>\n",
              "    </tr>\n",
              "  </thead>\n",
              "  <tbody>\n",
              "    <tr>\n",
              "      <th>0</th>\n",
              "      <td>Alabama</td>\n",
              "      <td>2309900</td>\n",
              "      <td>2309900</td>\n",
              "      <td>100.000000</td>\n",
              "      <td>0</td>\n",
              "      <td>9.0</td>\n",
              "      <td>Donald Trump</td>\n",
              "      <td>REP</td>\n",
              "      <td>1434159</td>\n",
              "      <td>62.087493</td>\n",
              "      <td>Joe Biden</td>\n",
              "      <td>DEM</td>\n",
              "      <td>843473</td>\n",
              "      <td>36.515563</td>\n",
              "    </tr>\n",
              "    <tr>\n",
              "      <th>1</th>\n",
              "      <td>Alaska</td>\n",
              "      <td>131885</td>\n",
              "      <td>366006</td>\n",
              "      <td>36.033562</td>\n",
              "      <td>234121</td>\n",
              "      <td>3.0</td>\n",
              "      <td>Donald Trump</td>\n",
              "      <td>REP</td>\n",
              "      <td>80999</td>\n",
              "      <td>61.416385</td>\n",
              "      <td>Joe Biden</td>\n",
              "      <td>DEM</td>\n",
              "      <td>45758</td>\n",
              "      <td>34.695379</td>\n",
              "    </tr>\n",
              "    <tr>\n",
              "      <th>2</th>\n",
              "      <td>Arizona</td>\n",
              "      <td>3322535</td>\n",
              "      <td>3403744</td>\n",
              "      <td>97.614127</td>\n",
              "      <td>81209</td>\n",
              "      <td>11.0</td>\n",
              "      <td>Joe Biden</td>\n",
              "      <td>DEM</td>\n",
              "      <td>1643664</td>\n",
              "      <td>49.470179</td>\n",
              "      <td>Donald Trump</td>\n",
              "      <td>REP</td>\n",
              "      <td>1626679</td>\n",
              "      <td>48.958973</td>\n",
              "    </tr>\n",
              "    <tr>\n",
              "      <th>3</th>\n",
              "      <td>Arkansas</td>\n",
              "      <td>1216818</td>\n",
              "      <td>1250053</td>\n",
              "      <td>97.341313</td>\n",
              "      <td>33235</td>\n",
              "      <td>6.0</td>\n",
              "      <td>Donald Trump</td>\n",
              "      <td>REP</td>\n",
              "      <td>761251</td>\n",
              "      <td>62.560794</td>\n",
              "      <td>Joe Biden</td>\n",
              "      <td>DEM</td>\n",
              "      <td>420985</td>\n",
              "      <td>34.597204</td>\n",
              "    </tr>\n",
              "    <tr>\n",
              "      <th>4</th>\n",
              "      <td>California</td>\n",
              "      <td>14414296</td>\n",
              "      <td>15813337</td>\n",
              "      <td>91.152778</td>\n",
              "      <td>1399041</td>\n",
              "      <td>55.0</td>\n",
              "      <td>Joe Biden</td>\n",
              "      <td>DEM</td>\n",
              "      <td>9315259</td>\n",
              "      <td>64.625140</td>\n",
              "      <td>Donald Trump</td>\n",
              "      <td>REP</td>\n",
              "      <td>4812735</td>\n",
              "      <td>33.388623</td>\n",
              "    </tr>\n",
              "  </tbody>\n",
              "</table>\n",
              "</div>"
            ],
            "text/plain": [
              "        state  current_votes  total_votes  ...  2nd_party  2nd_votes  2nd_percent\n",
              "0     Alabama        2309900      2309900  ...        DEM     843473    36.515563\n",
              "1      Alaska         131885       366006  ...        DEM      45758    34.695379\n",
              "2     Arizona        3322535      3403744  ...        REP    1626679    48.958973\n",
              "3    Arkansas        1216818      1250053  ...        DEM     420985    34.597204\n",
              "4  California       14414296     15813337  ...        REP    4812735    33.388623\n",
              "\n",
              "[5 rows x 14 columns]"
            ]
          },
          "metadata": {
            "tags": []
          },
          "execution_count": 48
        }
      ]
    },
    {
      "cell_type": "markdown",
      "metadata": {
        "id": "M4fT0M6_EAOF"
      },
      "source": [
        "Consolidando todos os dados de interesse em um único dataframe de resultados a nível estadual"
      ]
    },
    {
      "cell_type": "code",
      "metadata": {
        "id": "9UCpmZx5m04l",
        "outputId": "d737b1ae-a64b-4454-b000-773898ce9181",
        "colab": {
          "base_uri": "https://localhost:8080/",
          "height": 269
        }
      },
      "source": [
        "# calcula se o 2o colocado ainda tem chances de passar o 1o colocado\n",
        "db_results_by_state['is_state_decided'] = db_results_by_state.apply(lambda row: True if (row['2nd_votes'] + row['remaining_votes'] < row['1st_votes']) else False, axis=1)\n",
        "db_results_by_state[db_results_by_state['is_state_decided'].eq(False)]"
      ],
      "execution_count": 52,
      "outputs": [
        {
          "output_type": "execute_result",
          "data": {
            "text/html": [
              "<div>\n",
              "<style scoped>\n",
              "    .dataframe tbody tr th:only-of-type {\n",
              "        vertical-align: middle;\n",
              "    }\n",
              "\n",
              "    .dataframe tbody tr th {\n",
              "        vertical-align: top;\n",
              "    }\n",
              "\n",
              "    .dataframe thead th {\n",
              "        text-align: right;\n",
              "    }\n",
              "</style>\n",
              "<table border=\"1\" class=\"dataframe\">\n",
              "  <thead>\n",
              "    <tr style=\"text-align: right;\">\n",
              "      <th></th>\n",
              "      <th>state</th>\n",
              "      <th>current_votes</th>\n",
              "      <th>total_votes</th>\n",
              "      <th>percent</th>\n",
              "      <th>remaining_votes</th>\n",
              "      <th>electoral_votes</th>\n",
              "      <th>1st_candidate</th>\n",
              "      <th>1st_party</th>\n",
              "      <th>1st_votes</th>\n",
              "      <th>1st_percent</th>\n",
              "      <th>2nd_candidate</th>\n",
              "      <th>2nd_party</th>\n",
              "      <th>2nd_votes</th>\n",
              "      <th>2nd_percent</th>\n",
              "      <th>is_state_decided</th>\n",
              "    </tr>\n",
              "  </thead>\n",
              "  <tbody>\n",
              "    <tr>\n",
              "      <th>1</th>\n",
              "      <td>Alaska</td>\n",
              "      <td>131885</td>\n",
              "      <td>366006</td>\n",
              "      <td>36.033562</td>\n",
              "      <td>234121</td>\n",
              "      <td>3.0</td>\n",
              "      <td>Donald Trump</td>\n",
              "      <td>REP</td>\n",
              "      <td>80999</td>\n",
              "      <td>61.416385</td>\n",
              "      <td>Joe Biden</td>\n",
              "      <td>DEM</td>\n",
              "      <td>45758</td>\n",
              "      <td>34.695379</td>\n",
              "      <td>False</td>\n",
              "    </tr>\n",
              "    <tr>\n",
              "      <th>2</th>\n",
              "      <td>Arizona</td>\n",
              "      <td>3322535</td>\n",
              "      <td>3403744</td>\n",
              "      <td>97.614127</td>\n",
              "      <td>81209</td>\n",
              "      <td>11.0</td>\n",
              "      <td>Joe Biden</td>\n",
              "      <td>DEM</td>\n",
              "      <td>1643664</td>\n",
              "      <td>49.470179</td>\n",
              "      <td>Donald Trump</td>\n",
              "      <td>REP</td>\n",
              "      <td>1626679</td>\n",
              "      <td>48.958973</td>\n",
              "      <td>False</td>\n",
              "    </tr>\n",
              "    <tr>\n",
              "      <th>28</th>\n",
              "      <td>Nevada</td>\n",
              "      <td>1323719</td>\n",
              "      <td>1400801</td>\n",
              "      <td>94.497291</td>\n",
              "      <td>77082</td>\n",
              "      <td>6.0</td>\n",
              "      <td>Joe Biden</td>\n",
              "      <td>DEM</td>\n",
              "      <td>664162</td>\n",
              "      <td>50.173942</td>\n",
              "      <td>Donald Trump</td>\n",
              "      <td>REP</td>\n",
              "      <td>629879</td>\n",
              "      <td>47.584042</td>\n",
              "      <td>False</td>\n",
              "    </tr>\n",
              "    <tr>\n",
              "      <th>30</th>\n",
              "      <td>New Jersey</td>\n",
              "      <td>3610021</td>\n",
              "      <td>4349127</td>\n",
              "      <td>83.005647</td>\n",
              "      <td>739106</td>\n",
              "      <td>14.0</td>\n",
              "      <td>Joe Biden</td>\n",
              "      <td>DEM</td>\n",
              "      <td>2108110</td>\n",
              "      <td>58.396059</td>\n",
              "      <td>Donald Trump</td>\n",
              "      <td>REP</td>\n",
              "      <td>1449928</td>\n",
              "      <td>40.163977</td>\n",
              "      <td>False</td>\n",
              "    </tr>\n",
              "    <tr>\n",
              "      <th>32</th>\n",
              "      <td>New York</td>\n",
              "      <td>6641544</td>\n",
              "      <td>8904800</td>\n",
              "      <td>74.583865</td>\n",
              "      <td>2263256</td>\n",
              "      <td>29.0</td>\n",
              "      <td>Joe Biden</td>\n",
              "      <td>DEM</td>\n",
              "      <td>3699332</td>\n",
              "      <td>55.699879</td>\n",
              "      <td>Donald Trump</td>\n",
              "      <td>REP</td>\n",
              "      <td>2850352</td>\n",
              "      <td>42.917008</td>\n",
              "      <td>False</td>\n",
              "    </tr>\n",
              "    <tr>\n",
              "      <th>33</th>\n",
              "      <td>North Carolina</td>\n",
              "      <td>5464097</td>\n",
              "      <td>5652431</td>\n",
              "      <td>96.668088</td>\n",
              "      <td>188334</td>\n",
              "      <td>15.0</td>\n",
              "      <td>Donald Trump</td>\n",
              "      <td>REP</td>\n",
              "      <td>2733687</td>\n",
              "      <td>50.029987</td>\n",
              "      <td>Joe Biden</td>\n",
              "      <td>DEM</td>\n",
              "      <td>2658280</td>\n",
              "      <td>48.649942</td>\n",
              "      <td>False</td>\n",
              "    </tr>\n",
              "    <tr>\n",
              "      <th>38</th>\n",
              "      <td>Pennsylvania</td>\n",
              "      <td>6765139</td>\n",
              "      <td>6827967</td>\n",
              "      <td>99.079843</td>\n",
              "      <td>62828</td>\n",
              "      <td>20.0</td>\n",
              "      <td>Joe Biden</td>\n",
              "      <td>DEM</td>\n",
              "      <td>3361668</td>\n",
              "      <td>49.691041</td>\n",
              "      <td>Donald Trump</td>\n",
              "      <td>REP</td>\n",
              "      <td>3315998</td>\n",
              "      <td>49.015963</td>\n",
              "      <td>False</td>\n",
              "    </tr>\n",
              "  </tbody>\n",
              "</table>\n",
              "</div>"
            ],
            "text/plain": [
              "             state  current_votes  ...  2nd_percent  is_state_decided\n",
              "1           Alaska         131885  ...    34.695379             False\n",
              "2          Arizona        3322535  ...    48.958973             False\n",
              "28          Nevada        1323719  ...    47.584042             False\n",
              "30      New Jersey        3610021  ...    40.163977             False\n",
              "32        New York        6641544  ...    42.917008             False\n",
              "33  North Carolina        5464097  ...    48.649942             False\n",
              "38    Pennsylvania        6765139  ...    49.015963             False\n",
              "\n",
              "[7 rows x 15 columns]"
            ]
          },
          "metadata": {
            "tags": []
          },
          "execution_count": 52
        }
      ]
    },
    {
      "cell_type": "markdown",
      "metadata": {
        "id": "ChZJFc0O2YL2"
      },
      "source": [
        "### Calculando o total de votos por Candidato (nível nacional)"
      ]
    },
    {
      "cell_type": "code",
      "metadata": {
        "id": "JhTq43gZ3YRc",
        "outputId": "dfcff29e-9a34-4b7f-b8ce-26f93533b8e1",
        "colab": {
          "base_uri": "https://localhost:8080/"
        }
      },
      "source": [
        "db_totals = db_state_electoral_votes.sum()[['current_votes', 'total_votes', 'remaining_votes', 'electoral_votes']]\n",
        "db_totals['percent'] = 100 * db_totals.current_votes / db_totals.total_votes\n",
        "db_totals"
      ],
      "execution_count": 65,
      "outputs": [
        {
          "output_type": "execute_result",
          "data": {
            "text/plain": [
              "current_votes      150361237\n",
              "total_votes        158725744\n",
              "remaining_votes      8364507\n",
              "electoral_votes          538\n",
              "percent              94.7302\n",
              "dtype: object"
            ]
          },
          "metadata": {
            "tags": []
          },
          "execution_count": 65
        }
      ]
    },
    {
      "cell_type": "code",
      "metadata": {
        "id": "QWpmBEUELvIl",
        "outputId": "ab3b6f15-c540-434d-fd36-70b24fd9b3aa",
        "colab": {
          "base_uri": "https://localhost:8080/",
          "height": 106
        }
      },
      "source": [
        "db_results = pd.merge(db_electoral_results, db_president_candidate, how='inner')\n",
        "db_results['electoral_percent'] = 100 * db_results.electoral_votes / db_totals.electoral_votes\n",
        "db_results['total_votes_percent'] = 100 * db_results.total_candidate_votes / db_totals.current_votes\n",
        "db_results"
      ],
      "execution_count": 71,
      "outputs": [
        {
          "output_type": "execute_result",
          "data": {
            "text/html": [
              "<div>\n",
              "<style scoped>\n",
              "    .dataframe tbody tr th:only-of-type {\n",
              "        vertical-align: middle;\n",
              "    }\n",
              "\n",
              "    .dataframe tbody tr th {\n",
              "        vertical-align: top;\n",
              "    }\n",
              "\n",
              "    .dataframe thead th {\n",
              "        text-align: right;\n",
              "    }\n",
              "</style>\n",
              "<table border=\"1\" class=\"dataframe\">\n",
              "  <thead>\n",
              "    <tr style=\"text-align: right;\">\n",
              "      <th></th>\n",
              "      <th>candidate</th>\n",
              "      <th>party</th>\n",
              "      <th>electoral_votes</th>\n",
              "      <th>total_candidate_votes</th>\n",
              "      <th>electoral_percent</th>\n",
              "      <th>total_votes_percent</th>\n",
              "    </tr>\n",
              "  </thead>\n",
              "  <tbody>\n",
              "    <tr>\n",
              "      <th>0</th>\n",
              "      <td>Joe Biden</td>\n",
              "      <td>DEM</td>\n",
              "      <td>226.0</td>\n",
              "      <td>76193955</td>\n",
              "      <td>42.007435</td>\n",
              "      <td>50.673935</td>\n",
              "    </tr>\n",
              "    <tr>\n",
              "      <th>1</th>\n",
              "      <td>Donald Trump</td>\n",
              "      <td>REP</td>\n",
              "      <td>214.0</td>\n",
              "      <td>71500110</td>\n",
              "      <td>39.776952</td>\n",
              "      <td>47.552223</td>\n",
              "    </tr>\n",
              "  </tbody>\n",
              "</table>\n",
              "</div>"
            ],
            "text/plain": [
              "      candidate party  ...  electoral_percent  total_votes_percent\n",
              "0     Joe Biden   DEM  ...          42.007435            50.673935\n",
              "1  Donald Trump   REP  ...          39.776952            47.552223\n",
              "\n",
              "[2 rows x 6 columns]"
            ]
          },
          "metadata": {
            "tags": []
          },
          "execution_count": 71
        }
      ]
    },
    {
      "cell_type": "code",
      "metadata": {
        "id": "NTPHYd93Ngug"
      },
      "source": [
        "#TODO considerar que a quantidade de votos dos delegados em Maine e Nebraska pode estar errada, pois não temos dados dos Distritos Eleitorais, totalizando um erro entre -5 e +5 votos de delegados"
      ],
      "execution_count": null,
      "outputs": []
    },
    {
      "cell_type": "code",
      "metadata": {
        "id": "4VGT4vztGBCv"
      },
      "source": [
        "#TODO calcular a chance de Biden ser o novo presidente"
      ],
      "execution_count": 26,
      "outputs": []
    },
    {
      "cell_type": "code",
      "metadata": {
        "id": "TVCzTiu2GFMs"
      },
      "source": [
        "#TODO calcular a chance de Trump ser o novo presidente"
      ],
      "execution_count": 27,
      "outputs": []
    }
  ]
}