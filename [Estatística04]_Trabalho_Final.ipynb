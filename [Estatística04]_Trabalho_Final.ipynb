{
  "nbformat": 4,
  "nbformat_minor": 0,
  "metadata": {
    "colab": {
      "name": "[Estatística04] Trabalho Final.ipynb",
      "provenance": [],
      "collapsed_sections": [],
      "toc_visible": true,
      "include_colab_link": true
    },
    "kernelspec": {
      "name": "python3",
      "display_name": "Python 3"
    }
  },
  "cells": [
    {
      "cell_type": "markdown",
      "metadata": {
        "id": "view-in-github",
        "colab_type": "text"
      },
      "source": [
        "<a href=\"https://colab.research.google.com/github/bmnds/uea-data-science-03-statistics/blob/main/%5BEstat%C3%ADstica04%5D_Trabalho_Final.ipynb\" target=\"_parent\"><img src=\"https://colab.research.google.com/assets/colab-badge.svg\" alt=\"Open In Colab\"/></a>"
      ]
    },
    {
      "cell_type": "markdown",
      "metadata": {
        "id": "sR3D_q5Q-Cdt"
      },
      "source": [
        "# Trabalho Final da Disciplina de Estatística do Curso de Pós-Graduação em Ciência de Dados da UEA-AM\n",
        "**Grupo:** Alberto, Bruno, Lelson e Levi\n",
        "\n",
        "## O Trabalho\n",
        "* Definir um tema e os objetivos a serem analisados \n",
        "* Escolher um dataframe com no mínimo cinco campos e 25 linhas, dos quais pelo menos dois devem ser numéricos\n",
        "* Realizar um levantamento amostral atendendo a todos os critérios de avaliação\n",
        "\n",
        "## A Avaliação\n",
        "1. [ ] Construir tabelas e gráficos apropriados para cada variável do data frame\n",
        "2. [ ] Calcular a média, mediana, moda, desvio-padrão, coeficiente de variação\n",
        "e simetria das variáveis quantitativas\n",
        "3. [ ] Analisar a normalidade dos dados numéricos e se existe a presença de\n",
        "outliers\n",
        "4. [ ] Comparar as variáveis quantitativas e descrever qual é mais homogênea\n",
        "5. [ ] Calcular os respectivos Intervalos de Confiança ao nível de 95% para cada\n",
        "campo do data frame\n",
        "6. [ ] Comparar a média de um campo numérico em relação a um campo\n",
        "categórico e responder se existe diferença estatística ao nível de 5% de significância\n",
        "7. [ ] Realizar um cruzamento de dois campos categóricos e responder se existe\n",
        "diferença estatística ao nível de 5% de significância.\n"
      ]
    },
    {
      "cell_type": "code",
      "metadata": {
        "id": "0QYLklCn97Iq",
        "outputId": "08d8007a-73e3-4766-8bf2-b2e3d2695813",
        "colab": {
          "base_uri": "https://localhost:8080/"
        }
      },
      "source": [
        "# Pacotes necessários\n",
        "from six.moves import urllib\n",
        "from scipy import stats\n",
        "from scipy.stats import binom, nbinom, poisson, uniform, expon, norm \n",
        "import pandas as pd\n",
        "import statsmodels.stats.proportion as smp\n",
        "import numpy as np\n",
        "import matplotlib.pyplot as plt\n",
        "import seaborn as sea\n",
        "import statistics as st"
      ],
      "execution_count": 1,
      "outputs": [
        {
          "output_type": "stream",
          "text": [
            "/usr/local/lib/python3.6/dist-packages/statsmodels/tools/_testing.py:19: FutureWarning: pandas.util.testing is deprecated. Use the functions in the public API at pandas.testing instead.\n",
            "  import pandas.util.testing as tm\n"
          ],
          "name": "stderr"
        }
      ]
    },
    {
      "cell_type": "code",
      "metadata": {
        "id": "LTRIjN9GEyVG"
      },
      "source": [
        "# Mudança da semente aleatória randômica para manter os resultados em várias execuções\n",
        "np.random.seed(20201109)"
      ],
      "execution_count": 2,
      "outputs": []
    },
    {
      "cell_type": "markdown",
      "metadata": {
        "id": "ijjzHRnhDeS3"
      },
      "source": [
        "# Dataset de Ocorrências Aeronáuticas da Aviação Civil Brasileira\n",
        "Dados fornecidos pelo [CENIPA](https://dados.gov.br/dataset/ocorrencias-aeronauticas-da-aviacao-civil-brasileira)"
      ]
    },
    {
      "cell_type": "code",
      "metadata": {
        "id": "ZFbOjHYWRt12",
        "outputId": "74b1d6f9-9d54-442f-ae91-442f032d37e2",
        "colab": {
          "base_uri": "https://localhost:8080/"
        }
      },
      "source": [
        "# Download do dataset\n",
        "urllib.request.urlretrieve('https://drive.google.com/uc?export=download&id=1jHYzLvKBRcoBWMbDgKqsU969sep-N8sq','cenipa.tar.gz')\n",
        "!tar -zxvf cenipa.tar.gz\n",
        "!rm cenipa.tar.gz"
      ],
      "execution_count": 3,
      "outputs": [
        {
          "output_type": "stream",
          "text": [
            "cenipa/\n",
            "cenipa/aeronave.csv\n",
            "cenipa/fator_contribuinte.csv\n",
            "cenipa/ocorrencia.csv\n",
            "cenipa/recomendacao.csv\n"
          ],
          "name": "stdout"
        }
      ]
    },
    {
      "cell_type": "code",
      "metadata": {
        "id": "RR4BLpXvCvx7",
        "outputId": "21e23266-1910-4b77-fe86-fe116ea18ed2",
        "colab": {
          "base_uri": "https://localhost:8080/"
        }
      },
      "source": [
        "bd_aeronave = pd.read_csv('cenipa/aeronave.csv',sep=';',decimal='.',encoding='iso-8859-1')\n",
        "bd_aeronave.info()"
      ],
      "execution_count": 4,
      "outputs": [
        {
          "output_type": "stream",
          "text": [
            "<class 'pandas.core.frame.DataFrame'>\n",
            "RangeIndex: 5307 entries, 0 to 5306\n",
            "Data columns (total 23 columns):\n",
            " #   Column                       Non-Null Count  Dtype  \n",
            "---  ------                       --------------  -----  \n",
            " 0   codigo_ocorrencia2           5307 non-null   int64  \n",
            " 1   aeronave_matricula           5307 non-null   object \n",
            " 2   aeronave_operador_categoria  5307 non-null   object \n",
            " 3   aeronave_tipo_veiculo        5307 non-null   object \n",
            " 4   aeronave_fabricante          5307 non-null   object \n",
            " 5   aeronave_modelo              5307 non-null   object \n",
            " 6   aeronave_tipo_icao           5307 non-null   object \n",
            " 7   aeronave_motor_tipo          5307 non-null   object \n",
            " 8   aeronave_motor_quantidade    5307 non-null   object \n",
            " 9   aeronave_pmd                 5307 non-null   int64  \n",
            " 10  aeronave_pmd_categoria       5307 non-null   int64  \n",
            " 11  aeronave_assentos            5182 non-null   float64\n",
            " 12  aeronave_ano_fabricacao      5189 non-null   float64\n",
            " 13  aeronave_pais_fabricante     5307 non-null   object \n",
            " 14  aeronave_pais_registro       5307 non-null   object \n",
            " 15  aeronave_registro_categoria  5307 non-null   object \n",
            " 16  aeronave_registro_segmento   5307 non-null   object \n",
            " 17  aeronave_voo_origem          5307 non-null   object \n",
            " 18  aeronave_voo_destino         5307 non-null   object \n",
            " 19  aeronave_fase_operacao       5307 non-null   object \n",
            " 20  aeronave_tipo_operacao       5307 non-null   object \n",
            " 21  aeronave_nivel_dano          5307 non-null   object \n",
            " 22  aeronave_fatalidades_total   5307 non-null   int64  \n",
            "dtypes: float64(2), int64(4), object(17)\n",
            "memory usage: 953.7+ KB\n"
          ],
          "name": "stdout"
        }
      ]
    },
    {
      "cell_type": "code",
      "metadata": {
        "id": "m7olgqqBJqez",
        "outputId": "e945df81-3298-4d04-9363-170ca4c5133d",
        "colab": {
          "base_uri": "https://localhost:8080/"
        }
      },
      "source": [
        "bd_fator_contribuinte = pd.read_csv('cenipa/fator_contribuinte.csv',sep=';',decimal='.',encoding='iso-8859-1')\n",
        "bd_fator_contribuinte.info()"
      ],
      "execution_count": 5,
      "outputs": [
        {
          "output_type": "stream",
          "text": [
            "<class 'pandas.core.frame.DataFrame'>\n",
            "RangeIndex: 3717 entries, 0 to 3716\n",
            "Data columns (total 5 columns):\n",
            " #   Column               Non-Null Count  Dtype \n",
            "---  ------               --------------  ----- \n",
            " 0   codigo_ocorrencia3   3717 non-null   int64 \n",
            " 1   fator_nome           3717 non-null   object\n",
            " 2   fator_aspecto        3717 non-null   object\n",
            " 3   fator_condicionante  3717 non-null   object\n",
            " 4   fator_area           3717 non-null   object\n",
            "dtypes: int64(1), object(4)\n",
            "memory usage: 145.3+ KB\n"
          ],
          "name": "stdout"
        }
      ]
    },
    {
      "cell_type": "code",
      "metadata": {
        "id": "CoiwmsiLJyEp",
        "outputId": "00278b2c-55f9-4586-dc1a-36242084873b",
        "colab": {
          "base_uri": "https://localhost:8080/"
        }
      },
      "source": [
        "bd_ocorrencia = pd.read_csv('cenipa/ocorrencia.csv',sep=';',decimal='.',encoding='iso-8859-1')\n",
        "bd_ocorrencia.info()\n"
      ],
      "execution_count": 6,
      "outputs": [
        {
          "output_type": "stream",
          "text": [
            "<class 'pandas.core.frame.DataFrame'>\n",
            "RangeIndex: 5245 entries, 0 to 5244\n",
            "Data columns (total 22 columns):\n",
            " #   Column                          Non-Null Count  Dtype \n",
            "---  ------                          --------------  ----- \n",
            " 0   codigo_ocorrencia               5245 non-null   int64 \n",
            " 1   codigo_ocorrencia1              5245 non-null   int64 \n",
            " 2   codigo_ocorrencia2              5245 non-null   int64 \n",
            " 3   codigo_ocorrencia3              5245 non-null   int64 \n",
            " 4   codigo_ocorrencia4              5245 non-null   int64 \n",
            " 5   ocorrencia_classificacao        5245 non-null   object\n",
            " 6   ocorrencia_latitude             3549 non-null   object\n",
            " 7   ocorrencia_longitude            3548 non-null   object\n",
            " 8   ocorrencia_cidade               5245 non-null   object\n",
            " 9   ocorrencia_uf                   5245 non-null   object\n",
            " 10  ocorrencia_pais                 5245 non-null   object\n",
            " 11  ocorrencia_aerodromo            5245 non-null   object\n",
            " 12  ocorrencia_dia                  5245 non-null   object\n",
            " 13  ocorrencia_hora                 5236 non-null   object\n",
            " 14  investigacao_aeronave_liberada  4520 non-null   object\n",
            " 15  investigacao_status             4887 non-null   object\n",
            " 16  divulgacao_relatorio_numero     4332 non-null   object\n",
            " 17  divulgacao_relatorio_publicado  5245 non-null   object\n",
            " 18  divulgacao_dia_publicacao       1099 non-null   object\n",
            " 19  total_recomendacoes             5245 non-null   int64 \n",
            " 20  total_aeronaves_envolvidas      5245 non-null   int64 \n",
            " 21  ocorrencia_saida_pista          5245 non-null   object\n",
            "dtypes: int64(7), object(15)\n",
            "memory usage: 901.6+ KB\n"
          ],
          "name": "stdout"
        }
      ]
    },
    {
      "cell_type": "code",
      "metadata": {
        "id": "2_LM4hstJzww",
        "outputId": "7e2964a2-a3dc-4fb0-f397-892741eff8ac",
        "colab": {
          "base_uri": "https://localhost:8080/"
        }
      },
      "source": [
        "bd_recomendacao = pd.read_csv('cenipa/recomendacao.csv',sep=';',decimal='.',encoding='iso-8859-1')\n",
        "bd_recomendacao.info()"
      ],
      "execution_count": 7,
      "outputs": [
        {
          "output_type": "stream",
          "text": [
            "<class 'pandas.core.frame.DataFrame'>\n",
            "RangeIndex: 8241 entries, 0 to 8240\n",
            "Data columns (total 9 columns):\n",
            " #   Column                  Non-Null Count  Dtype  \n",
            "---  ------                  --------------  -----  \n",
            " 0   codigo_ocorrencia       8226 non-null   float64\n",
            " 1   rec_numero              8241 non-null   object \n",
            " 2   rec_dia_assinatura      8232 non-null   object \n",
            " 3   rec_dia_encaminhamento  2636 non-null   object \n",
            " 4   rec_dia_feedback        5499 non-null   object \n",
            " 5   rec_status              8241 non-null   object \n",
            " 6   rec_dest_sigla          8241 non-null   object \n",
            " 7   rec_dest_nome           8241 non-null   object \n",
            " 8   rec_conteudo            8240 non-null   object \n",
            "dtypes: float64(1), object(8)\n",
            "memory usage: 579.6+ KB\n"
          ],
          "name": "stdout"
        }
      ]
    },
    {
      "cell_type": "code",
      "metadata": {
        "id": "UC41wyafAcIq",
        "outputId": "aa688a4c-ca89-4808-b78b-e688cb9412e8",
        "colab": {
          "base_uri": "https://localhost:8080/",
          "height": 231
        }
      },
      "source": [
        "bd_recomendacao.head()"
      ],
      "execution_count": 11,
      "outputs": [
        {
          "output_type": "execute_result",
          "data": {
            "text/html": [
              "<div>\n",
              "<style scoped>\n",
              "    .dataframe tbody tr th:only-of-type {\n",
              "        vertical-align: middle;\n",
              "    }\n",
              "\n",
              "    .dataframe tbody tr th {\n",
              "        vertical-align: top;\n",
              "    }\n",
              "\n",
              "    .dataframe thead th {\n",
              "        text-align: right;\n",
              "    }\n",
              "</style>\n",
              "<table border=\"1\" class=\"dataframe\">\n",
              "  <thead>\n",
              "    <tr style=\"text-align: right;\">\n",
              "      <th></th>\n",
              "      <th>codigo_ocorrencia</th>\n",
              "      <th>rec_numero</th>\n",
              "      <th>rec_dia_assinatura</th>\n",
              "      <th>rec_dia_encaminhamento</th>\n",
              "      <th>rec_dia_feedback</th>\n",
              "      <th>rec_status</th>\n",
              "      <th>rec_dest_sigla</th>\n",
              "      <th>rec_dest_nome</th>\n",
              "      <th>rec_conteudo</th>\n",
              "    </tr>\n",
              "  </thead>\n",
              "  <tbody>\n",
              "    <tr>\n",
              "      <th>0</th>\n",
              "      <td>31379.0</td>\n",
              "      <td>047/D/10</td>\n",
              "      <td>2010-03-19</td>\n",
              "      <td>NaN</td>\n",
              "      <td>2011-01-21</td>\n",
              "      <td>***</td>\n",
              "      <td>DNA-AR</td>\n",
              "      <td>DIRECCIÃN NACIONAL DE AERONAVEGABILIDAD (DNA)...</td>\n",
              "      <td>Avaliar junto Ã  AgÃªncia Nacional de AviaÃ§Ã£...</td>\n",
              "    </tr>\n",
              "    <tr>\n",
              "      <th>1</th>\n",
              "      <td>31379.0</td>\n",
              "      <td>047/D/10</td>\n",
              "      <td>2010-03-19</td>\n",
              "      <td>2010-05-18</td>\n",
              "      <td>2011-01-21</td>\n",
              "      <td>NÃO CUMPRIDA</td>\n",
              "      <td>DNA-AR</td>\n",
              "      <td>DIRECCIÃN NACIONAL DE AERONAVEGABILIDAD (DNA)...</td>\n",
              "      <td>Avaliar junto Ã  AgÃªncia Nacional de A...</td>\n",
              "    </tr>\n",
              "    <tr>\n",
              "      <th>2</th>\n",
              "      <td>11281.0</td>\n",
              "      <td>074/A/00</td>\n",
              "      <td>2000-08-17</td>\n",
              "      <td>NaN</td>\n",
              "      <td>2001-10-31</td>\n",
              "      <td>***</td>\n",
              "      <td>3Âº ETA</td>\n",
              "      <td>TERCEIRO ESQUADRÃO DE TRANSPORTE AÃREO</td>\n",
              "      <td>Divulgar, de imediato, aos seus setor...</td>\n",
              "    </tr>\n",
              "    <tr>\n",
              "      <th>3</th>\n",
              "      <td>11281.0</td>\n",
              "      <td>073/A/00</td>\n",
              "      <td>2000-08-17</td>\n",
              "      <td>NaN</td>\n",
              "      <td>2001-10-31</td>\n",
              "      <td>***</td>\n",
              "      <td>3Âº ETA</td>\n",
              "      <td>TERCEIRO ESQUADRÃO DE TRANSPORTE AÃREO</td>\n",
              "      <td>Divulgar, de imediato, para o seu qua...</td>\n",
              "    </tr>\n",
              "    <tr>\n",
              "      <th>4</th>\n",
              "      <td>31855.0</td>\n",
              "      <td>079/A/08</td>\n",
              "      <td>2008-04-18</td>\n",
              "      <td>2008-04-18</td>\n",
              "      <td>2008-10-17</td>\n",
              "      <td>***</td>\n",
              "      <td>3/8Âº GAV</td>\n",
              "      <td>TERCEIRO DO OITAVO GRUPO DE AVIAÃÃO</td>\n",
              "      <td>Verificar a existÃªncia e as perfeitas condiÃ§...</td>\n",
              "    </tr>\n",
              "  </tbody>\n",
              "</table>\n",
              "</div>"
            ],
            "text/plain": [
              "   codigo_ocorrencia  ...                                       rec_conteudo\n",
              "0            31379.0  ...  Avaliar junto Ã  AgÃªncia Nacional de AviaÃ§Ã£...\n",
              "1            31379.0  ...         Avaliar junto Ã  AgÃªncia Nacional de A...\n",
              "2            11281.0  ...           Divulgar, de imediato, aos seus setor...\n",
              "3            11281.0  ...           Divulgar, de imediato, para o seu qua...\n",
              "4            31855.0  ...  Verificar a existÃªncia e as perfeitas condiÃ§...\n",
              "\n",
              "[5 rows x 9 columns]"
            ]
          },
          "metadata": {
            "tags": []
          },
          "execution_count": 11
        }
      ]
    },
    {
      "cell_type": "code",
      "metadata": {
        "id": "9P2UhbJZAnxs",
        "outputId": "67b4a105-a872-469d-ba92-b8c90da66c38",
        "colab": {
          "base_uri": "https://localhost:8080/",
          "height": 217
        }
      },
      "source": [
        "bd_ocorrencia.head()"
      ],
      "execution_count": 12,
      "outputs": [
        {
          "output_type": "execute_result",
          "data": {
            "text/html": [
              "<div>\n",
              "<style scoped>\n",
              "    .dataframe tbody tr th:only-of-type {\n",
              "        vertical-align: middle;\n",
              "    }\n",
              "\n",
              "    .dataframe tbody tr th {\n",
              "        vertical-align: top;\n",
              "    }\n",
              "\n",
              "    .dataframe thead th {\n",
              "        text-align: right;\n",
              "    }\n",
              "</style>\n",
              "<table border=\"1\" class=\"dataframe\">\n",
              "  <thead>\n",
              "    <tr style=\"text-align: right;\">\n",
              "      <th></th>\n",
              "      <th>codigo_ocorrencia</th>\n",
              "      <th>codigo_ocorrencia1</th>\n",
              "      <th>codigo_ocorrencia2</th>\n",
              "      <th>codigo_ocorrencia3</th>\n",
              "      <th>codigo_ocorrencia4</th>\n",
              "      <th>ocorrencia_classificacao</th>\n",
              "      <th>ocorrencia_latitude</th>\n",
              "      <th>ocorrencia_longitude</th>\n",
              "      <th>ocorrencia_cidade</th>\n",
              "      <th>ocorrencia_uf</th>\n",
              "      <th>ocorrencia_pais</th>\n",
              "      <th>ocorrencia_aerodromo</th>\n",
              "      <th>ocorrencia_dia</th>\n",
              "      <th>ocorrencia_hora</th>\n",
              "      <th>investigacao_aeronave_liberada</th>\n",
              "      <th>investigacao_status</th>\n",
              "      <th>divulgacao_relatorio_numero</th>\n",
              "      <th>divulgacao_relatorio_publicado</th>\n",
              "      <th>divulgacao_dia_publicacao</th>\n",
              "      <th>total_recomendacoes</th>\n",
              "      <th>total_aeronaves_envolvidas</th>\n",
              "      <th>ocorrencia_saida_pista</th>\n",
              "    </tr>\n",
              "  </thead>\n",
              "  <tbody>\n",
              "    <tr>\n",
              "      <th>0</th>\n",
              "      <td>39115</td>\n",
              "      <td>39115</td>\n",
              "      <td>39115</td>\n",
              "      <td>39115</td>\n",
              "      <td>39115</td>\n",
              "      <td>ACIDENTE</td>\n",
              "      <td>-13.3805555556</td>\n",
              "      <td>-44.6172222222</td>\n",
              "      <td>CORRENTINA</td>\n",
              "      <td>BA</td>\n",
              "      <td>BRASIL</td>\n",
              "      <td>SNTY</td>\n",
              "      <td>07/02/2010</td>\n",
              "      <td>17:40:00</td>\n",
              "      <td>SIM</td>\n",
              "      <td>FINALIZADA</td>\n",
              "      <td>A-031/CENIPA/2011</td>\n",
              "      <td>SIM</td>\n",
              "      <td>2011-07-21</td>\n",
              "      <td>2</td>\n",
              "      <td>1</td>\n",
              "      <td>NÃO</td>\n",
              "    </tr>\n",
              "    <tr>\n",
              "      <th>1</th>\n",
              "      <td>39155</td>\n",
              "      <td>39155</td>\n",
              "      <td>39155</td>\n",
              "      <td>39155</td>\n",
              "      <td>39155</td>\n",
              "      <td>INCIDENTE</td>\n",
              "      <td>NaN</td>\n",
              "      <td>NaN</td>\n",
              "      <td>BELO HORIZONTE</td>\n",
              "      <td>MG</td>\n",
              "      <td>BRASIL</td>\n",
              "      <td>****</td>\n",
              "      <td>05/02/2010</td>\n",
              "      <td>12:55:00</td>\n",
              "      <td>SIM</td>\n",
              "      <td>FINALIZADA</td>\n",
              "      <td>NaN</td>\n",
              "      <td>NÃO</td>\n",
              "      <td>NaN</td>\n",
              "      <td>0</td>\n",
              "      <td>1</td>\n",
              "      <td>NÃO</td>\n",
              "    </tr>\n",
              "    <tr>\n",
              "      <th>2</th>\n",
              "      <td>39156</td>\n",
              "      <td>39156</td>\n",
              "      <td>39156</td>\n",
              "      <td>39156</td>\n",
              "      <td>39156</td>\n",
              "      <td>INCIDENTE GRAVE</td>\n",
              "      <td>-15.2402777778</td>\n",
              "      <td>-59.3541666667</td>\n",
              "      <td>CASCAVEL</td>\n",
              "      <td>PR</td>\n",
              "      <td>BRASIL</td>\n",
              "      <td>SBCA</td>\n",
              "      <td>10/01/2010</td>\n",
              "      <td>23:15:00</td>\n",
              "      <td>SIM</td>\n",
              "      <td>FINALIZADA</td>\n",
              "      <td>I-004/CENIPA/2011</td>\n",
              "      <td>SIM</td>\n",
              "      <td>2011-06-30</td>\n",
              "      <td>2</td>\n",
              "      <td>1</td>\n",
              "      <td>NÃO</td>\n",
              "    </tr>\n",
              "    <tr>\n",
              "      <th>3</th>\n",
              "      <td>39158</td>\n",
              "      <td>39158</td>\n",
              "      <td>39158</td>\n",
              "      <td>39158</td>\n",
              "      <td>39158</td>\n",
              "      <td>INCIDENTE</td>\n",
              "      <td>***</td>\n",
              "      <td>***</td>\n",
              "      <td>BELÉM</td>\n",
              "      <td>PA</td>\n",
              "      <td>BRASIL</td>\n",
              "      <td>****</td>\n",
              "      <td>28/01/2010</td>\n",
              "      <td>16:00:00</td>\n",
              "      <td>SIM</td>\n",
              "      <td>FINALIZADA</td>\n",
              "      <td>NaN</td>\n",
              "      <td>NÃO</td>\n",
              "      <td>NaN</td>\n",
              "      <td>0</td>\n",
              "      <td>1</td>\n",
              "      <td>NÃO</td>\n",
              "    </tr>\n",
              "    <tr>\n",
              "      <th>4</th>\n",
              "      <td>39176</td>\n",
              "      <td>39176</td>\n",
              "      <td>39176</td>\n",
              "      <td>39176</td>\n",
              "      <td>39176</td>\n",
              "      <td>INCIDENTE</td>\n",
              "      <td>NaN</td>\n",
              "      <td>NaN</td>\n",
              "      <td>SÃO LUÍS</td>\n",
              "      <td>MA</td>\n",
              "      <td>BRASIL</td>\n",
              "      <td>****</td>\n",
              "      <td>05/02/2010</td>\n",
              "      <td>09:30:00</td>\n",
              "      <td>SIM</td>\n",
              "      <td>FINALIZADA</td>\n",
              "      <td>NaN</td>\n",
              "      <td>NÃO</td>\n",
              "      <td>NaN</td>\n",
              "      <td>0</td>\n",
              "      <td>1</td>\n",
              "      <td>NÃO</td>\n",
              "    </tr>\n",
              "  </tbody>\n",
              "</table>\n",
              "</div>"
            ],
            "text/plain": [
              "   codigo_ocorrencia  ...  ocorrencia_saida_pista\n",
              "0              39115  ...                     NÃO\n",
              "1              39155  ...                     NÃO\n",
              "2              39156  ...                     NÃO\n",
              "3              39158  ...                     NÃO\n",
              "4              39176  ...                     NÃO\n",
              "\n",
              "[5 rows x 22 columns]"
            ]
          },
          "metadata": {
            "tags": []
          },
          "execution_count": 12
        }
      ]
    },
    {
      "cell_type": "markdown",
      "metadata": {
        "id": "2kg1W1HvQz5n"
      },
      "source": [
        "# Dataset das Eleições Presidenciais dos Estados Unidos 2020\n",
        "Fontes dos dados:\n",
        "* https://www.kaggle.com/daithibhard/us-electoral-college-votes-per-state-17882020\n",
        "* https://www.kaggle.com/unanimad/us-election-2020\n",
        "\n",
        "Explicação sobre o funcionamento do processo eleitoral dos EUA:\n",
        "* https://www.usa.gov/election\n",
        "\n",
        "Sugestões de análises:\n",
        "* https://www.nbcnews.com/politics/2020-elections/president-results\n",
        "* https://www.kaggle.com/amitkumarmanjhi/us-election-2020-result-analysis"
      ]
    },
    {
      "cell_type": "code",
      "metadata": {
        "id": "lAe0mFiQQzHc",
        "outputId": "c3f47be9-046d-4bd1-e30a-f4039e67a68a",
        "colab": {
          "base_uri": "https://localhost:8080/"
        }
      },
      "source": [
        "# Download do dataset\n",
        "urllib.request.urlretrieve('https://drive.google.com/uc?export=download&id=1I4Hvc3wEsYuRNkinkAyY7LqcpVOLF9-O','us_elections.tar.gz')\n",
        "!tar -zxvf us_elections.tar.gz\n",
        "!rm us_elections.tar.gz"
      ],
      "execution_count": 22,
      "outputs": [
        {
          "output_type": "stream",
          "text": [
            "us_elections/\n",
            "us_elections/Electoral_College.csv\n",
            "us_elections/fontes.txt\n",
            "us_elections/governors_county.csv\n",
            "us_elections/governors_county_candidate.csv\n",
            "us_elections/governors_state.csv\n",
            "us_elections/house_county.csv\n",
            "us_elections/house_county_candidate.csv\n",
            "us_elections/house_state.csv\n",
            "us_elections/president_county.csv\n",
            "us_elections/president_county_candidate.csv\n",
            "us_elections/president_state.csv\n",
            "us_elections/senate_county.csv\n",
            "us_elections/senate_county_candidate.csv\n",
            "us_elections/senate_state.csv\n"
          ],
          "name": "stdout"
        }
      ]
    },
    {
      "cell_type": "code",
      "metadata": {
        "id": "JkAd6kXVSxot",
        "outputId": "313579e4-5acf-495d-9ba8-01966417ef78",
        "colab": {
          "base_uri": "https://localhost:8080/"
        }
      },
      "source": [
        "# Nos EUA, cada Estado possui um 'Peso' na votação representado pela quantidade de 'Ellectors' do colégio eleitoral\n",
        "db_electoral = pd.read_csv('us_elections/Electoral_College.csv')\n",
        "# Define a representatividade de cada Estado em percentual\n",
        "db_electoral['Pct'] = (100* db_electoral.Votes / db_electoral.groupby('Year').Votes.transform(sum))\n",
        "# O nosso interesse é nos valores de 2020\n",
        "db_electoral_2020 = db_electoral[db_electoral.Year.eq(2020)]\n",
        "db_electoral_2020.info()"
      ],
      "execution_count": 26,
      "outputs": [
        {
          "output_type": "stream",
          "text": [
            "<class 'pandas.core.frame.DataFrame'>\n",
            "Int64Index: 51 entries, 58 to 3008\n",
            "Data columns (total 4 columns):\n",
            " #   Column  Non-Null Count  Dtype  \n",
            "---  ------  --------------  -----  \n",
            " 0   Year    51 non-null     int64  \n",
            " 1   State   51 non-null     object \n",
            " 2   Votes   51 non-null     float64\n",
            " 3   Pct     51 non-null     float64\n",
            "dtypes: float64(2), int64(1), object(1)\n",
            "memory usage: 2.0+ KB\n"
          ],
          "name": "stdout"
        }
      ]
    },
    {
      "cell_type": "code",
      "metadata": {
        "id": "XbdMnY0qT8gM",
        "outputId": "ca19417a-ad0f-447f-b41b-7ef9c547f32e",
        "colab": {
          "base_uri": "https://localhost:8080/",
          "height": 275
        }
      },
      "source": [
        "print('Estados com maior representatividade em 2020')\n",
        "db_electoral_2020.sort_values('Votes', ascending=False).head(7)"
      ],
      "execution_count": 24,
      "outputs": [
        {
          "output_type": "stream",
          "text": [
            "Estados com maior representatividade em 2020\n"
          ],
          "name": "stdout"
        },
        {
          "output_type": "execute_result",
          "data": {
            "text/html": [
              "<div>\n",
              "<style scoped>\n",
              "    .dataframe tbody tr th:only-of-type {\n",
              "        vertical-align: middle;\n",
              "    }\n",
              "\n",
              "    .dataframe tbody tr th {\n",
              "        vertical-align: top;\n",
              "    }\n",
              "\n",
              "    .dataframe thead th {\n",
              "        text-align: right;\n",
              "    }\n",
              "</style>\n",
              "<table border=\"1\" class=\"dataframe\">\n",
              "  <thead>\n",
              "    <tr style=\"text-align: right;\">\n",
              "      <th></th>\n",
              "      <th>Year</th>\n",
              "      <th>State</th>\n",
              "      <th>Votes</th>\n",
              "      <th>Pct</th>\n",
              "    </tr>\n",
              "  </thead>\n",
              "  <tbody>\n",
              "    <tr>\n",
              "      <th>294</th>\n",
              "      <td>2020</td>\n",
              "      <td>California</td>\n",
              "      <td>55.0</td>\n",
              "      <td>10.223048</td>\n",
              "    </tr>\n",
              "    <tr>\n",
              "      <th>2595</th>\n",
              "      <td>2020</td>\n",
              "      <td>Texas</td>\n",
              "      <td>38.0</td>\n",
              "      <td>7.063197</td>\n",
              "    </tr>\n",
              "    <tr>\n",
              "      <th>589</th>\n",
              "      <td>2020</td>\n",
              "      <td>Florida</td>\n",
              "      <td>29.0</td>\n",
              "      <td>5.390335</td>\n",
              "    </tr>\n",
              "    <tr>\n",
              "      <th>1946</th>\n",
              "      <td>2020</td>\n",
              "      <td>New York</td>\n",
              "      <td>29.0</td>\n",
              "      <td>5.390335</td>\n",
              "    </tr>\n",
              "    <tr>\n",
              "      <th>825</th>\n",
              "      <td>2020</td>\n",
              "      <td>Illinois</td>\n",
              "      <td>20.0</td>\n",
              "      <td>3.717472</td>\n",
              "    </tr>\n",
              "    <tr>\n",
              "      <th>2300</th>\n",
              "      <td>2020</td>\n",
              "      <td>Pennsylvania</td>\n",
              "      <td>20.0</td>\n",
              "      <td>3.717472</td>\n",
              "    </tr>\n",
              "    <tr>\n",
              "      <th>2123</th>\n",
              "      <td>2020</td>\n",
              "      <td>Ohio</td>\n",
              "      <td>18.0</td>\n",
              "      <td>3.345725</td>\n",
              "    </tr>\n",
              "  </tbody>\n",
              "</table>\n",
              "</div>"
            ],
            "text/plain": [
              "      Year         State  Votes        Pct\n",
              "294   2020    California   55.0  10.223048\n",
              "2595  2020         Texas   38.0   7.063197\n",
              "589   2020       Florida   29.0   5.390335\n",
              "1946  2020      New York   29.0   5.390335\n",
              "825   2020      Illinois   20.0   3.717472\n",
              "2300  2020  Pennsylvania   20.0   3.717472\n",
              "2123  2020          Ohio   18.0   3.345725"
            ]
          },
          "metadata": {
            "tags": []
          },
          "execution_count": 24
        }
      ]
    },
    {
      "cell_type": "code",
      "metadata": {
        "id": "gAcslKR6Iu_2",
        "outputId": "b3afc14b-4ed1-49d4-cee7-111c5f2a1d01",
        "colab": {
          "base_uri": "https://localhost:8080/",
          "height": 197
        }
      },
      "source": [
        "# Nos EUA, cada Estado possui um 'Peso' na votação representado pela quantidade de 'Ellectors' do colégio eleitoral\n",
        "db_governors_country = pd.read_csv('us_elections/governors_county.csv')\n",
        "db_governors_county_candidate = pd.read_csv('us_elections/governors_county_candidate.csv')\n",
        "db_governors_state = pd.read_csv('us_elections/governors_state.csv')\n",
        "db_house_county = pd.read_csv('us_elections/house_county.csv')\n",
        "db_house_county_candidate = pd.read_csv('us_elections/house_county_candidate.csv')\n",
        "db_house_state = pd.read_csv('us_elections/house_state.csv')\n",
        "db_president_county = pd.read_csv('us_elections/president_county.csv')\n",
        "db_president_county_candidate = pd.read_csv('us_elections/president_county_candidate.csv')\n",
        "db_president_state = pd.read_csv('us_elections/president_state.csv')\n",
        "db_senate_county = pd.read_csv('us_elections/senate_county.csv')\n",
        "db_senate_county_candidate = pd.read_csv('us_elections/senate_county_candidate.csv')\n",
        "db_senate_state = pd.read_csv('us_elections/senate_state.csv')\n",
        "\n",
        "db_electoral.head()\n"
      ],
      "execution_count": 29,
      "outputs": [
        {
          "output_type": "execute_result",
          "data": {
            "text/html": [
              "<div>\n",
              "<style scoped>\n",
              "    .dataframe tbody tr th:only-of-type {\n",
              "        vertical-align: middle;\n",
              "    }\n",
              "\n",
              "    .dataframe tbody tr th {\n",
              "        vertical-align: top;\n",
              "    }\n",
              "\n",
              "    .dataframe thead th {\n",
              "        text-align: right;\n",
              "    }\n",
              "</style>\n",
              "<table border=\"1\" class=\"dataframe\">\n",
              "  <thead>\n",
              "    <tr style=\"text-align: right;\">\n",
              "      <th></th>\n",
              "      <th>Year</th>\n",
              "      <th>State</th>\n",
              "      <th>Votes</th>\n",
              "      <th>Pct</th>\n",
              "    </tr>\n",
              "  </thead>\n",
              "  <tbody>\n",
              "    <tr>\n",
              "      <th>0</th>\n",
              "      <td>1788</td>\n",
              "      <td>Alabama</td>\n",
              "      <td>NaN</td>\n",
              "      <td>NaN</td>\n",
              "    </tr>\n",
              "    <tr>\n",
              "      <th>1</th>\n",
              "      <td>1792</td>\n",
              "      <td>Alabama</td>\n",
              "      <td>NaN</td>\n",
              "      <td>NaN</td>\n",
              "    </tr>\n",
              "    <tr>\n",
              "      <th>2</th>\n",
              "      <td>1796</td>\n",
              "      <td>Alabama</td>\n",
              "      <td>NaN</td>\n",
              "      <td>NaN</td>\n",
              "    </tr>\n",
              "    <tr>\n",
              "      <th>3</th>\n",
              "      <td>1800</td>\n",
              "      <td>Alabama</td>\n",
              "      <td>NaN</td>\n",
              "      <td>NaN</td>\n",
              "    </tr>\n",
              "    <tr>\n",
              "      <th>4</th>\n",
              "      <td>1804</td>\n",
              "      <td>Alabama</td>\n",
              "      <td>NaN</td>\n",
              "      <td>NaN</td>\n",
              "    </tr>\n",
              "  </tbody>\n",
              "</table>\n",
              "</div>"
            ],
            "text/plain": [
              "   Year    State  Votes  Pct\n",
              "0  1788  Alabama    NaN  NaN\n",
              "1  1792  Alabama    NaN  NaN\n",
              "2  1796  Alabama    NaN  NaN\n",
              "3  1800  Alabama    NaN  NaN\n",
              "4  1804  Alabama    NaN  NaN"
            ]
          },
          "metadata": {
            "tags": []
          },
          "execution_count": 29
        }
      ]
    },
    {
      "cell_type": "code",
      "metadata": {
        "id": "JQt5-YG_BA4F",
        "outputId": "943ad8de-b483-498b-8043-ed3b02c82ede",
        "colab": {
          "base_uri": "https://localhost:8080/",
          "height": 197
        }
      },
      "source": [
        "db_electoral_2020.head()"
      ],
      "execution_count": 14,
      "outputs": [
        {
          "output_type": "execute_result",
          "data": {
            "text/html": [
              "<div>\n",
              "<style scoped>\n",
              "    .dataframe tbody tr th:only-of-type {\n",
              "        vertical-align: middle;\n",
              "    }\n",
              "\n",
              "    .dataframe tbody tr th {\n",
              "        vertical-align: top;\n",
              "    }\n",
              "\n",
              "    .dataframe thead th {\n",
              "        text-align: right;\n",
              "    }\n",
              "</style>\n",
              "<table border=\"1\" class=\"dataframe\">\n",
              "  <thead>\n",
              "    <tr style=\"text-align: right;\">\n",
              "      <th></th>\n",
              "      <th>Year</th>\n",
              "      <th>State</th>\n",
              "      <th>Votes</th>\n",
              "      <th>Pct</th>\n",
              "    </tr>\n",
              "  </thead>\n",
              "  <tbody>\n",
              "    <tr>\n",
              "      <th>58</th>\n",
              "      <td>2020</td>\n",
              "      <td>Alabama</td>\n",
              "      <td>9.0</td>\n",
              "      <td>1.672862</td>\n",
              "    </tr>\n",
              "    <tr>\n",
              "      <th>117</th>\n",
              "      <td>2020</td>\n",
              "      <td>Alaska</td>\n",
              "      <td>3.0</td>\n",
              "      <td>0.557621</td>\n",
              "    </tr>\n",
              "    <tr>\n",
              "      <th>176</th>\n",
              "      <td>2020</td>\n",
              "      <td>Arizona</td>\n",
              "      <td>11.0</td>\n",
              "      <td>2.044610</td>\n",
              "    </tr>\n",
              "    <tr>\n",
              "      <th>235</th>\n",
              "      <td>2020</td>\n",
              "      <td>Arkansas</td>\n",
              "      <td>6.0</td>\n",
              "      <td>1.115242</td>\n",
              "    </tr>\n",
              "    <tr>\n",
              "      <th>294</th>\n",
              "      <td>2020</td>\n",
              "      <td>California</td>\n",
              "      <td>55.0</td>\n",
              "      <td>10.223048</td>\n",
              "    </tr>\n",
              "  </tbody>\n",
              "</table>\n",
              "</div>"
            ],
            "text/plain": [
              "     Year       State  Votes        Pct\n",
              "58   2020     Alabama    9.0   1.672862\n",
              "117  2020      Alaska    3.0   0.557621\n",
              "176  2020     Arizona   11.0   2.044610\n",
              "235  2020    Arkansas    6.0   1.115242\n",
              "294  2020  California   55.0  10.223048"
            ]
          },
          "metadata": {
            "tags": []
          },
          "execution_count": 14
        }
      ]
    },
    {
      "cell_type": "code",
      "metadata": {
        "id": "fea444IWLduC",
        "outputId": "a14f2498-7867-4312-939b-43e405b599e6",
        "colab": {
          "base_uri": "https://localhost:8080/",
          "height": 197
        }
      },
      "source": [
        "db_governors_country.head()\n"
      ],
      "execution_count": 33,
      "outputs": [
        {
          "output_type": "execute_result",
          "data": {
            "text/html": [
              "<div>\n",
              "<style scoped>\n",
              "    .dataframe tbody tr th:only-of-type {\n",
              "        vertical-align: middle;\n",
              "    }\n",
              "\n",
              "    .dataframe tbody tr th {\n",
              "        vertical-align: top;\n",
              "    }\n",
              "\n",
              "    .dataframe thead th {\n",
              "        text-align: right;\n",
              "    }\n",
              "</style>\n",
              "<table border=\"1\" class=\"dataframe\">\n",
              "  <thead>\n",
              "    <tr style=\"text-align: right;\">\n",
              "      <th></th>\n",
              "      <th>state</th>\n",
              "      <th>county</th>\n",
              "      <th>current_votes</th>\n",
              "      <th>total_votes</th>\n",
              "      <th>percent</th>\n",
              "    </tr>\n",
              "  </thead>\n",
              "  <tbody>\n",
              "    <tr>\n",
              "      <th>0</th>\n",
              "      <td>Delaware</td>\n",
              "      <td>Kent County</td>\n",
              "      <td>85399</td>\n",
              "      <td>88000</td>\n",
              "      <td>95</td>\n",
              "    </tr>\n",
              "    <tr>\n",
              "      <th>1</th>\n",
              "      <td>Delaware</td>\n",
              "      <td>New Castle County</td>\n",
              "      <td>278691</td>\n",
              "      <td>293878</td>\n",
              "      <td>95</td>\n",
              "    </tr>\n",
              "    <tr>\n",
              "      <th>2</th>\n",
              "      <td>Delaware</td>\n",
              "      <td>Sussex County</td>\n",
              "      <td>127168</td>\n",
              "      <td>125000</td>\n",
              "      <td>95</td>\n",
              "    </tr>\n",
              "    <tr>\n",
              "      <th>3</th>\n",
              "      <td>Indiana</td>\n",
              "      <td>Adams County</td>\n",
              "      <td>14153</td>\n",
              "      <td>14238</td>\n",
              "      <td>99</td>\n",
              "    </tr>\n",
              "    <tr>\n",
              "      <th>4</th>\n",
              "      <td>Indiana</td>\n",
              "      <td>Allen County</td>\n",
              "      <td>140363</td>\n",
              "      <td>164793</td>\n",
              "      <td>85</td>\n",
              "    </tr>\n",
              "  </tbody>\n",
              "</table>\n",
              "</div>"
            ],
            "text/plain": [
              "      state             county  current_votes  total_votes  percent\n",
              "0  Delaware        Kent County          85399        88000       95\n",
              "1  Delaware  New Castle County         278691       293878       95\n",
              "2  Delaware      Sussex County         127168       125000       95\n",
              "3   Indiana       Adams County          14153        14238       99\n",
              "4   Indiana       Allen County         140363       164793       85"
            ]
          },
          "metadata": {
            "tags": []
          },
          "execution_count": 33
        }
      ]
    },
    {
      "cell_type": "code",
      "metadata": {
        "id": "LjLYDECpLkWc",
        "outputId": "93ea4e6a-93a4-44db-f884-a8d5b2ded8b3",
        "colab": {
          "base_uri": "https://localhost:8080/",
          "height": 197
        }
      },
      "source": [
        "db_governors_county_candidate.head()"
      ],
      "execution_count": 31,
      "outputs": [
        {
          "output_type": "execute_result",
          "data": {
            "text/html": [
              "<div>\n",
              "<style scoped>\n",
              "    .dataframe tbody tr th:only-of-type {\n",
              "        vertical-align: middle;\n",
              "    }\n",
              "\n",
              "    .dataframe tbody tr th {\n",
              "        vertical-align: top;\n",
              "    }\n",
              "\n",
              "    .dataframe thead th {\n",
              "        text-align: right;\n",
              "    }\n",
              "</style>\n",
              "<table border=\"1\" class=\"dataframe\">\n",
              "  <thead>\n",
              "    <tr style=\"text-align: right;\">\n",
              "      <th></th>\n",
              "      <th>state</th>\n",
              "      <th>county</th>\n",
              "      <th>candidate</th>\n",
              "      <th>party</th>\n",
              "      <th>votes</th>\n",
              "    </tr>\n",
              "  </thead>\n",
              "  <tbody>\n",
              "    <tr>\n",
              "      <th>0</th>\n",
              "      <td>Delaware</td>\n",
              "      <td>Kent County</td>\n",
              "      <td>John Carney</td>\n",
              "      <td>DEM</td>\n",
              "      <td>44343</td>\n",
              "    </tr>\n",
              "    <tr>\n",
              "      <th>1</th>\n",
              "      <td>Delaware</td>\n",
              "      <td>Kent County</td>\n",
              "      <td>Julianne Murray</td>\n",
              "      <td>REP</td>\n",
              "      <td>39325</td>\n",
              "    </tr>\n",
              "    <tr>\n",
              "      <th>2</th>\n",
              "      <td>Delaware</td>\n",
              "      <td>Kent County</td>\n",
              "      <td>Kathy DeMatteis</td>\n",
              "      <td>IPD</td>\n",
              "      <td>1115</td>\n",
              "    </tr>\n",
              "    <tr>\n",
              "      <th>3</th>\n",
              "      <td>Delaware</td>\n",
              "      <td>Kent County</td>\n",
              "      <td>John Machurek</td>\n",
              "      <td>LIB</td>\n",
              "      <td>616</td>\n",
              "    </tr>\n",
              "    <tr>\n",
              "      <th>4</th>\n",
              "      <td>Delaware</td>\n",
              "      <td>New Castle County</td>\n",
              "      <td>John Carney</td>\n",
              "      <td>DEM</td>\n",
              "      <td>190941</td>\n",
              "    </tr>\n",
              "  </tbody>\n",
              "</table>\n",
              "</div>"
            ],
            "text/plain": [
              "      state             county        candidate party   votes\n",
              "0  Delaware        Kent County      John Carney   DEM   44343\n",
              "1  Delaware        Kent County  Julianne Murray   REP   39325\n",
              "2  Delaware        Kent County  Kathy DeMatteis   IPD    1115\n",
              "3  Delaware        Kent County    John Machurek   LIB     616\n",
              "4  Delaware  New Castle County      John Carney   DEM  190941"
            ]
          },
          "metadata": {
            "tags": []
          },
          "execution_count": 31
        }
      ]
    }
  ]
}