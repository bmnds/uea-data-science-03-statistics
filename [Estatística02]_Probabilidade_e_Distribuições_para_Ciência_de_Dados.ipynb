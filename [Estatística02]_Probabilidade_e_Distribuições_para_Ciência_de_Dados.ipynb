{
  "nbformat": 4,
  "nbformat_minor": 0,
  "metadata": {
    "colab": {
      "name": "[Estatística02] Probabilidade e Distribuições para Ciência de Dados.ipynb",
      "provenance": [],
      "collapsed_sections": [],
      "include_colab_link": true
    },
    "kernelspec": {
      "name": "python3",
      "display_name": "Python 3"
    }
  },
  "cells": [
    {
      "cell_type": "markdown",
      "metadata": {
        "id": "view-in-github",
        "colab_type": "text"
      },
      "source": [
        "<a href=\"https://colab.research.google.com/github/bmnds/uea-data-science-03-statistics/blob/main/%5BEstat%C3%ADstica02%5D_Probabilidade_e_Distribui%C3%A7%C3%B5es_para_Ci%C3%AAncia_de_Dados.ipynb\" target=\"_parent\"><img src=\"https://colab.research.google.com/assets/colab-badge.svg\" alt=\"Open In Colab\"/></a>"
      ]
    },
    {
      "cell_type": "markdown",
      "metadata": {
        "id": "t5oLQNm_xilh"
      },
      "source": [
        "# Probabilidade e Distribuições Discretas e Contínuas"
      ]
    },
    {
      "cell_type": "code",
      "metadata": {
        "id": "ZN1-V9Lrxv5V"
      },
      "source": [
        "from scipy.stats import binom, nbinom, poisson, uniform, expon, norm \n",
        "import numpy as np\n",
        "import matplotlib.pyplot as plt\n",
        "import seaborn as sea\n",
        "import statistics as st\n",
        "from scipy import stats"
      ],
      "execution_count": 1,
      "outputs": []
    },
    {
      "cell_type": "code",
      "metadata": {
        "id": "hsIfpMToah-z"
      },
      "source": [
        "paris = [37,23,18,16,14,14,13,12,10,9]\n",
        "real = [15,15,12,12,11,10,9,9,9,7]"
      ],
      "execution_count": 2,
      "outputs": []
    },
    {
      "cell_type": "code",
      "metadata": {
        "id": "4zPWSLnSxylL",
        "outputId": "08a9eed4-ff15-440e-e027-90de92bb4252",
        "colab": {
          "base_uri": "https://localhost:8080/"
        }
      },
      "source": [
        "# Construção de uma matriz\n",
        "matriz = [\n",
        "    [500,4500,1500,6500],\n",
        "    [30,270,50,350],\n",
        "    [530,4770,1550,6850]\n",
        "]\n",
        "print(matriz)"
      ],
      "execution_count": 3,
      "outputs": [
        {
          "output_type": "stream",
          "text": [
            "[[500, 4500, 1500, 6500], [30, 270, 50, 350], [530, 4770, 1550, 6850]]\n"
          ],
          "name": "stdout"
        }
      ]
    },
    {
      "cell_type": "code",
      "metadata": {
        "id": "kkY73EFNx1cR",
        "outputId": "deccac95-f046-4f16-b17c-c7435df02994",
        "colab": {
          "base_uri": "https://localhost:8080/"
        }
      },
      "source": [
        "for i in range(0,3):\n",
        "    print(matriz[i])"
      ],
      "execution_count": 4,
      "outputs": [
        {
          "output_type": "stream",
          "text": [
            "[500, 4500, 1500, 6500]\n",
            "[30, 270, 50, 350]\n",
            "[530, 4770, 1550, 6850]\n"
          ],
          "name": "stdout"
        }
      ]
    },
    {
      "cell_type": "code",
      "metadata": {
        "id": "81mPa-YRzaMT",
        "outputId": "5d449bdd-69bc-45d5-bfa6-9e251a0a29a0",
        "colab": {
          "base_uri": "https://localhost:8080/"
        }
      },
      "source": [
        "# Cálculo da probabilidade condicional\n",
        "print(\"P(D|U)=\",matriz[1][2]/matriz[2][2])"
      ],
      "execution_count": 5,
      "outputs": [
        {
          "output_type": "stream",
          "text": [
            "P(D|U)= 0.03225806451612903\n"
          ],
          "name": "stdout"
        }
      ]
    },
    {
      "cell_type": "markdown",
      "metadata": {
        "id": "m1k9arzVRyfP"
      },
      "source": [
        "Distribuição Binomial"
      ]
    },
    {
      "cell_type": "code",
      "metadata": {
        "id": "mRznXtaRzhKN"
      },
      "source": [
        "# Exemplo\n",
        "# Em uma avaliação de 10 questões, com 4 alternativas cada, qual a probabilidade de um aluno sorteado ao acaso acertar:"
      ],
      "execution_count": 6,
      "outputs": []
    },
    {
      "cell_type": "code",
      "metadata": {
        "id": "LTPqwkB42Dn4",
        "outputId": "5bd68d49-7090-455c-eb85-c95dbb49d35d",
        "colab": {
          "base_uri": "https://localhost:8080/"
        }
      },
      "source": [
        "# a) Nenhuma questão?\n",
        "print(\"P(x=0):\",binom.pmf(0,10,0.25))"
      ],
      "execution_count": 7,
      "outputs": [
        {
          "output_type": "stream",
          "text": [
            "P(x=0): 0.056313514709472684\n"
          ],
          "name": "stdout"
        }
      ]
    },
    {
      "cell_type": "code",
      "metadata": {
        "id": "BjFp5nA-2cZP",
        "outputId": "46bf63de-b7c1-4166-a3e7-de67d4f0c55b",
        "colab": {
          "base_uri": "https://localhost:8080/"
        }
      },
      "source": [
        "# b) Pelo menos 3 questões?\n",
        "print(\"P(>=3):\",1-binom.cdf(3,10,0.25))"
      ],
      "execution_count": 8,
      "outputs": [
        {
          "output_type": "stream",
          "text": [
            "P(>=3): 0.22412490844726562\n"
          ],
          "name": "stdout"
        }
      ]
    },
    {
      "cell_type": "code",
      "metadata": {
        "id": "unyiUhfm2zJY",
        "outputId": "3d236fc6-9cf7-4007-e26d-ea4c08e66756",
        "colab": {
          "base_uri": "https://localhost:8080/"
        }
      },
      "source": [
        "# c) Mais de 7 questões?\n",
        "print(\"P(x>7):\",1-binom.cdf(7,10,0.25))"
      ],
      "execution_count": 9,
      "outputs": [
        {
          "output_type": "stream",
          "text": [
            "P(x>7): 0.000415802001953125\n"
          ],
          "name": "stdout"
        }
      ]
    },
    {
      "cell_type": "code",
      "metadata": {
        "id": "Ds12uscL7KNW",
        "outputId": "4621a57f-afa9-43e1-b6b6-8e706604d443",
        "colab": {
          "base_uri": "https://localhost:8080/"
        }
      },
      "source": [
        "# Geração de dígitos aleatórios com base na distribuição Binomial\n",
        "from numpy import random\n",
        "x = random.binomial(n=10, p=0.5, size=100)\n",
        "print(x)"
      ],
      "execution_count": 10,
      "outputs": [
        {
          "output_type": "stream",
          "text": [
            "[6 8 5 4 3 6 5 5 7 7 7 1 7 7 6 7 6 3 2 3 7 3 7 6 3 7 3 5 6 6 5 4 7 8 7 6 7\n",
            " 6 2 7 7 6 7 4 8 5 1 6 6 4 5 5 3 3 5 4 6 6 5 6 5 7 5 3 3 5 4 2 5 2 3 3 4 7\n",
            " 5 4 3 7 4 5 3 3 2 4 7 3 3 6 7 5 5 4 4 2 5 8 5 7 4 4]\n"
          ],
          "name": "stdout"
        }
      ]
    },
    {
      "cell_type": "code",
      "metadata": {
        "id": "cDbPSQ2_78EJ",
        "outputId": "a0f1067e-b46f-4b64-8b72-ebd94e116592",
        "colab": {
          "base_uri": "https://localhost:8080/"
        }
      },
      "source": [
        "# Gerar gráfico da distribuição Binomial\n",
        "n = 10\n",
        "p = 0.25\n",
        "k_valores = np.arange(0,10)\n",
        "distbinom = [binom.pmf(k,n,p) for k in k_valores]\n",
        "distbinom\n"
      ],
      "execution_count": 11,
      "outputs": [
        {
          "output_type": "execute_result",
          "data": {
            "text/plain": [
              "[0.056313514709472684,\n",
              " 0.18771171569824247,\n",
              " 0.28156757354736334,\n",
              " 0.2502822875976565,\n",
              " 0.14599800109863295,\n",
              " 0.058399200439453194,\n",
              " 0.016222000122070344,\n",
              " 0.003089904785156255,\n",
              " 0.00038623809814453147,\n",
              " 2.8610229492187517e-05]"
            ]
          },
          "metadata": {
            "tags": []
          },
          "execution_count": 11
        }
      ]
    },
    {
      "cell_type": "code",
      "metadata": {
        "id": "-fKKKLdz_OWP",
        "outputId": "3648886b-3b3f-4dd3-9cdb-7745c9325d56",
        "colab": {
          "base_uri": "https://localhost:8080/",
          "height": 281
        }
      },
      "source": [
        "# Geração do gráfico\n",
        "plt.bar(k_valores,distbinom)\n",
        "plt.title(\"p=\" + str(p))\n",
        "plt.show()"
      ],
      "execution_count": 12,
      "outputs": [
        {
          "output_type": "display_data",
          "data": {
            "image/png": "[encoded data removed]",
            "text/plain": [
              "<Figure size 432x288 with 1 Axes>"
            ]
          },
          "metadata": {
            "tags": [],
            "needs_background": "light"
          }
        }
      ]
    },
    {
      "cell_type": "markdown",
      "metadata": {
        "id": "Rnj8o2xrSHpn"
      },
      "source": [
        "Distribuição de Poisson"
      ]
    },
    {
      "cell_type": "code",
      "metadata": {
        "id": "ZDg5qV334XxP"
      },
      "source": [
        "# Exemplo\n",
        "# Admita que o número de consultas à home page de uma determinada Empresa durante um período de tempo obedece a uma distribuição de Poisson e que em média 2"
      ],
      "execution_count": 13,
      "outputs": []
    },
    {
      "cell_type": "code",
      "metadata": {
        "id": "knshHu6m5d2G",
        "outputId": "68d48804-f700-4101-a2fb-1fc4b6e39902",
        "colab": {
          "base_uri": "https://localhost:8080/"
        }
      },
      "source": [
        "# a) Qual a probabilidade de que em um determinado dia sejam realizadas exatamentes  três consultas?\n",
        "print(\"P(x=3):\",poisson.pmf(3,2))"
      ],
      "execution_count": 14,
      "outputs": [
        {
          "output_type": "stream",
          "text": [
            "P(x=3): 0.18044704431548356\n"
          ],
          "name": "stdout"
        }
      ]
    },
    {
      "cell_type": "code",
      "metadata": {
        "id": "qahAKReB50cu",
        "outputId": "74e78015-e89a-4cfb-c463-72f2cc25553b",
        "colab": {
          "base_uri": "https://localhost:8080/"
        }
      },
      "source": [
        "# b) Qual a probabildaide de que em um determinado dia ocorram mais de cinco consultas?\n",
        "print(\"P(x=3):\",1-poisson.cdf(5,2))"
      ],
      "execution_count": 15,
      "outputs": [
        {
          "output_type": "stream",
          "text": [
            "P(x=3): 0.016563608480614445\n"
          ],
          "name": "stdout"
        }
      ]
    },
    {
      "cell_type": "code",
      "metadata": {
        "id": "EeG3g3Y16eWj",
        "outputId": "7b296a41-fd05-4756-e490-88dc2e72aef8",
        "colab": {
          "base_uri": "https://localhost:8080/"
        }
      },
      "source": [
        "# Gerar digitps aleatórios da distribuição Poisson\n",
        "# Poisson\n",
        "from numpy import random\n",
        "\n",
        "x = random.poisson(lam=2, size=10)\n",
        "\n",
        "print(x)"
      ],
      "execution_count": 16,
      "outputs": [
        {
          "output_type": "stream",
          "text": [
            "[1 5 4 3 3 0 4 1 1 1]\n"
          ],
          "name": "stdout"
        }
      ]
    },
    {
      "cell_type": "code",
      "metadata": {
        "id": "5e6TUy6I_1dM",
        "outputId": "6eab30d4-f67d-4ebd-8e15-e6455c8f4c3c",
        "colab": {
          "base_uri": "https://localhost:8080/",
          "height": 369
        }
      },
      "source": [
        "# Geração de valores aleatórios e apresentação gráfica\n",
        "from numpy import random\n",
        "import matplotlib.pyplot as plt\n",
        "import seaborn as sns\n",
        "sns.displot(random.poisson(lam=2, size=1000), kde=False)\n",
        "plt.show()"
      ],
      "execution_count": 17,
      "outputs": [
        {
          "output_type": "display_data",
          "data": {
            "image/png": "[encoded data removed]",
            "text/plain": [
              "<Figure size 360x360 with 1 Axes>"
            ]
          },
          "metadata": {
            "tags": [],
            "needs_background": "light"
          }
        }
      ]
    },
    {
      "cell_type": "markdown",
      "metadata": {
        "id": "iTAd8Dd3SPVD"
      },
      "source": [
        "Distribuição Uniforme"
      ]
    },
    {
      "cell_type": "code",
      "metadata": {
        "id": "sJz97wtcSWIq"
      },
      "source": [
        "# Exemplo\n",
        "## Um profissional de computação observou que seu sistema gasta entre 20 e 24 segundos para realizar determinada tarefa. Sob esse intervalo, calcule a média, variância e a probabilidade do sistema gastar mais de 23 segundos."
      ],
      "execution_count": 18,
      "outputs": []
    },
    {
      "cell_type": "code",
      "metadata": {
        "id": "v3OLB-KNT4O-",
        "outputId": "be29620c-215a-493a-f708-e7ccb8926cf0",
        "colab": {
          "base_uri": "https://localhost:8080/"
        }
      },
      "source": [
        "# P(X>23) = 1 - P(X<=23)\n",
        "1-uniform.cdf(23,20,4)\n"
      ],
      "execution_count": 19,
      "outputs": [
        {
          "output_type": "execute_result",
          "data": {
            "text/plain": [
              "0.25"
            ]
          },
          "metadata": {
            "tags": []
          },
          "execution_count": 19
        }
      ]
    },
    {
      "cell_type": "code",
      "metadata": {
        "id": "Qxij_0R8vf1X",
        "outputId": "dea3bcfe-11eb-4583-aa39-92afa9ee7578",
        "colab": {
          "base_uri": "https://localhost:8080/",
          "height": 385
        }
      },
      "source": [
        "# Geração de valores aleatórios e apresentação gráfica\n",
        "from numpy import random\n",
        "import matplotlib.pyplot as plt\n",
        "import seaborn as sns\n",
        "sns.displot(random.uniform(1,4, size=1000), kde=True)\n",
        "plt.title('Distribuição Unifome')\n",
        "plt.show()"
      ],
      "execution_count": 20,
      "outputs": [
        {
          "output_type": "display_data",
          "data": {
            "image/png": "[encoded data removed]",
            "text/plain": [
              "<Figure size 360x360 with 1 Axes>"
            ]
          },
          "metadata": {
            "tags": [],
            "needs_background": "light"
          }
        }
      ]
    },
    {
      "cell_type": "markdown",
      "metadata": {
        "id": "6OILn4dc1sFA"
      },
      "source": [
        "Distribuição Exponencial"
      ]
    },
    {
      "cell_type": "code",
      "metadata": {
        "id": "kumv-HPeW8D3",
        "outputId": "d62bbc4c-418c-4670-fa62-1c57c1a49cc1",
        "colab": {
          "base_uri": "https://localhost:8080/"
        }
      },
      "source": [
        "# no scale deve ser coloado a média da distribuição: E[t] = 1/lambda\n",
        "# P(2<= T <=3) = P(T>=2) - P(T>3)\n",
        "expon.cdf(3,scale=1/2)-expon.cdf(2,scale=1/2) "
      ],
      "execution_count": 21,
      "outputs": [
        {
          "output_type": "execute_result",
          "data": {
            "text/plain": [
              "0.015836886712067844"
            ]
          },
          "metadata": {
            "tags": []
          },
          "execution_count": 21
        }
      ]
    },
    {
      "cell_type": "code",
      "metadata": {
        "id": "PnMkhXLLvU6Z",
        "outputId": "296a31a4-4922-47c9-f818-a040d32a0fdb",
        "colab": {
          "base_uri": "https://localhost:8080/",
          "height": 336
        }
      },
      "source": [
        "# Geração de valores aleatórios e apresentação gráfica\n",
        "import matplotlib.pyplot as plt\n",
        "import seaborn as sns\n",
        "dexpo = (random.exponential(2, size=1000))\n",
        "sns.distplot(dexpo, kde=False)\n",
        "plt.title('Distribuição Exponencial')\n",
        "plt.show()"
      ],
      "execution_count": 22,
      "outputs": [
        {
          "output_type": "stream",
          "text": [
            "/usr/local/lib/python3.6/dist-packages/seaborn/distributions.py:2551: FutureWarning: `distplot` is a deprecated function and will be removed in a future version. Please adapt your code to use either `displot` (a figure-level function with similar flexibility) or `histplot` (an axes-level function for histograms).\n",
            "  warnings.warn(msg, FutureWarning)\n"
          ],
          "name": "stderr"
        },
        {
          "output_type": "display_data",
          "data": {
            "image/png": "[encoded data removed]",
            "text/plain": [
              "<Figure size 432x288 with 1 Axes>"
            ]
          },
          "metadata": {
            "tags": [],
            "needs_background": "light"
          }
        }
      ]
    },
    {
      "cell_type": "markdown",
      "metadata": {
        "id": "Yv8H_p314573"
      },
      "source": [
        "Distribuição Normal"
      ]
    },
    {
      "cell_type": "code",
      "metadata": {
        "id": "KGyzVllskIgQ"
      },
      "source": [
        "\n",
        "# Exemplo: Suponha que o tempo de resposta na execução de um algoritmo é uma variável aleatória com distribuição normal de média 23 segundos e desvio padrão de 4 segundos. Calcule:"
      ],
      "execution_count": 23,
      "outputs": []
    },
    {
      "cell_type": "code",
      "metadata": {
        "id": "X-sm3D2e2uTM",
        "outputId": "ad009621-1e46-49f4-987c-c1a1a04f511f",
        "colab": {
          "base_uri": "https://localhost:8080/"
        }
      },
      "source": [
        "# a) A probabilidade de o tempo de resposta ser menor que 22 segundos;\n",
        "# P(x < 22) = F(22)\n",
        "norm.cdf(22, 23, 4)"
      ],
      "execution_count": 24,
      "outputs": [
        {
          "output_type": "execute_result",
          "data": {
            "text/plain": [
              "0.4012936743170763"
            ]
          },
          "metadata": {
            "tags": []
          },
          "execution_count": 24
        }
      ]
    },
    {
      "cell_type": "code",
      "metadata": {
        "id": "YDEYXqus6QNt",
        "outputId": "65a44b07-caac-4185-cf57-d5d62ac3ba3a",
        "colab": {
          "base_uri": "https://localhost:8080/"
        }
      },
      "source": [
        "# b) A probabilidade de o tempo de resposta ficar entre 20 e 30 segundos;\n",
        "# P(20 <= X <= 30)\n",
        "norm.cdf(30,23,4)-norm.cdf(20,23,4)"
      ],
      "execution_count": 25,
      "outputs": [
        {
          "output_type": "execute_result",
          "data": {
            "text/plain": [
              "0.7333134907593146"
            ]
          },
          "metadata": {
            "tags": []
          },
          "execution_count": 25
        }
      ]
    },
    {
      "cell_type": "code",
      "metadata": {
        "id": "-xtpz2y47KZd",
        "outputId": "08ca3e5d-993d-4d68-dd00-3c65c26617ae",
        "colab": {
          "base_uri": "https://localhost:8080/"
        }
      },
      "source": [
        "# c) A probabilidade do tempo de resposta ser maior que 21 segundos;\n",
        "1-norm.cdf(21,23,4)"
      ],
      "execution_count": 26,
      "outputs": [
        {
          "output_type": "execute_result",
          "data": {
            "text/plain": [
              "0.6914624612740131"
            ]
          },
          "metadata": {
            "tags": []
          },
          "execution_count": 26
        }
      ]
    },
    {
      "cell_type": "code",
      "metadata": {
        "id": "V2A5QCm47UnO",
        "outputId": "ec574ba3-4a9e-46b3-ba03-6ab505d29eed",
        "colab": {
          "base_uri": "https://localhost:8080/"
        }
      },
      "source": [
        "# d) A probabilidade do tempo de respostar ficar entre 24 e 26 segundos;\n",
        "norm.cdf(26,23,4)-norm.cdf(24,23,4)"
      ],
      "execution_count": 27,
      "outputs": [
        {
          "output_type": "execute_result",
          "data": {
            "text/plain": [
              "0.17466632194020804"
            ]
          },
          "metadata": {
            "tags": []
          },
          "execution_count": 27
        }
      ]
    },
    {
      "cell_type": "code",
      "metadata": {
        "id": "8cnThsxYO5H4"
      },
      "source": [
        ""
      ],
      "execution_count": 27,
      "outputs": []
    },
    {
      "cell_type": "code",
      "metadata": {
        "id": "Z1xNEVcE7Xts",
        "outputId": "d385b32a-1427-4ddd-9a86-78c7a6aaf90a",
        "colab": {
          "base_uri": "https://localhost:8080/"
        }
      },
      "source": [
        "# e) Qual deve ser o tempo de resposta mínimo para 10% não completarem os 23 segundos?  \n",
        "norm.ppf(0.10,23,4)"
      ],
      "execution_count": 28,
      "outputs": [
        {
          "output_type": "execute_result",
          "data": {
            "text/plain": [
              "17.8737937378216"
            ]
          },
          "metadata": {
            "tags": []
          },
          "execution_count": 28
        }
      ]
    },
    {
      "cell_type": "code",
      "metadata": {
        "id": "xrsydY6x-nTd",
        "outputId": "d3fd3d6c-cda1-4ea0-dc2c-ca7a9ca7493d",
        "colab": {
          "base_uri": "https://localhost:8080/",
          "height": 385
        }
      },
      "source": [
        "# Geração de valores aleatórios e apresentação gráfica\n",
        "import matplotlib.pyplot as plt\n",
        "import seaborn as sns\n",
        "dnormal = (random.normal(23,4, size=1000))\n",
        "sns.displot(dnormal, kde=True)\n",
        "plt.title('Distribuição Normal')\n",
        "plt.show()\n"
      ],
      "execution_count": 29,
      "outputs": [
        {
          "output_type": "display_data",
          "data": {
            "image/png": "[encoded data removed]",
            "text/plain": [
              "<Figure size 360x360 with 1 Axes>"
            ]
          },
          "metadata": {
            "tags": [],
            "needs_background": "light"
          }
        }
      ]
    },
    {
      "cell_type": "code",
      "metadata": {
        "id": "W5o85qxfyoCn",
        "outputId": "52197f7f-a2d5-4954-8e11-62127658ce7f",
        "colab": {
          "base_uri": "https://localhost:8080/",
          "height": 295
        }
      },
      "source": [
        "# Geração de gráfico para verificar se a distribuição é normal 1\n",
        "fig, ax = plt.subplots()\n",
        "stats.probplot(dnormal, fit=True,   plot=ax)\n",
        "plt.show()"
      ],
      "execution_count": 30,
      "outputs": [
        {
          "output_type": "display_data",
          "data": {
            "image/png": "[encoded data removed]",
            "text/plain": [
              "<Figure size 432x288 with 1 Axes>"
            ]
          },
          "metadata": {
            "tags": [],
            "needs_background": "light"
          }
        }
      ]
    },
    {
      "cell_type": "code",
      "metadata": {
        "id": "Mwbj-GL31Iff",
        "outputId": "908bd66c-6e3d-4d88-faa2-0236e812af81",
        "colab": {
          "base_uri": "https://localhost:8080/",
          "height": 295
        }
      },
      "source": [
        "# Geração de gráfico para verificar se a distribuição é normal 1\n",
        "fig, ax = plt.subplots()\n",
        "stats.probplot(dexpo, fit=True,   plot=ax)\n",
        "plt.show()"
      ],
      "execution_count": 31,
      "outputs": [
        {
          "output_type": "display_data",
          "data": {
            "image/png": "[encoded data removed]",
            "text/plain": [
              "<Figure size 432x288 with 1 Axes>"
            ]
          },
          "metadata": {
            "tags": [],
            "needs_background": "light"
          }
        }
      ]
    },
    {
      "cell_type": "code",
      "metadata": {
        "id": "EZpBq2C0585R",
        "outputId": "af2a6130-7cf9-4e83-8686-8a073ee452b9",
        "colab": {
          "base_uri": "https://localhost:8080/"
        }
      },
      "source": [
        "# Execução do teste de Shapiro Wilk\n",
        "# Primeiro valor é o resultado da estatística e o segundo argumento é o valor de p.\n",
        "# Ho = Os dados apresentam distribuição\n",
        "# H1 = Os dados não apresentam distribuição normal\n",
        "# Se o segundo termo (p-valor) é menor que 0,05 (5%) rejeita-se a hipótese nula.\n",
        "# stats.shapiro(dnormal)\n",
        "stats.shapiro(dexpo)"
      ],
      "execution_count": 32,
      "outputs": [
        {
          "output_type": "execute_result",
          "data": {
            "text/plain": [
              "(0.816882312297821, 3.100704011046057e-32)"
            ]
          },
          "metadata": {
            "tags": []
          },
          "execution_count": 32
        }
      ]
    },
    {
      "cell_type": "markdown",
      "metadata": {
        "id": "2Cv2IfF8T1_y"
      },
      "source": [
        "# Exercício Avaliativo II"
      ]
    },
    {
      "cell_type": "markdown",
      "metadata": {
        "id": "4SUG8ieNT6c3"
      },
      "source": [
        "Q7. Dados históricos mostram que 70% das pessoas que acessam a página p20, também acessam a página p21. Qual a probabilidade de que, nos 10 próximos acessos a página p20, a maioria também acesse acesse a página p21."
      ]
    },
    {
      "cell_type": "code",
      "metadata": {
        "id": "vrNg1_woSxuv",
        "outputId": "44ae158b-c00b-4a74-9876-c00c4b3de011",
        "colab": {
          "base_uri": "https://localhost:8080/"
        }
      },
      "source": [
        "# distribuição binomial com cálculo da probabilidade acumulada\n",
        "print(\"P(x>5):\",1-binom.cdf(5,10,0.7))"
      ],
      "execution_count": 33,
      "outputs": [
        {
          "output_type": "stream",
          "text": [
            "P(x>5): 0.8497316674\n"
          ],
          "name": "stdout"
        }
      ]
    },
    {
      "cell_type": "markdown",
      "metadata": {
        "id": "s1dhitDGUmRh"
      },
      "source": [
        "Q8. Um lote de notebooks é recebido por uma firma. Vinte máquinas são inspecionadas. O lote é rejeitado se pelo menos 4 forem defeituosas. Sabendo-se que 1% dos aparelhos são defeituosos, determine a probabilidade de a firma rejeitar todo o lote."
      ]
    },
    {
      "cell_type": "code",
      "metadata": {
        "id": "ZaAiYbi3UqVC",
        "outputId": "fde34f09-64c3-4eb5-b202-5dc9cfa1f1cf",
        "colab": {
          "base_uri": "https://localhost:8080/"
        }
      },
      "source": [
        "# distribuição binomial com cálculo da probabilidade acumulada\n",
        "print(\"P(x>5):\",1-binom.cdf(3,20,0.01))"
      ],
      "execution_count": 34,
      "outputs": [
        {
          "output_type": "stream",
          "text": [
            "P(x>5): 4.262092764240055e-05\n"
          ],
          "name": "stdout"
        }
      ]
    },
    {
      "cell_type": "markdown",
      "metadata": {
        "id": "LCTBe9Z_Up6m"
      },
      "source": [
        "Q9. Supondo que consultas num banco de dados ocorrem de forma independentes e aleatória, com uma taxa média de 3 consultas por minuto, qual a probabilidade de que no próximo minuto ocorram menos de 3 consultas"
      ]
    },
    {
      "cell_type": "code",
      "metadata": {
        "id": "Atnwq8NNVN7R",
        "outputId": "4c03ce5e-d730-4f0d-db64-9a0fca500a56",
        "colab": {
          "base_uri": "https://localhost:8080/"
        }
      },
      "source": [
        "# distribuição de poisson com cálculo de probabilidade acumulada\n",
        "print(\"P(x<=2) = \",poisson.cdf(2,3))"
      ],
      "execution_count": 35,
      "outputs": [
        {
          "output_type": "stream",
          "text": [
            "P(x<=2) =  0.42319008112684364\n"
          ],
          "name": "stdout"
        }
      ]
    },
    {
      "cell_type": "markdown",
      "metadata": {
        "id": "pCW6vn2bY8r5"
      },
      "source": [
        "Q10. A análise dos dados dos últimos anos de uma empresa de energia elétrica forneceu o valor médio de um blecaute por ano. Qual a probabilidade de ocorrer de 2 a 4 blecautes no próximo ano?"
      ]
    },
    {
      "cell_type": "code",
      "metadata": {
        "id": "O_0GNWT4Y9Zk",
        "outputId": "93bf2e91-1688-40ac-ccca-09fc73072623",
        "colab": {
          "base_uri": "https://localhost:8080/"
        }
      },
      "source": [
        "# distribuição de poisson com cálculo de probabilidade acumulada\n",
        "print(\"P(2<=x<=4) = P(x<=4)-P(x<=1)\", poisson.cdf(4,1) - poisson.cdf(1,1))"
      ],
      "execution_count": 36,
      "outputs": [
        {
          "output_type": "stream",
          "text": [
            "P(2<=x<=4) = P(x<=4)-P(x<=1) 0.26058127082977167\n"
          ],
          "name": "stdout"
        }
      ]
    }
  ]
}