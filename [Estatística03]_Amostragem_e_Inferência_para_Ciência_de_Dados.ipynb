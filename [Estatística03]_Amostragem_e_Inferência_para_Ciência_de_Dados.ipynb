{
  "nbformat": 4,
  "nbformat_minor": 0,
  "metadata": {
    "colab": {
      "name": "[Estatística03] Amostragem e Inferência para Ciência de Dados.ipynb",
      "provenance": [],
      "collapsed_sections": [],
      "include_colab_link": true
    },
    "kernelspec": {
      "name": "python3",
      "display_name": "Python 3"
    }
  },
  "cells": [
    {
      "cell_type": "markdown",
      "metadata": {
        "id": "view-in-github",
        "colab_type": "text"
      },
      "source": [
        "<a href=\"https://colab.research.google.com/github/bmnds/uea-data-science-03-statistics/blob/main/%5BEstat%C3%ADstica03%5D_Amostragem_e_Infer%C3%AAncia_para_Ci%C3%AAncia_de_Dados.ipynb\" target=\"_parent\"><img src=\"https://colab.research.google.com/assets/colab-badge.svg\" alt=\"Open In Colab\"/></a>"
      ]
    },
    {
      "cell_type": "markdown",
      "metadata": {
        "id": "t3BGKO_fCnHJ"
      },
      "source": [
        "# Amostragem e Inferência Estatística"
      ]
    },
    {
      "cell_type": "code",
      "metadata": {
        "id": "pjliYgFtCyGH",
        "outputId": "224b476f-7854-4228-df54-618202458bcd",
        "colab": {
          "base_uri": "https://localhost:8080/"
        }
      },
      "source": [
        "# Pacotes necessários\n",
        "import pandas as pd\n",
        "import numpy as np\n",
        "import statistics as st\n",
        "import seaborn as se\n",
        "import statsmodels.stats.proportion as smp\n",
        "from scipy import stats"
      ],
      "execution_count": 1,
      "outputs": [
        {
          "output_type": "stream",
          "text": [
            "/usr/local/lib/python3.6/dist-packages/statsmodels/tools/_testing.py:19: FutureWarning: pandas.util.testing is deprecated. Use the functions in the public API at pandas.testing instead.\n",
            "  import pandas.util.testing as tm\n"
          ],
          "name": "stderr"
        }
      ]
    },
    {
      "cell_type": "code",
      "metadata": {
        "id": "LfLxKinLCzdQ",
        "outputId": "ae33ce2c-4266-4f32-b166-241f01df1cf5",
        "colab": {
          "base_uri": "https://localhost:8080/",
          "height": 399
        }
      },
      "source": [
        "bdenade = pd.read_csv('https://drive.google.com/uc?export=download&id=1DrDZTBlf5VKGj89t49pEmyKmgzYEarIZ',sep=';',decimal=',')\n",
        "bdenade"
      ],
      "execution_count": 2,
      "outputs": [
        {
          "output_type": "execute_result",
          "data": {
            "text/html": [
              "<div>\n",
              "<style scoped>\n",
              "    .dataframe tbody tr th:only-of-type {\n",
              "        vertical-align: middle;\n",
              "    }\n",
              "\n",
              "    .dataframe tbody tr th {\n",
              "        vertical-align: top;\n",
              "    }\n",
              "\n",
              "    .dataframe thead th {\n",
              "        text-align: right;\n",
              "    }\n",
              "</style>\n",
              "<table border=\"1\" class=\"dataframe\">\n",
              "  <thead>\n",
              "    <tr style=\"text-align: right;\">\n",
              "      <th></th>\n",
              "      <th>Ano</th>\n",
              "      <th>Codigo_Area</th>\n",
              "      <th>Codigo_IES</th>\n",
              "      <th>Categoria_Administrativa</th>\n",
              "      <th>Nconcluintes_Inscritos</th>\n",
              "      <th>Nconcluintes_Participantes</th>\n",
              "      <th>NotaBruta_FG</th>\n",
              "      <th>NotaBruta_CE</th>\n",
              "      <th>ConceitoEnade_Continuo</th>\n",
              "      <th>ConceitoEnade_Faixa</th>\n",
              "    </tr>\n",
              "  </thead>\n",
              "  <tbody>\n",
              "    <tr>\n",
              "      <th>0</th>\n",
              "      <td>2017</td>\n",
              "      <td>21</td>\n",
              "      <td>4</td>\n",
              "      <td>Federal</td>\n",
              "      <td>64</td>\n",
              "      <td>50</td>\n",
              "      <td>60.36</td>\n",
              "      <td>54.71</td>\n",
              "      <td>3.35</td>\n",
              "      <td>4.0</td>\n",
              "    </tr>\n",
              "    <tr>\n",
              "      <th>1</th>\n",
              "      <td>2017</td>\n",
              "      <td>21</td>\n",
              "      <td>452</td>\n",
              "      <td>Privada</td>\n",
              "      <td>5</td>\n",
              "      <td>5</td>\n",
              "      <td>46.60</td>\n",
              "      <td>35.38</td>\n",
              "      <td>1.04</td>\n",
              "      <td>2.0</td>\n",
              "    </tr>\n",
              "    <tr>\n",
              "      <th>2</th>\n",
              "      <td>2017</td>\n",
              "      <td>21</td>\n",
              "      <td>669</td>\n",
              "      <td>Privada</td>\n",
              "      <td>70</td>\n",
              "      <td>64</td>\n",
              "      <td>45.57</td>\n",
              "      <td>35.05</td>\n",
              "      <td>0.97</td>\n",
              "      <td>2.0</td>\n",
              "    </tr>\n",
              "    <tr>\n",
              "      <th>3</th>\n",
              "      <td>2017</td>\n",
              "      <td>21</td>\n",
              "      <td>1422</td>\n",
              "      <td>Privada</td>\n",
              "      <td>250</td>\n",
              "      <td>130</td>\n",
              "      <td>47.18</td>\n",
              "      <td>37.23</td>\n",
              "      <td>1.23</td>\n",
              "      <td>2.0</td>\n",
              "    </tr>\n",
              "    <tr>\n",
              "      <th>4</th>\n",
              "      <td>2017</td>\n",
              "      <td>21</td>\n",
              "      <td>2147</td>\n",
              "      <td>Privada</td>\n",
              "      <td>250</td>\n",
              "      <td>190</td>\n",
              "      <td>40.09</td>\n",
              "      <td>33.75</td>\n",
              "      <td>0.64</td>\n",
              "      <td>1.0</td>\n",
              "    </tr>\n",
              "    <tr>\n",
              "      <th>...</th>\n",
              "      <td>...</td>\n",
              "      <td>...</td>\n",
              "      <td>...</td>\n",
              "      <td>...</td>\n",
              "      <td>...</td>\n",
              "      <td>...</td>\n",
              "      <td>...</td>\n",
              "      <td>...</td>\n",
              "      <td>...</td>\n",
              "      <td>...</td>\n",
              "    </tr>\n",
              "    <tr>\n",
              "      <th>610</th>\n",
              "      <td>2018</td>\n",
              "      <td>85</td>\n",
              "      <td>1422</td>\n",
              "      <td>Privada</td>\n",
              "      <td>8</td>\n",
              "      <td>6</td>\n",
              "      <td>45.90</td>\n",
              "      <td>43.95</td>\n",
              "      <td>2.66</td>\n",
              "      <td>3.0</td>\n",
              "    </tr>\n",
              "    <tr>\n",
              "      <th>611</th>\n",
              "      <td>2018</td>\n",
              "      <td>87</td>\n",
              "      <td>1422</td>\n",
              "      <td>Privada</td>\n",
              "      <td>21</td>\n",
              "      <td>21</td>\n",
              "      <td>32.03</td>\n",
              "      <td>46.08</td>\n",
              "      <td>2.73</td>\n",
              "      <td>3.0</td>\n",
              "    </tr>\n",
              "    <tr>\n",
              "      <th>612</th>\n",
              "      <td>2018</td>\n",
              "      <td>86</td>\n",
              "      <td>669</td>\n",
              "      <td>Privada</td>\n",
              "      <td>31</td>\n",
              "      <td>31</td>\n",
              "      <td>36.45</td>\n",
              "      <td>42.13</td>\n",
              "      <td>2.05</td>\n",
              "      <td>3.0</td>\n",
              "    </tr>\n",
              "    <tr>\n",
              "      <th>613</th>\n",
              "      <td>2018</td>\n",
              "      <td>38</td>\n",
              "      <td>322</td>\n",
              "      <td>Privada</td>\n",
              "      <td>16</td>\n",
              "      <td>8</td>\n",
              "      <td>37.98</td>\n",
              "      <td>37.98</td>\n",
              "      <td>1.64</td>\n",
              "      <td>2.0</td>\n",
              "    </tr>\n",
              "    <tr>\n",
              "      <th>614</th>\n",
              "      <td>2018</td>\n",
              "      <td>94</td>\n",
              "      <td>322</td>\n",
              "      <td>Privada</td>\n",
              "      <td>45</td>\n",
              "      <td>37</td>\n",
              "      <td>36.97</td>\n",
              "      <td>42.89</td>\n",
              "      <td>2.43</td>\n",
              "      <td>3.0</td>\n",
              "    </tr>\n",
              "  </tbody>\n",
              "</table>\n",
              "<p>615 rows × 10 columns</p>\n",
              "</div>"
            ],
            "text/plain": [
              "      Ano  Codigo_Area  ...  ConceitoEnade_Continuo ConceitoEnade_Faixa\n",
              "0    2017           21  ...                    3.35                 4.0\n",
              "1    2017           21  ...                    1.04                 2.0\n",
              "2    2017           21  ...                    0.97                 2.0\n",
              "3    2017           21  ...                    1.23                 2.0\n",
              "4    2017           21  ...                    0.64                 1.0\n",
              "..    ...          ...  ...                     ...                 ...\n",
              "610  2018           85  ...                    2.66                 3.0\n",
              "611  2018           87  ...                    2.73                 3.0\n",
              "612  2018           86  ...                    2.05                 3.0\n",
              "613  2018           38  ...                    1.64                 2.0\n",
              "614  2018           94  ...                    2.43                 3.0\n",
              "\n",
              "[615 rows x 10 columns]"
            ]
          },
          "metadata": {
            "tags": []
          },
          "execution_count": 2
        }
      ]
    },
    {
      "cell_type": "code",
      "metadata": {
        "id": "NZaU5oQQDEgu",
        "outputId": "d5e7b653-d9d7-4614-d4f0-6674ce153dfb",
        "colab": {
          "base_uri": "https://localhost:8080/"
        }
      },
      "source": [
        "# Verificar quantidades de linhas e colunas\n",
        "bdenade.shape"
      ],
      "execution_count": 3,
      "outputs": [
        {
          "output_type": "execute_result",
          "data": {
            "text/plain": [
              "(615, 10)"
            ]
          },
          "metadata": {
            "tags": []
          },
          "execution_count": 3
        }
      ]
    },
    {
      "cell_type": "code",
      "metadata": {
        "id": "8XOmSdhUOejK"
      },
      "source": [
        "# Mudança da semente aleatória randômica para manter os resultados em várias execuções\n",
        "np.random.seed(999)"
      ],
      "execution_count": 4,
      "outputs": []
    },
    {
      "cell_type": "code",
      "metadata": {
        "id": "1E3cs6UeOr_x",
        "outputId": "edc8cd4f-508f-474e-a254-899f2868dc64",
        "colab": {
          "base_uri": "https://localhost:8080/"
        }
      },
      "source": [
        "# 615 amostras, de 0 a 1, com reposição, probabilidades equivalentes\n",
        "amostra = np.random.choice(a = [0, 1], size = 615, replace = True,\n",
        "                           p = [0.3, 0.7])\n",
        "amostra\n",
        "# Tamanho da amostra\n",
        "print(\"amostra geral = \",len(amostra))\n",
        "# Verificar o tamanho de cada amostra\n",
        "print(\"amostra 0 = \",len(amostra[amostra == 0]))\n",
        "print(\"amostra 1 = \", len(amostra[amostra == 1]))"
      ],
      "execution_count": 5,
      "outputs": [
        {
          "output_type": "stream",
          "text": [
            "amostra geral =  615\n",
            "amostra 0 =  187\n",
            "amostra 1 =  428\n"
          ],
          "name": "stdout"
        }
      ]
    },
    {
      "cell_type": "code",
      "metadata": {
        "id": "_e9JzXvBVeRu",
        "outputId": "4d66dfb4-eb4f-4e4d-ebb0-91eb9603f3a8",
        "colab": {
          "base_uri": "https://localhost:8080/"
        }
      },
      "source": [
        "# Amostras sorteadas:\n",
        "print(amostra)"
      ],
      "execution_count": 6,
      "outputs": [
        {
          "output_type": "stream",
          "text": [
            "[1 1 0 1 0 1 1 1 1 1 1 0 1 0 1 0 1 1 1 1 0 1 0 1 0 1 1 0 1 1 1 1 0 1 0 0 1\n",
            " 0 1 1 1 1 1 0 1 1 1 1 1 0 1 1 1 1 1 1 0 0 1 1 1 1 1 1 0 1 1 1 1 0 1 1 1 1\n",
            " 1 1 1 1 1 1 1 1 1 0 1 1 1 0 1 0 1 1 1 1 1 0 1 1 1 1 1 0 1 1 1 1 0 1 1 1 1\n",
            " 1 0 0 1 1 1 1 1 1 1 0 1 1 1 0 1 1 1 1 0 0 0 1 1 0 1 1 1 1 0 0 1 1 0 1 1 1\n",
            " 1 1 1 1 1 0 0 1 1 0 0 1 1 1 0 1 0 1 1 1 1 1 1 1 0 0 1 1 0 0 1 1 1 1 1 1 1\n",
            " 1 1 0 1 0 1 1 1 1 1 0 1 1 1 0 0 1 1 1 0 1 1 0 0 1 1 0 0 0 0 0 1 0 1 1 0 0\n",
            " 0 1 1 0 1 1 0 1 1 1 1 0 0 0 0 0 1 1 1 1 0 1 1 1 1 1 0 0 1 1 1 1 1 0 1 1 1\n",
            " 1 1 1 0 1 0 1 0 1 1 1 0 1 1 1 1 0 1 1 1 0 1 1 1 0 1 1 0 1 0 1 1 1 0 0 1 1\n",
            " 1 1 0 0 1 1 1 0 1 1 1 1 1 0 1 1 1 1 1 0 1 0 1 1 1 1 1 0 1 1 1 0 1 0 1 0 0\n",
            " 0 1 1 1 1 1 0 1 1 1 0 1 1 0 0 1 1 1 1 0 1 1 1 1 0 0 0 0 1 0 1 1 1 1 1 1 0\n",
            " 1 1 1 1 1 0 1 1 1 1 0 0 0 0 1 1 0 1 1 1 1 1 1 0 1 1 0 0 1 0 1 1 0 1 1 1 0\n",
            " 1 1 1 1 1 1 0 0 1 0 1 1 1 1 0 1 1 0 1 1 0 1 0 1 1 1 1 1 1 1 1 1 1 1 1 1 1\n",
            " 0 1 1 0 1 1 1 0 0 1 0 1 0 1 0 1 1 1 1 0 1 1 0 1 1 1 0 1 1 1 1 1 0 1 1 0 1\n",
            " 1 1 1 1 1 0 1 1 1 1 0 1 0 1 1 1 1 1 1 1 1 1 1 1 0 0 1 1 0 0 0 0 0 0 0 1 1\n",
            " 0 1 1 1 0 0 0 1 1 1 0 0 0 1 0 0 0 1 1 0 0 1 0 1 1 1 1 1 1 0 1 1 1 1 1 1 0\n",
            " 0 1 0 1 0 1 0 1 0 0 1 0 1 1 0 0 1 1 0 1 1 1 0 0 1 1 1 1 0 0 1 1 0 1 1 0 1\n",
            " 1 0 0 1 1 1 1 1 1 1 1 1 1 1 1 1 0 1 1 1 0 1 0]\n"
          ],
          "name": "stdout"
        }
      ]
    },
    {
      "cell_type": "code",
      "metadata": {
        "id": "0RQC5Z1xS7BF",
        "outputId": "8699c85b-d07b-41b6-ff5a-1ee1950a7c1b",
        "colab": {
          "base_uri": "https://localhost:8080/"
        }
      },
      "source": [
        "bd_final1 = bdenade.loc[amostra == 0]\n",
        "bd_final1.shape"
      ],
      "execution_count": 7,
      "outputs": [
        {
          "output_type": "execute_result",
          "data": {
            "text/plain": [
              "(187, 10)"
            ]
          },
          "metadata": {
            "tags": []
          },
          "execution_count": 7
        }
      ]
    },
    {
      "cell_type": "code",
      "metadata": {
        "id": "_xRPFpxqTo4O",
        "outputId": "cd2d6f96-93a6-4db7-da69-1ed953f0b284",
        "colab": {
          "base_uri": "https://localhost:8080/",
          "height": 399
        }
      },
      "source": [
        "bd_final2 = bdenade.loc[amostra == 1]\n",
        "bd_final2"
      ],
      "execution_count": 8,
      "outputs": [
        {
          "output_type": "execute_result",
          "data": {
            "text/html": [
              "<div>\n",
              "<style scoped>\n",
              "    .dataframe tbody tr th:only-of-type {\n",
              "        vertical-align: middle;\n",
              "    }\n",
              "\n",
              "    .dataframe tbody tr th {\n",
              "        vertical-align: top;\n",
              "    }\n",
              "\n",
              "    .dataframe thead th {\n",
              "        text-align: right;\n",
              "    }\n",
              "</style>\n",
              "<table border=\"1\" class=\"dataframe\">\n",
              "  <thead>\n",
              "    <tr style=\"text-align: right;\">\n",
              "      <th></th>\n",
              "      <th>Ano</th>\n",
              "      <th>Codigo_Area</th>\n",
              "      <th>Codigo_IES</th>\n",
              "      <th>Categoria_Administrativa</th>\n",
              "      <th>Nconcluintes_Inscritos</th>\n",
              "      <th>Nconcluintes_Participantes</th>\n",
              "      <th>NotaBruta_FG</th>\n",
              "      <th>NotaBruta_CE</th>\n",
              "      <th>ConceitoEnade_Continuo</th>\n",
              "      <th>ConceitoEnade_Faixa</th>\n",
              "    </tr>\n",
              "  </thead>\n",
              "  <tbody>\n",
              "    <tr>\n",
              "      <th>0</th>\n",
              "      <td>2017</td>\n",
              "      <td>21</td>\n",
              "      <td>4</td>\n",
              "      <td>Federal</td>\n",
              "      <td>64</td>\n",
              "      <td>50</td>\n",
              "      <td>60.36</td>\n",
              "      <td>54.71</td>\n",
              "      <td>3.35</td>\n",
              "      <td>4.0</td>\n",
              "    </tr>\n",
              "    <tr>\n",
              "      <th>1</th>\n",
              "      <td>2017</td>\n",
              "      <td>21</td>\n",
              "      <td>452</td>\n",
              "      <td>Privada</td>\n",
              "      <td>5</td>\n",
              "      <td>5</td>\n",
              "      <td>46.60</td>\n",
              "      <td>35.38</td>\n",
              "      <td>1.04</td>\n",
              "      <td>2.0</td>\n",
              "    </tr>\n",
              "    <tr>\n",
              "      <th>3</th>\n",
              "      <td>2017</td>\n",
              "      <td>21</td>\n",
              "      <td>1422</td>\n",
              "      <td>Privada</td>\n",
              "      <td>250</td>\n",
              "      <td>130</td>\n",
              "      <td>47.18</td>\n",
              "      <td>37.23</td>\n",
              "      <td>1.23</td>\n",
              "      <td>2.0</td>\n",
              "    </tr>\n",
              "    <tr>\n",
              "      <th>5</th>\n",
              "      <td>2017</td>\n",
              "      <td>72</td>\n",
              "      <td>1381</td>\n",
              "      <td>Privada</td>\n",
              "      <td>32</td>\n",
              "      <td>30</td>\n",
              "      <td>42.53</td>\n",
              "      <td>30.17</td>\n",
              "      <td>1.58</td>\n",
              "      <td>2.0</td>\n",
              "    </tr>\n",
              "    <tr>\n",
              "      <th>6</th>\n",
              "      <td>2017</td>\n",
              "      <td>72</td>\n",
              "      <td>1422</td>\n",
              "      <td>Privada</td>\n",
              "      <td>69</td>\n",
              "      <td>7</td>\n",
              "      <td>50.10</td>\n",
              "      <td>49.34</td>\n",
              "      <td>3.57</td>\n",
              "      <td>4.0</td>\n",
              "    </tr>\n",
              "    <tr>\n",
              "      <th>...</th>\n",
              "      <td>...</td>\n",
              "      <td>...</td>\n",
              "      <td>...</td>\n",
              "      <td>...</td>\n",
              "      <td>...</td>\n",
              "      <td>...</td>\n",
              "      <td>...</td>\n",
              "      <td>...</td>\n",
              "      <td>...</td>\n",
              "      <td>...</td>\n",
              "    </tr>\n",
              "    <tr>\n",
              "      <th>607</th>\n",
              "      <td>2018</td>\n",
              "      <td>22</td>\n",
              "      <td>3172</td>\n",
              "      <td>Estadual</td>\n",
              "      <td>27</td>\n",
              "      <td>22</td>\n",
              "      <td>53.26</td>\n",
              "      <td>41.82</td>\n",
              "      <td>3.48</td>\n",
              "      <td>4.0</td>\n",
              "    </tr>\n",
              "    <tr>\n",
              "      <th>609</th>\n",
              "      <td>2018</td>\n",
              "      <td>87</td>\n",
              "      <td>1381</td>\n",
              "      <td>Privada</td>\n",
              "      <td>5</td>\n",
              "      <td>3</td>\n",
              "      <td>49.03</td>\n",
              "      <td>48.37</td>\n",
              "      <td>3.57</td>\n",
              "      <td>4.0</td>\n",
              "    </tr>\n",
              "    <tr>\n",
              "      <th>610</th>\n",
              "      <td>2018</td>\n",
              "      <td>85</td>\n",
              "      <td>1422</td>\n",
              "      <td>Privada</td>\n",
              "      <td>8</td>\n",
              "      <td>6</td>\n",
              "      <td>45.90</td>\n",
              "      <td>43.95</td>\n",
              "      <td>2.66</td>\n",
              "      <td>3.0</td>\n",
              "    </tr>\n",
              "    <tr>\n",
              "      <th>611</th>\n",
              "      <td>2018</td>\n",
              "      <td>87</td>\n",
              "      <td>1422</td>\n",
              "      <td>Privada</td>\n",
              "      <td>21</td>\n",
              "      <td>21</td>\n",
              "      <td>32.03</td>\n",
              "      <td>46.08</td>\n",
              "      <td>2.73</td>\n",
              "      <td>3.0</td>\n",
              "    </tr>\n",
              "    <tr>\n",
              "      <th>613</th>\n",
              "      <td>2018</td>\n",
              "      <td>38</td>\n",
              "      <td>322</td>\n",
              "      <td>Privada</td>\n",
              "      <td>16</td>\n",
              "      <td>8</td>\n",
              "      <td>37.98</td>\n",
              "      <td>37.98</td>\n",
              "      <td>1.64</td>\n",
              "      <td>2.0</td>\n",
              "    </tr>\n",
              "  </tbody>\n",
              "</table>\n",
              "<p>428 rows × 10 columns</p>\n",
              "</div>"
            ],
            "text/plain": [
              "      Ano  Codigo_Area  ...  ConceitoEnade_Continuo ConceitoEnade_Faixa\n",
              "0    2017           21  ...                    3.35                 4.0\n",
              "1    2017           21  ...                    1.04                 2.0\n",
              "3    2017           21  ...                    1.23                 2.0\n",
              "5    2017           72  ...                    1.58                 2.0\n",
              "6    2017           72  ...                    3.57                 4.0\n",
              "..    ...          ...  ...                     ...                 ...\n",
              "607  2018           22  ...                    3.48                 4.0\n",
              "609  2018           87  ...                    3.57                 4.0\n",
              "610  2018           85  ...                    2.66                 3.0\n",
              "611  2018           87  ...                    2.73                 3.0\n",
              "613  2018           38  ...                    1.64                 2.0\n",
              "\n",
              "[428 rows x 10 columns]"
            ]
          },
          "metadata": {
            "tags": []
          },
          "execution_count": 8
        }
      ]
    },
    {
      "cell_type": "markdown",
      "metadata": {
        "id": "R3xkQ2zmXrlg"
      },
      "source": [
        "Intervalo de Confiança para Média"
      ]
    },
    {
      "cell_type": "code",
      "metadata": {
        "id": "EcxW5qEBUGZk"
      },
      "source": [
        "# Pacote necessário\n",
        "from scipy.stats import t,norm"
      ],
      "execution_count": 9,
      "outputs": []
    },
    {
      "cell_type": "code",
      "metadata": {
        "id": "RKuX-NuMX0qK",
        "outputId": "cbf04a80-80ec-456b-dff8-3402f0985113",
        "colab": {
          "base_uri": "https://localhost:8080/"
        }
      },
      "source": [
        "# Deseja-se avaliar o diâmetro em mm dos parafusos utilizados na fixação da placa mãe em gabinetes para CPU de determinada empresa. Uma amostra de dez corpos de prova de parafuso foram avaliados:\n",
        "# {3,48; 3,50; 3,48; 3,49; 3,49; 3,48; 3,50; 3,51; 3,49; 3,50}\n",
        "x = (3.48,3.5,3.48,3.49,3.49,3.48,3.5,3.51,3.49,3.50)\n",
        "#x = (36,36,37,36,35,35,36,36,37,37)\n",
        "print(\"média=\",round(st.mean(x),3))\n",
        "print(\"desvio-padrão=\",round(st.stdev(x),3))"
      ],
      "execution_count": 10,
      "outputs": [
        {
          "output_type": "stream",
          "text": [
            "média= 3.492\n",
            "desvio-padrão= 0.01\n"
          ],
          "name": "stdout"
        }
      ]
    },
    {
      "cell_type": "code",
      "metadata": {
        "id": "_yFY6cOgZXq_",
        "outputId": "d86554e5-f850-4693-b7c3-029e4ca258ea",
        "colab": {
          "base_uri": "https://localhost:8080/"
        }
      },
      "source": [
        "# a) Intervalo de Confiança ao nível de 95%;\n",
        "print(\"Intervalo de Confiança ao nível de 95% para média quando a variância é desconhecida\")\n",
        "inf,sup = t.interval(0.95, len(x)-1, loc=st.mean(x), scale=st.stdev(x)/np.sqrt(len(x)))\n",
        "print ('Limite inferior 95%:', round(inf,3))\n",
        "print ('Limite superior 95%:', round(sup,3))\n"
      ],
      "execution_count": 11,
      "outputs": [
        {
          "output_type": "stream",
          "text": [
            "Intervalo de Confiança ao nível de 95% para média quando a variância é desconhecida\n",
            "Limite inferior 95%: 3.485\n",
            "Limite superior 95%: 3.499\n"
          ],
          "name": "stdout"
        }
      ]
    },
    {
      "cell_type": "code",
      "metadata": {
        "id": "9ZYeZuCSrzOB",
        "outputId": "575dc712-e254-442a-e642-5981cd66f7d8",
        "colab": {
          "base_uri": "https://localhost:8080/"
        }
      },
      "source": [
        "\n",
        "# b)\tA amostra foi suficiente, levando em consideração um erro máximo de 0,01 mm ao nível de 95%?\n",
        "# n = t2*s2/e2\n",
        "n = (t.ppf(0.005,9)**2)*(st.stdev(x)**2)/(0.3**2)\n",
        "print(\"Tamanho da amostra =\",round(n))"
      ],
      "execution_count": 12,
      "outputs": [
        {
          "output_type": "stream",
          "text": [
            "Tamanho da amostra = 0.0\n"
          ],
          "name": "stdout"
        }
      ]
    },
    {
      "cell_type": "code",
      "metadata": {
        "id": "NJd74WLOcy_l",
        "outputId": "4bd0b6c5-0a41-44a6-ba78-91262007ca31",
        "colab": {
          "base_uri": "https://localhost:8080/"
        }
      },
      "source": [
        "# No caso da variância conhecida, por exemplo sigma ao quadrado = 0,05, a função fica:\n",
        "print(\"Intervalo de Confiança ao nível de 95% para média quando a variância é conhecida\")                                              \n",
        "inf, sup = norm.interval(0.95, loc=st.mean(x), scale=0.05/np.sqrt(len(x)))\n",
        "print ('Limite inferior:', round(inf,3))\n",
        "print ('Limite superior:', round(sup,3))"
      ],
      "execution_count": 13,
      "outputs": [
        {
          "output_type": "stream",
          "text": [
            "Intervalo de Confiança ao nível de 95% para média quando a variância é conhecida\n",
            "Limite inferior: 3.461\n",
            "Limite superior: 3.523\n"
          ],
          "name": "stdout"
        }
      ]
    },
    {
      "cell_type": "markdown",
      "metadata": {
        "id": "bkM1tN3-OwOa"
      },
      "source": [
        "Intervalo de Confiança para Proporção"
      ]
    },
    {
      "cell_type": "code",
      "metadata": {
        "id": "pmOc7Ky97o4v"
      },
      "source": [
        "# Pacote necessário\n",
        "import statsmodels.stats.proportion as prop\n"
      ],
      "execution_count": 14,
      "outputs": []
    },
    {
      "cell_type": "code",
      "metadata": {
        "id": "q-p4q9iiWLmm",
        "outputId": "83746c8a-3e22-491c-9510-cc1cc14df264",
        "colab": {
          "base_uri": "https://localhost:8080/"
        }
      },
      "source": [
        "# Arthur\n",
        "# Na avaliação de dois sistemas computacionais, A e B, foram selecionadas 400 cargas de trabalho (tarefas) – supostamente uma amostra aleatória da infinidade de cargas de trabalho que poderiam ser submetidas a esses sistemas. O sistema A foi melhor que o B em 240 dos casos. Construir um intervalo de confiança para p (proporção de vezes que o sistema A é melhor que o sistema B, considerando todas as possíveis cargas de trabalho) ao nível de 95%. É possível diminuir o custo com amostragem trabalhando com erro amostral de 3%?\n",
        "inf, sup = prop.proportion_confint (485, 1000, alpha=0.05, method='normal')\n",
        "print ('Limite inferior:', round(inf,2))\n",
        "print ('Limite superior:', round(sup,2))\n",
        "print ('Margem de erro:',round(sup-0.485,2))"
      ],
      "execution_count": 15,
      "outputs": [
        {
          "output_type": "stream",
          "text": [
            "Limite inferior: 0.45\n",
            "Limite superior: 0.52\n",
            "Margem de erro: 0.03\n"
          ],
          "name": "stdout"
        }
      ]
    },
    {
      "cell_type": "code",
      "metadata": {
        "id": "m15xmLxLZR7W",
        "outputId": "19ce7ee1-6a26-4273-a0ef-45386fdb5b87",
        "colab": {
          "base_uri": "https://localhost:8080/"
        }
      },
      "source": [
        "# Marcelo\n",
        "# Na avaliação de dois sistemas computacionais, A e B, foram selecionadas 400 cargas de trabalho (tarefas) – supostamente uma amostra aleatória da infinidade de cargas de trabalho que poderiam ser submetidas a esses sistemas. O sistema A foi melhor que o B em 240 dos casos. Construir um intervalo de confiança para p (proporção de vezes que o sistema A é melhor que o sistema B, considerando todas as possíveis cargas de trabalho) ao nível de 95%. É possível diminuir o custo com amostragem trabalhando com erro amostral de 3%?\n",
        "inf, sup = prop.proportion_confint (515, 1000, alpha=0.05, method='normal')\n",
        "print ('Limite inferior:', round(inf,2))\n",
        "print ('Limite superior:', round(sup,2))\n",
        "print ('Margem de erro:',round(sup-0.515,2))"
      ],
      "execution_count": 16,
      "outputs": [
        {
          "output_type": "stream",
          "text": [
            "Limite inferior: 0.48\n",
            "Limite superior: 0.55\n",
            "Margem de erro: 0.03\n"
          ],
          "name": "stdout"
        }
      ]
    },
    {
      "cell_type": "code",
      "metadata": {
        "id": "n_8KLF78XFTY",
        "outputId": "90113f7c-3436-450f-904b-aed6f4000a32",
        "colab": {
          "base_uri": "https://localhost:8080/"
        }
      },
      "source": [
        "# Tamanho da amostra:\n",
        "n = (norm.ppf(0.975)**2)*0.515*0.485/(0.025**2)\n",
        "round(n)"
      ],
      "execution_count": 17,
      "outputs": [
        {
          "output_type": "execute_result",
          "data": {
            "text/plain": [
              "1535.0"
            ]
          },
          "metadata": {
            "tags": []
          },
          "execution_count": 17
        }
      ]
    },
    {
      "cell_type": "markdown",
      "metadata": {
        "id": "BgB8T7m4dTYf"
      },
      "source": [
        "Atividade prática com o banco de dados bdenade"
      ]
    },
    {
      "cell_type": "code",
      "metadata": {
        "id": "fMR5_1iKZE-j",
        "outputId": "c1763b9d-df75-4b0d-fe2c-c843a1f58cdb",
        "colab": {
          "base_uri": "https://localhost:8080/"
        }
      },
      "source": [
        "## Explorar o banco de dados\n",
        "bdenade.info()"
      ],
      "execution_count": 18,
      "outputs": [
        {
          "output_type": "stream",
          "text": [
            "<class 'pandas.core.frame.DataFrame'>\n",
            "RangeIndex: 615 entries, 0 to 614\n",
            "Data columns (total 10 columns):\n",
            " #   Column                      Non-Null Count  Dtype  \n",
            "---  ------                      --------------  -----  \n",
            " 0   Ano                         615 non-null    int64  \n",
            " 1   Codigo_Area                 615 non-null    int64  \n",
            " 2   Codigo_IES                  615 non-null    int64  \n",
            " 3   Categoria_Administrativa    615 non-null    object \n",
            " 4   Nconcluintes_Inscritos      615 non-null    int64  \n",
            " 5   Nconcluintes_Participantes  615 non-null    int64  \n",
            " 6   NotaBruta_FG                615 non-null    float64\n",
            " 7   NotaBruta_CE                615 non-null    float64\n",
            " 8   ConceitoEnade_Continuo      615 non-null    float64\n",
            " 9   ConceitoEnade_Faixa         615 non-null    float64\n",
            "dtypes: float64(4), int64(5), object(1)\n",
            "memory usage: 48.2+ KB\n"
          ],
          "name": "stdout"
        }
      ]
    },
    {
      "cell_type": "code",
      "metadata": {
        "id": "CHqUeiUseNr6",
        "outputId": "19b3c775-e53d-4191-fe7d-fcfb7dfc204b",
        "colab": {
          "base_uri": "https://localhost:8080/",
          "height": 399
        }
      },
      "source": [
        "# Renomear as colunas\n",
        "bdenade.columns = [\"ano\",\"area\",\"ies\",\"esfera\",\"ninscritos\",\"nparticipantes\",\"notafg\",\"notace\",\"conceito\",\"nota\"]\n",
        "bdenade"
      ],
      "execution_count": 19,
      "outputs": [
        {
          "output_type": "execute_result",
          "data": {
            "text/html": [
              "<div>\n",
              "<style scoped>\n",
              "    .dataframe tbody tr th:only-of-type {\n",
              "        vertical-align: middle;\n",
              "    }\n",
              "\n",
              "    .dataframe tbody tr th {\n",
              "        vertical-align: top;\n",
              "    }\n",
              "\n",
              "    .dataframe thead th {\n",
              "        text-align: right;\n",
              "    }\n",
              "</style>\n",
              "<table border=\"1\" class=\"dataframe\">\n",
              "  <thead>\n",
              "    <tr style=\"text-align: right;\">\n",
              "      <th></th>\n",
              "      <th>ano</th>\n",
              "      <th>area</th>\n",
              "      <th>ies</th>\n",
              "      <th>esfera</th>\n",
              "      <th>ninscritos</th>\n",
              "      <th>nparticipantes</th>\n",
              "      <th>notafg</th>\n",
              "      <th>notace</th>\n",
              "      <th>conceito</th>\n",
              "      <th>nota</th>\n",
              "    </tr>\n",
              "  </thead>\n",
              "  <tbody>\n",
              "    <tr>\n",
              "      <th>0</th>\n",
              "      <td>2017</td>\n",
              "      <td>21</td>\n",
              "      <td>4</td>\n",
              "      <td>Federal</td>\n",
              "      <td>64</td>\n",
              "      <td>50</td>\n",
              "      <td>60.36</td>\n",
              "      <td>54.71</td>\n",
              "      <td>3.35</td>\n",
              "      <td>4.0</td>\n",
              "    </tr>\n",
              "    <tr>\n",
              "      <th>1</th>\n",
              "      <td>2017</td>\n",
              "      <td>21</td>\n",
              "      <td>452</td>\n",
              "      <td>Privada</td>\n",
              "      <td>5</td>\n",
              "      <td>5</td>\n",
              "      <td>46.60</td>\n",
              "      <td>35.38</td>\n",
              "      <td>1.04</td>\n",
              "      <td>2.0</td>\n",
              "    </tr>\n",
              "    <tr>\n",
              "      <th>2</th>\n",
              "      <td>2017</td>\n",
              "      <td>21</td>\n",
              "      <td>669</td>\n",
              "      <td>Privada</td>\n",
              "      <td>70</td>\n",
              "      <td>64</td>\n",
              "      <td>45.57</td>\n",
              "      <td>35.05</td>\n",
              "      <td>0.97</td>\n",
              "      <td>2.0</td>\n",
              "    </tr>\n",
              "    <tr>\n",
              "      <th>3</th>\n",
              "      <td>2017</td>\n",
              "      <td>21</td>\n",
              "      <td>1422</td>\n",
              "      <td>Privada</td>\n",
              "      <td>250</td>\n",
              "      <td>130</td>\n",
              "      <td>47.18</td>\n",
              "      <td>37.23</td>\n",
              "      <td>1.23</td>\n",
              "      <td>2.0</td>\n",
              "    </tr>\n",
              "    <tr>\n",
              "      <th>4</th>\n",
              "      <td>2017</td>\n",
              "      <td>21</td>\n",
              "      <td>2147</td>\n",
              "      <td>Privada</td>\n",
              "      <td>250</td>\n",
              "      <td>190</td>\n",
              "      <td>40.09</td>\n",
              "      <td>33.75</td>\n",
              "      <td>0.64</td>\n",
              "      <td>1.0</td>\n",
              "    </tr>\n",
              "    <tr>\n",
              "      <th>...</th>\n",
              "      <td>...</td>\n",
              "      <td>...</td>\n",
              "      <td>...</td>\n",
              "      <td>...</td>\n",
              "      <td>...</td>\n",
              "      <td>...</td>\n",
              "      <td>...</td>\n",
              "      <td>...</td>\n",
              "      <td>...</td>\n",
              "      <td>...</td>\n",
              "    </tr>\n",
              "    <tr>\n",
              "      <th>610</th>\n",
              "      <td>2018</td>\n",
              "      <td>85</td>\n",
              "      <td>1422</td>\n",
              "      <td>Privada</td>\n",
              "      <td>8</td>\n",
              "      <td>6</td>\n",
              "      <td>45.90</td>\n",
              "      <td>43.95</td>\n",
              "      <td>2.66</td>\n",
              "      <td>3.0</td>\n",
              "    </tr>\n",
              "    <tr>\n",
              "      <th>611</th>\n",
              "      <td>2018</td>\n",
              "      <td>87</td>\n",
              "      <td>1422</td>\n",
              "      <td>Privada</td>\n",
              "      <td>21</td>\n",
              "      <td>21</td>\n",
              "      <td>32.03</td>\n",
              "      <td>46.08</td>\n",
              "      <td>2.73</td>\n",
              "      <td>3.0</td>\n",
              "    </tr>\n",
              "    <tr>\n",
              "      <th>612</th>\n",
              "      <td>2018</td>\n",
              "      <td>86</td>\n",
              "      <td>669</td>\n",
              "      <td>Privada</td>\n",
              "      <td>31</td>\n",
              "      <td>31</td>\n",
              "      <td>36.45</td>\n",
              "      <td>42.13</td>\n",
              "      <td>2.05</td>\n",
              "      <td>3.0</td>\n",
              "    </tr>\n",
              "    <tr>\n",
              "      <th>613</th>\n",
              "      <td>2018</td>\n",
              "      <td>38</td>\n",
              "      <td>322</td>\n",
              "      <td>Privada</td>\n",
              "      <td>16</td>\n",
              "      <td>8</td>\n",
              "      <td>37.98</td>\n",
              "      <td>37.98</td>\n",
              "      <td>1.64</td>\n",
              "      <td>2.0</td>\n",
              "    </tr>\n",
              "    <tr>\n",
              "      <th>614</th>\n",
              "      <td>2018</td>\n",
              "      <td>94</td>\n",
              "      <td>322</td>\n",
              "      <td>Privada</td>\n",
              "      <td>45</td>\n",
              "      <td>37</td>\n",
              "      <td>36.97</td>\n",
              "      <td>42.89</td>\n",
              "      <td>2.43</td>\n",
              "      <td>3.0</td>\n",
              "    </tr>\n",
              "  </tbody>\n",
              "</table>\n",
              "<p>615 rows × 10 columns</p>\n",
              "</div>"
            ],
            "text/plain": [
              "      ano  area   ies   esfera  ...  notafg  notace  conceito  nota\n",
              "0    2017    21     4  Federal  ...   60.36   54.71      3.35   4.0\n",
              "1    2017    21   452  Privada  ...   46.60   35.38      1.04   2.0\n",
              "2    2017    21   669  Privada  ...   45.57   35.05      0.97   2.0\n",
              "3    2017    21  1422  Privada  ...   47.18   37.23      1.23   2.0\n",
              "4    2017    21  2147  Privada  ...   40.09   33.75      0.64   1.0\n",
              "..    ...   ...   ...      ...  ...     ...     ...       ...   ...\n",
              "610  2018    85  1422  Privada  ...   45.90   43.95      2.66   3.0\n",
              "611  2018    87  1422  Privada  ...   32.03   46.08      2.73   3.0\n",
              "612  2018    86   669  Privada  ...   36.45   42.13      2.05   3.0\n",
              "613  2018    38   322  Privada  ...   37.98   37.98      1.64   2.0\n",
              "614  2018    94   322  Privada  ...   36.97   42.89      2.43   3.0\n",
              "\n",
              "[615 rows x 10 columns]"
            ]
          },
          "metadata": {
            "tags": []
          },
          "execution_count": 19
        }
      ]
    },
    {
      "cell_type": "code",
      "metadata": {
        "id": "MfI3QpogqRBK"
      },
      "source": [
        "## Caso tivesse um id, poderíamos indexar\n",
        "# bdenade.set_index('id', inplace=True)\n",
        "# bdenade.head(10)"
      ],
      "execution_count": 20,
      "outputs": []
    },
    {
      "cell_type": "code",
      "metadata": {
        "id": "07iyzx6prNMe",
        "outputId": "aa5c0375-d82c-404e-cb44-393b74a0c5b8",
        "colab": {
          "base_uri": "https://localhost:8080/"
        }
      },
      "source": [
        "# selecionar um registro específico\n",
        "bdenade.loc[0]"
      ],
      "execution_count": 21,
      "outputs": [
        {
          "output_type": "execute_result",
          "data": {
            "text/plain": [
              "ano                  2017\n",
              "area                   21\n",
              "ies                     4\n",
              "esfera            Federal\n",
              "ninscritos             64\n",
              "nparticipantes         50\n",
              "notafg              60.36\n",
              "notace              54.71\n",
              "conceito             3.35\n",
              "nota                    4\n",
              "Name: 0, dtype: object"
            ]
          },
          "metadata": {
            "tags": []
          },
          "execution_count": 21
        }
      ]
    },
    {
      "cell_type": "code",
      "metadata": {
        "id": "2VjO_l2Hd2R2",
        "outputId": "95225393-aef2-48ec-f40f-90b9586b32a0",
        "colab": {
          "base_uri": "https://localhost:8080/"
        }
      },
      "source": [
        "# Tabulação de dados\n",
        "categoriadm = bdenade.groupby(['esfera']).size()\n",
        "categoriadm"
      ],
      "execution_count": 22,
      "outputs": [
        {
          "output_type": "execute_result",
          "data": {
            "text/plain": [
              "esfera\n",
              "Estadual     73\n",
              "Federal     130\n",
              "Privada     412\n",
              "dtype: int64"
            ]
          },
          "metadata": {
            "tags": []
          },
          "execution_count": 22
        }
      ]
    },
    {
      "cell_type": "code",
      "metadata": {
        "id": "XvT9tkx0e3q6",
        "outputId": "58242ce7-7f68-4363-9f1c-c9e5c2e7ad25",
        "colab": {
          "base_uri": "https://localhost:8080/",
          "height": 331
        }
      },
      "source": [
        "# gráfico de colunas\n",
        "categoriadm.plot.bar(color = 'gray')"
      ],
      "execution_count": 23,
      "outputs": [
        {
          "output_type": "execute_result",
          "data": {
            "text/plain": [
              "<matplotlib.axes._subplots.AxesSubplot at 0x7f00a9527710>"
            ]
          },
          "metadata": {
            "tags": []
          },
          "execution_count": 23
        },
        {
          "output_type": "display_data",
          "data": {
            "image/png": "[encoded data removed]",
            "text/plain": [
              "<Figure size 432x288 with 1 Axes>"
            ]
          },
          "metadata": {
            "tags": [],
            "needs_background": "light"
          }
        }
      ]
    },
    {
      "cell_type": "code",
      "metadata": {
        "id": "U2RLPWKoffB_",
        "outputId": "f939c34d-c2a9-4945-f89e-38ae3a099f21",
        "colab": {
          "base_uri": "https://localhost:8080/"
        }
      },
      "source": [
        "# Explorar dados numéricos\n",
        "bdenade['conceito'].describe()"
      ],
      "execution_count": 24,
      "outputs": [
        {
          "output_type": "execute_result",
          "data": {
            "text/plain": [
              "count    615.000000\n",
              "mean       1.893203\n",
              "std        0.924821\n",
              "min        0.000000\n",
              "25%        1.265000\n",
              "50%        1.780000\n",
              "75%        2.460000\n",
              "max        4.630000\n",
              "Name: conceito, dtype: float64"
            ]
          },
          "metadata": {
            "tags": []
          },
          "execution_count": 24
        }
      ]
    },
    {
      "cell_type": "code",
      "metadata": {
        "id": "SSSF2XXpiFGP",
        "outputId": "b26a6d23-e28e-4b8b-bf1a-9bd6c0425026",
        "colab": {
          "base_uri": "https://localhost:8080/",
          "height": 368
        }
      },
      "source": [
        "se.boxplot(bdenade['conceito']).set_title('Box-plot do conceito ENADE contínuo')"
      ],
      "execution_count": 25,
      "outputs": [
        {
          "output_type": "stream",
          "text": [
            "/usr/local/lib/python3.6/dist-packages/seaborn/_decorators.py:43: FutureWarning: Pass the following variable as a keyword arg: x. From version 0.12, the only valid positional argument will be `data`, and passing other arguments without an explicit keyword will result in an error or misinterpretation.\n",
            "  FutureWarning\n"
          ],
          "name": "stderr"
        },
        {
          "output_type": "execute_result",
          "data": {
            "text/plain": [
              "Text(0.5, 1.0, 'Box-plot do conceito ENADE contínuo')"
            ]
          },
          "metadata": {
            "tags": []
          },
          "execution_count": 25
        },
        {
          "output_type": "display_data",
          "data": {
            "image/png": "[encoded data removed]",
            "text/plain": [
              "<Figure size 432x288 with 1 Axes>"
            ]
          },
          "metadata": {
            "tags": [],
            "needs_background": "light"
          }
        }
      ]
    },
    {
      "cell_type": "code",
      "metadata": {
        "id": "oCDNbqnLr3Le",
        "outputId": "5e7fc207-dc9a-4dca-b006-f9ede93710c4",
        "colab": {
          "base_uri": "https://localhost:8080/",
          "height": 399
        }
      },
      "source": [
        "# Verificar os registros acima de 4\n",
        "bdenade4 = bdenade.query('conceito > 4')\n",
        "bdenade4"
      ],
      "execution_count": 26,
      "outputs": [
        {
          "output_type": "execute_result",
          "data": {
            "text/html": [
              "<div>\n",
              "<style scoped>\n",
              "    .dataframe tbody tr th:only-of-type {\n",
              "        vertical-align: middle;\n",
              "    }\n",
              "\n",
              "    .dataframe tbody tr th {\n",
              "        vertical-align: top;\n",
              "    }\n",
              "\n",
              "    .dataframe thead th {\n",
              "        text-align: right;\n",
              "    }\n",
              "</style>\n",
              "<table border=\"1\" class=\"dataframe\">\n",
              "  <thead>\n",
              "    <tr style=\"text-align: right;\">\n",
              "      <th></th>\n",
              "      <th>ano</th>\n",
              "      <th>area</th>\n",
              "      <th>ies</th>\n",
              "      <th>esfera</th>\n",
              "      <th>ninscritos</th>\n",
              "      <th>nparticipantes</th>\n",
              "      <th>notafg</th>\n",
              "      <th>notace</th>\n",
              "      <th>conceito</th>\n",
              "      <th>nota</th>\n",
              "    </tr>\n",
              "  </thead>\n",
              "  <tbody>\n",
              "    <tr>\n",
              "      <th>125</th>\n",
              "      <td>2017</td>\n",
              "      <td>5710</td>\n",
              "      <td>4</td>\n",
              "      <td>Federal</td>\n",
              "      <td>60</td>\n",
              "      <td>53</td>\n",
              "      <td>65.91</td>\n",
              "      <td>57.53</td>\n",
              "      <td>4.08</td>\n",
              "      <td>5.0</td>\n",
              "    </tr>\n",
              "    <tr>\n",
              "      <th>179</th>\n",
              "      <td>2016</td>\n",
              "      <td>6</td>\n",
              "      <td>4</td>\n",
              "      <td>Federal</td>\n",
              "      <td>23</td>\n",
              "      <td>23</td>\n",
              "      <td>55.04</td>\n",
              "      <td>72.01</td>\n",
              "      <td>4.21</td>\n",
              "      <td>5.0</td>\n",
              "    </tr>\n",
              "    <tr>\n",
              "      <th>203</th>\n",
              "      <td>2016</td>\n",
              "      <td>51</td>\n",
              "      <td>4</td>\n",
              "      <td>Federal</td>\n",
              "      <td>8</td>\n",
              "      <td>6</td>\n",
              "      <td>55.43</td>\n",
              "      <td>52.33</td>\n",
              "      <td>4.05</td>\n",
              "      <td>5.0</td>\n",
              "    </tr>\n",
              "    <tr>\n",
              "      <th>225</th>\n",
              "      <td>2016</td>\n",
              "      <td>3501</td>\n",
              "      <td>4</td>\n",
              "      <td>Federal</td>\n",
              "      <td>13</td>\n",
              "      <td>12</td>\n",
              "      <td>58.67</td>\n",
              "      <td>54.23</td>\n",
              "      <td>4.30</td>\n",
              "      <td>5.0</td>\n",
              "    </tr>\n",
              "    <tr>\n",
              "      <th>259</th>\n",
              "      <td>2015</td>\n",
              "      <td>1</td>\n",
              "      <td>3172</td>\n",
              "      <td>Estadual</td>\n",
              "      <td>86</td>\n",
              "      <td>68</td>\n",
              "      <td>66.00</td>\n",
              "      <td>48.92</td>\n",
              "      <td>4.01</td>\n",
              "      <td>5.0</td>\n",
              "    </tr>\n",
              "    <tr>\n",
              "      <th>262</th>\n",
              "      <td>2015</td>\n",
              "      <td>2</td>\n",
              "      <td>4</td>\n",
              "      <td>Federal</td>\n",
              "      <td>149</td>\n",
              "      <td>135</td>\n",
              "      <td>70.82</td>\n",
              "      <td>58.68</td>\n",
              "      <td>4.63</td>\n",
              "      <td>5.0</td>\n",
              "    </tr>\n",
              "    <tr>\n",
              "      <th>304</th>\n",
              "      <td>2015</td>\n",
              "      <td>84</td>\n",
              "      <td>322</td>\n",
              "      <td>Privada</td>\n",
              "      <td>7</td>\n",
              "      <td>4</td>\n",
              "      <td>64.23</td>\n",
              "      <td>59.10</td>\n",
              "      <td>4.13</td>\n",
              "      <td>5.0</td>\n",
              "    </tr>\n",
              "    <tr>\n",
              "      <th>333</th>\n",
              "      <td>2015</td>\n",
              "      <td>102</td>\n",
              "      <td>322</td>\n",
              "      <td>Privada</td>\n",
              "      <td>9</td>\n",
              "      <td>7</td>\n",
              "      <td>66.50</td>\n",
              "      <td>52.80</td>\n",
              "      <td>4.16</td>\n",
              "      <td>5.0</td>\n",
              "    </tr>\n",
              "    <tr>\n",
              "      <th>357</th>\n",
              "      <td>2019</td>\n",
              "      <td>6</td>\n",
              "      <td>4</td>\n",
              "      <td>Federal</td>\n",
              "      <td>20</td>\n",
              "      <td>20</td>\n",
              "      <td>54.67</td>\n",
              "      <td>71.98</td>\n",
              "      <td>4.63</td>\n",
              "      <td>5.0</td>\n",
              "    </tr>\n",
              "    <tr>\n",
              "      <th>446</th>\n",
              "      <td>2019</td>\n",
              "      <td>5806</td>\n",
              "      <td>4</td>\n",
              "      <td>Federal</td>\n",
              "      <td>21</td>\n",
              "      <td>11</td>\n",
              "      <td>59.31</td>\n",
              "      <td>47.15</td>\n",
              "      <td>4.27</td>\n",
              "      <td>5.0</td>\n",
              "    </tr>\n",
              "    <tr>\n",
              "      <th>485</th>\n",
              "      <td>2018</td>\n",
              "      <td>2</td>\n",
              "      <td>4</td>\n",
              "      <td>Federal</td>\n",
              "      <td>126</td>\n",
              "      <td>109</td>\n",
              "      <td>63.85</td>\n",
              "      <td>52.88</td>\n",
              "      <td>4.33</td>\n",
              "      <td>5.0</td>\n",
              "    </tr>\n",
              "    <tr>\n",
              "      <th>527</th>\n",
              "      <td>2018</td>\n",
              "      <td>2</td>\n",
              "      <td>3172</td>\n",
              "      <td>Estadual</td>\n",
              "      <td>98</td>\n",
              "      <td>75</td>\n",
              "      <td>65.50</td>\n",
              "      <td>53.53</td>\n",
              "      <td>4.45</td>\n",
              "      <td>5.0</td>\n",
              "    </tr>\n",
              "  </tbody>\n",
              "</table>\n",
              "</div>"
            ],
            "text/plain": [
              "      ano  area   ies    esfera  ...  notafg  notace  conceito  nota\n",
              "125  2017  5710     4   Federal  ...   65.91   57.53      4.08   5.0\n",
              "179  2016     6     4   Federal  ...   55.04   72.01      4.21   5.0\n",
              "203  2016    51     4   Federal  ...   55.43   52.33      4.05   5.0\n",
              "225  2016  3501     4   Federal  ...   58.67   54.23      4.30   5.0\n",
              "259  2015     1  3172  Estadual  ...   66.00   48.92      4.01   5.0\n",
              "262  2015     2     4   Federal  ...   70.82   58.68      4.63   5.0\n",
              "304  2015    84   322   Privada  ...   64.23   59.10      4.13   5.0\n",
              "333  2015   102   322   Privada  ...   66.50   52.80      4.16   5.0\n",
              "357  2019     6     4   Federal  ...   54.67   71.98      4.63   5.0\n",
              "446  2019  5806     4   Federal  ...   59.31   47.15      4.27   5.0\n",
              "485  2018     2     4   Federal  ...   63.85   52.88      4.33   5.0\n",
              "527  2018     2  3172  Estadual  ...   65.50   53.53      4.45   5.0\n",
              "\n",
              "[12 rows x 10 columns]"
            ]
          },
          "metadata": {
            "tags": []
          },
          "execution_count": 26
        }
      ]
    },
    {
      "cell_type": "code",
      "metadata": {
        "id": "VffxXkGxihRj",
        "outputId": "e56fdcd7-bd5e-473d-a174-fc86d5bfe0a2",
        "colab": {
          "base_uri": "https://localhost:8080/",
          "height": 368
        }
      },
      "source": [
        "se.distplot(bdenade['conceito']).set_title('Histograma do conceito ENADE contínuo')"
      ],
      "execution_count": 27,
      "outputs": [
        {
          "output_type": "stream",
          "text": [
            "/usr/local/lib/python3.6/dist-packages/seaborn/distributions.py:2551: FutureWarning: `distplot` is a deprecated function and will be removed in a future version. Please adapt your code to use either `displot` (a figure-level function with similar flexibility) or `histplot` (an axes-level function for histograms).\n",
            "  warnings.warn(msg, FutureWarning)\n"
          ],
          "name": "stderr"
        },
        {
          "output_type": "execute_result",
          "data": {
            "text/plain": [
              "Text(0.5, 1.0, 'Histograma do conceito ENADE contínuo')"
            ]
          },
          "metadata": {
            "tags": []
          },
          "execution_count": 27
        },
        {
          "output_type": "display_data",
          "data": {
            "image/png": "[encoded data removed]",
            "text/plain": [
              "<Figure size 432x288 with 1 Axes>"
            ]
          },
          "metadata": {
            "tags": [],
            "needs_background": "light"
          }
        }
      ]
    },
    {
      "cell_type": "code",
      "metadata": {
        "id": "5EevJ7CPXVcu",
        "outputId": "75b0cc2f-eeec-4650-a810-5aa0ee249362",
        "colab": {
          "base_uri": "https://localhost:8080/"
        }
      },
      "source": [
        "n=len(bdenade)\n",
        "media=st.mean(bdenade['conceito'])\n",
        "dp=st.stdev(bdenade['conceito'])\n",
        "inf,sup = t.interval(0.95, len(bdenade)-1, loc=media, scale=dp/np.sqrt(n))\n",
        "print ('Limite inferior:', round(inf,2))\n",
        "print ('Limite superior:', round(sup,2))"
      ],
      "execution_count": 28,
      "outputs": [
        {
          "output_type": "stream",
          "text": [
            "Limite inferior: 1.82\n",
            "Limite superior: 1.97\n"
          ],
          "name": "stdout"
        }
      ]
    },
    {
      "cell_type": "code",
      "metadata": {
        "id": "iqyR6hr_sRpV",
        "outputId": "a67835fb-abcf-434c-b154-336fe52e4d1e",
        "colab": {
          "base_uri": "https://localhost:8080/"
        }
      },
      "source": [
        "stats.shapiro(bdenade['conceito'])"
      ],
      "execution_count": 29,
      "outputs": [
        {
          "output_type": "execute_result",
          "data": {
            "text/plain": [
              "(0.9768791794776917, 2.8186013523168185e-08)"
            ]
          },
          "metadata": {
            "tags": []
          },
          "execution_count": 29
        }
      ]
    },
    {
      "cell_type": "code",
      "metadata": {
        "id": "c0s1qkfcXg9s",
        "outputId": "97d30513-f49f-4de8-d02c-22f9d373c376",
        "colab": {
          "base_uri": "https://localhost:8080/"
        }
      },
      "source": [
        "# Tratamento de outliers por meio do desvio-padrão\n",
        "dp = st.stdev(bdenade['conceito'])\n",
        "dp"
      ],
      "execution_count": 30,
      "outputs": [
        {
          "output_type": "execute_result",
          "data": {
            "text/plain": [
              "0.9248209524692955"
            ]
          },
          "metadata": {
            "tags": []
          },
          "execution_count": 30
        }
      ]
    },
    {
      "cell_type": "code",
      "metadata": {
        "id": "Z4QyG6f_Zcpr",
        "outputId": "94a342b5-b3c2-4de6-a23a-923c1c4e376d",
        "colab": {
          "base_uri": "https://localhost:8080/",
          "height": 399
        }
      },
      "source": [
        "# Definir como padrão 2 ou mais desvio-padrão\n",
        "bdenade.loc[bdenade['conceito'] >=  2 * dp] "
      ],
      "execution_count": 31,
      "outputs": [
        {
          "output_type": "execute_result",
          "data": {
            "text/html": [
              "<div>\n",
              "<style scoped>\n",
              "    .dataframe tbody tr th:only-of-type {\n",
              "        vertical-align: middle;\n",
              "    }\n",
              "\n",
              "    .dataframe tbody tr th {\n",
              "        vertical-align: top;\n",
              "    }\n",
              "\n",
              "    .dataframe thead th {\n",
              "        text-align: right;\n",
              "    }\n",
              "</style>\n",
              "<table border=\"1\" class=\"dataframe\">\n",
              "  <thead>\n",
              "    <tr style=\"text-align: right;\">\n",
              "      <th></th>\n",
              "      <th>ano</th>\n",
              "      <th>area</th>\n",
              "      <th>ies</th>\n",
              "      <th>esfera</th>\n",
              "      <th>ninscritos</th>\n",
              "      <th>nparticipantes</th>\n",
              "      <th>notafg</th>\n",
              "      <th>notace</th>\n",
              "      <th>conceito</th>\n",
              "      <th>nota</th>\n",
              "    </tr>\n",
              "  </thead>\n",
              "  <tbody>\n",
              "    <tr>\n",
              "      <th>0</th>\n",
              "      <td>2017</td>\n",
              "      <td>21</td>\n",
              "      <td>4</td>\n",
              "      <td>Federal</td>\n",
              "      <td>64</td>\n",
              "      <td>50</td>\n",
              "      <td>60.36</td>\n",
              "      <td>54.71</td>\n",
              "      <td>3.35</td>\n",
              "      <td>4.0</td>\n",
              "    </tr>\n",
              "    <tr>\n",
              "      <th>6</th>\n",
              "      <td>2017</td>\n",
              "      <td>72</td>\n",
              "      <td>1422</td>\n",
              "      <td>Privada</td>\n",
              "      <td>69</td>\n",
              "      <td>7</td>\n",
              "      <td>50.10</td>\n",
              "      <td>49.34</td>\n",
              "      <td>3.57</td>\n",
              "      <td>4.0</td>\n",
              "    </tr>\n",
              "    <tr>\n",
              "      <th>7</th>\n",
              "      <td>2017</td>\n",
              "      <td>72</td>\n",
              "      <td>1436</td>\n",
              "      <td>Privada</td>\n",
              "      <td>12</td>\n",
              "      <td>6</td>\n",
              "      <td>39.82</td>\n",
              "      <td>34.00</td>\n",
              "      <td>1.85</td>\n",
              "      <td>2.0</td>\n",
              "    </tr>\n",
              "    <tr>\n",
              "      <th>8</th>\n",
              "      <td>2017</td>\n",
              "      <td>72</td>\n",
              "      <td>1812</td>\n",
              "      <td>Federal</td>\n",
              "      <td>45</td>\n",
              "      <td>40</td>\n",
              "      <td>50.05</td>\n",
              "      <td>46.28</td>\n",
              "      <td>3.29</td>\n",
              "      <td>4.0</td>\n",
              "    </tr>\n",
              "    <tr>\n",
              "      <th>9</th>\n",
              "      <td>2017</td>\n",
              "      <td>72</td>\n",
              "      <td>3172</td>\n",
              "      <td>Estadual</td>\n",
              "      <td>23</td>\n",
              "      <td>17</td>\n",
              "      <td>55.58</td>\n",
              "      <td>43.24</td>\n",
              "      <td>3.19</td>\n",
              "      <td>4.0</td>\n",
              "    </tr>\n",
              "    <tr>\n",
              "      <th>...</th>\n",
              "      <td>...</td>\n",
              "      <td>...</td>\n",
              "      <td>...</td>\n",
              "      <td>...</td>\n",
              "      <td>...</td>\n",
              "      <td>...</td>\n",
              "      <td>...</td>\n",
              "      <td>...</td>\n",
              "      <td>...</td>\n",
              "      <td>...</td>\n",
              "    </tr>\n",
              "    <tr>\n",
              "      <th>609</th>\n",
              "      <td>2018</td>\n",
              "      <td>87</td>\n",
              "      <td>1381</td>\n",
              "      <td>Privada</td>\n",
              "      <td>5</td>\n",
              "      <td>3</td>\n",
              "      <td>49.03</td>\n",
              "      <td>48.37</td>\n",
              "      <td>3.57</td>\n",
              "      <td>4.0</td>\n",
              "    </tr>\n",
              "    <tr>\n",
              "      <th>610</th>\n",
              "      <td>2018</td>\n",
              "      <td>85</td>\n",
              "      <td>1422</td>\n",
              "      <td>Privada</td>\n",
              "      <td>8</td>\n",
              "      <td>6</td>\n",
              "      <td>45.90</td>\n",
              "      <td>43.95</td>\n",
              "      <td>2.66</td>\n",
              "      <td>3.0</td>\n",
              "    </tr>\n",
              "    <tr>\n",
              "      <th>611</th>\n",
              "      <td>2018</td>\n",
              "      <td>87</td>\n",
              "      <td>1422</td>\n",
              "      <td>Privada</td>\n",
              "      <td>21</td>\n",
              "      <td>21</td>\n",
              "      <td>32.03</td>\n",
              "      <td>46.08</td>\n",
              "      <td>2.73</td>\n",
              "      <td>3.0</td>\n",
              "    </tr>\n",
              "    <tr>\n",
              "      <th>612</th>\n",
              "      <td>2018</td>\n",
              "      <td>86</td>\n",
              "      <td>669</td>\n",
              "      <td>Privada</td>\n",
              "      <td>31</td>\n",
              "      <td>31</td>\n",
              "      <td>36.45</td>\n",
              "      <td>42.13</td>\n",
              "      <td>2.05</td>\n",
              "      <td>3.0</td>\n",
              "    </tr>\n",
              "    <tr>\n",
              "      <th>614</th>\n",
              "      <td>2018</td>\n",
              "      <td>94</td>\n",
              "      <td>322</td>\n",
              "      <td>Privada</td>\n",
              "      <td>45</td>\n",
              "      <td>37</td>\n",
              "      <td>36.97</td>\n",
              "      <td>42.89</td>\n",
              "      <td>2.43</td>\n",
              "      <td>3.0</td>\n",
              "    </tr>\n",
              "  </tbody>\n",
              "</table>\n",
              "<p>283 rows × 10 columns</p>\n",
              "</div>"
            ],
            "text/plain": [
              "      ano  area   ies    esfera  ...  notafg  notace  conceito  nota\n",
              "0    2017    21     4   Federal  ...   60.36   54.71      3.35   4.0\n",
              "6    2017    72  1422   Privada  ...   50.10   49.34      3.57   4.0\n",
              "7    2017    72  1436   Privada  ...   39.82   34.00      1.85   2.0\n",
              "8    2017    72  1812   Federal  ...   50.05   46.28      3.29   4.0\n",
              "9    2017    72  3172  Estadual  ...   55.58   43.24      3.19   4.0\n",
              "..    ...   ...   ...       ...  ...     ...     ...       ...   ...\n",
              "609  2018    87  1381   Privada  ...   49.03   48.37      3.57   4.0\n",
              "610  2018    85  1422   Privada  ...   45.90   43.95      2.66   3.0\n",
              "611  2018    87  1422   Privada  ...   32.03   46.08      2.73   3.0\n",
              "612  2018    86   669   Privada  ...   36.45   42.13      2.05   3.0\n",
              "614  2018    94   322   Privada  ...   36.97   42.89      2.43   3.0\n",
              "\n",
              "[283 rows x 10 columns]"
            ]
          },
          "metadata": {
            "tags": []
          },
          "execution_count": 31
        }
      ]
    },
    {
      "cell_type": "code",
      "metadata": {
        "id": "zkb8HNyks70f",
        "outputId": "d7cc0464-2c8c-48af-b262-b0afa414b5ed",
        "colab": {
          "base_uri": "https://localhost:8080/",
          "height": 368
        }
      },
      "source": [
        "se.boxplot(bdenade['conceito'],bdenade['esfera']).set_title('Box-plot do conceito ENADE contínuo por Esfera Administrativa')\n",
        "#bdenade.boxplot(\"conceito\",by=\"esfera\",grid=False).set_title('Box-plot do conceito ENADE contínuo por Esfera Administrativa')"
      ],
      "execution_count": 32,
      "outputs": [
        {
          "output_type": "stream",
          "text": [
            "/usr/local/lib/python3.6/dist-packages/seaborn/_decorators.py:43: FutureWarning: Pass the following variables as keyword args: x, y. From version 0.12, the only valid positional argument will be `data`, and passing other arguments without an explicit keyword will result in an error or misinterpretation.\n",
            "  FutureWarning\n"
          ],
          "name": "stderr"
        },
        {
          "output_type": "execute_result",
          "data": {
            "text/plain": [
              "Text(0.5, 1.0, 'Box-plot do conceito ENADE contínuo por Esfera Administrativa')"
            ]
          },
          "metadata": {
            "tags": []
          },
          "execution_count": 32
        },
        {
          "output_type": "display_data",
          "data": {
            "image/png": "[encoded data removed]",
            "text/plain": [
              "<Figure size 432x288 with 1 Axes>"
            ]
          },
          "metadata": {
            "tags": [],
            "needs_background": "light"
          }
        }
      ]
    },
    {
      "cell_type": "code",
      "metadata": {
        "id": "n1LiMWFxukaP",
        "outputId": "405c9c24-a7e1-4f6b-ab20-5f2028d4c1b1",
        "colab": {
          "base_uri": "https://localhost:8080/",
          "height": 223
        }
      },
      "source": [
        "# Análise descritiva em relação a esfera\n",
        "resumo = bdenade.groupby('esfera').agg({'conceito':['describe']})\n",
        "resumo"
      ],
      "execution_count": 33,
      "outputs": [
        {
          "output_type": "execute_result",
          "data": {
            "text/html": [
              "<div>\n",
              "<style scoped>\n",
              "    .dataframe tbody tr th:only-of-type {\n",
              "        vertical-align: middle;\n",
              "    }\n",
              "\n",
              "    .dataframe tbody tr th {\n",
              "        vertical-align: top;\n",
              "    }\n",
              "\n",
              "    .dataframe thead tr th {\n",
              "        text-align: left;\n",
              "    }\n",
              "\n",
              "    .dataframe thead tr:last-of-type th {\n",
              "        text-align: right;\n",
              "    }\n",
              "</style>\n",
              "<table border=\"1\" class=\"dataframe\">\n",
              "  <thead>\n",
              "    <tr>\n",
              "      <th></th>\n",
              "      <th colspan=\"8\" halign=\"left\">conceito</th>\n",
              "    </tr>\n",
              "    <tr>\n",
              "      <th></th>\n",
              "      <th colspan=\"8\" halign=\"left\">describe</th>\n",
              "    </tr>\n",
              "    <tr>\n",
              "      <th></th>\n",
              "      <th>count</th>\n",
              "      <th>mean</th>\n",
              "      <th>std</th>\n",
              "      <th>min</th>\n",
              "      <th>25%</th>\n",
              "      <th>50%</th>\n",
              "      <th>75%</th>\n",
              "      <th>max</th>\n",
              "    </tr>\n",
              "    <tr>\n",
              "      <th>esfera</th>\n",
              "      <th></th>\n",
              "      <th></th>\n",
              "      <th></th>\n",
              "      <th></th>\n",
              "      <th></th>\n",
              "      <th></th>\n",
              "      <th></th>\n",
              "      <th></th>\n",
              "    </tr>\n",
              "  </thead>\n",
              "  <tbody>\n",
              "    <tr>\n",
              "      <th>Estadual</th>\n",
              "      <td>73.0</td>\n",
              "      <td>2.161644</td>\n",
              "      <td>1.177799</td>\n",
              "      <td>0.01</td>\n",
              "      <td>1.170</td>\n",
              "      <td>2.41</td>\n",
              "      <td>3.0100</td>\n",
              "      <td>4.45</td>\n",
              "    </tr>\n",
              "    <tr>\n",
              "      <th>Federal</th>\n",
              "      <td>130.0</td>\n",
              "      <td>2.537769</td>\n",
              "      <td>0.983383</td>\n",
              "      <td>0.19</td>\n",
              "      <td>1.895</td>\n",
              "      <td>2.48</td>\n",
              "      <td>3.2875</td>\n",
              "      <td>4.63</td>\n",
              "    </tr>\n",
              "    <tr>\n",
              "      <th>Privada</th>\n",
              "      <td>412.0</td>\n",
              "      <td>1.642257</td>\n",
              "      <td>0.723782</td>\n",
              "      <td>0.00</td>\n",
              "      <td>1.180</td>\n",
              "      <td>1.60</td>\n",
              "      <td>2.0425</td>\n",
              "      <td>4.16</td>\n",
              "    </tr>\n",
              "  </tbody>\n",
              "</table>\n",
              "</div>"
            ],
            "text/plain": [
              "         conceito                                                     \n",
              "         describe                                                     \n",
              "            count      mean       std   min    25%   50%     75%   max\n",
              "esfera                                                                \n",
              "Estadual     73.0  2.161644  1.177799  0.01  1.170  2.41  3.0100  4.45\n",
              "Federal     130.0  2.537769  0.983383  0.19  1.895  2.48  3.2875  4.63\n",
              "Privada     412.0  1.642257  0.723782  0.00  1.180  1.60  2.0425  4.16"
            ]
          },
          "metadata": {
            "tags": []
          },
          "execution_count": 33
        }
      ]
    },
    {
      "cell_type": "code",
      "metadata": {
        "id": "-YDM2Sx-Pb2l",
        "outputId": "4c543b65-9fd0-48d2-881a-601658ee24c3",
        "colab": {
          "base_uri": "https://localhost:8080/"
        }
      },
      "source": [
        "# Intervalo de Confiança para a variável conceito\n",
        "n=len(bdenade)\n",
        "media=st.mean(bdenade['conceito'])\n",
        "dp=st.stdev(bdenade['conceito'])\n",
        "inf,sup = t.interval(0.95, len(bdenade)-1, loc=media, scale=dp/np.sqrt(n))\n",
        "print ('Limite inferior:', round(inf,2))\n",
        "print ('Limite superior:', round(sup,2))"
      ],
      "execution_count": 34,
      "outputs": [
        {
          "output_type": "stream",
          "text": [
            "Limite inferior: 1.82\n",
            "Limite superior: 1.97\n"
          ],
          "name": "stdout"
        }
      ]
    },
    {
      "cell_type": "code",
      "metadata": {
        "id": "VbXWlQV5l0CQ"
      },
      "source": [
        "# Seleção dos dados da esfera Estadual\n",
        "bdprivada=bdenade.query('esfera==\"Privada\"')"
      ],
      "execution_count": 35,
      "outputs": []
    },
    {
      "cell_type": "code",
      "metadata": {
        "id": "T_b49H0ytNaU",
        "outputId": "ee70e8cd-b1f9-44d5-94e3-add2956b60da",
        "colab": {
          "base_uri": "https://localhost:8080/"
        }
      },
      "source": [
        "bdprivada.head"
      ],
      "execution_count": 36,
      "outputs": [
        {
          "output_type": "execute_result",
          "data": {
            "text/plain": [
              "<bound method NDFrame.head of       ano  area   ies   esfera  ...  notafg  notace  conceito  nota\n",
              "1    2017    21   452  Privada  ...   46.60   35.38      1.04   2.0\n",
              "2    2017    21   669  Privada  ...   45.57   35.05      0.97   2.0\n",
              "3    2017    21  1422  Privada  ...   47.18   37.23      1.23   2.0\n",
              "4    2017    21  2147  Privada  ...   40.09   33.75      0.64   1.0\n",
              "5    2017    72  1381  Privada  ...   42.53   30.17      1.58   2.0\n",
              "..    ...   ...   ...      ...  ...     ...     ...       ...   ...\n",
              "610  2018    85  1422  Privada  ...   45.90   43.95      2.66   3.0\n",
              "611  2018    87  1422  Privada  ...   32.03   46.08      2.73   3.0\n",
              "612  2018    86   669  Privada  ...   36.45   42.13      2.05   3.0\n",
              "613  2018    38   322  Privada  ...   37.98   37.98      1.64   2.0\n",
              "614  2018    94   322  Privada  ...   36.97   42.89      2.43   3.0\n",
              "\n",
              "[412 rows x 10 columns]>"
            ]
          },
          "metadata": {
            "tags": []
          },
          "execution_count": 36
        }
      ]
    },
    {
      "cell_type": "code",
      "metadata": {
        "id": "UoPDqseytPCb",
        "outputId": "716621c1-6358-456f-b6f6-e6f02da13155",
        "colab": {
          "base_uri": "https://localhost:8080/"
        }
      },
      "source": [
        "bdprivada['conceito'].describe()"
      ],
      "execution_count": 37,
      "outputs": [
        {
          "output_type": "execute_result",
          "data": {
            "text/plain": [
              "count    412.000000\n",
              "mean       1.642257\n",
              "std        0.723782\n",
              "min        0.000000\n",
              "25%        1.180000\n",
              "50%        1.600000\n",
              "75%        2.042500\n",
              "max        4.160000\n",
              "Name: conceito, dtype: float64"
            ]
          },
          "metadata": {
            "tags": []
          },
          "execution_count": 37
        }
      ]
    },
    {
      "cell_type": "code",
      "metadata": {
        "id": "K6yNZ9zWul_Q",
        "outputId": "103e5507-ee86-4e17-8f7b-9ade6cfc6cb9",
        "colab": {
          "base_uri": "https://localhost:8080/",
          "height": 352
        }
      },
      "source": [
        "se.distplot(bdprivada['conceito'])"
      ],
      "execution_count": 38,
      "outputs": [
        {
          "output_type": "stream",
          "text": [
            "/usr/local/lib/python3.6/dist-packages/seaborn/distributions.py:2551: FutureWarning: `distplot` is a deprecated function and will be removed in a future version. Please adapt your code to use either `displot` (a figure-level function with similar flexibility) or `histplot` (an axes-level function for histograms).\n",
            "  warnings.warn(msg, FutureWarning)\n"
          ],
          "name": "stderr"
        },
        {
          "output_type": "execute_result",
          "data": {
            "text/plain": [
              "<matplotlib.axes._subplots.AxesSubplot at 0x7f00a7b992b0>"
            ]
          },
          "metadata": {
            "tags": []
          },
          "execution_count": 38
        },
        {
          "output_type": "display_data",
          "data": {
            "image/png": "[encoded data removed]",
            "text/plain": [
              "<Figure size 432x288 with 1 Axes>"
            ]
          },
          "metadata": {
            "tags": [],
            "needs_background": "light"
          }
        }
      ]
    },
    {
      "cell_type": "markdown",
      "metadata": {
        "id": "y_aB-PxLvv2P"
      },
      "source": [
        "# Atividade Avaliativa III - Distribuições Contínuas e Inferência"
      ]
    },
    {
      "cell_type": "code",
      "metadata": {
        "id": "pJPJJMi8x_HU"
      },
      "source": [
        "from scipy.stats import binom, nbinom, poisson, uniform, expon, norm \n",
        "import numpy as np\n",
        "import matplotlib.pyplot as plt\n",
        "import seaborn as sea\n",
        "import statistics as st\n",
        "import statsmodels.stats.proportion as prop\n",
        "from scipy import stats\n",
        "import math"
      ],
      "execution_count": 39,
      "outputs": []
    },
    {
      "cell_type": "markdown",
      "metadata": {
        "id": "O2erU-jdkmfD"
      },
      "source": [
        "Q1. Um ponto é escolhido ao acaso no segmento de reta [1,4]. Qual a probabilidade de que o ponto escolhido esteja entre 0,5 e 2,5?"
      ]
    },
    {
      "cell_type": "code",
      "metadata": {
        "id": "mGy1l_5Pv2xt",
        "outputId": "44709e28-c8cf-4a67-eb00-3b3fb3dee9a1",
        "colab": {
          "base_uri": "https://localhost:8080/"
        }
      },
      "source": [
        "# distribuição uniforme com probabilidade acumulada\n",
        "# Considerando que para valores menores do que 1 a probabilidade é sempre zero,\n",
        "# basta calcularmos a probabilidade acumulada até \n",
        "a = 1\n",
        "b = 4\n",
        "uniform.cdf(2.5, a, b-a)"
      ],
      "execution_count": 40,
      "outputs": [
        {
          "output_type": "execute_result",
          "data": {
            "text/plain": [
              "0.5"
            ]
          },
          "metadata": {
            "tags": []
          },
          "execution_count": 40
        }
      ]
    },
    {
      "cell_type": "markdown",
      "metadata": {
        "id": "u2NffQGCv4Gg"
      },
      "source": [
        "Q2. O tempo de vida (em horas) de um transístor é uma variável aleatória T com distribuição exponencial. O tempo médio de vida do transístor é de 500 horas. Qual a probabilidade de o transístor durar entre 300 e 1000 horas?\n"
      ]
    },
    {
      "cell_type": "code",
      "metadata": {
        "id": "0SB9b9eJv5Wn",
        "outputId": "e220be0a-efce-4a3b-9eb2-df82ab03e2e6",
        "colab": {
          "base_uri": "https://localhost:8080/"
        }
      },
      "source": [
        "# distribuição exponencial com probabilidade acumulada\n",
        "# a escala é E[t] = 1/lambda\n",
        "# P(300<T<1000) = P(T>300) - P(T>1000)\n",
        "expon.cdf(1000,scale=500)-expon.cdf(300,scale=500)"
      ],
      "execution_count": 41,
      "outputs": [
        {
          "output_type": "execute_result",
          "data": {
            "text/plain": [
              "0.4134763528574137"
            ]
          },
          "metadata": {
            "tags": []
          },
          "execution_count": 41
        }
      ]
    },
    {
      "cell_type": "markdown",
      "metadata": {
        "id": "FHIp2xQZv5yE"
      },
      "source": [
        "Q3. Se as interrupções no suprimento de energia elétrica ocorrem segundo uma distribuição de Poisson com a média de uma interrupção por mês (quatro semanas). Qual a probabilidade de que entre duas interrupções consecutivas ocorram em um intervalo de menos de uma semana?"
      ]
    },
    {
      "cell_type": "code",
      "metadata": {
        "id": "KfncR9BSv7Sr",
        "outputId": "95ad13e4-b3cc-418f-887f-04f24c0dfa0f",
        "colab": {
          "base_uri": "https://localhost:8080/"
        }
      },
      "source": [
        "# distribuição de poisson com 1/4 da frequência fornecida, pois é semana ao invés de mês\n",
        "print(\"P(x=2):\",1-poisson.cdf(0,1/4))"
      ],
      "execution_count": 42,
      "outputs": [
        {
          "output_type": "stream",
          "text": [
            "P(x=2): 0.22119921692859512\n"
          ],
          "name": "stdout"
        }
      ]
    },
    {
      "cell_type": "markdown",
      "metadata": {
        "id": "4stC6cSDv690"
      },
      "source": [
        "Q4. As notas de uma prova de estatística em uma turma do ensino superior são normalmente distribuídas com média 6,0 e variância 16,0. Qual a probabilidade de um aluno tirar uma nota entre 7,0 e 8,0?"
      ]
    },
    {
      "cell_type": "code",
      "metadata": {
        "id": "pn6bOmqDv9gX",
        "outputId": "f5614872-a631-4ff6-8f47-cac80f02d3d3",
        "colab": {
          "base_uri": "https://localhost:8080/"
        }
      },
      "source": [
        "# distribuição normal\n",
        "u = 6.0\n",
        "v = 16.0\n",
        "d = math.sqrt(v) #4.0\n",
        "p = norm.cdf(8,u,d)-norm.cdf(7,u,d)\n",
        "print('P(7<x<8) = ' + str(p))"
      ],
      "execution_count": 45,
      "outputs": [
        {
          "output_type": "stream",
          "text": [
            "P(7<x<8) = 0.09275613559108942\n"
          ],
          "name": "stdout"
        }
      ]
    },
    {
      "cell_type": "markdown",
      "metadata": {
        "id": "RzCb1qpjv9tX"
      },
      "source": [
        "Q5. Uma enchedora automática de garrafas de refrigerante esta regulada para que o volume médio de líquido em cada garrafa seja de 1000 cm3 e o desvio-padrão de 10 cm3. Qual deve ser a medida mínima para um técnico escolher 5% das garrafas que não completaram 1000 cm3?"
      ]
    },
    {
      "cell_type": "code",
      "metadata": {
        "id": "fORWBlJJv_Nc",
        "outputId": "a48d103f-aaa7-4aa5-fa0d-8290e0922d22",
        "colab": {
          "base_uri": "https://localhost:8080/"
        }
      },
      "source": [
        "# distribuição normal\n",
        "norm.ppf(0.05,1000,10)"
      ],
      "execution_count": 46,
      "outputs": [
        {
          "output_type": "execute_result",
          "data": {
            "text/plain": [
              "983.5514637304852"
            ]
          },
          "metadata": {
            "tags": []
          },
          "execution_count": 46
        }
      ]
    },
    {
      "cell_type": "markdown",
      "metadata": {
        "id": "on0jlzNpv_XE"
      },
      "source": [
        "Q6. Existe vários algoritmos computacionais que permitem gerar números aleatórios (ou, mais apropriadamente, pseudo-aleatórios) no intervalo [0,1], com distribuição uniforme. Considere a geração de 100 números (X1, X2, ...,X100) desta forma. Qual é o valor da média e da variância de Xi?"
      ]
    },
    {
      "cell_type": "code",
      "metadata": {
        "id": "vS4_-71YwA_3",
        "outputId": "b3da0c0f-1445-430b-d46b-27e5c07bff9f",
        "colab": {
          "base_uri": "https://localhost:8080/"
        }
      },
      "source": [
        "# distribuição uniforme\n",
        "media = (1-0)/2\n",
        "print('media', media)\n",
        "variancia = math.pow(1-0, 2)/12\n",
        "print('variancia', variancia)"
      ],
      "execution_count": 47,
      "outputs": [
        {
          "output_type": "stream",
          "text": [
            "media 0.5\n",
            "variancia 0.08333333333333333\n"
          ],
          "name": "stdout"
        }
      ]
    },
    {
      "cell_type": "code",
      "metadata": {
        "id": "xqFWYZhnYJjo",
        "outputId": "d3c99dd2-c559-4f04-bef4-7b19416a8696",
        "colab": {
          "base_uri": "https://localhost:8080/",
          "height": 420
        }
      },
      "source": [
        "# prova dos 9\n",
        "\n",
        "import statistics as st\n",
        "from numpy import random\n",
        "import matplotlib.pyplot as plt\n",
        "import seaborn as sns\n",
        "\n",
        "duniform = random.uniform(0,1, size=100000)\n",
        "sns.displot(duniform, kde=True)\n",
        "plt.title('Distribuição Unifome')\n",
        "plt.show()\n",
        "\n",
        "print(\"\\tMediana:\", st.median(duniform))\n",
        "print(\"\\tVariância amostral:\", st.variance(duniform))"
      ],
      "execution_count": 48,
      "outputs": [
        {
          "output_type": "display_data",
          "data": {
            "image/png": "[encoded data removed]",
            "text/plain": [
              "<Figure size 360x360 with 1 Axes>"
            ]
          },
          "metadata": {
            "tags": [],
            "needs_background": "light"
          }
        },
        {
          "output_type": "stream",
          "text": [
            "\tMediana: 0.5010921060309035\n",
            "\tVariância amostral: 0.08369504482795316\n"
          ],
          "name": "stdout"
        }
      ]
    },
    {
      "cell_type": "markdown",
      "metadata": {
        "id": "yBjI2IOpwArG"
      },
      "source": [
        "Q7. Com o objetivo de avaliar a confiabilidade de um novo sistema de transmissão de dados, torna-se necessário verificar a proporção de bits transmitidos com erro em cada lote de 100 Mb. Considere que seja tolerável um erro amostral de máximo de 2% e que em sistemas similares a taxa de erro na transmissão é de 10%. Qual deve ser o tamanho da amostra ao nível de 95%?"
      ]
    },
    {
      "cell_type": "code",
      "metadata": {
        "id": "LsFnDiZRwC3N",
        "outputId": "81faa5b0-1125-489c-fca3-2822db880d4a",
        "colab": {
          "base_uri": "https://localhost:8080/"
        }
      },
      "source": [
        "# proporção\n",
        "a = 0.05\n",
        "z = norm.ppf(1-a/2)\n",
        "e = 0.02\n",
        "p = 0.1\n",
        "n = z**2*p*(1-p)/e**2\n",
        "math.ceil(n)"
      ],
      "execution_count": 49,
      "outputs": [
        {
          "output_type": "execute_result",
          "data": {
            "text/plain": [
              "865"
            ]
          },
          "metadata": {
            "tags": []
          },
          "execution_count": 49
        }
      ]
    },
    {
      "cell_type": "markdown",
      "metadata": {
        "id": "E2aqOWXowDAZ"
      },
      "source": [
        "Q8. Em 400 simulações de determinado equipamento, foram obtidos 80 sucessos. Qual o intervalo de confiança ao nível de 95% para a proporção de sucessos."
      ]
    },
    {
      "cell_type": "code",
      "metadata": {
        "id": "qHo_39E0wGwA",
        "outputId": "7e5eea62-42e6-4c07-a889-6bb37f30e3fa",
        "colab": {
          "base_uri": "https://localhost:8080/"
        }
      },
      "source": [
        "# proporção\n",
        "a = 1-0.95\n",
        "n = 400\n",
        "e = 80\n",
        "\n",
        "inf, sup = prop.proportion_confint (e, n, alpha=a, method='normal')\n",
        "print ('IC95%(', round(inf*100,2), ';', round(sup*100, 2), ')')\n",
        "print ('Margem de erro:',round((sup-inf)*100/2,2))"
      ],
      "execution_count": 50,
      "outputs": [
        {
          "output_type": "stream",
          "text": [
            "IC95%( 16.08 ; 23.92 )\n",
            "Margem de erro: 3.92\n"
          ],
          "name": "stdout"
        }
      ]
    },
    {
      "cell_type": "markdown",
      "metadata": {
        "id": "FBMVNIipwG-T"
      },
      "source": [
        "Q9. Do total de válvulas fabricadas por uma companhia retira-se uma amostra de 30 válvulas, e obtém-se a vida média de 800h com desvio-padrão de 100h. Qual o intervalo de confiança de 99% para a vida média da população?"
      ]
    },
    {
      "cell_type": "code",
      "metadata": {
        "id": "PyluIS4JwILB",
        "outputId": "001c8e8c-af0c-437c-9031-6dd46a18062c",
        "colab": {
          "base_uri": "https://localhost:8080/"
        }
      },
      "source": [
        "# t-student com média e desvio-padrão conhecidos\n",
        "n = 30\n",
        "a = 0.01\n",
        "mean = 800\n",
        "stdev = 100\n",
        "\n",
        "inf,sup = t.interval(1-a, n-1, loc=mean, scale=stdev/np.sqrt(n))\n",
        "print ('IC99%(', round(inf,3), ';', round(sup, 3), ')')"
      ],
      "execution_count": 51,
      "outputs": [
        {
          "output_type": "stream",
          "text": [
            "IC99%( 749.676 ; 850.324 )\n"
          ],
          "name": "stdout"
        }
      ]
    },
    {
      "cell_type": "markdown",
      "metadata": {
        "id": "5xrwfDiHwISz"
      },
      "source": [
        "Q10. De uma distribuição normal com σ2 = 1,96, obteve-se a seguinte amostra: 25,2; 26,0; 26,4; 27,1; 28,2; 28,4. Determinar o intervalo de confiança para a média da população, sendo α = 5%. R: [25,76 ; 28,00]."
      ]
    },
    {
      "cell_type": "code",
      "metadata": {
        "id": "SE7R3DaRwJrj",
        "outputId": "5aeb0190-06d9-4e43-f51f-a5ec93d87b1f",
        "colab": {
          "base_uri": "https://localhost:8080/"
        }
      },
      "source": [
        "# distribuição normal com desvio-padrão conhecido\n",
        "\n",
        "a = 0.05\n",
        "d = np.sqrt(1.96)\n",
        "x = [25.2, 26.0, 26.4, 27.1, 28.2, 28.4]\n",
        "\n",
        "print(\"média=\",round(st.mean(x),3))\n",
        "print(\"desvio-padrão=\",d)\n",
        "\n",
        "inf, sup = norm.interval(1-a, loc=st.mean(x), scale=d/np.sqrt(len(x)))\n",
        "print ('Limite inferior 95%:', round(inf,3))\n",
        "print ('Limite superior 95%:', round(sup,3))\n"
      ],
      "execution_count": 52,
      "outputs": [
        {
          "output_type": "stream",
          "text": [
            "média= 26.883\n",
            "desvio-padrão= 1.4\n",
            "Limite inferior 95%: 25.763\n",
            "Limite superior 95%: 28.004\n"
          ],
          "name": "stdout"
        }
      ]
    },
    {
      "cell_type": "code",
      "metadata": {
        "id": "ZP4hiD1k2MlM",
        "outputId": "864b044f-b946-4b97-c4d0-d7cc6c3bee41",
        "colab": {
          "base_uri": "https://localhost:8080/"
        }
      },
      "source": [
        "(28.0-st.mean(x))*np.sqrt(len(x))/st.stdev(x)"
      ],
      "execution_count": 53,
      "outputs": [
        {
          "output_type": "execute_result",
          "data": {
            "text/plain": [
              "2.172167088222021"
            ]
          },
          "metadata": {
            "tags": []
          },
          "execution_count": 53
        }
      ]
    }
  ]
}