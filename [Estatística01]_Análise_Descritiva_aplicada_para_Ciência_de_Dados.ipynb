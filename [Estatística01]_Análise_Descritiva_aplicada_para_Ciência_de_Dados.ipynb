{
  "nbformat": 4,
  "nbformat_minor": 0,
  "metadata": {
    "colab": {
      "name": "[Estatística01] Análise Descritiva aplicada para Ciência de Dados.ipynb",
      "provenance": [],
      "collapsed_sections": [],
      "include_colab_link": true
    },
    "kernelspec": {
      "name": "python3",
      "display_name": "Python 3"
    }
  },
  "cells": [
    {
      "cell_type": "markdown",
      "metadata": {
        "id": "view-in-github",
        "colab_type": "text"
      },
      "source": [
        "<a href=\"https://colab.research.google.com/github/bmnds/uea-data-science-03-statistics/blob/main/%5BEstat%C3%ADstica01%5D_An%C3%A1lise_Descritiva_aplicada_para_Ci%C3%AAncia_de_Dados.ipynb\" target=\"_parent\"><img src=\"https://colab.research.google.com/assets/colab-badge.svg\" alt=\"Open In Colab\"/></a>"
      ]
    },
    {
      "cell_type": "markdown",
      "metadata": {
        "id": "rFR8qklZ9v0h"
      },
      "source": [
        "# Estatística Descritiva\n"
      ]
    },
    {
      "cell_type": "code",
      "metadata": {
        "id": "GbIbcpSRMl_V"
      },
      "source": [
        "# Bibliotecas que necessárias\n",
        "import numpy as np\n",
        "import statistics as st\n",
        "import seaborn as sbo\n",
        "from scipy import stats\n",
        "from collections import Counter\n"
      ],
      "execution_count": 1,
      "outputs": []
    },
    {
      "cell_type": "code",
      "metadata": {
        "id": "VAOg5-SmieoD"
      },
      "source": [
        "# Criação das listas das turmas que utilizaremos como exemplos\n",
        "turmas = [[4, 5, 5, 6, 6, 7, 7, 8],\n",
        "          [1, 2, 4, 6, 6, 9, 10, 10],\n",
        "          [0, 6, 7, 7, 7, 7.5, 7.5],\n",
        "          [0, 0, 6, 7, 7, 7, 7.5, 7.5],\n",
        "          [0,4, 5, 5, 6, 6, 7, 7, 8,10,10],\n",
        "          [0, 0, 6, 7, 7, 7, 7.5, 7.5, 10]]\n"
      ],
      "execution_count": 2,
      "outputs": []
    },
    {
      "cell_type": "markdown",
      "metadata": {
        "id": "kAnCk_CU7kkY"
      },
      "source": [
        "# Média Aritmética, Média Harmônica, Mediana e Moda\n"
      ]
    },
    {
      "cell_type": "code",
      "metadata": {
        "id": "JiYwQHWbirBE",
        "outputId": "5e7b4845-65b5-4c3e-9e3e-2b089413b5a1",
        "colab": {
          "base_uri": "https://localhost:8080/"
        }
      },
      "source": [
        "def analisar_medias(idx, turma):\n",
        "  print(\"Turma \" + str(idx) + \" >>>\")\n",
        "  print(\"\\tMédia aritmética:\", st.mean(turma))\n",
        "  print(\"\\tMédia harmônica:\", round(st.harmonic_mean(turma),2))\n",
        "  print(\"\\tMediana:\", st.median(turma))\n",
        "  try:\n",
        "    print(\"\\tModa:\", st.mode(turma))\n",
        "  except st.StatisticsError:\n",
        "    print(\"\\tNÃO tem Moda!\")\n",
        "    if (len(turma) < 100):\n",
        "      print(\"\\tContagem:\", Counter(turma))\n",
        "\n",
        "for i, turma in enumerate(turmas):\n",
        "  analisar_medias(i, turma)"
      ],
      "execution_count": 13,
      "outputs": [
        {
          "output_type": "stream",
          "text": [
            "Turma 0 >>>\n",
            "\tMédia aritmética: 6\n",
            "\tMédia harmônica: 5.74\n",
            "\tMediana: 6.0\n",
            "\tNÃO tem Moda!\n",
            "\tContagem: Counter({5: 2, 6: 2, 7: 2, 4: 1, 8: 1})\n",
            "Turma 1 >>>\n",
            "\tMédia aritmética: 6\n",
            "\tMédia harmônica: 3.34\n",
            "\tMediana: 6.0\n",
            "\tNÃO tem Moda!\n",
            "\tContagem: Counter({6: 2, 10: 2, 1: 1, 2: 1, 4: 1, 9: 1})\n",
            "Turma 2 >>>\n",
            "\tMédia aritmética: 6.0\n",
            "\tMédia harmônica: 0\n",
            "\tMediana: 7\n",
            "\tModa: 7\n",
            "Turma 3 >>>\n",
            "\tMédia aritmética: 5.25\n",
            "\tMédia harmônica: 0\n",
            "\tMediana: 7.0\n",
            "\tModa: 7\n",
            "Turma 4 >>>\n",
            "\tMédia aritmética: 6.181818181818182\n",
            "\tMédia harmônica: 0\n",
            "\tMediana: 6\n",
            "\tNÃO tem Moda!\n",
            "\tContagem: Counter({5: 2, 6: 2, 7: 2, 10: 2, 0: 1, 4: 1, 8: 1})\n",
            "Turma 5 >>>\n",
            "\tMédia aritmética: 5.777777777777778\n",
            "\tMédia harmônica: 0\n",
            "\tMediana: 7\n",
            "\tModa: 7\n"
          ],
          "name": "stdout"
        }
      ]
    },
    {
      "cell_type": "markdown",
      "metadata": {
        "id": "zvqFguk_7fM7"
      },
      "source": [
        "# Variância, Desvio Padrão e Coeficiente de Variação\n"
      ]
    },
    {
      "cell_type": "code",
      "metadata": {
        "id": "Kpf1z63Y6p_k",
        "outputId": "93059a45-cc7f-4caa-8669-708f7711e2d1",
        "colab": {
          "base_uri": "https://localhost:8080/"
        }
      },
      "source": [
        "def calcular_coeficiente_variacao(n):\n",
        "  num = 100*st.stdev(n)/st.mean(n)\n",
        "  return round(num,2)\n",
        "\n",
        "def analisar_variacao(idx, turma):\n",
        "  print(\"Turma \" + str(idx) + \" >>>\")\n",
        "  print(\"\\tVariância amostral:\", st.variance(turma))\n",
        "  print(\"\\tDesvio-padrão amostral:\", st.stdev(turma))\n",
        "  print(\"\\tVariância populacional:\", st.pvariance(turma))\n",
        "  print(\"\\tDesvio-padrão popluacional:\", st.pstdev(turma))\n",
        "  print(\"\\tCV(%):\", calcular_coeficiente_variacao(turma))\n",
        "\n",
        "for i, turma in enumerate(turmas):\n",
        "  analisar_variacao(i, turma)"
      ],
      "execution_count": 4,
      "outputs": [
        {
          "output_type": "stream",
          "text": [
            "Turma 0 >>>\n",
            "\tVariância amostral: 1.7142857142857142\n",
            "\tDesvio-padrão amostral: 1.3093073414159542\n",
            "\tVariância populacional: 1.5\n",
            "\tDesvio-padrão popluacional: 1.224744871391589\n",
            "\tCV(%): 21.82\n",
            "Turma 1 >>>\n",
            "\tVariância amostral: 12.285714285714286\n",
            "\tDesvio-padrão amostral: 3.5050983275386565\n",
            "\tVariância populacional: 10.75\n",
            "\tDesvio-padrão popluacional: 3.278719262151\n",
            "\tCV(%): 58.42\n",
            "Turma 2 >>>\n",
            "\tVariância amostral: 7.25\n",
            "\tDesvio-padrão amostral: 2.692582403567252\n",
            "\tVariância populacional: 6.214285714285714\n",
            "\tDesvio-padrão popluacional: 2.49284690951645\n",
            "\tCV(%): 44.88\n",
            "Turma 3 >>>\n",
            "\tVariância amostral: 10.714285714285714\n",
            "\tDesvio-padrão amostral: 3.2732683535398857\n",
            "\tVariância populacional: 9.375\n",
            "\tDesvio-padrão popluacional: 3.0618621784789726\n",
            "\tCV(%): 62.35\n",
            "Turma 4 >>>\n",
            "\tVariância amostral: 7.963636363636364\n",
            "\tDesvio-padrão amostral: 2.821991559809555\n",
            "\tVariância populacional: 7.239669421487603\n",
            "\tDesvio-padrão popluacional: 2.6906633794452257\n",
            "\tCV(%): 45.65\n",
            "Turma 5 >>>\n",
            "\tVariância amostral: 11.881944444444445\n",
            "\tDesvio-padrão amostral: 3.447019646657739\n",
            "\tVariância populacional: 10.561728395061728\n",
            "\tDesvio-padrão popluacional: 3.2498812893799256\n",
            "\tCV(%): 59.66\n"
          ],
          "name": "stdout"
        }
      ]
    },
    {
      "cell_type": "markdown",
      "metadata": {
        "id": "r3fYk4Pj7s5e"
      },
      "source": [
        "# Quartis e Percentis"
      ]
    },
    {
      "cell_type": "code",
      "metadata": {
        "id": "AeIuyjL09fKY",
        "outputId": "486a7acb-2afd-4926-a022-df46a0b24f3f",
        "colab": {
          "base_uri": "https://localhost:8080/"
        }
      },
      "source": [
        "def analisar_quartis(idx, turma):\n",
        "  print(\"Turma \" + str(idx) + \" >>>\")\n",
        "  print(\"\\tQuartis:\", np.quantile(turma, [0.25, 0.5, 0.75]))\n",
        "  print(\"\\tPercentis:\", np.quantile(turma, [0.1, 0.9]))\n",
        "\n",
        "for i, t in enumerate(turmas):\n",
        "  analisar_quartis(i, t)\n"
      ],
      "execution_count": 5,
      "outputs": [
        {
          "output_type": "stream",
          "text": [
            "Turma 0 >>>\n",
            "\tQuartis: [5. 6. 7.]\n",
            "\tPercentis: [4.7 7.3]\n",
            "Turma 1 >>>\n",
            "\tQuartis: [3.5  6.   9.25]\n",
            "\tPercentis: [ 1.7 10. ]\n",
            "Turma 2 >>>\n",
            "\tQuartis: [6.5  7.   7.25]\n",
            "\tPercentis: [3.6 7.5]\n",
            "Turma 3 >>>\n",
            "\tQuartis: [4.5   7.    7.125]\n",
            "\tPercentis: [0.  7.5]\n",
            "Turma 4 >>>\n",
            "\tQuartis: [5.  6.  7.5]\n",
            "\tPercentis: [ 4. 10.]\n",
            "Turma 5 >>>\n",
            "\tQuartis: [6.  7.  7.5]\n",
            "\tPercentis: [0. 8.]\n"
          ],
          "name": "stdout"
        }
      ]
    },
    {
      "cell_type": "markdown",
      "metadata": {
        "id": "is405QE38VT7"
      },
      "source": [
        "# Análise Descritiva"
      ]
    },
    {
      "cell_type": "code",
      "metadata": {
        "id": "37NVSiS3rgs4",
        "outputId": "3b00ae95-767a-4743-b58d-04b9271ffa6a",
        "colab": {
          "base_uri": "https://localhost:8080/"
        }
      },
      "source": [
        "def analisar_de_forma_descritiva(idx, turma):\n",
        "  print(\"Turma \"+str(idx)+\" >>>\")\n",
        "  print(\"\\t\" + str(stats.describe(turma)))\n",
        "\n",
        "for i, t in enumerate(turmas):\n",
        "  analisar_de_forma_descritiva(i,t)"
      ],
      "execution_count": 8,
      "outputs": [
        {
          "output_type": "stream",
          "text": [
            "Turma 0 >>>\n",
            "\tDescribeResult(nobs=8, minmax=(4, 8), mean=6.0, variance=1.7142857142857142, skewness=0.0, kurtosis=-1.0)\n",
            "Turma 1 >>>\n",
            "\tDescribeResult(nobs=8, minmax=(1, 10), mean=6.0, variance=12.285714285714286, skewness=-0.14895209195277664, kurtosis=-1.3883180097349919)\n",
            "Turma 2 >>>\n",
            "\tDescribeResult(nobs=7, minmax=(0.0, 7.5), mean=6.0, variance=7.25, skewness=-1.9019937775739855, kurtosis=1.8428458184700753)\n",
            "Turma 3 >>>\n",
            "\tDescribeResult(nobs=8, minmax=(0.0, 7.5), mean=5.25, variance=10.714285714285714, skewness=-1.0892064389575866, kurtosis=-0.7257333333333333)\n",
            "Turma 4 >>>\n",
            "\tDescribeResult(nobs=11, minmax=(0, 10), mean=6.181818181818182, variance=7.963636363636364, skewness=-0.6137176464093961, kurtosis=0.3368518171013939)\n",
            "Turma 5 >>>\n",
            "\tDescribeResult(nobs=9, minmax=(0.0, 10.0), mean=5.777777777777778, variance=11.881944444444446, skewness=-0.9542326796653159, kurtosis=-0.4392065846837645)\n"
          ],
          "name": "stdout"
        }
      ]
    },
    {
      "cell_type": "markdown",
      "metadata": {
        "id": "mJWQoJpJ83Mm"
      },
      "source": [
        "# Boxplot"
      ]
    },
    {
      "cell_type": "code",
      "metadata": {
        "id": "yPjbtfqJ-GGx",
        "outputId": "6ec25530-9309-403f-b0db-ff4b7c744695",
        "colab": {
          "base_uri": "https://localhost:8080/",
          "height": 299
        }
      },
      "source": [
        "plot = sbo.boxplot(data=turmas)\n",
        "plot.set(ylim=(0,10))\n",
        "plot.set_title(\"Turmas\")\n",
        "plot.plot()\n"
      ],
      "execution_count": 9,
      "outputs": [
        {
          "output_type": "execute_result",
          "data": {
            "text/plain": [
              "[]"
            ]
          },
          "metadata": {
            "tags": []
          },
          "execution_count": 9
        },
        {
          "output_type": "display_data",
          "data": {
            "image/png": "[encoded data removed]",
            "text/plain": [
              "<Figure size 432x288 with 1 Axes>"
            ]
          },
          "metadata": {
            "tags": [],
            "needs_background": "light"
          }
        }
      ]
    },
    {
      "cell_type": "code",
      "metadata": {
        "id": "Y0Ys-gG42mPd",
        "outputId": "022ef1ef-016f-4da4-e6fc-697bfd58a4c2",
        "colab": {
          "base_uri": "https://localhost:8080/",
          "height": 299
        }
      },
      "source": [
        "sbo.boxplot(data=turmas[2]).set_title('Turma C')"
      ],
      "execution_count": 10,
      "outputs": [
        {
          "output_type": "execute_result",
          "data": {
            "text/plain": [
              "Text(0.5, 1.0, 'Turma C')"
            ]
          },
          "metadata": {
            "tags": []
          },
          "execution_count": 10
        },
        {
          "output_type": "display_data",
          "data": {
            "image/png": "[encoded data removed]",
            "text/plain": [
              "<Figure size 432x288 with 1 Axes>"
            ]
          },
          "metadata": {
            "tags": [],
            "needs_background": "light"
          }
        }
      ]
    },
    {
      "cell_type": "markdown",
      "metadata": {
        "id": "IsjOxVXMY2O8"
      },
      "source": [
        "# Experimentação com distribuições geradas aleatoriamente"
      ]
    },
    {
      "cell_type": "code",
      "metadata": {
        "id": "brELTLVtZBlm"
      },
      "source": [
        "# Geração de valores aleatórios e apresentação gráfica\n",
        "from numpy import random\n",
        "import matplotlib.pyplot as plt\n",
        "import seaborn as sns"
      ],
      "execution_count": 11,
      "outputs": []
    },
    {
      "cell_type": "code",
      "metadata": {
        "id": "7KjM71_VY1tO",
        "outputId": "01adf749-9ad3-4aa0-9371-ce36f4b3a7af",
        "colab": {
          "base_uri": "https://localhost:8080/",
          "height": 580
        }
      },
      "source": [
        "duniform = random.uniform(0,1, size=10000)\n",
        "sns.displot(duniform, kde=\"True\")\n",
        "title = 'Distribuição Uniforme' \n",
        "analisar_medias(title, duniform)\n",
        "analisar_variacao(title, duniform)\n",
        "plt.title(title)\n",
        "plt.show()"
      ],
      "execution_count": 14,
      "outputs": [
        {
          "output_type": "stream",
          "text": [
            "Turma Distribuição Uniforme >>>\n",
            "\tMédia aritmética: 0.4993807718124593\n",
            "\tMédia harmônica: 0.12\n",
            "\tMediana: 0.49520780023328453\n",
            "\tNÃO tem Moda!\n",
            "Turma Distribuição Uniforme >>>\n",
            "\tVariância amostral: 0.08309283308002294\n",
            "\tDesvio-padrão amostral: 0.28825827495498363\n",
            "\tVariância populacional: 0.08308452379671492\n",
            "\tDesvio-padrão popluacional: 0.288243861680895\n",
            "\tCV(%): 57.72\n"
          ],
          "name": "stdout"
        },
        {
          "output_type": "display_data",
          "data": {
            "image/png": "[encoded data removed]",
            "text/plain": [
              "<Figure size 360x360 with 1 Axes>"
            ]
          },
          "metadata": {
            "tags": [],
            "needs_background": "light"
          }
        }
      ]
    }
  ]
}