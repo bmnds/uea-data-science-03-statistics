{
  "nbformat": 4,
  "nbformat_minor": 0,
  "metadata": {
    "colab": {
      "name": "Estatística - Atividade Avaliativa I.ipynb",
      "provenance": [],
      "authorship_tag": "ABX9TyPkWTUNSFHWhTQuDk9MMPxY",
      "include_colab_link": true
    },
    "kernelspec": {
      "name": "python3",
      "display_name": "Python 3"
    }
  },
  "cells": [
    {
      "cell_type": "markdown",
      "metadata": {
        "id": "view-in-github",
        "colab_type": "text"
      },
      "source": [
        "<a href=\"https://colab.research.google.com/github/bmnds/uea-data-science-03-statistics/blob/main/Estat%C3%ADstica_Atividade_Avaliativa_I.ipynb\" target=\"_parent\"><img src=\"https://colab.research.google.com/assets/colab-badge.svg\" alt=\"Open In Colab\"/></a>"
      ]
    },
    {
      "cell_type": "code",
      "metadata": {
        "id": "pjBoUAeUtMik"
      },
      "source": [
        "# Bibliotecas que necessárias\n",
        "import numpy as np\n",
        "import statistics as st\n",
        "import seaborn as sbo\n",
        "from scipy import stats\n",
        "from collections import Counter"
      ],
      "execution_count": null,
      "outputs": []
    },
    {
      "cell_type": "markdown",
      "metadata": {
        "id": "mFczVEwDtVJC"
      },
      "source": [
        "Os dados a seguir representam os 10 salários anuais mais altos dos jogadores do Paris Saint-Germain (PSG) e Real Madrid (Real) em milhões de euros."
      ]
    },
    {
      "cell_type": "code",
      "metadata": {
        "id": "o9LmoEzVt_cG"
      },
      "source": [
        "psg = [37, 23, 18, 16, 14, 14, 13, 12, 10, 9]\n",
        "real = [15, 16, 12, 12, 11, 10, 9, 9, 9, 7]"
      ],
      "execution_count": null,
      "outputs": []
    },
    {
      "cell_type": "markdown",
      "metadata": {
        "id": "woh5eTGhuVcG"
      },
      "source": [
        "Q1. Qual a simetria dos salários do PSG?\n",
        "\n",
        "R. Assimétrica Positiva, pois Média > Moda\n",
        "\n"
      ]
    },
    {
      "cell_type": "code",
      "metadata": {
        "id": "T7F2b9fuuZWa"
      },
      "source": [
        "def analisar_medias(idx, turma):\n",
        "  print(\"Time \" + str(idx) + \" >>>\")\n",
        "  print(\"\\tMédia aritmética:\", st.mean(turma))\n",
        "  print(\"\\tMédia harmônica:\", round(st.harmonic_mean(turma),2))\n",
        "  print(\"\\tMediana:\", st.median(turma))\n",
        "  try:\n",
        "    print(\"\\tModa:\", st.mode(turma))\n",
        "  except st.StatisticsError:\n",
        "    print(\"\\tNÃO tem Moda!\")\n",
        "    print(\"\\tContagem:\", Counter(turma))"
      ],
      "execution_count": null,
      "outputs": []
    },
    {
      "cell_type": "code",
      "metadata": {
        "id": "vnnUISnFw-wj",
        "outputId": "a3817586-8c4b-4f17-85f8-98061a5ee651",
        "colab": {
          "base_uri": "https://localhost:8080/"
        }
      },
      "source": [
        "analisar_medias('psg', psg)"
      ],
      "execution_count": null,
      "outputs": [
        {
          "output_type": "stream",
          "text": [
            "Time psg >>>\n",
            "\tMédia aritmética: 16.6\n",
            "\tMédia harmônica: 14.23\n",
            "\tMediana: 14.0\n",
            "\tModa: 14\n"
          ],
          "name": "stdout"
        }
      ]
    },
    {
      "cell_type": "markdown",
      "metadata": {
        "id": "embvTM5bvXwU"
      },
      "source": [
        "Q2. Qual alternativa correta com base no cálculo da média, mediana e moda dos salários do time do Real?\n",
        "\n",
        "R. A moda é menor do que a mediana e esta menor do que a média"
      ]
    },
    {
      "cell_type": "code",
      "metadata": {
        "id": "avycb8y6vXOg",
        "outputId": "84a91ab6-22e4-47d3-c9ce-4cd0cc9cad6c",
        "colab": {
          "base_uri": "https://localhost:8080/"
        }
      },
      "source": [
        "analisar_medias('real', real)"
      ],
      "execution_count": null,
      "outputs": [
        {
          "output_type": "stream",
          "text": [
            "Time real >>>\n",
            "\tMédia aritmética: 11\n",
            "\tMédia harmônica: 10.38\n",
            "\tMediana: 10.5\n",
            "\tModa: 9\n"
          ],
          "name": "stdout"
        }
      ]
    },
    {
      "cell_type": "markdown",
      "metadata": {
        "id": "eSyjZvTJwCmo"
      },
      "source": [
        "Q3. Em relação a variabilidade dos salários dos dois times, podemos concluir que:\n",
        "\n",
        "R. Tanto a média quanto o coeficiente de variação são menores no time do Real"
      ]
    },
    {
      "cell_type": "code",
      "metadata": {
        "id": "YbflkxKxwCxz",
        "outputId": "412791aa-1dc9-4895-90fd-a4b2731854d0",
        "colab": {
          "base_uri": "https://localhost:8080/"
        }
      },
      "source": [
        "def calcular_coeficiente_variacao(n):\n",
        "  num = 100*st.stdev(n)/st.mean(n)\n",
        "  return round(num,2)\n",
        "\n",
        "def analisar_variacao(idx, turma):\n",
        "  print(\"Time \" + str(idx) + \" >>>\")\n",
        "  print(\"\\tVariância amostral:\", st.variance(turma))\n",
        "  print(\"\\tDesvio-padrão amostral:\", st.stdev(turma))\n",
        "  print(\"\\tVariância populacional:\", st.pvariance(turma))\n",
        "  print(\"\\tDesvio-padrão populacional:\", st.pstdev(turma))\n",
        "  print(\"\\tCV(%):\", calcular_coeficiente_variacao(turma))\n",
        "\n",
        "analisar_variacao('psg', psg)\n",
        "analisar_variacao('real', real)"
      ],
      "execution_count": null,
      "outputs": [
        {
          "output_type": "stream",
          "text": [
            "Time psg >>>\n",
            "\tVariância amostral: 67.60000000000001\n",
            "\tDesvio-padrão amostral: 8.221921916437786\n",
            "\tVariância populacional: 60.84\n",
            "\tDesvio-padrão popluacional: 7.8\n",
            "\tCV(%): 49.53\n",
            "Time real >>>\n",
            "\tVariância amostral: 8\n",
            "\tDesvio-padrão amostral: 2.8284271247461903\n",
            "\tVariância populacional: 7.2\n",
            "\tDesvio-padrão popluacional: 2.6832815729997477\n",
            "\tCV(%): 25.71\n"
          ],
          "name": "stdout"
        }
      ]
    },
    {
      "cell_type": "markdown",
      "metadata": {
        "id": "7r0REydkx73U"
      },
      "source": [
        "Q4. Qual a amplitude inter-quartis do time do Real?\n",
        "\n",
        "_É a distância entre o terceiro quartil, ou seja, Q3-Q1_\n",
        "\n",
        "R. 3.0"
      ]
    },
    {
      "cell_type": "code",
      "metadata": {
        "id": "RlMBQYblxy2s"
      },
      "source": [
        "def analisar_quartis(idx, turma):\n",
        "  print(\"Time \" + str(idx) + \" >>>\")\n",
        "  print(\"\\tQuartis:\", np.quantile(turma, [0, 0.25, 0.5, 0.75, 1]))"
      ],
      "execution_count": null,
      "outputs": []
    },
    {
      "cell_type": "code",
      "metadata": {
        "id": "9EVYsnysx_Ej",
        "outputId": "cb7e3de2-d7bf-4041-e008-761ab0a27be3",
        "colab": {
          "base_uri": "https://localhost:8080/"
        }
      },
      "source": [
        "analisar_quartis('psg', psg)"
      ],
      "execution_count": null,
      "outputs": [
        {
          "output_type": "stream",
          "text": [
            "Time psg >>>\n",
            "\tQuartis: [ 9.   12.25 14.   17.5  37.  ]\n"
          ],
          "name": "stdout"
        }
      ]
    },
    {
      "cell_type": "code",
      "metadata": {
        "id": "gPp1zumkx_Ki",
        "outputId": "221bdc35-0fc6-4aab-b012-c70d21494d8f",
        "colab": {
          "base_uri": "https://localhost:8080/"
        }
      },
      "source": [
        "analisar_quartis('real', real)"
      ],
      "execution_count": null,
      "outputs": [
        {
          "output_type": "stream",
          "text": [
            "Time real >>>\n",
            "\tQuartis: [ 7.   9.  10.5 12.  16. ]\n"
          ],
          "name": "stdout"
        }
      ]
    },
    {
      "cell_type": "markdown",
      "metadata": {
        "id": "xntn_KwqxGO-"
      },
      "source": [
        ""
      ]
    },
    {
      "cell_type": "code",
      "metadata": {
        "id": "rlBmTNmNxGWM"
      },
      "source": [
        "def analisar_de_forma_descritiva(idx, turma):\n",
        "  print(\"Turma \"+str(idx)+\" >>>\")\n",
        "  print(\"\\t\" + str(stats.describe(turma)))"
      ],
      "execution_count": null,
      "outputs": []
    },
    {
      "cell_type": "code",
      "metadata": {
        "id": "9SkXlwb9xST_",
        "outputId": "a266b1c1-c49e-4304-b9dd-29cdc398c37c",
        "colab": {
          "base_uri": "https://localhost:8080/"
        }
      },
      "source": [
        "analisar_de_forma_descritiva('psg', psg)"
      ],
      "execution_count": null,
      "outputs": [
        {
          "output_type": "stream",
          "text": [
            "Turma psg >>>\n",
            "\tDescribeResult(nobs=10, minmax=(9, 37), mean=16.6, variance=67.6, skewness=1.65392201486876, kurtosis=1.8848131419820078)\n"
          ],
          "name": "stdout"
        }
      ]
    },
    {
      "cell_type": "code",
      "metadata": {
        "id": "xTevkrrhxX39",
        "outputId": "99e4fc64-b012-46f5-e87e-d9f511a25cd2",
        "colab": {
          "base_uri": "https://localhost:8080/"
        }
      },
      "source": [
        "analisar_de_forma_descritiva('real', real)"
      ],
      "execution_count": null,
      "outputs": [
        {
          "output_type": "stream",
          "text": [
            "Turma real >>>\n",
            "\tDescribeResult(nobs=10, minmax=(7, 16), mean=11.0, variance=8.0, skewness=0.5279604946874503, kurtosis=-0.7083333333333335)\n"
          ],
          "name": "stdout"
        }
      ]
    },
    {
      "cell_type": "markdown",
      "metadata": {
        "id": "hCzQiNusymhf"
      },
      "source": [
        "Q5. Em qual(is) distribuição(ões) dos salários podemos considerar a ocorrência de outliers?\n",
        "\n",
        "R. PSG"
      ]
    },
    {
      "cell_type": "code",
      "metadata": {
        "id": "DtzB1xwEyomh",
        "outputId": "9ffba70c-555c-4e03-be8a-548380ab5d68",
        "colab": {
          "base_uri": "https://localhost:8080/",
          "height": 298
        }
      },
      "source": [
        "sbo.boxplot(data=psg).set_title('PSG')"
      ],
      "execution_count": null,
      "outputs": [
        {
          "output_type": "execute_result",
          "data": {
            "text/plain": [
              "Text(0.5, 1.0, 'PSG')"
            ]
          },
          "metadata": {
            "tags": []
          },
          "execution_count": 22
        },
        {
          "output_type": "display_data",
          "data": {
            "image/png": "[encoded data removed]",
            "text/plain": [
              "<Figure size 432x288 with 1 Axes>"
            ]
          },
          "metadata": {
            "tags": [],
            "needs_background": "light"
          }
        }
      ]
    },
    {
      "cell_type": "code",
      "metadata": {
        "id": "vwk3VuESy16B",
        "outputId": "c88481cb-7b79-4471-a70a-b487e2cf2077",
        "colab": {
          "base_uri": "https://localhost:8080/",
          "height": 298
        }
      },
      "source": [
        "sbo.boxplot(data=real).set_title('Real')"
      ],
      "execution_count": null,
      "outputs": [
        {
          "output_type": "execute_result",
          "data": {
            "text/plain": [
              "Text(0.5, 1.0, 'Real')"
            ]
          },
          "metadata": {
            "tags": []
          },
          "execution_count": 23
        },
        {
          "output_type": "display_data",
          "data": {
            "image/png": "[encoded data removed]",
            "text/plain": [
              "<Figure size 432x288 with 1 Axes>"
            ]
          },
          "metadata": {
            "tags": [],
            "needs_background": "light"
          }
        }
      ]
    },
    {
      "cell_type": "markdown",
      "metadata": {
        "id": "c5f6XvJKy8sG"
      },
      "source": [
        "Q6. Os dados a seguir mostram o desempenho do Real no último campeonato. O primeiro valor é o número de gools e o segundo a frequência: X={(0,5), (1,3), (2,4), (3,3), (4,2), (5,2), (7,1)}. Se X, Y e Z são, respectivamente, a média, a mediana e a moda desta distribuição, então:\n",
        "\n",
        "R. Z < X = Y"
      ]
    },
    {
      "cell_type": "code",
      "metadata": {
        "id": "W0hCmhlwzAfm"
      },
      "source": [
        "gols        = [0, 1, 2, 3, 4, 5, 7]\n",
        "frequencia  = [5, 3, 4, 3, 2, 2, 1]\n",
        "desempenho  = np.repeat(gols, frequencia)"
      ],
      "execution_count": null,
      "outputs": []
    },
    {
      "cell_type": "code",
      "metadata": {
        "id": "m0JTt8uMzK8E",
        "outputId": "1cbcb05d-030d-43dc-e014-b1f2fffd7296",
        "colab": {
          "base_uri": "https://localhost:8080/"
        }
      },
      "source": [
        "analisar_medias('desempenho do real', desempenho)"
      ],
      "execution_count": null,
      "outputs": [
        {
          "output_type": "stream",
          "text": [
            "Time desempenho do real >>>\n",
            "\tMédia aritmética: 2\n",
            "\tMédia harmônica: 0.0\n",
            "\tMediana: 2.0\n",
            "\tModa: 0\n"
          ],
          "name": "stdout"
        },
        {
          "output_type": "stream",
          "text": [
            "/usr/lib/python3.6/statistics.py:356: RuntimeWarning: divide by zero encountered in long_scalars\n",
            "  T, total, count = _sum(1/x for x in _fail_neg(data, errmsg))\n"
          ],
          "name": "stderr"
        }
      ]
    },
    {
      "cell_type": "markdown",
      "metadata": {
        "id": "lKffVHKrMN60"
      },
      "source": [
        "Comparação da distribuição A em relação a B"
      ]
    },
    {
      "cell_type": "code",
      "metadata": {
        "id": "uHCUe8VmMSbF"
      },
      "source": [
        "x = [-3, -2, -1, 0, 1, 2, 3]\n",
        "a = [1, 1.5, 2.5, 4, 2.5, 1.5, 1]\n",
        "b = [1.5, 1.75, 2.5, 3, 2.5, 1.75, 1.5]"
      ],
      "execution_count": null,
      "outputs": []
    },
    {
      "cell_type": "code",
      "metadata": {
        "id": "lB7nogzFOvFp",
        "outputId": "048bd116-6b72-4fc1-c62d-614dd28e91ea",
        "colab": {
          "base_uri": "https://localhost:8080/",
          "height": 738
        }
      },
      "source": [
        "sbo.displot(x=a, kind=\"kde\")\n",
        "sbo.displot(x=b, kind=\"kde\")"
      ],
      "execution_count": null,
      "outputs": [
        {
          "output_type": "execute_result",
          "data": {
            "text/plain": [
              "<seaborn.axisgrid.FacetGrid at 0x7f4ab58ddfd0>"
            ]
          },
          "metadata": {
            "tags": []
          },
          "execution_count": 47
        },
        {
          "output_type": "display_data",
          "data": {
            "image/png": "[encoded data removed]",
            "text/plain": [
              "<Figure size 360x360 with 1 Axes>"
            ]
          },
          "metadata": {
            "tags": [],
            "needs_background": "light"
          }
        },
        {
          "output_type": "display_data",
          "data": {
            "image/png": "[encoded data removed]",
            "text/plain": [
              "<Figure size 360x360 with 1 Axes>"
            ]
          },
          "metadata": {
            "tags": [],
            "needs_background": "light"
          }
        }
      ]
    },
    {
      "cell_type": "code",
      "metadata": {
        "id": "SuGpVYekPqnZ"
      },
      "source": [
        "x = [2,3,4,2,7,4,5,3,3,6]\n",
        "y = [50,60,40,50,55,50,50,45,40,60]"
      ],
      "execution_count": null,
      "outputs": []
    },
    {
      "cell_type": "code",
      "metadata": {
        "id": "HQoHulS1aeug",
        "outputId": "b84e3fc9-ec21-4880-fd21-ac9ebcc6fa08",
        "colab": {
          "base_uri": "https://localhost:8080/"
        }
      },
      "source": [
        "analisar_variacao('x', x)\n",
        "analisar_variacao('y', y)"
      ],
      "execution_count": null,
      "outputs": [
        {
          "output_type": "stream",
          "text": [
            "Time x >>>\n",
            "\tVariância amostral: 2.7666666666666666\n",
            "\tDesvio-padrão amostral: 1.66332999331662\n",
            "\tVariância populacional: 2.49\n",
            "\tDesvio-padrão popluacional: 1.57797338380595\n",
            "\tCV(%): 42.65\n",
            "Time y >>>\n",
            "\tVariância amostral: 50\n",
            "\tDesvio-padrão amostral: 7.0710678118654755\n",
            "\tVariância populacional: 45\n",
            "\tDesvio-padrão popluacional: 6.708203932499369\n",
            "\tCV(%): 14.14\n"
          ],
          "name": "stdout"
        }
      ]
    }
  ]
}