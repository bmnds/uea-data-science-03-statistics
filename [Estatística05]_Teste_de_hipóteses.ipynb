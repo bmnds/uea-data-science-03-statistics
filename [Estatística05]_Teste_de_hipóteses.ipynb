{
  "nbformat": 4,
  "nbformat_minor": 0,
  "metadata": {
    "colab": {
      "name": "[Estatística05]_Teste_de_hipóteses.ipynb",
      "provenance": [],
      "collapsed_sections": [],
      "toc_visible": true,
      "include_colab_link": true
    },
    "kernelspec": {
      "name": "python3",
      "display_name": "Python 3"
    }
  },
  "cells": [
    {
      "cell_type": "markdown",
      "metadata": {
        "id": "view-in-github",
        "colab_type": "text"
      },
      "source": [
        "<a href=\"https://colab.research.google.com/github/bmnds/uea-data-science-03-statistics/blob/main/%5BEstat%C3%ADstica05%5D_Teste_de_hip%C3%B3teses.ipynb\" target=\"_parent\"><img src=\"https://colab.research.google.com/assets/colab-badge.svg\" alt=\"Open In Colab\"/></a>"
      ]
    },
    {
      "cell_type": "markdown",
      "metadata": {
        "id": "mNqAWG5aKYrT"
      },
      "source": [
        "# Testes de Hipóteses"
      ]
    },
    {
      "cell_type": "code",
      "metadata": {
        "id": "cCl11FCkvfZ2",
        "outputId": "a1e5a385-e0a0-4544-c212-e9d61eab2505",
        "colab": {
          "base_uri": "https://localhost:8080/"
        }
      },
      "source": [
        "# Pacotes\n",
        "from statsmodels.stats.proportion import proportions_ztest, binom_test\n",
        "from scipy.stats import binom, ttest_1samp, ttest_ind, chi2_contingency \n",
        "import pandas as pd\n",
        "import numpy as np\n",
        "import matplotlib.pyplot as plt"
      ],
      "execution_count": null,
      "outputs": [
        {
          "output_type": "stream",
          "text": [
            "/usr/local/lib/python3.6/dist-packages/statsmodels/tools/_testing.py:19: FutureWarning: pandas.util.testing is deprecated. Use the functions in the public API at pandas.testing instead.\n",
            "  import pandas.util.testing as tm\n"
          ],
          "name": "stderr"
        }
      ]
    },
    {
      "cell_type": "markdown",
      "metadata": {
        "id": "YEIuZTkq_0sD"
      },
      "source": [
        "## Para distribuição binomial"
      ]
    },
    {
      "cell_type": "code",
      "metadata": {
        "id": "23MVMdsrNhzP",
        "outputId": "9be29361-5c0a-43f1-9772-46973c685a58",
        "colab": {
          "base_uri": "https://localhost:8080/"
        }
      },
      "source": [
        "\n",
        "### Resolução de Teste para proporção por meio da Binomial\n",
        "## Exemplo: Para testar se existe\tdiferença\tentre\tdois sistemas computacionais (A e B), observou-se o desempenho com 12 cargas de trabalho. Em 3 casos o sistema A apresentou  melhor desempenho do que o B. Nos demais, o sistema B foi  melhor.  Qual a conclusão ao nível de significância de  5%?\n",
        "# Calcular os valores de probabilidade com base na distribuição Binomial\n",
        "# Ho: Po = 0,5 vs H1: Po <> 0,5\n",
        "Po = 0.5\n",
        "n = 12\n",
        "x = 3\n",
        "alfa = 0.05\n",
        "k_valores = np.arange(0,13)\n",
        "distbinom = [binom.pmf(k, n, Po) for k in k_valores]\n",
        "distbinom\n"
      ],
      "execution_count": null,
      "outputs": [
        {
          "output_type": "execute_result",
          "data": {
            "text/plain": [
              "[0.00024414062500000016,\n",
              " 0.002929687499999993,\n",
              " 0.016113281249999962,\n",
              " 0.05371093749999999,\n",
              " 0.12084960937499982,\n",
              " 0.19335937499999992,\n",
              " 0.22558593749999972,\n",
              " 0.19335937499999992,\n",
              " 0.12084960937499982,\n",
              " 0.05371093749999999,\n",
              " 0.016113281249999962,\n",
              " 0.002929687499999993,\n",
              " 0.00024414062500000016]"
            ]
          },
          "metadata": {
            "tags": []
          },
          "execution_count": 2
        }
      ]
    },
    {
      "cell_type": "code",
      "metadata": {
        "id": "aQPT_C1POTEo",
        "outputId": "7d3a1be7-2f6a-469f-93af-0eef2bae4bcd",
        "colab": {
          "base_uri": "https://localhost:8080/",
          "height": 265
        }
      },
      "source": [
        "# Gerar o gráfico:\n",
        "plt.bar(k_valores,distbinom)\n",
        "plt.show()"
      ],
      "execution_count": null,
      "outputs": [
        {
          "output_type": "display_data",
          "data": {
            "image/png": "[encoded data removed]",
            "text/plain": [
              "<Figure size 432x288 with 1 Axes>"
            ]
          },
          "metadata": {
            "tags": [],
            "needs_background": "light"
          }
        }
      ]
    },
    {
      "cell_type": "code",
      "metadata": {
        "id": "Y7YacP_EZkng",
        "outputId": "ae646b1c-5fd8-4d24-8a15-5b2575a7ce37",
        "colab": {
          "base_uri": "https://localhost:8080/"
        }
      },
      "source": [
        "# Calculo da Estatística de teste\n",
        "p = binom_test(x,n,Po,alternative='two-sided') # Caso seja unilateral a direita alternative='greater', caso contrário alternative = 'less'. \n",
        "print('p = %0.3f' %(p))\n",
        "if p > alfa:\n",
        "   print (\"Conclusão: aceita-se Ho, ou seja, a proproção de desempenho do A é estatisticamente igual a 50% ao nível de 5% de significância\")\n",
        "else:\n",
        "   print (\"Conclusão: rejeita-se Ho, ou seja, a proproção de desempenho do A é estatisticamente diferente de 50% ao nível de 5% de significância\")"
      ],
      "execution_count": null,
      "outputs": [
        {
          "output_type": "stream",
          "text": [
            "p = 0.146\n",
            "Conclusão: aceita-se Ho, ou seja, a proproção de desempenho do A é estatisticamente igual a 50% ao nível de 5% de significância\n"
          ],
          "name": "stdout"
        }
      ]
    },
    {
      "cell_type": "code",
      "metadata": {
        "id": "fPF8ioUswGpT",
        "outputId": "957a0350-9d54-4330-8ce9-5ab232858920",
        "colab": {
          "base_uri": "https://localhost:8080/"
        }
      },
      "source": [
        "## Resolução de Teste para proporção por meio da Distribuição Normal\n",
        "# Para testar se existe\tdiferença\tentre\tdois sistemas computacionais (A e B), observou-se o desempenho com 12 cargas de trabalho. Em 3 casos o sistema A apresentou  melhor desempenho do que o B. Nos demais, o sistema B foi  melhor.  Qual a conclusão ao nível de significância de  5%?\n",
        "# Ho: Po = 0,5 vs H1: Po <> 0,5\n",
        "z, p = proportions_ztest(x, n, Po,alternative='two-sided',prop_var=0.5)\n",
        "# Conclusão:\n",
        "print('z= %0.3f, p= %0.3f' % (z, p))\n",
        "if p > alfa:\n",
        "   print (\"Conclusão: aceita-se Ho, ou seja, a proproção é igual a 50% ao nível de 5% de significância\")\n",
        "else:\n",
        "   print (\"Conclusão: rejeita-se Ho, ou seja, a proproção é diferente de 50% ao nível de 5% de significância\")"
      ],
      "execution_count": null,
      "outputs": [
        {
          "output_type": "stream",
          "text": [
            "z= -1.732, p= 0.083\n",
            "Conclusão: aceita-se Ho, ou seja, a proproção é igual a 50% ao nível de 5% de significância\n"
          ],
          "name": "stdout"
        }
      ]
    },
    {
      "cell_type": "code",
      "metadata": {
        "id": "3V0oYIIkuWPQ",
        "outputId": "f6bdb589-6e5d-466b-90e1-d208a1b77582",
        "colab": {
          "base_uri": "https://localhost:8080/"
        }
      },
      "source": [
        "### Exemplo: O tempo para transmitir 10 MB em determinada rede de computadores varia segundo m modelo normal, com média 7,4 s e variância 1,3 s. Depois de algumas mudanças na rede, acredita-se numa redução no tempo de transmissão de dados, além de uma possível alteração na variabilidade. \n",
        "### Foram realizados 10 ensaios independentes com um arquivo de 10 MB e foram anotados os tempos de transmissão, em segundos: \n",
        "### {6,8; 7,1; 5,9; 7,5; 6,3; 6,9; 7,2; 7,6; 6,6; 6,3}. Existe evidência suficiente de que o tempo médio de transmissão foi reduzido ao nível de 5% de significância? \n",
        "# Ho: Mo = 7,4 vs H1: Mo < 7,4\n",
        "x = (6.8,7.1,5.9,7.5,6.3,6.9,7.2,7.6,6.6,6.3)\n",
        "Mo = 7.4\n",
        "alfa=0.05\n",
        "media = np.mean(x)\n",
        "print(\"Média =\",media)\n",
        "dp = np.std(x)\n",
        "print(\"Desvio-padrão =\",dp)\n",
        "t, po = ttest_1samp(x, Mo)\n",
        "# Para realizar um teste unilateral multiplica-se o \"p\" por dois\n",
        "p=2*po\n",
        "# Conclusão:\n",
        "print('t= %0.3f, p= %0.3f' % (t, p))\n",
        "if p > alfa:\n",
        "   print (\"Conclusão: aceita-se Ho, ou seja, a média é estatisticamente igual a 7.4 s ao nível de 5% de significância\")\n",
        "else:\n",
        "   print (\"Conclusão: Rejeita-se Ho, ou seja, a média é estatisticamente menor de 7.4 s ao nível de 5% de significância\")"
      ],
      "execution_count": null,
      "outputs": [
        {
          "output_type": "stream",
          "text": [
            "Média = 6.82\n",
            "Desvio-padrão = 0.5230678732248808\n",
            "t= -3.327, p= 0.018\n",
            "Conclusão: Rejeita-se Ho, ou seja, a média é estatisticamente menor de 7.4 s ao nível de 5% de significância\n"
          ],
          "name": "stdout"
        }
      ]
    },
    {
      "cell_type": "code",
      "metadata": {
        "id": "RUenoxi684qx",
        "outputId": "bbefe0a9-c0ee-4078-9b7f-17e59674707c",
        "colab": {
          "base_uri": "https://localhost:8080/"
        }
      },
      "source": [
        "### Exemplo de testes de hipóteses para tabelas LxC\n",
        "# Criação da matriz com os dados do exemplo de probabilidade\n",
        "tabela = np.array([[500,4500,1500], [30,270,50]])\n",
        "tabela"
      ],
      "execution_count": null,
      "outputs": [
        {
          "output_type": "execute_result",
          "data": {
            "text/plain": [
              "array([[ 500, 4500, 1500],\n",
              "       [  30,  270,   50]])"
            ]
          },
          "metadata": {
            "tags": []
          },
          "execution_count": 7
        }
      ]
    },
    {
      "cell_type": "code",
      "metadata": {
        "id": "-85R2DSc9dE9",
        "outputId": "f9e51f0b-96b1-4ffa-8612-5bd78e443a74",
        "colab": {
          "base_uri": "https://localhost:8080/"
        }
      },
      "source": [
        "qui, p, gl, esperado = chi2_contingency(tabela,correction=False)\n",
        "print(\"Valores esperados\")\n",
        "print(esperado)\n",
        "print('qui=%.3f, p=%.3f' % (qui, p))\n",
        "if p > 0.05:\n",
        "\tprint('Conclusão: as variáveis são independentes ao nível de 5% de signficância')\n",
        "else:\n",
        "\tprint('Conclusão: as variáveis são dependentes ao nível de 5% de significância')\n"
      ],
      "execution_count": null,
      "outputs": [
        {
          "output_type": "stream",
          "text": [
            "Valores esperados\n",
            "[[ 502.91970803 4526.27737226 1470.80291971]\n",
            " [  27.08029197  243.72262774   79.19708029]]\n",
            "qui=14.661, p=0.001\n",
            "Conclusão: as variáveis são dependentes ao nível de 5% de significância\n"
          ],
          "name": "stdout"
        }
      ]
    },
    {
      "cell_type": "markdown",
      "metadata": {
        "id": "7BjG8mTPACTA"
      },
      "source": [
        "## Experimentação com outros tipos de distribuição"
      ]
    },
    {
      "cell_type": "code",
      "metadata": {
        "id": "eJt4lCFpACDQ",
        "outputId": "d57a5b37-4386-42ec-a1b6-21cbc952c707",
        "colab": {
          "base_uri": "https://localhost:8080/",
          "height": 385
        }
      },
      "source": [
        "# Geração de valores aleatórios e apresentação gráfica\n",
        "import matplotlib.pyplot as plt\n",
        "import seaborn as sns\n",
        "from numpy import random\n",
        "\n",
        "dexpo = (random.exponential(2, size=1000))\n",
        "sns.displot(dexpo)\n",
        "plt.title('Distribuição Exponencial')\n",
        "plt.show()"
      ],
      "execution_count": null,
      "outputs": [
        {
          "output_type": "display_data",
          "data": {
            "image/png": "[encoded data removed]",
            "text/plain": [
              "<Figure size 360x360 with 1 Axes>"
            ]
          },
          "metadata": {
            "tags": [],
            "needs_background": "light"
          }
        }
      ]
    },
    {
      "cell_type": "code",
      "metadata": {
        "id": "S_Hd4epiAQrb"
      },
      "source": [
        ""
      ],
      "execution_count": null,
      "outputs": []
    },
    {
      "cell_type": "markdown",
      "metadata": {
        "id": "EHJ0zCtlADX-"
      },
      "source": [
        "## Analisando Banco de Dados"
      ]
    },
    {
      "cell_type": "code",
      "metadata": {
        "id": "H8p24CzObGtS",
        "outputId": "c56ee308-15e8-40e8-b3ad-428e0ce50779",
        "colab": {
          "base_uri": "https://localhost:8080/",
          "height": 402
        }
      },
      "source": [
        "bdenade = bdenade = pd.read_csv('https://drive.google.com/uc?export=download&id=1DrDZTBlf5VKGj89t49pEmyKmgzYEarIZ',sep=';',decimal=',')\n",
        "bdenade.columns = [\"ano\",\"area\",\"ies\",\"esfera\",\"ninscritos\",\"nparticipantes\",\"notafg\",\"notace\",\"conceito\",\"nota\"]\n",
        "bdenade"
      ],
      "execution_count": null,
      "outputs": [
        {
          "output_type": "execute_result",
          "data": {
            "text/html": [
              "<div>\n",
              "<style scoped>\n",
              "    .dataframe tbody tr th:only-of-type {\n",
              "        vertical-align: middle;\n",
              "    }\n",
              "\n",
              "    .dataframe tbody tr th {\n",
              "        vertical-align: top;\n",
              "    }\n",
              "\n",
              "    .dataframe thead th {\n",
              "        text-align: right;\n",
              "    }\n",
              "</style>\n",
              "<table border=\"1\" class=\"dataframe\">\n",
              "  <thead>\n",
              "    <tr style=\"text-align: right;\">\n",
              "      <th></th>\n",
              "      <th>ano</th>\n",
              "      <th>area</th>\n",
              "      <th>ies</th>\n",
              "      <th>esfera</th>\n",
              "      <th>ninscritos</th>\n",
              "      <th>nparticipantes</th>\n",
              "      <th>notafg</th>\n",
              "      <th>notace</th>\n",
              "      <th>conceito</th>\n",
              "      <th>nota</th>\n",
              "    </tr>\n",
              "  </thead>\n",
              "  <tbody>\n",
              "    <tr>\n",
              "      <th>0</th>\n",
              "      <td>2017</td>\n",
              "      <td>21</td>\n",
              "      <td>4</td>\n",
              "      <td>Federal</td>\n",
              "      <td>64</td>\n",
              "      <td>50</td>\n",
              "      <td>60.36</td>\n",
              "      <td>54.71</td>\n",
              "      <td>3.35</td>\n",
              "      <td>4.0</td>\n",
              "    </tr>\n",
              "    <tr>\n",
              "      <th>1</th>\n",
              "      <td>2017</td>\n",
              "      <td>21</td>\n",
              "      <td>452</td>\n",
              "      <td>Privada</td>\n",
              "      <td>5</td>\n",
              "      <td>5</td>\n",
              "      <td>46.60</td>\n",
              "      <td>35.38</td>\n",
              "      <td>1.04</td>\n",
              "      <td>2.0</td>\n",
              "    </tr>\n",
              "    <tr>\n",
              "      <th>2</th>\n",
              "      <td>2017</td>\n",
              "      <td>21</td>\n",
              "      <td>669</td>\n",
              "      <td>Privada</td>\n",
              "      <td>70</td>\n",
              "      <td>64</td>\n",
              "      <td>45.57</td>\n",
              "      <td>35.05</td>\n",
              "      <td>0.97</td>\n",
              "      <td>2.0</td>\n",
              "    </tr>\n",
              "    <tr>\n",
              "      <th>3</th>\n",
              "      <td>2017</td>\n",
              "      <td>21</td>\n",
              "      <td>1422</td>\n",
              "      <td>Privada</td>\n",
              "      <td>250</td>\n",
              "      <td>130</td>\n",
              "      <td>47.18</td>\n",
              "      <td>37.23</td>\n",
              "      <td>1.23</td>\n",
              "      <td>2.0</td>\n",
              "    </tr>\n",
              "    <tr>\n",
              "      <th>4</th>\n",
              "      <td>2017</td>\n",
              "      <td>21</td>\n",
              "      <td>2147</td>\n",
              "      <td>Privada</td>\n",
              "      <td>250</td>\n",
              "      <td>190</td>\n",
              "      <td>40.09</td>\n",
              "      <td>33.75</td>\n",
              "      <td>0.64</td>\n",
              "      <td>1.0</td>\n",
              "    </tr>\n",
              "    <tr>\n",
              "      <th>...</th>\n",
              "      <td>...</td>\n",
              "      <td>...</td>\n",
              "      <td>...</td>\n",
              "      <td>...</td>\n",
              "      <td>...</td>\n",
              "      <td>...</td>\n",
              "      <td>...</td>\n",
              "      <td>...</td>\n",
              "      <td>...</td>\n",
              "      <td>...</td>\n",
              "    </tr>\n",
              "    <tr>\n",
              "      <th>610</th>\n",
              "      <td>2018</td>\n",
              "      <td>85</td>\n",
              "      <td>1422</td>\n",
              "      <td>Privada</td>\n",
              "      <td>8</td>\n",
              "      <td>6</td>\n",
              "      <td>45.90</td>\n",
              "      <td>43.95</td>\n",
              "      <td>2.66</td>\n",
              "      <td>3.0</td>\n",
              "    </tr>\n",
              "    <tr>\n",
              "      <th>611</th>\n",
              "      <td>2018</td>\n",
              "      <td>87</td>\n",
              "      <td>1422</td>\n",
              "      <td>Privada</td>\n",
              "      <td>21</td>\n",
              "      <td>21</td>\n",
              "      <td>32.03</td>\n",
              "      <td>46.08</td>\n",
              "      <td>2.73</td>\n",
              "      <td>3.0</td>\n",
              "    </tr>\n",
              "    <tr>\n",
              "      <th>612</th>\n",
              "      <td>2018</td>\n",
              "      <td>86</td>\n",
              "      <td>669</td>\n",
              "      <td>Privada</td>\n",
              "      <td>31</td>\n",
              "      <td>31</td>\n",
              "      <td>36.45</td>\n",
              "      <td>42.13</td>\n",
              "      <td>2.05</td>\n",
              "      <td>3.0</td>\n",
              "    </tr>\n",
              "    <tr>\n",
              "      <th>613</th>\n",
              "      <td>2018</td>\n",
              "      <td>38</td>\n",
              "      <td>322</td>\n",
              "      <td>Privada</td>\n",
              "      <td>16</td>\n",
              "      <td>8</td>\n",
              "      <td>37.98</td>\n",
              "      <td>37.98</td>\n",
              "      <td>1.64</td>\n",
              "      <td>2.0</td>\n",
              "    </tr>\n",
              "    <tr>\n",
              "      <th>614</th>\n",
              "      <td>2018</td>\n",
              "      <td>94</td>\n",
              "      <td>322</td>\n",
              "      <td>Privada</td>\n",
              "      <td>45</td>\n",
              "      <td>37</td>\n",
              "      <td>36.97</td>\n",
              "      <td>42.89</td>\n",
              "      <td>2.43</td>\n",
              "      <td>3.0</td>\n",
              "    </tr>\n",
              "  </tbody>\n",
              "</table>\n",
              "<p>615 rows × 10 columns</p>\n",
              "</div>"
            ],
            "text/plain": [
              "      ano  area   ies   esfera  ...  notafg  notace  conceito  nota\n",
              "0    2017    21     4  Federal  ...   60.36   54.71      3.35   4.0\n",
              "1    2017    21   452  Privada  ...   46.60   35.38      1.04   2.0\n",
              "2    2017    21   669  Privada  ...   45.57   35.05      0.97   2.0\n",
              "3    2017    21  1422  Privada  ...   47.18   37.23      1.23   2.0\n",
              "4    2017    21  2147  Privada  ...   40.09   33.75      0.64   1.0\n",
              "..    ...   ...   ...      ...  ...     ...     ...       ...   ...\n",
              "610  2018    85  1422  Privada  ...   45.90   43.95      2.66   3.0\n",
              "611  2018    87  1422  Privada  ...   32.03   46.08      2.73   3.0\n",
              "612  2018    86   669  Privada  ...   36.45   42.13      2.05   3.0\n",
              "613  2018    38   322  Privada  ...   37.98   37.98      1.64   2.0\n",
              "614  2018    94   322  Privada  ...   36.97   42.89      2.43   3.0\n",
              "\n",
              "[615 rows x 10 columns]"
            ]
          },
          "metadata": {
            "tags": []
          },
          "execution_count": 14
        }
      ]
    },
    {
      "cell_type": "code",
      "metadata": {
        "id": "1dHgn_gXbIU0",
        "outputId": "bd238fb2-2722-4a90-90ba-e8a7ed975bb9",
        "colab": {
          "base_uri": "https://localhost:8080/",
          "height": 402
        }
      },
      "source": [
        "bdenade['nota2'] = 0\n",
        "bdenade.loc[(bdenade['nota'] <  4 ), 'nota2'] = \"0 a 3\"\n",
        "bdenade.loc[(bdenade['nota'] >=  4 ), 'nota2'] = \"4 a 5\"\n",
        "bdenade"
      ],
      "execution_count": null,
      "outputs": [
        {
          "output_type": "execute_result",
          "data": {
            "text/html": [
              "<div>\n",
              "<style scoped>\n",
              "    .dataframe tbody tr th:only-of-type {\n",
              "        vertical-align: middle;\n",
              "    }\n",
              "\n",
              "    .dataframe tbody tr th {\n",
              "        vertical-align: top;\n",
              "    }\n",
              "\n",
              "    .dataframe thead th {\n",
              "        text-align: right;\n",
              "    }\n",
              "</style>\n",
              "<table border=\"1\" class=\"dataframe\">\n",
              "  <thead>\n",
              "    <tr style=\"text-align: right;\">\n",
              "      <th></th>\n",
              "      <th>ano</th>\n",
              "      <th>area</th>\n",
              "      <th>ies</th>\n",
              "      <th>esfera</th>\n",
              "      <th>ninscritos</th>\n",
              "      <th>nparticipantes</th>\n",
              "      <th>notafg</th>\n",
              "      <th>notace</th>\n",
              "      <th>conceito</th>\n",
              "      <th>nota</th>\n",
              "      <th>nota2</th>\n",
              "    </tr>\n",
              "  </thead>\n",
              "  <tbody>\n",
              "    <tr>\n",
              "      <th>0</th>\n",
              "      <td>2017</td>\n",
              "      <td>21</td>\n",
              "      <td>4</td>\n",
              "      <td>Federal</td>\n",
              "      <td>64</td>\n",
              "      <td>50</td>\n",
              "      <td>60.36</td>\n",
              "      <td>54.71</td>\n",
              "      <td>3.35</td>\n",
              "      <td>4.0</td>\n",
              "      <td>4 a 5</td>\n",
              "    </tr>\n",
              "    <tr>\n",
              "      <th>1</th>\n",
              "      <td>2017</td>\n",
              "      <td>21</td>\n",
              "      <td>452</td>\n",
              "      <td>Privada</td>\n",
              "      <td>5</td>\n",
              "      <td>5</td>\n",
              "      <td>46.60</td>\n",
              "      <td>35.38</td>\n",
              "      <td>1.04</td>\n",
              "      <td>2.0</td>\n",
              "      <td>0 a 3</td>\n",
              "    </tr>\n",
              "    <tr>\n",
              "      <th>2</th>\n",
              "      <td>2017</td>\n",
              "      <td>21</td>\n",
              "      <td>669</td>\n",
              "      <td>Privada</td>\n",
              "      <td>70</td>\n",
              "      <td>64</td>\n",
              "      <td>45.57</td>\n",
              "      <td>35.05</td>\n",
              "      <td>0.97</td>\n",
              "      <td>2.0</td>\n",
              "      <td>0 a 3</td>\n",
              "    </tr>\n",
              "    <tr>\n",
              "      <th>3</th>\n",
              "      <td>2017</td>\n",
              "      <td>21</td>\n",
              "      <td>1422</td>\n",
              "      <td>Privada</td>\n",
              "      <td>250</td>\n",
              "      <td>130</td>\n",
              "      <td>47.18</td>\n",
              "      <td>37.23</td>\n",
              "      <td>1.23</td>\n",
              "      <td>2.0</td>\n",
              "      <td>0 a 3</td>\n",
              "    </tr>\n",
              "    <tr>\n",
              "      <th>4</th>\n",
              "      <td>2017</td>\n",
              "      <td>21</td>\n",
              "      <td>2147</td>\n",
              "      <td>Privada</td>\n",
              "      <td>250</td>\n",
              "      <td>190</td>\n",
              "      <td>40.09</td>\n",
              "      <td>33.75</td>\n",
              "      <td>0.64</td>\n",
              "      <td>1.0</td>\n",
              "      <td>0 a 3</td>\n",
              "    </tr>\n",
              "    <tr>\n",
              "      <th>...</th>\n",
              "      <td>...</td>\n",
              "      <td>...</td>\n",
              "      <td>...</td>\n",
              "      <td>...</td>\n",
              "      <td>...</td>\n",
              "      <td>...</td>\n",
              "      <td>...</td>\n",
              "      <td>...</td>\n",
              "      <td>...</td>\n",
              "      <td>...</td>\n",
              "      <td>...</td>\n",
              "    </tr>\n",
              "    <tr>\n",
              "      <th>610</th>\n",
              "      <td>2018</td>\n",
              "      <td>85</td>\n",
              "      <td>1422</td>\n",
              "      <td>Privada</td>\n",
              "      <td>8</td>\n",
              "      <td>6</td>\n",
              "      <td>45.90</td>\n",
              "      <td>43.95</td>\n",
              "      <td>2.66</td>\n",
              "      <td>3.0</td>\n",
              "      <td>0 a 3</td>\n",
              "    </tr>\n",
              "    <tr>\n",
              "      <th>611</th>\n",
              "      <td>2018</td>\n",
              "      <td>87</td>\n",
              "      <td>1422</td>\n",
              "      <td>Privada</td>\n",
              "      <td>21</td>\n",
              "      <td>21</td>\n",
              "      <td>32.03</td>\n",
              "      <td>46.08</td>\n",
              "      <td>2.73</td>\n",
              "      <td>3.0</td>\n",
              "      <td>0 a 3</td>\n",
              "    </tr>\n",
              "    <tr>\n",
              "      <th>612</th>\n",
              "      <td>2018</td>\n",
              "      <td>86</td>\n",
              "      <td>669</td>\n",
              "      <td>Privada</td>\n",
              "      <td>31</td>\n",
              "      <td>31</td>\n",
              "      <td>36.45</td>\n",
              "      <td>42.13</td>\n",
              "      <td>2.05</td>\n",
              "      <td>3.0</td>\n",
              "      <td>0 a 3</td>\n",
              "    </tr>\n",
              "    <tr>\n",
              "      <th>613</th>\n",
              "      <td>2018</td>\n",
              "      <td>38</td>\n",
              "      <td>322</td>\n",
              "      <td>Privada</td>\n",
              "      <td>16</td>\n",
              "      <td>8</td>\n",
              "      <td>37.98</td>\n",
              "      <td>37.98</td>\n",
              "      <td>1.64</td>\n",
              "      <td>2.0</td>\n",
              "      <td>0 a 3</td>\n",
              "    </tr>\n",
              "    <tr>\n",
              "      <th>614</th>\n",
              "      <td>2018</td>\n",
              "      <td>94</td>\n",
              "      <td>322</td>\n",
              "      <td>Privada</td>\n",
              "      <td>45</td>\n",
              "      <td>37</td>\n",
              "      <td>36.97</td>\n",
              "      <td>42.89</td>\n",
              "      <td>2.43</td>\n",
              "      <td>3.0</td>\n",
              "      <td>0 a 3</td>\n",
              "    </tr>\n",
              "  </tbody>\n",
              "</table>\n",
              "<p>615 rows × 11 columns</p>\n",
              "</div>"
            ],
            "text/plain": [
              "      ano  area   ies   esfera  ...  notace  conceito  nota  nota2\n",
              "0    2017    21     4  Federal  ...   54.71      3.35   4.0  4 a 5\n",
              "1    2017    21   452  Privada  ...   35.38      1.04   2.0  0 a 3\n",
              "2    2017    21   669  Privada  ...   35.05      0.97   2.0  0 a 3\n",
              "3    2017    21  1422  Privada  ...   37.23      1.23   2.0  0 a 3\n",
              "4    2017    21  2147  Privada  ...   33.75      0.64   1.0  0 a 3\n",
              "..    ...   ...   ...      ...  ...     ...       ...   ...    ...\n",
              "610  2018    85  1422  Privada  ...   43.95      2.66   3.0  0 a 3\n",
              "611  2018    87  1422  Privada  ...   46.08      2.73   3.0  0 a 3\n",
              "612  2018    86   669  Privada  ...   42.13      2.05   3.0  0 a 3\n",
              "613  2018    38   322  Privada  ...   37.98      1.64   2.0  0 a 3\n",
              "614  2018    94   322  Privada  ...   42.89      2.43   3.0  0 a 3\n",
              "\n",
              "[615 rows x 11 columns]"
            ]
          },
          "metadata": {
            "tags": []
          },
          "execution_count": 23
        }
      ]
    },
    {
      "cell_type": "code",
      "metadata": {
        "id": "6aQuZ-yGxDk8",
        "outputId": "3d33e9a5-cd52-4f5c-a2ee-717e22d199c8",
        "colab": {
          "base_uri": "https://localhost:8080/",
          "height": 166
        }
      },
      "source": [
        "# Tabela de contigência no pandas\n",
        "tab_contigencia = pd.crosstab (bdenade.esfera,bdenade.nota2) \n",
        "tab_contigencia"
      ],
      "execution_count": null,
      "outputs": [
        {
          "output_type": "execute_result",
          "data": {
            "text/html": [
              "<div>\n",
              "<style scoped>\n",
              "    .dataframe tbody tr th:only-of-type {\n",
              "        vertical-align: middle;\n",
              "    }\n",
              "\n",
              "    .dataframe tbody tr th {\n",
              "        vertical-align: top;\n",
              "    }\n",
              "\n",
              "    .dataframe thead th {\n",
              "        text-align: right;\n",
              "    }\n",
              "</style>\n",
              "<table border=\"1\" class=\"dataframe\">\n",
              "  <thead>\n",
              "    <tr style=\"text-align: right;\">\n",
              "      <th>nota2</th>\n",
              "      <th>0 a 3</th>\n",
              "      <th>4 a 5</th>\n",
              "    </tr>\n",
              "    <tr>\n",
              "      <th>esfera</th>\n",
              "      <th></th>\n",
              "      <th></th>\n",
              "    </tr>\n",
              "  </thead>\n",
              "  <tbody>\n",
              "    <tr>\n",
              "      <th>Estadual</th>\n",
              "      <td>50</td>\n",
              "      <td>23</td>\n",
              "    </tr>\n",
              "    <tr>\n",
              "      <th>Federal</th>\n",
              "      <td>84</td>\n",
              "      <td>46</td>\n",
              "    </tr>\n",
              "    <tr>\n",
              "      <th>Privada</th>\n",
              "      <td>389</td>\n",
              "      <td>23</td>\n",
              "    </tr>\n",
              "  </tbody>\n",
              "</table>\n",
              "</div>"
            ],
            "text/plain": [
              "nota2     0 a 3  4 a 5\n",
              "esfera                \n",
              "Estadual     50     23\n",
              "Federal      84     46\n",
              "Privada     389     23"
            ]
          },
          "metadata": {
            "tags": []
          },
          "execution_count": 16
        }
      ]
    },
    {
      "cell_type": "code",
      "metadata": {
        "id": "6-VWKDgUsTC4",
        "outputId": "d48a5348-dc53-4768-f29e-a871765776f7",
        "colab": {
          "base_uri": "https://localhost:8080/"
        }
      },
      "source": [
        "qui, p, gl, esperado = chi2_contingency(tab_contigencia,correction=False)\n",
        "print(\"Valores esperados\")\n",
        "print(esperado)\n",
        "print('qui=%.3f, p=%.3f' % (qui, p))\n",
        "if p > 0.05:\n",
        "\tprint('Conclusão: as variáveis são independentes')\n",
        "else:\n",
        "\tprint('Conclusão: as variáveis são dependentes')\n"
      ],
      "execution_count": null,
      "outputs": [
        {
          "output_type": "stream",
          "text": [
            "Valores esperados\n",
            "[[ 62.0796748   10.9203252 ]\n",
            " [110.55284553  19.44715447]\n",
            " [350.36747967  61.63252033]]\n",
            "qui=86.820, p=0.000\n",
            "Conclusão: as variáveis são dependentes\n"
          ],
          "name": "stdout"
        }
      ]
    },
    {
      "cell_type": "code",
      "metadata": {
        "id": "3vhHOUDuVS6Y",
        "outputId": "2723de53-6bc6-404f-9d49-94e072fd274e",
        "colab": {
          "base_uri": "https://localhost:8080/"
        }
      },
      "source": [
        "bd_federal = bdenade.loc[bdenade.esfera == \"Federal\"]\n",
        "bd_privada = bdenade.loc[bdenade.esfera == \"Privada\"]\n",
        "print(\"Federal:\",bd_federal.shape)\n",
        "print(\"Privada:\",bd_privada.shape)"
      ],
      "execution_count": null,
      "outputs": [
        {
          "output_type": "stream",
          "text": [
            "Federal: (130, 11)\n",
            "Privada: (412, 11)\n"
          ],
          "name": "stdout"
        }
      ]
    },
    {
      "cell_type": "code",
      "metadata": {
        "id": "3Nsu-DaJTgrq",
        "outputId": "6c666b10-1cf8-4318-a427-d1646e80b104",
        "colab": {
          "base_uri": "https://localhost:8080/",
          "height": 402
        }
      },
      "source": [
        "bd_federal"
      ],
      "execution_count": null,
      "outputs": [
        {
          "output_type": "execute_result",
          "data": {
            "text/html": [
              "<div>\n",
              "<style scoped>\n",
              "    .dataframe tbody tr th:only-of-type {\n",
              "        vertical-align: middle;\n",
              "    }\n",
              "\n",
              "    .dataframe tbody tr th {\n",
              "        vertical-align: top;\n",
              "    }\n",
              "\n",
              "    .dataframe thead th {\n",
              "        text-align: right;\n",
              "    }\n",
              "</style>\n",
              "<table border=\"1\" class=\"dataframe\">\n",
              "  <thead>\n",
              "    <tr style=\"text-align: right;\">\n",
              "      <th></th>\n",
              "      <th>ano</th>\n",
              "      <th>area</th>\n",
              "      <th>ies</th>\n",
              "      <th>esfera</th>\n",
              "      <th>ninscritos</th>\n",
              "      <th>nparticipantes</th>\n",
              "      <th>notafg</th>\n",
              "      <th>notace</th>\n",
              "      <th>conceito</th>\n",
              "      <th>nota</th>\n",
              "      <th>nota2</th>\n",
              "    </tr>\n",
              "  </thead>\n",
              "  <tbody>\n",
              "    <tr>\n",
              "      <th>0</th>\n",
              "      <td>2017</td>\n",
              "      <td>21</td>\n",
              "      <td>4</td>\n",
              "      <td>Federal</td>\n",
              "      <td>64</td>\n",
              "      <td>50</td>\n",
              "      <td>60.36</td>\n",
              "      <td>54.71</td>\n",
              "      <td>3.35</td>\n",
              "      <td>4.0</td>\n",
              "      <td>4 a 5</td>\n",
              "    </tr>\n",
              "    <tr>\n",
              "      <th>8</th>\n",
              "      <td>2017</td>\n",
              "      <td>72</td>\n",
              "      <td>1812</td>\n",
              "      <td>Federal</td>\n",
              "      <td>45</td>\n",
              "      <td>40</td>\n",
              "      <td>50.05</td>\n",
              "      <td>46.28</td>\n",
              "      <td>3.29</td>\n",
              "      <td>4.0</td>\n",
              "      <td>4 a 5</td>\n",
              "    </tr>\n",
              "    <tr>\n",
              "      <th>14</th>\n",
              "      <td>2017</td>\n",
              "      <td>701</td>\n",
              "      <td>4</td>\n",
              "      <td>Federal</td>\n",
              "      <td>7</td>\n",
              "      <td>6</td>\n",
              "      <td>55.78</td>\n",
              "      <td>37.33</td>\n",
              "      <td>1.67</td>\n",
              "      <td>2.0</td>\n",
              "      <td>0 a 3</td>\n",
              "    </tr>\n",
              "    <tr>\n",
              "      <th>15</th>\n",
              "      <td>2017</td>\n",
              "      <td>701</td>\n",
              "      <td>4</td>\n",
              "      <td>Federal</td>\n",
              "      <td>7</td>\n",
              "      <td>7</td>\n",
              "      <td>42.06</td>\n",
              "      <td>39.46</td>\n",
              "      <td>1.40</td>\n",
              "      <td>2.0</td>\n",
              "      <td>0 a 3</td>\n",
              "    </tr>\n",
              "    <tr>\n",
              "      <th>16</th>\n",
              "      <td>2017</td>\n",
              "      <td>702</td>\n",
              "      <td>4</td>\n",
              "      <td>Federal</td>\n",
              "      <td>35</td>\n",
              "      <td>27</td>\n",
              "      <td>48.70</td>\n",
              "      <td>35.92</td>\n",
              "      <td>2.09</td>\n",
              "      <td>3.0</td>\n",
              "      <td>0 a 3</td>\n",
              "    </tr>\n",
              "    <tr>\n",
              "      <th>...</th>\n",
              "      <td>...</td>\n",
              "      <td>...</td>\n",
              "      <td>...</td>\n",
              "      <td>...</td>\n",
              "      <td>...</td>\n",
              "      <td>...</td>\n",
              "      <td>...</td>\n",
              "      <td>...</td>\n",
              "      <td>...</td>\n",
              "      <td>...</td>\n",
              "      <td>...</td>\n",
              "    </tr>\n",
              "    <tr>\n",
              "      <th>565</th>\n",
              "      <td>2018</td>\n",
              "      <td>38</td>\n",
              "      <td>4</td>\n",
              "      <td>Federal</td>\n",
              "      <td>45</td>\n",
              "      <td>39</td>\n",
              "      <td>40.26</td>\n",
              "      <td>47.25</td>\n",
              "      <td>2.49</td>\n",
              "      <td>3.0</td>\n",
              "      <td>0 a 3</td>\n",
              "    </tr>\n",
              "    <tr>\n",
              "      <th>566</th>\n",
              "      <td>2018</td>\n",
              "      <td>803</td>\n",
              "      <td>4</td>\n",
              "      <td>Federal</td>\n",
              "      <td>36</td>\n",
              "      <td>32</td>\n",
              "      <td>41.13</td>\n",
              "      <td>36.82</td>\n",
              "      <td>0.46</td>\n",
              "      <td>1.0</td>\n",
              "      <td>0 a 3</td>\n",
              "    </tr>\n",
              "    <tr>\n",
              "      <th>567</th>\n",
              "      <td>2018</td>\n",
              "      <td>1</td>\n",
              "      <td>4</td>\n",
              "      <td>Federal</td>\n",
              "      <td>35</td>\n",
              "      <td>30</td>\n",
              "      <td>43.21</td>\n",
              "      <td>36.60</td>\n",
              "      <td>2.47</td>\n",
              "      <td>3.0</td>\n",
              "      <td>0 a 3</td>\n",
              "    </tr>\n",
              "    <tr>\n",
              "      <th>569</th>\n",
              "      <td>2018</td>\n",
              "      <td>26</td>\n",
              "      <td>4</td>\n",
              "      <td>Federal</td>\n",
              "      <td>56</td>\n",
              "      <td>41</td>\n",
              "      <td>54.61</td>\n",
              "      <td>53.64</td>\n",
              "      <td>3.42</td>\n",
              "      <td>4.0</td>\n",
              "      <td>4 a 5</td>\n",
              "    </tr>\n",
              "    <tr>\n",
              "      <th>608</th>\n",
              "      <td>2018</td>\n",
              "      <td>94</td>\n",
              "      <td>1812</td>\n",
              "      <td>Federal</td>\n",
              "      <td>11</td>\n",
              "      <td>7</td>\n",
              "      <td>37.53</td>\n",
              "      <td>42.51</td>\n",
              "      <td>2.41</td>\n",
              "      <td>3.0</td>\n",
              "      <td>0 a 3</td>\n",
              "    </tr>\n",
              "  </tbody>\n",
              "</table>\n",
              "<p>130 rows × 11 columns</p>\n",
              "</div>"
            ],
            "text/plain": [
              "      ano  area   ies   esfera  ...  notace  conceito  nota  nota2\n",
              "0    2017    21     4  Federal  ...   54.71      3.35   4.0  4 a 5\n",
              "8    2017    72  1812  Federal  ...   46.28      3.29   4.0  4 a 5\n",
              "14   2017   701     4  Federal  ...   37.33      1.67   2.0  0 a 3\n",
              "15   2017   701     4  Federal  ...   39.46      1.40   2.0  0 a 3\n",
              "16   2017   702     4  Federal  ...   35.92      2.09   3.0  0 a 3\n",
              "..    ...   ...   ...      ...  ...     ...       ...   ...    ...\n",
              "565  2018    38     4  Federal  ...   47.25      2.49   3.0  0 a 3\n",
              "566  2018   803     4  Federal  ...   36.82      0.46   1.0  0 a 3\n",
              "567  2018     1     4  Federal  ...   36.60      2.47   3.0  0 a 3\n",
              "569  2018    26     4  Federal  ...   53.64      3.42   4.0  4 a 5\n",
              "608  2018    94  1812  Federal  ...   42.51      2.41   3.0  0 a 3\n",
              "\n",
              "[130 rows x 11 columns]"
            ]
          },
          "metadata": {
            "tags": []
          },
          "execution_count": 24
        }
      ]
    },
    {
      "cell_type": "code",
      "metadata": {
        "id": "FpAuFnV4TbBZ",
        "outputId": "7121e163-b022-4078-f9d4-51b075203276",
        "colab": {
          "base_uri": "https://localhost:8080/"
        }
      },
      "source": [
        "alfa=0.05\n",
        "média = np.mean(bd_federal.nota)\n",
        "dp = np.std(bd_federal.nota)\n",
        "print(\"Média federal =\",round(média,2))\n",
        "print(\"Desvio-padrão federal =\",round(dp,2))\n",
        "média = np.mean(bd_privada.nota)\n",
        "dp = np.std(bd_privada.nota)\n",
        "print(\"Média privada =\",round(média,2))\n",
        "print(\"Desvio-padrão privada =\",round(dp,2))\n",
        "t,p = ttest_ind(bd_federal.nota,bd_privada.nota)\n",
        "print('t= %0.3f, p= %0.3f' % (t, p))\n",
        "if p > alfa:\n",
        "   print (\"Conclusão: aceita-se Ho, ou seja, as médias são estatisticamente iguais ao nível de significância de 5%\")\n",
        "else:\n",
        "   print (\"Conclusão: rejeita-se Ho, ou seja, as médias são estatisticamente diferentes ao nível de significância de 5%\")"
      ],
      "execution_count": null,
      "outputs": [
        {
          "output_type": "stream",
          "text": [
            "Média federal = 3.07\n",
            "Desvio-padrão federal = 1.0\n",
            "Média privada = 2.21\n",
            "Desvio-padrão privada = 0.77\n",
            "t= 10.282, p= 0.000\n",
            "Conclusão: rejeita-se Ho, ou seja, as médias são estatisticamente diferentes ao nível de significância de 5%\n"
          ],
          "name": "stdout"
        }
      ]
    }
  ]
}